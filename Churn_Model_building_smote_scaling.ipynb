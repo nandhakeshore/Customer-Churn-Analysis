{
 "cells": [
  {
   "cell_type": "code",
   "execution_count": 2,
   "id": "4cbe12d4",
   "metadata": {},
   "outputs": [],
   "source": [
    "import numpy as np\n",
    "import pandas as pd"
   ]
  },
  {
   "cell_type": "code",
   "execution_count": 3,
   "id": "32bc3548",
   "metadata": {
    "scrolled": true
   },
   "outputs": [
    {
     "data": {
      "text/html": [
       "<div>\n",
       "<style scoped>\n",
       "    .dataframe tbody tr th:only-of-type {\n",
       "        vertical-align: middle;\n",
       "    }\n",
       "\n",
       "    .dataframe tbody tr th {\n",
       "        vertical-align: top;\n",
       "    }\n",
       "\n",
       "    .dataframe thead th {\n",
       "        text-align: right;\n",
       "    }\n",
       "</style>\n",
       "<table border=\"1\" class=\"dataframe\">\n",
       "  <thead>\n",
       "    <tr style=\"text-align: right;\">\n",
       "      <th></th>\n",
       "      <th>Unnamed: 0</th>\n",
       "      <th>Churn</th>\n",
       "      <th>Tenure</th>\n",
       "      <th>City_Tier</th>\n",
       "      <th>CC_Contacted_LY</th>\n",
       "      <th>Payment</th>\n",
       "      <th>Gender</th>\n",
       "      <th>Service_Score</th>\n",
       "      <th>Account_user_count</th>\n",
       "      <th>account_segment</th>\n",
       "      <th>CC_Agent_Score</th>\n",
       "      <th>Marital_Status</th>\n",
       "      <th>rev_per_month</th>\n",
       "      <th>Complain_ly</th>\n",
       "      <th>rev_growth_yoy</th>\n",
       "      <th>coupon_used_for_payment</th>\n",
       "      <th>Day_Since_CC_connect</th>\n",
       "      <th>cashback</th>\n",
       "      <th>Login_device</th>\n",
       "    </tr>\n",
       "  </thead>\n",
       "  <tbody>\n",
       "    <tr>\n",
       "      <th>0</th>\n",
       "      <td>0</td>\n",
       "      <td>1</td>\n",
       "      <td>4.0</td>\n",
       "      <td>3.0</td>\n",
       "      <td>6.0</td>\n",
       "      <td>Debit Card</td>\n",
       "      <td>Female</td>\n",
       "      <td>3.0</td>\n",
       "      <td>3</td>\n",
       "      <td>Super</td>\n",
       "      <td>2.0</td>\n",
       "      <td>Single</td>\n",
       "      <td>9.0</td>\n",
       "      <td>1.0</td>\n",
       "      <td>11.0</td>\n",
       "      <td>1.0</td>\n",
       "      <td>5.0</td>\n",
       "      <td>159.93</td>\n",
       "      <td>Mobile</td>\n",
       "    </tr>\n",
       "    <tr>\n",
       "      <th>1</th>\n",
       "      <td>1</td>\n",
       "      <td>1</td>\n",
       "      <td>0.0</td>\n",
       "      <td>1.0</td>\n",
       "      <td>8.0</td>\n",
       "      <td>UPI</td>\n",
       "      <td>Male</td>\n",
       "      <td>3.0</td>\n",
       "      <td>4</td>\n",
       "      <td>Regular +</td>\n",
       "      <td>3.0</td>\n",
       "      <td>Single</td>\n",
       "      <td>7.0</td>\n",
       "      <td>1.0</td>\n",
       "      <td>15.0</td>\n",
       "      <td>0.0</td>\n",
       "      <td>0.0</td>\n",
       "      <td>120.90</td>\n",
       "      <td>Mobile</td>\n",
       "    </tr>\n",
       "    <tr>\n",
       "      <th>2</th>\n",
       "      <td>2</td>\n",
       "      <td>1</td>\n",
       "      <td>0.0</td>\n",
       "      <td>1.0</td>\n",
       "      <td>30.0</td>\n",
       "      <td>Debit Card</td>\n",
       "      <td>Male</td>\n",
       "      <td>2.0</td>\n",
       "      <td>4</td>\n",
       "      <td>Regular +</td>\n",
       "      <td>3.0</td>\n",
       "      <td>Single</td>\n",
       "      <td>6.0</td>\n",
       "      <td>1.0</td>\n",
       "      <td>14.0</td>\n",
       "      <td>0.0</td>\n",
       "      <td>3.0</td>\n",
       "      <td>165.24</td>\n",
       "      <td>Mobile</td>\n",
       "    </tr>\n",
       "    <tr>\n",
       "      <th>3</th>\n",
       "      <td>3</td>\n",
       "      <td>1</td>\n",
       "      <td>0.0</td>\n",
       "      <td>3.0</td>\n",
       "      <td>15.0</td>\n",
       "      <td>Debit Card</td>\n",
       "      <td>Male</td>\n",
       "      <td>2.0</td>\n",
       "      <td>4</td>\n",
       "      <td>Super</td>\n",
       "      <td>5.0</td>\n",
       "      <td>Single</td>\n",
       "      <td>8.0</td>\n",
       "      <td>0.0</td>\n",
       "      <td>23.0</td>\n",
       "      <td>0.0</td>\n",
       "      <td>3.0</td>\n",
       "      <td>134.07</td>\n",
       "      <td>Mobile</td>\n",
       "    </tr>\n",
       "    <tr>\n",
       "      <th>4</th>\n",
       "      <td>4</td>\n",
       "      <td>1</td>\n",
       "      <td>0.0</td>\n",
       "      <td>1.0</td>\n",
       "      <td>12.0</td>\n",
       "      <td>Credit Card</td>\n",
       "      <td>Male</td>\n",
       "      <td>2.0</td>\n",
       "      <td>3</td>\n",
       "      <td>Regular +</td>\n",
       "      <td>5.0</td>\n",
       "      <td>Single</td>\n",
       "      <td>3.0</td>\n",
       "      <td>0.0</td>\n",
       "      <td>11.0</td>\n",
       "      <td>1.0</td>\n",
       "      <td>3.0</td>\n",
       "      <td>129.60</td>\n",
       "      <td>Mobile</td>\n",
       "    </tr>\n",
       "  </tbody>\n",
       "</table>\n",
       "</div>"
      ],
      "text/plain": [
       "   Unnamed: 0  Churn  Tenure  City_Tier  CC_Contacted_LY      Payment  Gender  \\\n",
       "0           0      1     4.0        3.0              6.0   Debit Card  Female   \n",
       "1           1      1     0.0        1.0              8.0          UPI    Male   \n",
       "2           2      1     0.0        1.0             30.0   Debit Card    Male   \n",
       "3           3      1     0.0        3.0             15.0   Debit Card    Male   \n",
       "4           4      1     0.0        1.0             12.0  Credit Card    Male   \n",
       "\n",
       "   Service_Score  Account_user_count account_segment  CC_Agent_Score  \\\n",
       "0            3.0                   3           Super             2.0   \n",
       "1            3.0                   4       Regular +             3.0   \n",
       "2            2.0                   4       Regular +             3.0   \n",
       "3            2.0                   4           Super             5.0   \n",
       "4            2.0                   3       Regular +             5.0   \n",
       "\n",
       "  Marital_Status  rev_per_month  Complain_ly  rev_growth_yoy  \\\n",
       "0         Single            9.0          1.0            11.0   \n",
       "1         Single            7.0          1.0            15.0   \n",
       "2         Single            6.0          1.0            14.0   \n",
       "3         Single            8.0          0.0            23.0   \n",
       "4         Single            3.0          0.0            11.0   \n",
       "\n",
       "   coupon_used_for_payment  Day_Since_CC_connect  cashback Login_device  \n",
       "0                      1.0                   5.0    159.93       Mobile  \n",
       "1                      0.0                   0.0    120.90       Mobile  \n",
       "2                      0.0                   3.0    165.24       Mobile  \n",
       "3                      0.0                   3.0    134.07       Mobile  \n",
       "4                      1.0                   3.0    129.60       Mobile  "
      ]
     },
     "execution_count": 3,
     "metadata": {},
     "output_type": "execute_result"
    }
   ],
   "source": [
    "churn = pd.read_csv('churn2.csv')\n",
    "churn.head()"
   ]
  },
  {
   "cell_type": "code",
   "execution_count": 4,
   "id": "5488982e",
   "metadata": {},
   "outputs": [],
   "source": [
    "churn.drop('Unnamed: 0', axis=1, inplace=True)"
   ]
  },
  {
   "cell_type": "code",
   "execution_count": 5,
   "id": "753d5af5",
   "metadata": {},
   "outputs": [
    {
     "data": {
      "text/html": [
       "<div>\n",
       "<style scoped>\n",
       "    .dataframe tbody tr th:only-of-type {\n",
       "        vertical-align: middle;\n",
       "    }\n",
       "\n",
       "    .dataframe tbody tr th {\n",
       "        vertical-align: top;\n",
       "    }\n",
       "\n",
       "    .dataframe thead th {\n",
       "        text-align: right;\n",
       "    }\n",
       "</style>\n",
       "<table border=\"1\" class=\"dataframe\">\n",
       "  <thead>\n",
       "    <tr style=\"text-align: right;\">\n",
       "      <th></th>\n",
       "      <th>Churn</th>\n",
       "      <th>Tenure</th>\n",
       "      <th>City_Tier</th>\n",
       "      <th>CC_Contacted_LY</th>\n",
       "      <th>Payment</th>\n",
       "      <th>Gender</th>\n",
       "      <th>Service_Score</th>\n",
       "      <th>Account_user_count</th>\n",
       "      <th>account_segment</th>\n",
       "      <th>CC_Agent_Score</th>\n",
       "      <th>Marital_Status</th>\n",
       "      <th>rev_per_month</th>\n",
       "      <th>Complain_ly</th>\n",
       "      <th>rev_growth_yoy</th>\n",
       "      <th>coupon_used_for_payment</th>\n",
       "      <th>Day_Since_CC_connect</th>\n",
       "      <th>cashback</th>\n",
       "      <th>Login_device</th>\n",
       "    </tr>\n",
       "  </thead>\n",
       "  <tbody>\n",
       "    <tr>\n",
       "      <th>0</th>\n",
       "      <td>1</td>\n",
       "      <td>4.0</td>\n",
       "      <td>3.0</td>\n",
       "      <td>6.0</td>\n",
       "      <td>Debit Card</td>\n",
       "      <td>Female</td>\n",
       "      <td>3.0</td>\n",
       "      <td>3</td>\n",
       "      <td>Super</td>\n",
       "      <td>2.0</td>\n",
       "      <td>Single</td>\n",
       "      <td>9.0</td>\n",
       "      <td>1.0</td>\n",
       "      <td>11.0</td>\n",
       "      <td>1.0</td>\n",
       "      <td>5.0</td>\n",
       "      <td>159.93</td>\n",
       "      <td>Mobile</td>\n",
       "    </tr>\n",
       "    <tr>\n",
       "      <th>1</th>\n",
       "      <td>1</td>\n",
       "      <td>0.0</td>\n",
       "      <td>1.0</td>\n",
       "      <td>8.0</td>\n",
       "      <td>UPI</td>\n",
       "      <td>Male</td>\n",
       "      <td>3.0</td>\n",
       "      <td>4</td>\n",
       "      <td>Regular +</td>\n",
       "      <td>3.0</td>\n",
       "      <td>Single</td>\n",
       "      <td>7.0</td>\n",
       "      <td>1.0</td>\n",
       "      <td>15.0</td>\n",
       "      <td>0.0</td>\n",
       "      <td>0.0</td>\n",
       "      <td>120.90</td>\n",
       "      <td>Mobile</td>\n",
       "    </tr>\n",
       "    <tr>\n",
       "      <th>2</th>\n",
       "      <td>1</td>\n",
       "      <td>0.0</td>\n",
       "      <td>1.0</td>\n",
       "      <td>30.0</td>\n",
       "      <td>Debit Card</td>\n",
       "      <td>Male</td>\n",
       "      <td>2.0</td>\n",
       "      <td>4</td>\n",
       "      <td>Regular +</td>\n",
       "      <td>3.0</td>\n",
       "      <td>Single</td>\n",
       "      <td>6.0</td>\n",
       "      <td>1.0</td>\n",
       "      <td>14.0</td>\n",
       "      <td>0.0</td>\n",
       "      <td>3.0</td>\n",
       "      <td>165.24</td>\n",
       "      <td>Mobile</td>\n",
       "    </tr>\n",
       "    <tr>\n",
       "      <th>3</th>\n",
       "      <td>1</td>\n",
       "      <td>0.0</td>\n",
       "      <td>3.0</td>\n",
       "      <td>15.0</td>\n",
       "      <td>Debit Card</td>\n",
       "      <td>Male</td>\n",
       "      <td>2.0</td>\n",
       "      <td>4</td>\n",
       "      <td>Super</td>\n",
       "      <td>5.0</td>\n",
       "      <td>Single</td>\n",
       "      <td>8.0</td>\n",
       "      <td>0.0</td>\n",
       "      <td>23.0</td>\n",
       "      <td>0.0</td>\n",
       "      <td>3.0</td>\n",
       "      <td>134.07</td>\n",
       "      <td>Mobile</td>\n",
       "    </tr>\n",
       "    <tr>\n",
       "      <th>4</th>\n",
       "      <td>1</td>\n",
       "      <td>0.0</td>\n",
       "      <td>1.0</td>\n",
       "      <td>12.0</td>\n",
       "      <td>Credit Card</td>\n",
       "      <td>Male</td>\n",
       "      <td>2.0</td>\n",
       "      <td>3</td>\n",
       "      <td>Regular +</td>\n",
       "      <td>5.0</td>\n",
       "      <td>Single</td>\n",
       "      <td>3.0</td>\n",
       "      <td>0.0</td>\n",
       "      <td>11.0</td>\n",
       "      <td>1.0</td>\n",
       "      <td>3.0</td>\n",
       "      <td>129.60</td>\n",
       "      <td>Mobile</td>\n",
       "    </tr>\n",
       "  </tbody>\n",
       "</table>\n",
       "</div>"
      ],
      "text/plain": [
       "   Churn  Tenure  City_Tier  CC_Contacted_LY      Payment  Gender  \\\n",
       "0      1     4.0        3.0              6.0   Debit Card  Female   \n",
       "1      1     0.0        1.0              8.0          UPI    Male   \n",
       "2      1     0.0        1.0             30.0   Debit Card    Male   \n",
       "3      1     0.0        3.0             15.0   Debit Card    Male   \n",
       "4      1     0.0        1.0             12.0  Credit Card    Male   \n",
       "\n",
       "   Service_Score  Account_user_count account_segment  CC_Agent_Score  \\\n",
       "0            3.0                   3           Super             2.0   \n",
       "1            3.0                   4       Regular +             3.0   \n",
       "2            2.0                   4       Regular +             3.0   \n",
       "3            2.0                   4           Super             5.0   \n",
       "4            2.0                   3       Regular +             5.0   \n",
       "\n",
       "  Marital_Status  rev_per_month  Complain_ly  rev_growth_yoy  \\\n",
       "0         Single            9.0          1.0            11.0   \n",
       "1         Single            7.0          1.0            15.0   \n",
       "2         Single            6.0          1.0            14.0   \n",
       "3         Single            8.0          0.0            23.0   \n",
       "4         Single            3.0          0.0            11.0   \n",
       "\n",
       "   coupon_used_for_payment  Day_Since_CC_connect  cashback Login_device  \n",
       "0                      1.0                   5.0    159.93       Mobile  \n",
       "1                      0.0                   0.0    120.90       Mobile  \n",
       "2                      0.0                   3.0    165.24       Mobile  \n",
       "3                      0.0                   3.0    134.07       Mobile  \n",
       "4                      1.0                   3.0    129.60       Mobile  "
      ]
     },
     "execution_count": 5,
     "metadata": {},
     "output_type": "execute_result"
    }
   ],
   "source": [
    "churn.head()"
   ]
  },
  {
   "cell_type": "code",
   "execution_count": 6,
   "id": "1c8d890f",
   "metadata": {
    "scrolled": true
   },
   "outputs": [
    {
     "name": "stdout",
     "output_type": "stream",
     "text": [
      "<class 'pandas.core.frame.DataFrame'>\n",
      "RangeIndex: 11260 entries, 0 to 11259\n",
      "Data columns (total 18 columns):\n",
      " #   Column                   Non-Null Count  Dtype  \n",
      "---  ------                   --------------  -----  \n",
      " 0   Churn                    11260 non-null  int64  \n",
      " 1   Tenure                   11260 non-null  float64\n",
      " 2   City_Tier                11260 non-null  float64\n",
      " 3   CC_Contacted_LY          11260 non-null  float64\n",
      " 4   Payment                  11260 non-null  object \n",
      " 5   Gender                   11260 non-null  object \n",
      " 6   Service_Score            11260 non-null  float64\n",
      " 7   Account_user_count       11260 non-null  int64  \n",
      " 8   account_segment          11260 non-null  object \n",
      " 9   CC_Agent_Score           11260 non-null  float64\n",
      " 10  Marital_Status           11260 non-null  object \n",
      " 11  rev_per_month            11260 non-null  float64\n",
      " 12  Complain_ly              11260 non-null  float64\n",
      " 13  rev_growth_yoy           11260 non-null  float64\n",
      " 14  coupon_used_for_payment  11260 non-null  float64\n",
      " 15  Day_Since_CC_connect     11260 non-null  float64\n",
      " 16  cashback                 11260 non-null  float64\n",
      " 17  Login_device             11260 non-null  object \n",
      "dtypes: float64(11), int64(2), object(5)\n",
      "memory usage: 1.5+ MB\n"
     ]
    }
   ],
   "source": [
    "churn.info()"
   ]
  },
  {
   "cell_type": "code",
   "execution_count": 7,
   "id": "d44d99fb",
   "metadata": {
    "scrolled": false
   },
   "outputs": [],
   "source": [
    "df = churn.copy()"
   ]
  },
  {
   "cell_type": "code",
   "execution_count": 8,
   "id": "e32391a3",
   "metadata": {},
   "outputs": [],
   "source": [
    "df1 =churn.copy()"
   ]
  },
  {
   "cell_type": "code",
   "execution_count": 32,
   "id": "a7e0faea",
   "metadata": {},
   "outputs": [],
   "source": [
    "df2 =churn.copy()"
   ]
  },
  {
   "cell_type": "code",
   "execution_count": 9,
   "id": "219f79d1",
   "metadata": {},
   "outputs": [
    {
     "data": {
      "text/plain": [
       "Churn\n",
       "0    11.440624\n",
       "1     3.458333\n",
       "Name: Tenure, dtype: float64"
      ]
     },
     "execution_count": 9,
     "metadata": {},
     "output_type": "execute_result"
    }
   ],
   "source": [
    "df.groupby('Churn')['Tenure'].mean()"
   ]
  },
  {
   "cell_type": "code",
   "execution_count": 20,
   "id": "25e3f1dc",
   "metadata": {},
   "outputs": [
    {
     "data": {
      "text/html": [
       "<div>\n",
       "<style scoped>\n",
       "    .dataframe tbody tr th:only-of-type {\n",
       "        vertical-align: middle;\n",
       "    }\n",
       "\n",
       "    .dataframe tbody tr th {\n",
       "        vertical-align: top;\n",
       "    }\n",
       "\n",
       "    .dataframe thead th {\n",
       "        text-align: right;\n",
       "    }\n",
       "</style>\n",
       "<table border=\"1\" class=\"dataframe\">\n",
       "  <thead>\n",
       "    <tr style=\"text-align: right;\">\n",
       "      <th></th>\n",
       "      <th>Tenure</th>\n",
       "      <th>City_Tier</th>\n",
       "      <th>CC_Contacted_LY</th>\n",
       "      <th>Service_Score</th>\n",
       "      <th>Account_user_count</th>\n",
       "      <th>CC_Agent_Score</th>\n",
       "      <th>rev_per_month</th>\n",
       "      <th>Complain_ly</th>\n",
       "      <th>rev_growth_yoy</th>\n",
       "      <th>coupon_used_for_payment</th>\n",
       "      <th>Day_Since_CC_connect</th>\n",
       "      <th>cashback</th>\n",
       "    </tr>\n",
       "    <tr>\n",
       "      <th>Churn</th>\n",
       "      <th></th>\n",
       "      <th></th>\n",
       "      <th></th>\n",
       "      <th></th>\n",
       "      <th></th>\n",
       "      <th></th>\n",
       "      <th></th>\n",
       "      <th></th>\n",
       "      <th></th>\n",
       "      <th></th>\n",
       "      <th></th>\n",
       "      <th></th>\n",
       "    </tr>\n",
       "  </thead>\n",
       "  <tbody>\n",
       "    <tr>\n",
       "      <th>0</th>\n",
       "      <td>11.440624</td>\n",
       "      <td>1.612986</td>\n",
       "      <td>17.506728</td>\n",
       "      <td>2.900470</td>\n",
       "      <td>3.657732</td>\n",
       "      <td>3.000854</td>\n",
       "      <td>5.055852</td>\n",
       "      <td>0.226719</td>\n",
       "      <td>16.216147</td>\n",
       "      <td>1.422683</td>\n",
       "      <td>4.839756</td>\n",
       "      <td>180.184004</td>\n",
       "    </tr>\n",
       "    <tr>\n",
       "      <th>1</th>\n",
       "      <td>3.458333</td>\n",
       "      <td>1.817511</td>\n",
       "      <td>19.229958</td>\n",
       "      <td>2.917722</td>\n",
       "      <td>3.938291</td>\n",
       "      <td>3.386603</td>\n",
       "      <td>5.379219</td>\n",
       "      <td>0.521097</td>\n",
       "      <td>16.077532</td>\n",
       "      <td>1.371308</td>\n",
       "      <td>3.404280</td>\n",
       "      <td>162.960206</td>\n",
       "    </tr>\n",
       "  </tbody>\n",
       "</table>\n",
       "</div>"
      ],
      "text/plain": [
       "          Tenure  City_Tier  CC_Contacted_LY  Service_Score  \\\n",
       "Churn                                                         \n",
       "0      11.440624   1.612986        17.506728       2.900470   \n",
       "1       3.458333   1.817511        19.229958       2.917722   \n",
       "\n",
       "       Account_user_count  CC_Agent_Score  rev_per_month  Complain_ly  \\\n",
       "Churn                                                                   \n",
       "0                3.657732        3.000854       5.055852     0.226719   \n",
       "1                3.938291        3.386603       5.379219     0.521097   \n",
       "\n",
       "       rev_growth_yoy  coupon_used_for_payment  Day_Since_CC_connect  \\\n",
       "Churn                                                                  \n",
       "0           16.216147                 1.422683              4.839756   \n",
       "1           16.077532                 1.371308              3.404280   \n",
       "\n",
       "         cashback  \n",
       "Churn              \n",
       "0      180.184004  \n",
       "1      162.960206  "
      ]
     },
     "execution_count": 20,
     "metadata": {},
     "output_type": "execute_result"
    }
   ],
   "source": [
    "df.groupby('Churn').mean()"
   ]
  },
  {
   "cell_type": "markdown",
   "id": "ce02d921",
   "metadata": {},
   "source": [
    "### Data scaling"
   ]
  },
  {
   "cell_type": "code",
   "execution_count": 10,
   "id": "87b025b6",
   "metadata": {},
   "outputs": [],
   "source": [
    "concat1 = df1[['Tenure', 'CC_Contacted_LY', 'rev_per_month', 'rev_growth_yoy', 'Day_Since_CC_connect', 'cashback']]"
   ]
  },
  {
   "cell_type": "code",
   "execution_count": 11,
   "id": "d33e07e8",
   "metadata": {},
   "outputs": [
    {
     "data": {
      "text/html": [
       "<div>\n",
       "<style scoped>\n",
       "    .dataframe tbody tr th:only-of-type {\n",
       "        vertical-align: middle;\n",
       "    }\n",
       "\n",
       "    .dataframe tbody tr th {\n",
       "        vertical-align: top;\n",
       "    }\n",
       "\n",
       "    .dataframe thead th {\n",
       "        text-align: right;\n",
       "    }\n",
       "</style>\n",
       "<table border=\"1\" class=\"dataframe\">\n",
       "  <thead>\n",
       "    <tr style=\"text-align: right;\">\n",
       "      <th></th>\n",
       "      <th>Tenure</th>\n",
       "      <th>CC_Contacted_LY</th>\n",
       "      <th>rev_per_month</th>\n",
       "      <th>rev_growth_yoy</th>\n",
       "      <th>Day_Since_CC_connect</th>\n",
       "      <th>cashback</th>\n",
       "    </tr>\n",
       "  </thead>\n",
       "  <tbody>\n",
       "    <tr>\n",
       "      <th>0</th>\n",
       "      <td>4.0</td>\n",
       "      <td>6.0</td>\n",
       "      <td>9.0</td>\n",
       "      <td>11.0</td>\n",
       "      <td>5.0</td>\n",
       "      <td>159.93</td>\n",
       "    </tr>\n",
       "    <tr>\n",
       "      <th>1</th>\n",
       "      <td>0.0</td>\n",
       "      <td>8.0</td>\n",
       "      <td>7.0</td>\n",
       "      <td>15.0</td>\n",
       "      <td>0.0</td>\n",
       "      <td>120.90</td>\n",
       "    </tr>\n",
       "    <tr>\n",
       "      <th>2</th>\n",
       "      <td>0.0</td>\n",
       "      <td>30.0</td>\n",
       "      <td>6.0</td>\n",
       "      <td>14.0</td>\n",
       "      <td>3.0</td>\n",
       "      <td>165.24</td>\n",
       "    </tr>\n",
       "    <tr>\n",
       "      <th>3</th>\n",
       "      <td>0.0</td>\n",
       "      <td>15.0</td>\n",
       "      <td>8.0</td>\n",
       "      <td>23.0</td>\n",
       "      <td>3.0</td>\n",
       "      <td>134.07</td>\n",
       "    </tr>\n",
       "    <tr>\n",
       "      <th>4</th>\n",
       "      <td>0.0</td>\n",
       "      <td>12.0</td>\n",
       "      <td>3.0</td>\n",
       "      <td>11.0</td>\n",
       "      <td>3.0</td>\n",
       "      <td>129.60</td>\n",
       "    </tr>\n",
       "    <tr>\n",
       "      <th>...</th>\n",
       "      <td>...</td>\n",
       "      <td>...</td>\n",
       "      <td>...</td>\n",
       "      <td>...</td>\n",
       "      <td>...</td>\n",
       "      <td>...</td>\n",
       "    </tr>\n",
       "    <tr>\n",
       "      <th>11255</th>\n",
       "      <td>10.0</td>\n",
       "      <td>34.0</td>\n",
       "      <td>9.0</td>\n",
       "      <td>19.0</td>\n",
       "      <td>4.0</td>\n",
       "      <td>153.71</td>\n",
       "    </tr>\n",
       "    <tr>\n",
       "      <th>11256</th>\n",
       "      <td>13.0</td>\n",
       "      <td>19.0</td>\n",
       "      <td>7.0</td>\n",
       "      <td>16.0</td>\n",
       "      <td>8.0</td>\n",
       "      <td>226.91</td>\n",
       "    </tr>\n",
       "    <tr>\n",
       "      <th>11257</th>\n",
       "      <td>1.0</td>\n",
       "      <td>14.0</td>\n",
       "      <td>7.0</td>\n",
       "      <td>22.0</td>\n",
       "      <td>4.0</td>\n",
       "      <td>191.42</td>\n",
       "    </tr>\n",
       "    <tr>\n",
       "      <th>11258</th>\n",
       "      <td>23.0</td>\n",
       "      <td>11.0</td>\n",
       "      <td>7.0</td>\n",
       "      <td>16.0</td>\n",
       "      <td>9.0</td>\n",
       "      <td>179.90</td>\n",
       "    </tr>\n",
       "    <tr>\n",
       "      <th>11259</th>\n",
       "      <td>8.0</td>\n",
       "      <td>22.0</td>\n",
       "      <td>5.0</td>\n",
       "      <td>13.0</td>\n",
       "      <td>3.0</td>\n",
       "      <td>175.04</td>\n",
       "    </tr>\n",
       "  </tbody>\n",
       "</table>\n",
       "<p>11260 rows × 6 columns</p>\n",
       "</div>"
      ],
      "text/plain": [
       "       Tenure  CC_Contacted_LY  rev_per_month  rev_growth_yoy  \\\n",
       "0         4.0              6.0            9.0            11.0   \n",
       "1         0.0              8.0            7.0            15.0   \n",
       "2         0.0             30.0            6.0            14.0   \n",
       "3         0.0             15.0            8.0            23.0   \n",
       "4         0.0             12.0            3.0            11.0   \n",
       "...       ...              ...            ...             ...   \n",
       "11255    10.0             34.0            9.0            19.0   \n",
       "11256    13.0             19.0            7.0            16.0   \n",
       "11257     1.0             14.0            7.0            22.0   \n",
       "11258    23.0             11.0            7.0            16.0   \n",
       "11259     8.0             22.0            5.0            13.0   \n",
       "\n",
       "       Day_Since_CC_connect  cashback  \n",
       "0                       5.0    159.93  \n",
       "1                       0.0    120.90  \n",
       "2                       3.0    165.24  \n",
       "3                       3.0    134.07  \n",
       "4                       3.0    129.60  \n",
       "...                     ...       ...  \n",
       "11255                   4.0    153.71  \n",
       "11256                   8.0    226.91  \n",
       "11257                   4.0    191.42  \n",
       "11258                   9.0    179.90  \n",
       "11259                   3.0    175.04  \n",
       "\n",
       "[11260 rows x 6 columns]"
      ]
     },
     "execution_count": 11,
     "metadata": {},
     "output_type": "execute_result"
    }
   ],
   "source": [
    "concat1"
   ]
  },
  {
   "cell_type": "code",
   "execution_count": 12,
   "id": "cf1e94c4",
   "metadata": {},
   "outputs": [],
   "source": [
    "df1.drop(['Tenure', 'CC_Contacted_LY', 'rev_per_month', 'rev_growth_yoy', 'Day_Since_CC_connect', 'cashback'], inplace=True, axis=1)"
   ]
  },
  {
   "cell_type": "code",
   "execution_count": 13,
   "id": "0a45d4f2",
   "metadata": {},
   "outputs": [],
   "source": [
    "num = ['Tenure', 'CC_Contacted_LY', 'rev_per_month', 'rev_growth_yoy', 'Day_Since_CC_connect', 'cashback']"
   ]
  },
  {
   "cell_type": "code",
   "execution_count": 14,
   "id": "cd4da7f6",
   "metadata": {},
   "outputs": [],
   "source": [
    "from scipy.stats import zscore"
   ]
  },
  {
   "cell_type": "code",
   "execution_count": 15,
   "id": "f03aea6e",
   "metadata": {},
   "outputs": [
    {
     "data": {
      "text/html": [
       "<div>\n",
       "<style scoped>\n",
       "    .dataframe tbody tr th:only-of-type {\n",
       "        vertical-align: middle;\n",
       "    }\n",
       "\n",
       "    .dataframe tbody tr th {\n",
       "        vertical-align: top;\n",
       "    }\n",
       "\n",
       "    .dataframe thead th {\n",
       "        text-align: right;\n",
       "    }\n",
       "</style>\n",
       "<table border=\"1\" class=\"dataframe\">\n",
       "  <thead>\n",
       "    <tr style=\"text-align: right;\">\n",
       "      <th></th>\n",
       "      <th>Tenure</th>\n",
       "      <th>CC_Contacted_LY</th>\n",
       "      <th>rev_per_month</th>\n",
       "      <th>rev_growth_yoy</th>\n",
       "      <th>Day_Since_CC_connect</th>\n",
       "      <th>cashback</th>\n",
       "    </tr>\n",
       "  </thead>\n",
       "  <tbody>\n",
       "    <tr>\n",
       "      <th>0</th>\n",
       "      <td>-0.679037</td>\n",
       "      <td>-1.376583</td>\n",
       "      <td>1.324592</td>\n",
       "      <td>-1.382086</td>\n",
       "      <td>0.115434</td>\n",
       "      <td>-0.398283</td>\n",
       "    </tr>\n",
       "    <tr>\n",
       "      <th>1</th>\n",
       "      <td>-1.124559</td>\n",
       "      <td>-1.143202</td>\n",
       "      <td>0.643515</td>\n",
       "      <td>-0.317470</td>\n",
       "      <td>-1.320473</td>\n",
       "      <td>-1.294053</td>\n",
       "    </tr>\n",
       "    <tr>\n",
       "      <th>2</th>\n",
       "      <td>-1.124559</td>\n",
       "      <td>1.423984</td>\n",
       "      <td>0.302976</td>\n",
       "      <td>-0.583624</td>\n",
       "      <td>-0.458929</td>\n",
       "      <td>-0.276415</td>\n",
       "    </tr>\n",
       "    <tr>\n",
       "      <th>3</th>\n",
       "      <td>-1.124559</td>\n",
       "      <td>-0.326370</td>\n",
       "      <td>0.984054</td>\n",
       "      <td>1.811761</td>\n",
       "      <td>-0.458929</td>\n",
       "      <td>-0.991791</td>\n",
       "    </tr>\n",
       "    <tr>\n",
       "      <th>4</th>\n",
       "      <td>-1.124559</td>\n",
       "      <td>-0.676441</td>\n",
       "      <td>-0.718639</td>\n",
       "      <td>-1.382086</td>\n",
       "      <td>-0.458929</td>\n",
       "      <td>-1.094381</td>\n",
       "    </tr>\n",
       "    <tr>\n",
       "      <th>...</th>\n",
       "      <td>...</td>\n",
       "      <td>...</td>\n",
       "      <td>...</td>\n",
       "      <td>...</td>\n",
       "      <td>...</td>\n",
       "      <td>...</td>\n",
       "    </tr>\n",
       "    <tr>\n",
       "      <th>11255</th>\n",
       "      <td>-0.010752</td>\n",
       "      <td>1.890745</td>\n",
       "      <td>1.324592</td>\n",
       "      <td>0.747146</td>\n",
       "      <td>-0.171748</td>\n",
       "      <td>-0.541037</td>\n",
       "    </tr>\n",
       "    <tr>\n",
       "      <th>11256</th>\n",
       "      <td>0.323390</td>\n",
       "      <td>0.140391</td>\n",
       "      <td>0.643515</td>\n",
       "      <td>-0.051316</td>\n",
       "      <td>0.976978</td>\n",
       "      <td>1.138961</td>\n",
       "    </tr>\n",
       "    <tr>\n",
       "      <th>11257</th>\n",
       "      <td>-1.013179</td>\n",
       "      <td>-0.443060</td>\n",
       "      <td>0.643515</td>\n",
       "      <td>1.545607</td>\n",
       "      <td>-0.171748</td>\n",
       "      <td>0.324437</td>\n",
       "    </tr>\n",
       "    <tr>\n",
       "      <th>11258</th>\n",
       "      <td>1.437197</td>\n",
       "      <td>-0.793131</td>\n",
       "      <td>0.643515</td>\n",
       "      <td>-0.051316</td>\n",
       "      <td>1.264159</td>\n",
       "      <td>0.060044</td>\n",
       "    </tr>\n",
       "    <tr>\n",
       "      <th>11259</th>\n",
       "      <td>-0.233514</td>\n",
       "      <td>0.490462</td>\n",
       "      <td>-0.037562</td>\n",
       "      <td>-0.849778</td>\n",
       "      <td>-0.458929</td>\n",
       "      <td>-0.051497</td>\n",
       "    </tr>\n",
       "  </tbody>\n",
       "</table>\n",
       "<p>11260 rows × 6 columns</p>\n",
       "</div>"
      ],
      "text/plain": [
       "         Tenure  CC_Contacted_LY  rev_per_month  rev_growth_yoy  \\\n",
       "0     -0.679037        -1.376583       1.324592       -1.382086   \n",
       "1     -1.124559        -1.143202       0.643515       -0.317470   \n",
       "2     -1.124559         1.423984       0.302976       -0.583624   \n",
       "3     -1.124559        -0.326370       0.984054        1.811761   \n",
       "4     -1.124559        -0.676441      -0.718639       -1.382086   \n",
       "...         ...              ...            ...             ...   \n",
       "11255 -0.010752         1.890745       1.324592        0.747146   \n",
       "11256  0.323390         0.140391       0.643515       -0.051316   \n",
       "11257 -1.013179        -0.443060       0.643515        1.545607   \n",
       "11258  1.437197        -0.793131       0.643515       -0.051316   \n",
       "11259 -0.233514         0.490462      -0.037562       -0.849778   \n",
       "\n",
       "       Day_Since_CC_connect  cashback  \n",
       "0                  0.115434 -0.398283  \n",
       "1                 -1.320473 -1.294053  \n",
       "2                 -0.458929 -0.276415  \n",
       "3                 -0.458929 -0.991791  \n",
       "4                 -0.458929 -1.094381  \n",
       "...                     ...       ...  \n",
       "11255             -0.171748 -0.541037  \n",
       "11256              0.976978  1.138961  \n",
       "11257             -0.171748  0.324437  \n",
       "11258              1.264159  0.060044  \n",
       "11259             -0.458929 -0.051497  \n",
       "\n",
       "[11260 rows x 6 columns]"
      ]
     },
     "execution_count": 15,
     "metadata": {},
     "output_type": "execute_result"
    }
   ],
   "source": [
    "dfs1 = concat1.apply(zscore)\n",
    "dfs1"
   ]
  },
  {
   "cell_type": "code",
   "execution_count": 16,
   "id": "4e6417ef",
   "metadata": {},
   "outputs": [
    {
     "data": {
      "text/html": [
       "<div>\n",
       "<style scoped>\n",
       "    .dataframe tbody tr th:only-of-type {\n",
       "        vertical-align: middle;\n",
       "    }\n",
       "\n",
       "    .dataframe tbody tr th {\n",
       "        vertical-align: top;\n",
       "    }\n",
       "\n",
       "    .dataframe thead th {\n",
       "        text-align: right;\n",
       "    }\n",
       "</style>\n",
       "<table border=\"1\" class=\"dataframe\">\n",
       "  <thead>\n",
       "    <tr style=\"text-align: right;\">\n",
       "      <th></th>\n",
       "      <th>Churn</th>\n",
       "      <th>City_Tier</th>\n",
       "      <th>Payment</th>\n",
       "      <th>Gender</th>\n",
       "      <th>Service_Score</th>\n",
       "      <th>Account_user_count</th>\n",
       "      <th>account_segment</th>\n",
       "      <th>CC_Agent_Score</th>\n",
       "      <th>Marital_Status</th>\n",
       "      <th>Complain_ly</th>\n",
       "      <th>coupon_used_for_payment</th>\n",
       "      <th>Login_device</th>\n",
       "    </tr>\n",
       "  </thead>\n",
       "  <tbody>\n",
       "    <tr>\n",
       "      <th>0</th>\n",
       "      <td>1</td>\n",
       "      <td>3.0</td>\n",
       "      <td>Debit Card</td>\n",
       "      <td>Female</td>\n",
       "      <td>3.0</td>\n",
       "      <td>3</td>\n",
       "      <td>Super</td>\n",
       "      <td>2.0</td>\n",
       "      <td>Single</td>\n",
       "      <td>1.0</td>\n",
       "      <td>1.0</td>\n",
       "      <td>Mobile</td>\n",
       "    </tr>\n",
       "    <tr>\n",
       "      <th>1</th>\n",
       "      <td>1</td>\n",
       "      <td>1.0</td>\n",
       "      <td>UPI</td>\n",
       "      <td>Male</td>\n",
       "      <td>3.0</td>\n",
       "      <td>4</td>\n",
       "      <td>Regular +</td>\n",
       "      <td>3.0</td>\n",
       "      <td>Single</td>\n",
       "      <td>1.0</td>\n",
       "      <td>0.0</td>\n",
       "      <td>Mobile</td>\n",
       "    </tr>\n",
       "    <tr>\n",
       "      <th>2</th>\n",
       "      <td>1</td>\n",
       "      <td>1.0</td>\n",
       "      <td>Debit Card</td>\n",
       "      <td>Male</td>\n",
       "      <td>2.0</td>\n",
       "      <td>4</td>\n",
       "      <td>Regular +</td>\n",
       "      <td>3.0</td>\n",
       "      <td>Single</td>\n",
       "      <td>1.0</td>\n",
       "      <td>0.0</td>\n",
       "      <td>Mobile</td>\n",
       "    </tr>\n",
       "    <tr>\n",
       "      <th>3</th>\n",
       "      <td>1</td>\n",
       "      <td>3.0</td>\n",
       "      <td>Debit Card</td>\n",
       "      <td>Male</td>\n",
       "      <td>2.0</td>\n",
       "      <td>4</td>\n",
       "      <td>Super</td>\n",
       "      <td>5.0</td>\n",
       "      <td>Single</td>\n",
       "      <td>0.0</td>\n",
       "      <td>0.0</td>\n",
       "      <td>Mobile</td>\n",
       "    </tr>\n",
       "    <tr>\n",
       "      <th>4</th>\n",
       "      <td>1</td>\n",
       "      <td>1.0</td>\n",
       "      <td>Credit Card</td>\n",
       "      <td>Male</td>\n",
       "      <td>2.0</td>\n",
       "      <td>3</td>\n",
       "      <td>Regular +</td>\n",
       "      <td>5.0</td>\n",
       "      <td>Single</td>\n",
       "      <td>0.0</td>\n",
       "      <td>1.0</td>\n",
       "      <td>Mobile</td>\n",
       "    </tr>\n",
       "    <tr>\n",
       "      <th>...</th>\n",
       "      <td>...</td>\n",
       "      <td>...</td>\n",
       "      <td>...</td>\n",
       "      <td>...</td>\n",
       "      <td>...</td>\n",
       "      <td>...</td>\n",
       "      <td>...</td>\n",
       "      <td>...</td>\n",
       "      <td>...</td>\n",
       "      <td>...</td>\n",
       "      <td>...</td>\n",
       "      <td>...</td>\n",
       "    </tr>\n",
       "    <tr>\n",
       "      <th>11255</th>\n",
       "      <td>0</td>\n",
       "      <td>1.0</td>\n",
       "      <td>Credit Card</td>\n",
       "      <td>Male</td>\n",
       "      <td>3.0</td>\n",
       "      <td>2</td>\n",
       "      <td>Super</td>\n",
       "      <td>1.0</td>\n",
       "      <td>Married</td>\n",
       "      <td>0.0</td>\n",
       "      <td>1.0</td>\n",
       "      <td>Computer</td>\n",
       "    </tr>\n",
       "    <tr>\n",
       "      <th>11256</th>\n",
       "      <td>0</td>\n",
       "      <td>1.0</td>\n",
       "      <td>Credit Card</td>\n",
       "      <td>Male</td>\n",
       "      <td>3.0</td>\n",
       "      <td>5</td>\n",
       "      <td>HNI</td>\n",
       "      <td>5.0</td>\n",
       "      <td>Married</td>\n",
       "      <td>0.0</td>\n",
       "      <td>1.0</td>\n",
       "      <td>Mobile</td>\n",
       "    </tr>\n",
       "    <tr>\n",
       "      <th>11257</th>\n",
       "      <td>0</td>\n",
       "      <td>1.0</td>\n",
       "      <td>Debit Card</td>\n",
       "      <td>Male</td>\n",
       "      <td>3.0</td>\n",
       "      <td>2</td>\n",
       "      <td>Super</td>\n",
       "      <td>4.0</td>\n",
       "      <td>Married</td>\n",
       "      <td>1.0</td>\n",
       "      <td>1.0</td>\n",
       "      <td>Mobile</td>\n",
       "    </tr>\n",
       "    <tr>\n",
       "      <th>11258</th>\n",
       "      <td>0</td>\n",
       "      <td>3.0</td>\n",
       "      <td>Credit Card</td>\n",
       "      <td>Male</td>\n",
       "      <td>4.0</td>\n",
       "      <td>5</td>\n",
       "      <td>Super</td>\n",
       "      <td>4.0</td>\n",
       "      <td>Married</td>\n",
       "      <td>0.0</td>\n",
       "      <td>2.0</td>\n",
       "      <td>Computer</td>\n",
       "    </tr>\n",
       "    <tr>\n",
       "      <th>11259</th>\n",
       "      <td>0</td>\n",
       "      <td>1.0</td>\n",
       "      <td>Credit Card</td>\n",
       "      <td>Male</td>\n",
       "      <td>3.0</td>\n",
       "      <td>2</td>\n",
       "      <td>Super</td>\n",
       "      <td>3.0</td>\n",
       "      <td>Married</td>\n",
       "      <td>0.0</td>\n",
       "      <td>2.0</td>\n",
       "      <td>Mobile</td>\n",
       "    </tr>\n",
       "  </tbody>\n",
       "</table>\n",
       "<p>11260 rows × 12 columns</p>\n",
       "</div>"
      ],
      "text/plain": [
       "       Churn  City_Tier      Payment  Gender  Service_Score  \\\n",
       "0          1        3.0   Debit Card  Female            3.0   \n",
       "1          1        1.0          UPI    Male            3.0   \n",
       "2          1        1.0   Debit Card    Male            2.0   \n",
       "3          1        3.0   Debit Card    Male            2.0   \n",
       "4          1        1.0  Credit Card    Male            2.0   \n",
       "...      ...        ...          ...     ...            ...   \n",
       "11255      0        1.0  Credit Card    Male            3.0   \n",
       "11256      0        1.0  Credit Card    Male            3.0   \n",
       "11257      0        1.0   Debit Card    Male            3.0   \n",
       "11258      0        3.0  Credit Card    Male            4.0   \n",
       "11259      0        1.0  Credit Card    Male            3.0   \n",
       "\n",
       "       Account_user_count account_segment  CC_Agent_Score Marital_Status  \\\n",
       "0                       3           Super             2.0         Single   \n",
       "1                       4       Regular +             3.0         Single   \n",
       "2                       4       Regular +             3.0         Single   \n",
       "3                       4           Super             5.0         Single   \n",
       "4                       3       Regular +             5.0         Single   \n",
       "...                   ...             ...             ...            ...   \n",
       "11255                   2           Super             1.0        Married   \n",
       "11256                   5             HNI             5.0        Married   \n",
       "11257                   2           Super             4.0        Married   \n",
       "11258                   5           Super             4.0        Married   \n",
       "11259                   2           Super             3.0        Married   \n",
       "\n",
       "       Complain_ly  coupon_used_for_payment Login_device  \n",
       "0              1.0                      1.0       Mobile  \n",
       "1              1.0                      0.0       Mobile  \n",
       "2              1.0                      0.0       Mobile  \n",
       "3              0.0                      0.0       Mobile  \n",
       "4              0.0                      1.0       Mobile  \n",
       "...            ...                      ...          ...  \n",
       "11255          0.0                      1.0     Computer  \n",
       "11256          0.0                      1.0       Mobile  \n",
       "11257          1.0                      1.0       Mobile  \n",
       "11258          0.0                      2.0     Computer  \n",
       "11259          0.0                      2.0       Mobile  \n",
       "\n",
       "[11260 rows x 12 columns]"
      ]
     },
     "execution_count": 16,
     "metadata": {},
     "output_type": "execute_result"
    }
   ],
   "source": [
    "df1"
   ]
  },
  {
   "cell_type": "code",
   "execution_count": 17,
   "id": "a4a49956",
   "metadata": {
    "scrolled": true
   },
   "outputs": [
    {
     "data": {
      "text/html": [
       "<div>\n",
       "<style scoped>\n",
       "    .dataframe tbody tr th:only-of-type {\n",
       "        vertical-align: middle;\n",
       "    }\n",
       "\n",
       "    .dataframe tbody tr th {\n",
       "        vertical-align: top;\n",
       "    }\n",
       "\n",
       "    .dataframe thead th {\n",
       "        text-align: right;\n",
       "    }\n",
       "</style>\n",
       "<table border=\"1\" class=\"dataframe\">\n",
       "  <thead>\n",
       "    <tr style=\"text-align: right;\">\n",
       "      <th></th>\n",
       "      <th>Churn</th>\n",
       "      <th>City_Tier</th>\n",
       "      <th>Payment</th>\n",
       "      <th>Gender</th>\n",
       "      <th>Service_Score</th>\n",
       "      <th>Account_user_count</th>\n",
       "      <th>account_segment</th>\n",
       "      <th>CC_Agent_Score</th>\n",
       "      <th>Marital_Status</th>\n",
       "      <th>Complain_ly</th>\n",
       "      <th>coupon_used_for_payment</th>\n",
       "      <th>Login_device</th>\n",
       "      <th>Tenure</th>\n",
       "      <th>CC_Contacted_LY</th>\n",
       "      <th>rev_per_month</th>\n",
       "      <th>rev_growth_yoy</th>\n",
       "      <th>Day_Since_CC_connect</th>\n",
       "      <th>cashback</th>\n",
       "    </tr>\n",
       "  </thead>\n",
       "  <tbody>\n",
       "    <tr>\n",
       "      <th>0</th>\n",
       "      <td>1</td>\n",
       "      <td>3.0</td>\n",
       "      <td>Debit Card</td>\n",
       "      <td>Female</td>\n",
       "      <td>3.0</td>\n",
       "      <td>3</td>\n",
       "      <td>Super</td>\n",
       "      <td>2.0</td>\n",
       "      <td>Single</td>\n",
       "      <td>1.0</td>\n",
       "      <td>1.0</td>\n",
       "      <td>Mobile</td>\n",
       "      <td>-0.679037</td>\n",
       "      <td>-1.376583</td>\n",
       "      <td>1.324592</td>\n",
       "      <td>-1.382086</td>\n",
       "      <td>0.115434</td>\n",
       "      <td>-0.398283</td>\n",
       "    </tr>\n",
       "    <tr>\n",
       "      <th>1</th>\n",
       "      <td>1</td>\n",
       "      <td>1.0</td>\n",
       "      <td>UPI</td>\n",
       "      <td>Male</td>\n",
       "      <td>3.0</td>\n",
       "      <td>4</td>\n",
       "      <td>Regular +</td>\n",
       "      <td>3.0</td>\n",
       "      <td>Single</td>\n",
       "      <td>1.0</td>\n",
       "      <td>0.0</td>\n",
       "      <td>Mobile</td>\n",
       "      <td>-1.124559</td>\n",
       "      <td>-1.143202</td>\n",
       "      <td>0.643515</td>\n",
       "      <td>-0.317470</td>\n",
       "      <td>-1.320473</td>\n",
       "      <td>-1.294053</td>\n",
       "    </tr>\n",
       "    <tr>\n",
       "      <th>2</th>\n",
       "      <td>1</td>\n",
       "      <td>1.0</td>\n",
       "      <td>Debit Card</td>\n",
       "      <td>Male</td>\n",
       "      <td>2.0</td>\n",
       "      <td>4</td>\n",
       "      <td>Regular +</td>\n",
       "      <td>3.0</td>\n",
       "      <td>Single</td>\n",
       "      <td>1.0</td>\n",
       "      <td>0.0</td>\n",
       "      <td>Mobile</td>\n",
       "      <td>-1.124559</td>\n",
       "      <td>1.423984</td>\n",
       "      <td>0.302976</td>\n",
       "      <td>-0.583624</td>\n",
       "      <td>-0.458929</td>\n",
       "      <td>-0.276415</td>\n",
       "    </tr>\n",
       "    <tr>\n",
       "      <th>3</th>\n",
       "      <td>1</td>\n",
       "      <td>3.0</td>\n",
       "      <td>Debit Card</td>\n",
       "      <td>Male</td>\n",
       "      <td>2.0</td>\n",
       "      <td>4</td>\n",
       "      <td>Super</td>\n",
       "      <td>5.0</td>\n",
       "      <td>Single</td>\n",
       "      <td>0.0</td>\n",
       "      <td>0.0</td>\n",
       "      <td>Mobile</td>\n",
       "      <td>-1.124559</td>\n",
       "      <td>-0.326370</td>\n",
       "      <td>0.984054</td>\n",
       "      <td>1.811761</td>\n",
       "      <td>-0.458929</td>\n",
       "      <td>-0.991791</td>\n",
       "    </tr>\n",
       "    <tr>\n",
       "      <th>4</th>\n",
       "      <td>1</td>\n",
       "      <td>1.0</td>\n",
       "      <td>Credit Card</td>\n",
       "      <td>Male</td>\n",
       "      <td>2.0</td>\n",
       "      <td>3</td>\n",
       "      <td>Regular +</td>\n",
       "      <td>5.0</td>\n",
       "      <td>Single</td>\n",
       "      <td>0.0</td>\n",
       "      <td>1.0</td>\n",
       "      <td>Mobile</td>\n",
       "      <td>-1.124559</td>\n",
       "      <td>-0.676441</td>\n",
       "      <td>-0.718639</td>\n",
       "      <td>-1.382086</td>\n",
       "      <td>-0.458929</td>\n",
       "      <td>-1.094381</td>\n",
       "    </tr>\n",
       "    <tr>\n",
       "      <th>...</th>\n",
       "      <td>...</td>\n",
       "      <td>...</td>\n",
       "      <td>...</td>\n",
       "      <td>...</td>\n",
       "      <td>...</td>\n",
       "      <td>...</td>\n",
       "      <td>...</td>\n",
       "      <td>...</td>\n",
       "      <td>...</td>\n",
       "      <td>...</td>\n",
       "      <td>...</td>\n",
       "      <td>...</td>\n",
       "      <td>...</td>\n",
       "      <td>...</td>\n",
       "      <td>...</td>\n",
       "      <td>...</td>\n",
       "      <td>...</td>\n",
       "      <td>...</td>\n",
       "    </tr>\n",
       "    <tr>\n",
       "      <th>11255</th>\n",
       "      <td>0</td>\n",
       "      <td>1.0</td>\n",
       "      <td>Credit Card</td>\n",
       "      <td>Male</td>\n",
       "      <td>3.0</td>\n",
       "      <td>2</td>\n",
       "      <td>Super</td>\n",
       "      <td>1.0</td>\n",
       "      <td>Married</td>\n",
       "      <td>0.0</td>\n",
       "      <td>1.0</td>\n",
       "      <td>Computer</td>\n",
       "      <td>-0.010752</td>\n",
       "      <td>1.890745</td>\n",
       "      <td>1.324592</td>\n",
       "      <td>0.747146</td>\n",
       "      <td>-0.171748</td>\n",
       "      <td>-0.541037</td>\n",
       "    </tr>\n",
       "    <tr>\n",
       "      <th>11256</th>\n",
       "      <td>0</td>\n",
       "      <td>1.0</td>\n",
       "      <td>Credit Card</td>\n",
       "      <td>Male</td>\n",
       "      <td>3.0</td>\n",
       "      <td>5</td>\n",
       "      <td>HNI</td>\n",
       "      <td>5.0</td>\n",
       "      <td>Married</td>\n",
       "      <td>0.0</td>\n",
       "      <td>1.0</td>\n",
       "      <td>Mobile</td>\n",
       "      <td>0.323390</td>\n",
       "      <td>0.140391</td>\n",
       "      <td>0.643515</td>\n",
       "      <td>-0.051316</td>\n",
       "      <td>0.976978</td>\n",
       "      <td>1.138961</td>\n",
       "    </tr>\n",
       "    <tr>\n",
       "      <th>11257</th>\n",
       "      <td>0</td>\n",
       "      <td>1.0</td>\n",
       "      <td>Debit Card</td>\n",
       "      <td>Male</td>\n",
       "      <td>3.0</td>\n",
       "      <td>2</td>\n",
       "      <td>Super</td>\n",
       "      <td>4.0</td>\n",
       "      <td>Married</td>\n",
       "      <td>1.0</td>\n",
       "      <td>1.0</td>\n",
       "      <td>Mobile</td>\n",
       "      <td>-1.013179</td>\n",
       "      <td>-0.443060</td>\n",
       "      <td>0.643515</td>\n",
       "      <td>1.545607</td>\n",
       "      <td>-0.171748</td>\n",
       "      <td>0.324437</td>\n",
       "    </tr>\n",
       "    <tr>\n",
       "      <th>11258</th>\n",
       "      <td>0</td>\n",
       "      <td>3.0</td>\n",
       "      <td>Credit Card</td>\n",
       "      <td>Male</td>\n",
       "      <td>4.0</td>\n",
       "      <td>5</td>\n",
       "      <td>Super</td>\n",
       "      <td>4.0</td>\n",
       "      <td>Married</td>\n",
       "      <td>0.0</td>\n",
       "      <td>2.0</td>\n",
       "      <td>Computer</td>\n",
       "      <td>1.437197</td>\n",
       "      <td>-0.793131</td>\n",
       "      <td>0.643515</td>\n",
       "      <td>-0.051316</td>\n",
       "      <td>1.264159</td>\n",
       "      <td>0.060044</td>\n",
       "    </tr>\n",
       "    <tr>\n",
       "      <th>11259</th>\n",
       "      <td>0</td>\n",
       "      <td>1.0</td>\n",
       "      <td>Credit Card</td>\n",
       "      <td>Male</td>\n",
       "      <td>3.0</td>\n",
       "      <td>2</td>\n",
       "      <td>Super</td>\n",
       "      <td>3.0</td>\n",
       "      <td>Married</td>\n",
       "      <td>0.0</td>\n",
       "      <td>2.0</td>\n",
       "      <td>Mobile</td>\n",
       "      <td>-0.233514</td>\n",
       "      <td>0.490462</td>\n",
       "      <td>-0.037562</td>\n",
       "      <td>-0.849778</td>\n",
       "      <td>-0.458929</td>\n",
       "      <td>-0.051497</td>\n",
       "    </tr>\n",
       "  </tbody>\n",
       "</table>\n",
       "<p>11260 rows × 18 columns</p>\n",
       "</div>"
      ],
      "text/plain": [
       "       Churn  City_Tier      Payment  Gender  Service_Score  \\\n",
       "0          1        3.0   Debit Card  Female            3.0   \n",
       "1          1        1.0          UPI    Male            3.0   \n",
       "2          1        1.0   Debit Card    Male            2.0   \n",
       "3          1        3.0   Debit Card    Male            2.0   \n",
       "4          1        1.0  Credit Card    Male            2.0   \n",
       "...      ...        ...          ...     ...            ...   \n",
       "11255      0        1.0  Credit Card    Male            3.0   \n",
       "11256      0        1.0  Credit Card    Male            3.0   \n",
       "11257      0        1.0   Debit Card    Male            3.0   \n",
       "11258      0        3.0  Credit Card    Male            4.0   \n",
       "11259      0        1.0  Credit Card    Male            3.0   \n",
       "\n",
       "       Account_user_count account_segment  CC_Agent_Score Marital_Status  \\\n",
       "0                       3           Super             2.0         Single   \n",
       "1                       4       Regular +             3.0         Single   \n",
       "2                       4       Regular +             3.0         Single   \n",
       "3                       4           Super             5.0         Single   \n",
       "4                       3       Regular +             5.0         Single   \n",
       "...                   ...             ...             ...            ...   \n",
       "11255                   2           Super             1.0        Married   \n",
       "11256                   5             HNI             5.0        Married   \n",
       "11257                   2           Super             4.0        Married   \n",
       "11258                   5           Super             4.0        Married   \n",
       "11259                   2           Super             3.0        Married   \n",
       "\n",
       "       Complain_ly  coupon_used_for_payment Login_device    Tenure  \\\n",
       "0              1.0                      1.0       Mobile -0.679037   \n",
       "1              1.0                      0.0       Mobile -1.124559   \n",
       "2              1.0                      0.0       Mobile -1.124559   \n",
       "3              0.0                      0.0       Mobile -1.124559   \n",
       "4              0.0                      1.0       Mobile -1.124559   \n",
       "...            ...                      ...          ...       ...   \n",
       "11255          0.0                      1.0     Computer -0.010752   \n",
       "11256          0.0                      1.0       Mobile  0.323390   \n",
       "11257          1.0                      1.0       Mobile -1.013179   \n",
       "11258          0.0                      2.0     Computer  1.437197   \n",
       "11259          0.0                      2.0       Mobile -0.233514   \n",
       "\n",
       "       CC_Contacted_LY  rev_per_month  rev_growth_yoy  Day_Since_CC_connect  \\\n",
       "0            -1.376583       1.324592       -1.382086              0.115434   \n",
       "1            -1.143202       0.643515       -0.317470             -1.320473   \n",
       "2             1.423984       0.302976       -0.583624             -0.458929   \n",
       "3            -0.326370       0.984054        1.811761             -0.458929   \n",
       "4            -0.676441      -0.718639       -1.382086             -0.458929   \n",
       "...                ...            ...             ...                   ...   \n",
       "11255         1.890745       1.324592        0.747146             -0.171748   \n",
       "11256         0.140391       0.643515       -0.051316              0.976978   \n",
       "11257        -0.443060       0.643515        1.545607             -0.171748   \n",
       "11258        -0.793131       0.643515       -0.051316              1.264159   \n",
       "11259         0.490462      -0.037562       -0.849778             -0.458929   \n",
       "\n",
       "       cashback  \n",
       "0     -0.398283  \n",
       "1     -1.294053  \n",
       "2     -0.276415  \n",
       "3     -0.991791  \n",
       "4     -1.094381  \n",
       "...         ...  \n",
       "11255 -0.541037  \n",
       "11256  1.138961  \n",
       "11257  0.324437  \n",
       "11258  0.060044  \n",
       "11259 -0.051497  \n",
       "\n",
       "[11260 rows x 18 columns]"
      ]
     },
     "execution_count": 17,
     "metadata": {},
     "output_type": "execute_result"
    }
   ],
   "source": [
    "df_scaled = pd.concat([df1, dfs1], axis=1)\n",
    "df_scaled"
   ]
  },
  {
   "cell_type": "code",
   "execution_count": null,
   "id": "2a889ec1",
   "metadata": {},
   "outputs": [],
   "source": []
  },
  {
   "cell_type": "code",
   "execution_count": null,
   "id": "42144b59",
   "metadata": {},
   "outputs": [],
   "source": []
  },
  {
   "cell_type": "markdown",
   "id": "4dd8668c",
   "metadata": {},
   "source": [
    "### Data encoding"
   ]
  },
  {
   "cell_type": "code",
   "execution_count": 21,
   "id": "85aca489",
   "metadata": {
    "scrolled": true
   },
   "outputs": [
    {
     "data": {
      "text/html": [
       "<div>\n",
       "<style scoped>\n",
       "    .dataframe tbody tr th:only-of-type {\n",
       "        vertical-align: middle;\n",
       "    }\n",
       "\n",
       "    .dataframe tbody tr th {\n",
       "        vertical-align: top;\n",
       "    }\n",
       "\n",
       "    .dataframe thead th {\n",
       "        text-align: right;\n",
       "    }\n",
       "</style>\n",
       "<table border=\"1\" class=\"dataframe\">\n",
       "  <thead>\n",
       "    <tr style=\"text-align: right;\">\n",
       "      <th></th>\n",
       "      <th>Churn</th>\n",
       "      <th>Tenure</th>\n",
       "      <th>City_Tier</th>\n",
       "      <th>CC_Contacted_LY</th>\n",
       "      <th>Service_Score</th>\n",
       "      <th>Account_user_count</th>\n",
       "      <th>CC_Agent_Score</th>\n",
       "      <th>rev_per_month</th>\n",
       "      <th>Complain_ly</th>\n",
       "      <th>rev_growth_yoy</th>\n",
       "      <th>...</th>\n",
       "      <th>Payment_E wallet</th>\n",
       "      <th>Payment_UPI</th>\n",
       "      <th>Gender_Male</th>\n",
       "      <th>account_segment_Regular</th>\n",
       "      <th>account_segment_Regular +</th>\n",
       "      <th>account_segment_Super</th>\n",
       "      <th>account_segment_Super +</th>\n",
       "      <th>Marital_Status_Married</th>\n",
       "      <th>Marital_Status_Single</th>\n",
       "      <th>Login_device_Mobile</th>\n",
       "    </tr>\n",
       "  </thead>\n",
       "  <tbody>\n",
       "    <tr>\n",
       "      <th>0</th>\n",
       "      <td>1</td>\n",
       "      <td>4.0</td>\n",
       "      <td>3.0</td>\n",
       "      <td>6.0</td>\n",
       "      <td>3.0</td>\n",
       "      <td>3</td>\n",
       "      <td>2.0</td>\n",
       "      <td>9.0</td>\n",
       "      <td>1.0</td>\n",
       "      <td>11.0</td>\n",
       "      <td>...</td>\n",
       "      <td>0</td>\n",
       "      <td>0</td>\n",
       "      <td>0</td>\n",
       "      <td>0</td>\n",
       "      <td>0</td>\n",
       "      <td>1</td>\n",
       "      <td>0</td>\n",
       "      <td>0</td>\n",
       "      <td>1</td>\n",
       "      <td>1</td>\n",
       "    </tr>\n",
       "    <tr>\n",
       "      <th>1</th>\n",
       "      <td>1</td>\n",
       "      <td>0.0</td>\n",
       "      <td>1.0</td>\n",
       "      <td>8.0</td>\n",
       "      <td>3.0</td>\n",
       "      <td>4</td>\n",
       "      <td>3.0</td>\n",
       "      <td>7.0</td>\n",
       "      <td>1.0</td>\n",
       "      <td>15.0</td>\n",
       "      <td>...</td>\n",
       "      <td>0</td>\n",
       "      <td>1</td>\n",
       "      <td>1</td>\n",
       "      <td>0</td>\n",
       "      <td>1</td>\n",
       "      <td>0</td>\n",
       "      <td>0</td>\n",
       "      <td>0</td>\n",
       "      <td>1</td>\n",
       "      <td>1</td>\n",
       "    </tr>\n",
       "    <tr>\n",
       "      <th>2</th>\n",
       "      <td>1</td>\n",
       "      <td>0.0</td>\n",
       "      <td>1.0</td>\n",
       "      <td>30.0</td>\n",
       "      <td>2.0</td>\n",
       "      <td>4</td>\n",
       "      <td>3.0</td>\n",
       "      <td>6.0</td>\n",
       "      <td>1.0</td>\n",
       "      <td>14.0</td>\n",
       "      <td>...</td>\n",
       "      <td>0</td>\n",
       "      <td>0</td>\n",
       "      <td>1</td>\n",
       "      <td>0</td>\n",
       "      <td>1</td>\n",
       "      <td>0</td>\n",
       "      <td>0</td>\n",
       "      <td>0</td>\n",
       "      <td>1</td>\n",
       "      <td>1</td>\n",
       "    </tr>\n",
       "    <tr>\n",
       "      <th>3</th>\n",
       "      <td>1</td>\n",
       "      <td>0.0</td>\n",
       "      <td>3.0</td>\n",
       "      <td>15.0</td>\n",
       "      <td>2.0</td>\n",
       "      <td>4</td>\n",
       "      <td>5.0</td>\n",
       "      <td>8.0</td>\n",
       "      <td>0.0</td>\n",
       "      <td>23.0</td>\n",
       "      <td>...</td>\n",
       "      <td>0</td>\n",
       "      <td>0</td>\n",
       "      <td>1</td>\n",
       "      <td>0</td>\n",
       "      <td>0</td>\n",
       "      <td>1</td>\n",
       "      <td>0</td>\n",
       "      <td>0</td>\n",
       "      <td>1</td>\n",
       "      <td>1</td>\n",
       "    </tr>\n",
       "    <tr>\n",
       "      <th>4</th>\n",
       "      <td>1</td>\n",
       "      <td>0.0</td>\n",
       "      <td>1.0</td>\n",
       "      <td>12.0</td>\n",
       "      <td>2.0</td>\n",
       "      <td>3</td>\n",
       "      <td>5.0</td>\n",
       "      <td>3.0</td>\n",
       "      <td>0.0</td>\n",
       "      <td>11.0</td>\n",
       "      <td>...</td>\n",
       "      <td>0</td>\n",
       "      <td>0</td>\n",
       "      <td>1</td>\n",
       "      <td>0</td>\n",
       "      <td>1</td>\n",
       "      <td>0</td>\n",
       "      <td>0</td>\n",
       "      <td>0</td>\n",
       "      <td>1</td>\n",
       "      <td>1</td>\n",
       "    </tr>\n",
       "  </tbody>\n",
       "</table>\n",
       "<p>5 rows × 25 columns</p>\n",
       "</div>"
      ],
      "text/plain": [
       "   Churn  Tenure  City_Tier  CC_Contacted_LY  Service_Score  \\\n",
       "0      1     4.0        3.0              6.0            3.0   \n",
       "1      1     0.0        1.0              8.0            3.0   \n",
       "2      1     0.0        1.0             30.0            2.0   \n",
       "3      1     0.0        3.0             15.0            2.0   \n",
       "4      1     0.0        1.0             12.0            2.0   \n",
       "\n",
       "   Account_user_count  CC_Agent_Score  rev_per_month  Complain_ly  \\\n",
       "0                   3             2.0            9.0          1.0   \n",
       "1                   4             3.0            7.0          1.0   \n",
       "2                   4             3.0            6.0          1.0   \n",
       "3                   4             5.0            8.0          0.0   \n",
       "4                   3             5.0            3.0          0.0   \n",
       "\n",
       "   rev_growth_yoy  ...  Payment_E wallet  Payment_UPI  Gender_Male  \\\n",
       "0            11.0  ...                 0            0            0   \n",
       "1            15.0  ...                 0            1            1   \n",
       "2            14.0  ...                 0            0            1   \n",
       "3            23.0  ...                 0            0            1   \n",
       "4            11.0  ...                 0            0            1   \n",
       "\n",
       "   account_segment_Regular  account_segment_Regular +  account_segment_Super  \\\n",
       "0                        0                          0                      1   \n",
       "1                        0                          1                      0   \n",
       "2                        0                          1                      0   \n",
       "3                        0                          0                      1   \n",
       "4                        0                          1                      0   \n",
       "\n",
       "   account_segment_Super +  Marital_Status_Married  Marital_Status_Single  \\\n",
       "0                        0                       0                      1   \n",
       "1                        0                       0                      1   \n",
       "2                        0                       0                      1   \n",
       "3                        0                       0                      1   \n",
       "4                        0                       0                      1   \n",
       "\n",
       "   Login_device_Mobile  \n",
       "0                    1  \n",
       "1                    1  \n",
       "2                    1  \n",
       "3                    1  \n",
       "4                    1  \n",
       "\n",
       "[5 rows x 25 columns]"
      ]
     },
     "execution_count": 21,
     "metadata": {},
     "output_type": "execute_result"
    }
   ],
   "source": [
    "dfe = pd.get_dummies(df, drop_first =True)\n",
    "dfe.head()"
   ]
  },
  {
   "cell_type": "code",
   "execution_count": 22,
   "id": "5d09b013",
   "metadata": {},
   "outputs": [
    {
     "data": {
      "text/html": [
       "<div>\n",
       "<style scoped>\n",
       "    .dataframe tbody tr th:only-of-type {\n",
       "        vertical-align: middle;\n",
       "    }\n",
       "\n",
       "    .dataframe tbody tr th {\n",
       "        vertical-align: top;\n",
       "    }\n",
       "\n",
       "    .dataframe thead th {\n",
       "        text-align: right;\n",
       "    }\n",
       "</style>\n",
       "<table border=\"1\" class=\"dataframe\">\n",
       "  <thead>\n",
       "    <tr style=\"text-align: right;\">\n",
       "      <th></th>\n",
       "      <th>Churn</th>\n",
       "      <th>City_Tier</th>\n",
       "      <th>Service_Score</th>\n",
       "      <th>Account_user_count</th>\n",
       "      <th>CC_Agent_Score</th>\n",
       "      <th>Complain_ly</th>\n",
       "      <th>coupon_used_for_payment</th>\n",
       "      <th>Tenure</th>\n",
       "      <th>CC_Contacted_LY</th>\n",
       "      <th>rev_per_month</th>\n",
       "      <th>...</th>\n",
       "      <th>Payment_E wallet</th>\n",
       "      <th>Payment_UPI</th>\n",
       "      <th>Gender_Male</th>\n",
       "      <th>account_segment_Regular</th>\n",
       "      <th>account_segment_Regular +</th>\n",
       "      <th>account_segment_Super</th>\n",
       "      <th>account_segment_Super +</th>\n",
       "      <th>Marital_Status_Married</th>\n",
       "      <th>Marital_Status_Single</th>\n",
       "      <th>Login_device_Mobile</th>\n",
       "    </tr>\n",
       "  </thead>\n",
       "  <tbody>\n",
       "    <tr>\n",
       "      <th>0</th>\n",
       "      <td>1</td>\n",
       "      <td>3.0</td>\n",
       "      <td>3.0</td>\n",
       "      <td>3</td>\n",
       "      <td>2.0</td>\n",
       "      <td>1.0</td>\n",
       "      <td>1.0</td>\n",
       "      <td>-0.679037</td>\n",
       "      <td>-1.376583</td>\n",
       "      <td>1.324592</td>\n",
       "      <td>...</td>\n",
       "      <td>0</td>\n",
       "      <td>0</td>\n",
       "      <td>0</td>\n",
       "      <td>0</td>\n",
       "      <td>0</td>\n",
       "      <td>1</td>\n",
       "      <td>0</td>\n",
       "      <td>0</td>\n",
       "      <td>1</td>\n",
       "      <td>1</td>\n",
       "    </tr>\n",
       "    <tr>\n",
       "      <th>1</th>\n",
       "      <td>1</td>\n",
       "      <td>1.0</td>\n",
       "      <td>3.0</td>\n",
       "      <td>4</td>\n",
       "      <td>3.0</td>\n",
       "      <td>1.0</td>\n",
       "      <td>0.0</td>\n",
       "      <td>-1.124559</td>\n",
       "      <td>-1.143202</td>\n",
       "      <td>0.643515</td>\n",
       "      <td>...</td>\n",
       "      <td>0</td>\n",
       "      <td>1</td>\n",
       "      <td>1</td>\n",
       "      <td>0</td>\n",
       "      <td>1</td>\n",
       "      <td>0</td>\n",
       "      <td>0</td>\n",
       "      <td>0</td>\n",
       "      <td>1</td>\n",
       "      <td>1</td>\n",
       "    </tr>\n",
       "    <tr>\n",
       "      <th>2</th>\n",
       "      <td>1</td>\n",
       "      <td>1.0</td>\n",
       "      <td>2.0</td>\n",
       "      <td>4</td>\n",
       "      <td>3.0</td>\n",
       "      <td>1.0</td>\n",
       "      <td>0.0</td>\n",
       "      <td>-1.124559</td>\n",
       "      <td>1.423984</td>\n",
       "      <td>0.302976</td>\n",
       "      <td>...</td>\n",
       "      <td>0</td>\n",
       "      <td>0</td>\n",
       "      <td>1</td>\n",
       "      <td>0</td>\n",
       "      <td>1</td>\n",
       "      <td>0</td>\n",
       "      <td>0</td>\n",
       "      <td>0</td>\n",
       "      <td>1</td>\n",
       "      <td>1</td>\n",
       "    </tr>\n",
       "    <tr>\n",
       "      <th>3</th>\n",
       "      <td>1</td>\n",
       "      <td>3.0</td>\n",
       "      <td>2.0</td>\n",
       "      <td>4</td>\n",
       "      <td>5.0</td>\n",
       "      <td>0.0</td>\n",
       "      <td>0.0</td>\n",
       "      <td>-1.124559</td>\n",
       "      <td>-0.326370</td>\n",
       "      <td>0.984054</td>\n",
       "      <td>...</td>\n",
       "      <td>0</td>\n",
       "      <td>0</td>\n",
       "      <td>1</td>\n",
       "      <td>0</td>\n",
       "      <td>0</td>\n",
       "      <td>1</td>\n",
       "      <td>0</td>\n",
       "      <td>0</td>\n",
       "      <td>1</td>\n",
       "      <td>1</td>\n",
       "    </tr>\n",
       "    <tr>\n",
       "      <th>4</th>\n",
       "      <td>1</td>\n",
       "      <td>1.0</td>\n",
       "      <td>2.0</td>\n",
       "      <td>3</td>\n",
       "      <td>5.0</td>\n",
       "      <td>0.0</td>\n",
       "      <td>1.0</td>\n",
       "      <td>-1.124559</td>\n",
       "      <td>-0.676441</td>\n",
       "      <td>-0.718639</td>\n",
       "      <td>...</td>\n",
       "      <td>0</td>\n",
       "      <td>0</td>\n",
       "      <td>1</td>\n",
       "      <td>0</td>\n",
       "      <td>1</td>\n",
       "      <td>0</td>\n",
       "      <td>0</td>\n",
       "      <td>0</td>\n",
       "      <td>1</td>\n",
       "      <td>1</td>\n",
       "    </tr>\n",
       "  </tbody>\n",
       "</table>\n",
       "<p>5 rows × 25 columns</p>\n",
       "</div>"
      ],
      "text/plain": [
       "   Churn  City_Tier  Service_Score  Account_user_count  CC_Agent_Score  \\\n",
       "0      1        3.0            3.0                   3             2.0   \n",
       "1      1        1.0            3.0                   4             3.0   \n",
       "2      1        1.0            2.0                   4             3.0   \n",
       "3      1        3.0            2.0                   4             5.0   \n",
       "4      1        1.0            2.0                   3             5.0   \n",
       "\n",
       "   Complain_ly  coupon_used_for_payment    Tenure  CC_Contacted_LY  \\\n",
       "0          1.0                      1.0 -0.679037        -1.376583   \n",
       "1          1.0                      0.0 -1.124559        -1.143202   \n",
       "2          1.0                      0.0 -1.124559         1.423984   \n",
       "3          0.0                      0.0 -1.124559        -0.326370   \n",
       "4          0.0                      1.0 -1.124559        -0.676441   \n",
       "\n",
       "   rev_per_month  ...  Payment_E wallet  Payment_UPI  Gender_Male  \\\n",
       "0       1.324592  ...                 0            0            0   \n",
       "1       0.643515  ...                 0            1            1   \n",
       "2       0.302976  ...                 0            0            1   \n",
       "3       0.984054  ...                 0            0            1   \n",
       "4      -0.718639  ...                 0            0            1   \n",
       "\n",
       "   account_segment_Regular  account_segment_Regular +  account_segment_Super  \\\n",
       "0                        0                          0                      1   \n",
       "1                        0                          1                      0   \n",
       "2                        0                          1                      0   \n",
       "3                        0                          0                      1   \n",
       "4                        0                          1                      0   \n",
       "\n",
       "   account_segment_Super +  Marital_Status_Married  Marital_Status_Single  \\\n",
       "0                        0                       0                      1   \n",
       "1                        0                       0                      1   \n",
       "2                        0                       0                      1   \n",
       "3                        0                       0                      1   \n",
       "4                        0                       0                      1   \n",
       "\n",
       "   Login_device_Mobile  \n",
       "0                    1  \n",
       "1                    1  \n",
       "2                    1  \n",
       "3                    1  \n",
       "4                    1  \n",
       "\n",
       "[5 rows x 25 columns]"
      ]
     },
     "execution_count": 22,
     "metadata": {},
     "output_type": "execute_result"
    }
   ],
   "source": [
    "dfs = pd.get_dummies(df_scaled, drop_first =True)\n",
    "dfs.head()"
   ]
  },
  {
   "cell_type": "code",
   "execution_count": null,
   "id": "3169f2c2",
   "metadata": {},
   "outputs": [],
   "source": []
  },
  {
   "cell_type": "markdown",
   "id": "3680a804",
   "metadata": {},
   "source": [
    "### Clustering"
   ]
  },
  {
   "cell_type": "code",
   "execution_count": 1,
   "id": "bffb7702",
   "metadata": {},
   "outputs": [],
   "source": [
    "from sklearn.cluster import KMeans "
   ]
  },
  {
   "cell_type": "code",
   "execution_count": 18,
   "id": "1a8279b9",
   "metadata": {},
   "outputs": [],
   "source": [
    "wss_1 =[] "
   ]
  },
  {
   "cell_type": "code",
   "execution_count": 23,
   "id": "fbe5555a",
   "metadata": {},
   "outputs": [],
   "source": [
    "for i in range(1,11):\n",
    "    KM = KMeans(n_clusters=i)\n",
    "    KM.fit(dfs)\n",
    "    wss_1.append(KM.inertia_)"
   ]
  },
  {
   "cell_type": "code",
   "execution_count": 24,
   "id": "42dd2314",
   "metadata": {
    "scrolled": true
   },
   "outputs": [
    {
     "data": {
      "text/plain": [
       "[154014.75017761986,\n",
       " 138600.57491694653,\n",
       " 127352.18001754541,\n",
       " 121483.81048359559,\n",
       " 117578.44838400539,\n",
       " 114391.24672052139,\n",
       " 111349.571242252,\n",
       " 108945.97155315714,\n",
       " 106382.94764494187,\n",
       " 104621.47073146458]"
      ]
     },
     "execution_count": 24,
     "metadata": {},
     "output_type": "execute_result"
    }
   ],
   "source": [
    "wss_1"
   ]
  },
  {
   "cell_type": "code",
   "execution_count": 26,
   "id": "dbbdc350",
   "metadata": {},
   "outputs": [],
   "source": [
    "import matplotlib.pyplot as plt"
   ]
  },
  {
   "cell_type": "code",
   "execution_count": 27,
   "id": "046e169f",
   "metadata": {},
   "outputs": [
    {
     "data": {
      "text/plain": [
       "[<matplotlib.lines.Line2D at 0x1c5d3380a00>]"
      ]
     },
     "execution_count": 27,
     "metadata": {},
     "output_type": "execute_result"
    },
    {
     "data": {
      "image/png": "[encoded data removed]",
      "text/plain": [
       "<Figure size 432x288 with 1 Axes>"
      ]
     },
     "metadata": {
      "needs_background": "light"
     },
     "output_type": "display_data"
    }
   ],
   "source": [
    "plt.plot(range(1,11), wss_1)"
   ]
  },
  {
   "cell_type": "code",
   "execution_count": 28,
   "id": "1a6a557b",
   "metadata": {},
   "outputs": [],
   "source": [
    "k_means = KMeans(n_clusters = 3)\n",
    "k_means.fit(dfs)\n",
    "labels = k_means.labels_"
   ]
  },
  {
   "cell_type": "code",
   "execution_count": 34,
   "id": "e2256443",
   "metadata": {},
   "outputs": [
    {
     "data": {
      "text/html": [
       "<div>\n",
       "<style scoped>\n",
       "    .dataframe tbody tr th:only-of-type {\n",
       "        vertical-align: middle;\n",
       "    }\n",
       "\n",
       "    .dataframe tbody tr th {\n",
       "        vertical-align: top;\n",
       "    }\n",
       "\n",
       "    .dataframe thead th {\n",
       "        text-align: right;\n",
       "    }\n",
       "</style>\n",
       "<table border=\"1\" class=\"dataframe\">\n",
       "  <thead>\n",
       "    <tr style=\"text-align: right;\">\n",
       "      <th></th>\n",
       "      <th>Churn</th>\n",
       "      <th>Tenure</th>\n",
       "      <th>City_Tier</th>\n",
       "      <th>CC_Contacted_LY</th>\n",
       "      <th>Payment</th>\n",
       "      <th>Gender</th>\n",
       "      <th>Service_Score</th>\n",
       "      <th>Account_user_count</th>\n",
       "      <th>account_segment</th>\n",
       "      <th>CC_Agent_Score</th>\n",
       "      <th>Marital_Status</th>\n",
       "      <th>rev_per_month</th>\n",
       "      <th>Complain_ly</th>\n",
       "      <th>rev_growth_yoy</th>\n",
       "      <th>coupon_used_for_payment</th>\n",
       "      <th>Day_Since_CC_connect</th>\n",
       "      <th>cashback</th>\n",
       "      <th>Login_device</th>\n",
       "      <th>Clus_kmeans</th>\n",
       "    </tr>\n",
       "  </thead>\n",
       "  <tbody>\n",
       "    <tr>\n",
       "      <th>0</th>\n",
       "      <td>1</td>\n",
       "      <td>4.0</td>\n",
       "      <td>3.0</td>\n",
       "      <td>6.0</td>\n",
       "      <td>Debit Card</td>\n",
       "      <td>Female</td>\n",
       "      <td>3.0</td>\n",
       "      <td>3</td>\n",
       "      <td>Super</td>\n",
       "      <td>2.0</td>\n",
       "      <td>Single</td>\n",
       "      <td>9.0</td>\n",
       "      <td>1.0</td>\n",
       "      <td>11.0</td>\n",
       "      <td>1.0</td>\n",
       "      <td>5.0</td>\n",
       "      <td>159.93</td>\n",
       "      <td>Mobile</td>\n",
       "      <td>0</td>\n",
       "    </tr>\n",
       "    <tr>\n",
       "      <th>1</th>\n",
       "      <td>1</td>\n",
       "      <td>0.0</td>\n",
       "      <td>1.0</td>\n",
       "      <td>8.0</td>\n",
       "      <td>UPI</td>\n",
       "      <td>Male</td>\n",
       "      <td>3.0</td>\n",
       "      <td>4</td>\n",
       "      <td>Regular +</td>\n",
       "      <td>3.0</td>\n",
       "      <td>Single</td>\n",
       "      <td>7.0</td>\n",
       "      <td>1.0</td>\n",
       "      <td>15.0</td>\n",
       "      <td>0.0</td>\n",
       "      <td>0.0</td>\n",
       "      <td>120.90</td>\n",
       "      <td>Mobile</td>\n",
       "      <td>2</td>\n",
       "    </tr>\n",
       "    <tr>\n",
       "      <th>2</th>\n",
       "      <td>1</td>\n",
       "      <td>0.0</td>\n",
       "      <td>1.0</td>\n",
       "      <td>30.0</td>\n",
       "      <td>Debit Card</td>\n",
       "      <td>Male</td>\n",
       "      <td>2.0</td>\n",
       "      <td>4</td>\n",
       "      <td>Regular +</td>\n",
       "      <td>3.0</td>\n",
       "      <td>Single</td>\n",
       "      <td>6.0</td>\n",
       "      <td>1.0</td>\n",
       "      <td>14.0</td>\n",
       "      <td>0.0</td>\n",
       "      <td>3.0</td>\n",
       "      <td>165.24</td>\n",
       "      <td>Mobile</td>\n",
       "      <td>2</td>\n",
       "    </tr>\n",
       "    <tr>\n",
       "      <th>3</th>\n",
       "      <td>1</td>\n",
       "      <td>0.0</td>\n",
       "      <td>3.0</td>\n",
       "      <td>15.0</td>\n",
       "      <td>Debit Card</td>\n",
       "      <td>Male</td>\n",
       "      <td>2.0</td>\n",
       "      <td>4</td>\n",
       "      <td>Super</td>\n",
       "      <td>5.0</td>\n",
       "      <td>Single</td>\n",
       "      <td>8.0</td>\n",
       "      <td>0.0</td>\n",
       "      <td>23.0</td>\n",
       "      <td>0.0</td>\n",
       "      <td>3.0</td>\n",
       "      <td>134.07</td>\n",
       "      <td>Mobile</td>\n",
       "      <td>2</td>\n",
       "    </tr>\n",
       "    <tr>\n",
       "      <th>4</th>\n",
       "      <td>1</td>\n",
       "      <td>0.0</td>\n",
       "      <td>1.0</td>\n",
       "      <td>12.0</td>\n",
       "      <td>Credit Card</td>\n",
       "      <td>Male</td>\n",
       "      <td>2.0</td>\n",
       "      <td>3</td>\n",
       "      <td>Regular +</td>\n",
       "      <td>5.0</td>\n",
       "      <td>Single</td>\n",
       "      <td>3.0</td>\n",
       "      <td>0.0</td>\n",
       "      <td>11.0</td>\n",
       "      <td>1.0</td>\n",
       "      <td>3.0</td>\n",
       "      <td>129.60</td>\n",
       "      <td>Mobile</td>\n",
       "      <td>2</td>\n",
       "    </tr>\n",
       "  </tbody>\n",
       "</table>\n",
       "</div>"
      ],
      "text/plain": [
       "   Churn  Tenure  City_Tier  CC_Contacted_LY      Payment  Gender  \\\n",
       "0      1     4.0        3.0              6.0   Debit Card  Female   \n",
       "1      1     0.0        1.0              8.0          UPI    Male   \n",
       "2      1     0.0        1.0             30.0   Debit Card    Male   \n",
       "3      1     0.0        3.0             15.0   Debit Card    Male   \n",
       "4      1     0.0        1.0             12.0  Credit Card    Male   \n",
       "\n",
       "   Service_Score  Account_user_count account_segment  CC_Agent_Score  \\\n",
       "0            3.0                   3           Super             2.0   \n",
       "1            3.0                   4       Regular +             3.0   \n",
       "2            2.0                   4       Regular +             3.0   \n",
       "3            2.0                   4           Super             5.0   \n",
       "4            2.0                   3       Regular +             5.0   \n",
       "\n",
       "  Marital_Status  rev_per_month  Complain_ly  rev_growth_yoy  \\\n",
       "0         Single            9.0          1.0            11.0   \n",
       "1         Single            7.0          1.0            15.0   \n",
       "2         Single            6.0          1.0            14.0   \n",
       "3         Single            8.0          0.0            23.0   \n",
       "4         Single            3.0          0.0            11.0   \n",
       "\n",
       "   coupon_used_for_payment  Day_Since_CC_connect  cashback Login_device  \\\n",
       "0                      1.0                   5.0    159.93       Mobile   \n",
       "1                      0.0                   0.0    120.90       Mobile   \n",
       "2                      0.0                   3.0    165.24       Mobile   \n",
       "3                      0.0                   3.0    134.07       Mobile   \n",
       "4                      1.0                   3.0    129.60       Mobile   \n",
       "\n",
       "   Clus_kmeans  \n",
       "0            0  \n",
       "1            2  \n",
       "2            2  \n",
       "3            2  \n",
       "4            2  "
      ]
     },
     "execution_count": 34,
     "metadata": {},
     "output_type": "execute_result"
    }
   ],
   "source": [
    "df2[\"Clus_kmeans\"] = labels\n",
    "df2.head(5)"
   ]
  },
  {
   "cell_type": "code",
   "execution_count": 35,
   "id": "cedd0b1b",
   "metadata": {},
   "outputs": [
    {
     "data": {
      "text/plain": [
       "2    4809\n",
       "1    3294\n",
       "0    3157\n",
       "Name: Clus_kmeans, dtype: int64"
      ]
     },
     "execution_count": 35,
     "metadata": {},
     "output_type": "execute_result"
    }
   ],
   "source": [
    "df2['Clus_kmeans'].value_counts()"
   ]
  },
  {
   "cell_type": "code",
   "execution_count": 37,
   "id": "11a6850d",
   "metadata": {},
   "outputs": [
    {
     "data": {
      "text/plain": [
       "Clus_kmeans\n",
       "0     9.490339\n",
       "1    16.430783\n",
       "2     6.155750\n",
       "Name: Tenure, dtype: float64"
      ]
     },
     "execution_count": 37,
     "metadata": {},
     "output_type": "execute_result"
    }
   ],
   "source": [
    "df2.groupby('Clus_kmeans')['Tenure'].mean()"
   ]
  },
  {
   "cell_type": "code",
   "execution_count": 38,
   "id": "25d76eb0",
   "metadata": {},
   "outputs": [
    {
     "data": {
      "text/plain": [
       "Clus_kmeans\n",
       "0    172.169373\n",
       "1    216.618722\n",
       "2    153.698228\n",
       "Name: cashback, dtype: float64"
      ]
     },
     "execution_count": 38,
     "metadata": {},
     "output_type": "execute_result"
    }
   ],
   "source": [
    "df2.groupby('Clus_kmeans')['cashback'].mean()"
   ]
  },
  {
   "cell_type": "code",
   "execution_count": 41,
   "id": "c9afaf85",
   "metadata": {},
   "outputs": [
    {
     "data": {
      "text/plain": [
       "Clus_kmeans  account_segment\n",
       "0            Super              1278\n",
       "             Regular +          1205\n",
       "             HNI                 432\n",
       "             Super +             166\n",
       "             Regular              76\n",
       "1            Super              1110\n",
       "             HNI                 880\n",
       "             Super +             636\n",
       "             Regular             434\n",
       "             Regular +           234\n",
       "2            Regular +          2685\n",
       "             Super              1771\n",
       "             HNI                 327\n",
       "             Super +              16\n",
       "             Regular              10\n",
       "Name: account_segment, dtype: int64"
      ]
     },
     "execution_count": 41,
     "metadata": {},
     "output_type": "execute_result"
    }
   ],
   "source": [
    "df2.groupby('Clus_kmeans')['account_segment'].value_counts()"
   ]
  },
  {
   "cell_type": "code",
   "execution_count": 44,
   "id": "1eaf4cef",
   "metadata": {},
   "outputs": [
    {
     "data": {
      "text/plain": [
       "Clus_kmeans\n",
       "0    4.842889\n",
       "1    6.033090\n",
       "2    4.653774\n",
       "Name: rev_per_month, dtype: float64"
      ]
     },
     "execution_count": 44,
     "metadata": {},
     "output_type": "execute_result"
    }
   ],
   "source": [
    "df2.groupby('Clus_kmeans')['rev_per_month'].mean()"
   ]
  },
  {
   "cell_type": "code",
   "execution_count": null,
   "id": "6dc970dc",
   "metadata": {},
   "outputs": [],
   "source": []
  },
  {
   "cell_type": "code",
   "execution_count": null,
   "id": "0ee796fb",
   "metadata": {},
   "outputs": [],
   "source": []
  },
  {
   "cell_type": "code",
   "execution_count": null,
   "id": "3fc005f5",
   "metadata": {},
   "outputs": [],
   "source": []
  },
  {
   "cell_type": "markdown",
   "id": "27668e42",
   "metadata": {},
   "source": [
    "### Data splitting"
   ]
  },
  {
   "cell_type": "code",
   "execution_count": 41,
   "id": "8cbd1ad3",
   "metadata": {},
   "outputs": [],
   "source": [
    "X = dfe.drop('Churn', axis=1)\n",
    "y = dfe[['Churn']]"
   ]
  },
  {
   "cell_type": "code",
   "execution_count": 42,
   "id": "31055584",
   "metadata": {},
   "outputs": [],
   "source": [
    "from sklearn.model_selection import train_test_split"
   ]
  },
  {
   "cell_type": "code",
   "execution_count": 43,
   "id": "93b64ae9",
   "metadata": {},
   "outputs": [],
   "source": [
    "X1_train, X_test, y1_train, y_test = train_test_split(X, y, test_size= 0.30, random_state=1, stratify=dfe['Churn'])"
   ]
  },
  {
   "cell_type": "code",
   "execution_count": 44,
   "id": "ec0f35c8",
   "metadata": {
    "scrolled": true
   },
   "outputs": [
    {
     "name": "stdout",
     "output_type": "stream",
     "text": [
      "Shape of X1_train is (7882, 24)\n",
      "Shape of X_test is (3378, 24)\n",
      "Shape of y1_train is (7882, 1)\n",
      "Shape of y_test is (3378, 1)\n"
     ]
    }
   ],
   "source": [
    "print('Shape of X1_train is', X1_train.shape)\n",
    "print('Shape of X_test is', X_test.shape)\n",
    "print('Shape of y1_train is', y1_train.shape)\n",
    "print('Shape of y_test is', y_test.shape)"
   ]
  },
  {
   "cell_type": "code",
   "execution_count": 45,
   "id": "7668b4bc",
   "metadata": {},
   "outputs": [
    {
     "name": "stdout",
     "output_type": "stream",
     "text": [
      "Split percentage of X1_train is 70.0\n",
      "Split percentage of X_test is 30.0\n",
      "Split percentage of y1_train is 70.0\n",
      "Split percentage of y_test is 30.0\n"
     ]
    }
   ],
   "source": [
    "print('Split percentage of X1_train is', X1_train.shape[0]/11260*100)\n",
    "print('Split percentage of X_test is', X_test.shape[0]/11260*100)\n",
    "print('Split percentage of y1_train is', y1_train.shape[0]/11260*100)\n",
    "print('Split percentage of y_test is', y_test.shape[0]/11260*100)"
   ]
  },
  {
   "cell_type": "code",
   "execution_count": 46,
   "id": "666b1c70",
   "metadata": {
    "scrolled": false
   },
   "outputs": [
    {
     "data": {
      "text/plain": [
       "Churn\n",
       "0        0.83\n",
       "1        0.17\n",
       "dtype: float64"
      ]
     },
     "execution_count": 46,
     "metadata": {},
     "output_type": "execute_result"
    }
   ],
   "source": [
    "round(y1_train.value_counts(normalize=True),2)"
   ]
  },
  {
   "cell_type": "code",
   "execution_count": null,
   "id": "418959dd",
   "metadata": {},
   "outputs": [],
   "source": []
  },
  {
   "cell_type": "markdown",
   "id": "402e0b94",
   "metadata": {},
   "source": [
    "## Smote"
   ]
  },
  {
   "cell_type": "code",
   "execution_count": 47,
   "id": "86359150",
   "metadata": {},
   "outputs": [],
   "source": [
    "from imblearn.over_sampling import SMOTE "
   ]
  },
  {
   "cell_type": "code",
   "execution_count": 48,
   "id": "08ca03e1",
   "metadata": {},
   "outputs": [],
   "source": [
    "smote = SMOTE(random_state=1)"
   ]
  },
  {
   "cell_type": "code",
   "execution_count": 49,
   "id": "480035a8",
   "metadata": {},
   "outputs": [],
   "source": [
    "X_train, y_train = smote.fit_resample(X1_train, y1_train)"
   ]
  },
  {
   "cell_type": "code",
   "execution_count": 50,
   "id": "a5800566",
   "metadata": {},
   "outputs": [
    {
     "data": {
      "text/plain": [
       "Churn\n",
       "0        0.5\n",
       "1        0.5\n",
       "dtype: float64"
      ]
     },
     "execution_count": 50,
     "metadata": {},
     "output_type": "execute_result"
    }
   ],
   "source": [
    "y_train.value_counts(normalize=True)"
   ]
  },
  {
   "cell_type": "code",
   "execution_count": 51,
   "id": "151a95de",
   "metadata": {
    "scrolled": true
   },
   "outputs": [
    {
     "name": "stdout",
     "output_type": "stream",
     "text": [
      "Shape of X_train is (13110, 24)\n",
      "Shape of X_test is (3378, 24)\n",
      "Shape of y_train is (13110, 1)\n",
      "Shape of y_test is (3378, 1)\n"
     ]
    }
   ],
   "source": [
    "print('Shape of X_train is', X_train.shape)\n",
    "print('Shape of X_test is', X_test.shape)\n",
    "print('Shape of y_train is', y_train.shape)\n",
    "print('Shape of y_test is', y_test.shape)"
   ]
  },
  {
   "cell_type": "code",
   "execution_count": null,
   "id": "770d2f84",
   "metadata": {},
   "outputs": [],
   "source": []
  },
  {
   "cell_type": "markdown",
   "id": "46d1cce1",
   "metadata": {},
   "source": [
    "### Scaling for KNN model"
   ]
  },
  {
   "cell_type": "code",
   "execution_count": 52,
   "id": "d365e7dd",
   "metadata": {},
   "outputs": [
    {
     "data": {
      "text/html": [
       "<div>\n",
       "<style scoped>\n",
       "    .dataframe tbody tr th:only-of-type {\n",
       "        vertical-align: middle;\n",
       "    }\n",
       "\n",
       "    .dataframe tbody tr th {\n",
       "        vertical-align: top;\n",
       "    }\n",
       "\n",
       "    .dataframe thead th {\n",
       "        text-align: right;\n",
       "    }\n",
       "</style>\n",
       "<table border=\"1\" class=\"dataframe\">\n",
       "  <thead>\n",
       "    <tr style=\"text-align: right;\">\n",
       "      <th></th>\n",
       "      <th>Tenure</th>\n",
       "      <th>City_Tier</th>\n",
       "      <th>CC_Contacted_LY</th>\n",
       "      <th>Service_Score</th>\n",
       "      <th>Account_user_count</th>\n",
       "      <th>CC_Agent_Score</th>\n",
       "      <th>rev_per_month</th>\n",
       "      <th>Complain_ly</th>\n",
       "      <th>rev_growth_yoy</th>\n",
       "      <th>coupon_used_for_payment</th>\n",
       "      <th>...</th>\n",
       "      <th>Payment_E wallet</th>\n",
       "      <th>Payment_UPI</th>\n",
       "      <th>Gender_Male</th>\n",
       "      <th>account_segment_Regular</th>\n",
       "      <th>account_segment_Regular +</th>\n",
       "      <th>account_segment_Super</th>\n",
       "      <th>account_segment_Super +</th>\n",
       "      <th>Marital_Status_Married</th>\n",
       "      <th>Marital_Status_Single</th>\n",
       "      <th>Login_device_Mobile</th>\n",
       "    </tr>\n",
       "  </thead>\n",
       "  <tbody>\n",
       "    <tr>\n",
       "      <th>0</th>\n",
       "      <td>0.079109</td>\n",
       "      <td>1.0</td>\n",
       "      <td>-0.745637</td>\n",
       "      <td>3.0</td>\n",
       "      <td>3</td>\n",
       "      <td>3.0</td>\n",
       "      <td>-1.441199</td>\n",
       "      <td>1.0</td>\n",
       "      <td>-0.558963</td>\n",
       "      <td>1.0</td>\n",
       "      <td>...</td>\n",
       "      <td>0</td>\n",
       "      <td>0</td>\n",
       "      <td>1</td>\n",
       "      <td>0</td>\n",
       "      <td>1</td>\n",
       "      <td>0</td>\n",
       "      <td>0</td>\n",
       "      <td>0</td>\n",
       "      <td>0</td>\n",
       "      <td>1</td>\n",
       "    </tr>\n",
       "    <tr>\n",
       "      <th>1</th>\n",
       "      <td>-0.626034</td>\n",
       "      <td>3.0</td>\n",
       "      <td>0.066090</td>\n",
       "      <td>2.0</td>\n",
       "      <td>3</td>\n",
       "      <td>4.0</td>\n",
       "      <td>-0.756489</td>\n",
       "      <td>0.0</td>\n",
       "      <td>-0.288212</td>\n",
       "      <td>2.0</td>\n",
       "      <td>...</td>\n",
       "      <td>1</td>\n",
       "      <td>0</td>\n",
       "      <td>1</td>\n",
       "      <td>0</td>\n",
       "      <td>1</td>\n",
       "      <td>0</td>\n",
       "      <td>0</td>\n",
       "      <td>1</td>\n",
       "      <td>0</td>\n",
       "      <td>1</td>\n",
       "    </tr>\n",
       "    <tr>\n",
       "      <th>2</th>\n",
       "      <td>0.549205</td>\n",
       "      <td>3.0</td>\n",
       "      <td>0.877818</td>\n",
       "      <td>3.0</td>\n",
       "      <td>3</td>\n",
       "      <td>5.0</td>\n",
       "      <td>-0.071779</td>\n",
       "      <td>0.0</td>\n",
       "      <td>-0.829715</td>\n",
       "      <td>3.0</td>\n",
       "      <td>...</td>\n",
       "      <td>1</td>\n",
       "      <td>0</td>\n",
       "      <td>1</td>\n",
       "      <td>0</td>\n",
       "      <td>0</td>\n",
       "      <td>0</td>\n",
       "      <td>1</td>\n",
       "      <td>0</td>\n",
       "      <td>1</td>\n",
       "      <td>1</td>\n",
       "    </tr>\n",
       "    <tr>\n",
       "      <th>3</th>\n",
       "      <td>2.194540</td>\n",
       "      <td>3.0</td>\n",
       "      <td>-0.977559</td>\n",
       "      <td>3.0</td>\n",
       "      <td>4</td>\n",
       "      <td>5.0</td>\n",
       "      <td>-0.756489</td>\n",
       "      <td>0.0</td>\n",
       "      <td>-1.100467</td>\n",
       "      <td>2.0</td>\n",
       "      <td>...</td>\n",
       "      <td>1</td>\n",
       "      <td>0</td>\n",
       "      <td>1</td>\n",
       "      <td>0</td>\n",
       "      <td>0</td>\n",
       "      <td>0</td>\n",
       "      <td>1</td>\n",
       "      <td>0</td>\n",
       "      <td>0</td>\n",
       "      <td>1</td>\n",
       "    </tr>\n",
       "    <tr>\n",
       "      <th>4</th>\n",
       "      <td>-0.743558</td>\n",
       "      <td>3.0</td>\n",
       "      <td>-0.281793</td>\n",
       "      <td>3.0</td>\n",
       "      <td>4</td>\n",
       "      <td>1.0</td>\n",
       "      <td>-0.756489</td>\n",
       "      <td>0.0</td>\n",
       "      <td>-0.288212</td>\n",
       "      <td>2.0</td>\n",
       "      <td>...</td>\n",
       "      <td>1</td>\n",
       "      <td>0</td>\n",
       "      <td>1</td>\n",
       "      <td>0</td>\n",
       "      <td>0</td>\n",
       "      <td>1</td>\n",
       "      <td>0</td>\n",
       "      <td>0</td>\n",
       "      <td>1</td>\n",
       "      <td>1</td>\n",
       "    </tr>\n",
       "  </tbody>\n",
       "</table>\n",
       "<p>5 rows × 24 columns</p>\n",
       "</div>"
      ],
      "text/plain": [
       "     Tenure  City_Tier  CC_Contacted_LY  Service_Score  Account_user_count  \\\n",
       "0  0.079109        1.0        -0.745637            3.0                   3   \n",
       "1 -0.626034        3.0         0.066090            2.0                   3   \n",
       "2  0.549205        3.0         0.877818            3.0                   3   \n",
       "3  2.194540        3.0        -0.977559            3.0                   4   \n",
       "4 -0.743558        3.0        -0.281793            3.0                   4   \n",
       "\n",
       "   CC_Agent_Score  rev_per_month  Complain_ly  rev_growth_yoy  \\\n",
       "0             3.0      -1.441199          1.0       -0.558963   \n",
       "1             4.0      -0.756489          0.0       -0.288212   \n",
       "2             5.0      -0.071779          0.0       -0.829715   \n",
       "3             5.0      -0.756489          0.0       -1.100467   \n",
       "4             1.0      -0.756489          0.0       -0.288212   \n",
       "\n",
       "   coupon_used_for_payment  ...  Payment_E wallet  Payment_UPI  Gender_Male  \\\n",
       "0                      1.0  ...                 0            0            1   \n",
       "1                      2.0  ...                 1            0            1   \n",
       "2                      3.0  ...                 1            0            1   \n",
       "3                      2.0  ...                 1            0            1   \n",
       "4                      2.0  ...                 1            0            1   \n",
       "\n",
       "   account_segment_Regular  account_segment_Regular +  account_segment_Super  \\\n",
       "0                        0                          1                      0   \n",
       "1                        0                          1                      0   \n",
       "2                        0                          0                      0   \n",
       "3                        0                          0                      0   \n",
       "4                        0                          0                      1   \n",
       "\n",
       "   account_segment_Super +  Marital_Status_Married  Marital_Status_Single  \\\n",
       "0                        0                       0                      0   \n",
       "1                        0                       1                      0   \n",
       "2                        1                       0                      1   \n",
       "3                        1                       0                      0   \n",
       "4                        0                       0                      1   \n",
       "\n",
       "   Login_device_Mobile  \n",
       "0                    1  \n",
       "1                    1  \n",
       "2                    1  \n",
       "3                    1  \n",
       "4                    1  \n",
       "\n",
       "[5 rows x 24 columns]"
      ]
     },
     "execution_count": 52,
     "metadata": {},
     "output_type": "execute_result"
    }
   ],
   "source": [
    "X_train_s = X_train.copy()\n",
    "X_train_s[num] = X_train_s[num].apply(zscore)\n",
    "X_train_s.head()"
   ]
  },
  {
   "cell_type": "code",
   "execution_count": 53,
   "id": "ac32118e",
   "metadata": {},
   "outputs": [
    {
     "data": {
      "text/html": [
       "<div>\n",
       "<style scoped>\n",
       "    .dataframe tbody tr th:only-of-type {\n",
       "        vertical-align: middle;\n",
       "    }\n",
       "\n",
       "    .dataframe tbody tr th {\n",
       "        vertical-align: top;\n",
       "    }\n",
       "\n",
       "    .dataframe thead th {\n",
       "        text-align: right;\n",
       "    }\n",
       "</style>\n",
       "<table border=\"1\" class=\"dataframe\">\n",
       "  <thead>\n",
       "    <tr style=\"text-align: right;\">\n",
       "      <th></th>\n",
       "      <th>Tenure</th>\n",
       "      <th>City_Tier</th>\n",
       "      <th>CC_Contacted_LY</th>\n",
       "      <th>Service_Score</th>\n",
       "      <th>Account_user_count</th>\n",
       "      <th>CC_Agent_Score</th>\n",
       "      <th>rev_per_month</th>\n",
       "      <th>Complain_ly</th>\n",
       "      <th>rev_growth_yoy</th>\n",
       "      <th>coupon_used_for_payment</th>\n",
       "      <th>...</th>\n",
       "      <th>Payment_E wallet</th>\n",
       "      <th>Payment_UPI</th>\n",
       "      <th>Gender_Male</th>\n",
       "      <th>account_segment_Regular</th>\n",
       "      <th>account_segment_Regular +</th>\n",
       "      <th>account_segment_Super</th>\n",
       "      <th>account_segment_Super +</th>\n",
       "      <th>Marital_Status_Married</th>\n",
       "      <th>Marital_Status_Single</th>\n",
       "      <th>Login_device_Mobile</th>\n",
       "    </tr>\n",
       "  </thead>\n",
       "  <tbody>\n",
       "    <tr>\n",
       "      <th>6888</th>\n",
       "      <td>-0.124840</td>\n",
       "      <td>1.0</td>\n",
       "      <td>0.261623</td>\n",
       "      <td>3.0</td>\n",
       "      <td>1</td>\n",
       "      <td>4.0</td>\n",
       "      <td>-1.073557</td>\n",
       "      <td>0.0</td>\n",
       "      <td>2.074920</td>\n",
       "      <td>1.0</td>\n",
       "      <td>...</td>\n",
       "      <td>0</td>\n",
       "      <td>0</td>\n",
       "      <td>1</td>\n",
       "      <td>0</td>\n",
       "      <td>1</td>\n",
       "      <td>0</td>\n",
       "      <td>0</td>\n",
       "      <td>1</td>\n",
       "      <td>0</td>\n",
       "      <td>0</td>\n",
       "    </tr>\n",
       "    <tr>\n",
       "      <th>467</th>\n",
       "      <td>1.095895</td>\n",
       "      <td>1.0</td>\n",
       "      <td>-1.132506</td>\n",
       "      <td>2.0</td>\n",
       "      <td>3</td>\n",
       "      <td>2.0</td>\n",
       "      <td>-1.073557</td>\n",
       "      <td>1.0</td>\n",
       "      <td>-1.394129</td>\n",
       "      <td>3.0</td>\n",
       "      <td>...</td>\n",
       "      <td>0</td>\n",
       "      <td>1</td>\n",
       "      <td>0</td>\n",
       "      <td>0</td>\n",
       "      <td>0</td>\n",
       "      <td>0</td>\n",
       "      <td>1</td>\n",
       "      <td>0</td>\n",
       "      <td>0</td>\n",
       "      <td>1</td>\n",
       "    </tr>\n",
       "    <tr>\n",
       "      <th>2347</th>\n",
       "      <td>-0.235816</td>\n",
       "      <td>1.0</td>\n",
       "      <td>0.726332</td>\n",
       "      <td>2.0</td>\n",
       "      <td>3</td>\n",
       "      <td>1.0</td>\n",
       "      <td>-0.729717</td>\n",
       "      <td>0.0</td>\n",
       "      <td>-1.394129</td>\n",
       "      <td>2.0</td>\n",
       "      <td>...</td>\n",
       "      <td>0</td>\n",
       "      <td>0</td>\n",
       "      <td>1</td>\n",
       "      <td>0</td>\n",
       "      <td>0</td>\n",
       "      <td>0</td>\n",
       "      <td>0</td>\n",
       "      <td>0</td>\n",
       "      <td>1</td>\n",
       "      <td>0</td>\n",
       "    </tr>\n",
       "    <tr>\n",
       "      <th>1794</th>\n",
       "      <td>0.208088</td>\n",
       "      <td>1.0</td>\n",
       "      <td>-0.435441</td>\n",
       "      <td>2.0</td>\n",
       "      <td>3</td>\n",
       "      <td>3.0</td>\n",
       "      <td>-1.073557</td>\n",
       "      <td>0.0</td>\n",
       "      <td>-1.394129</td>\n",
       "      <td>1.0</td>\n",
       "      <td>...</td>\n",
       "      <td>0</td>\n",
       "      <td>0</td>\n",
       "      <td>0</td>\n",
       "      <td>0</td>\n",
       "      <td>1</td>\n",
       "      <td>0</td>\n",
       "      <td>0</td>\n",
       "      <td>1</td>\n",
       "      <td>0</td>\n",
       "      <td>0</td>\n",
       "    </tr>\n",
       "    <tr>\n",
       "      <th>3125</th>\n",
       "      <td>-1.012647</td>\n",
       "      <td>1.0</td>\n",
       "      <td>0.493977</td>\n",
       "      <td>3.0</td>\n",
       "      <td>4</td>\n",
       "      <td>3.0</td>\n",
       "      <td>1.333319</td>\n",
       "      <td>1.0</td>\n",
       "      <td>-0.860429</td>\n",
       "      <td>1.0</td>\n",
       "      <td>...</td>\n",
       "      <td>0</td>\n",
       "      <td>0</td>\n",
       "      <td>1</td>\n",
       "      <td>0</td>\n",
       "      <td>0</td>\n",
       "      <td>0</td>\n",
       "      <td>0</td>\n",
       "      <td>0</td>\n",
       "      <td>0</td>\n",
       "      <td>1</td>\n",
       "    </tr>\n",
       "  </tbody>\n",
       "</table>\n",
       "<p>5 rows × 24 columns</p>\n",
       "</div>"
      ],
      "text/plain": [
       "        Tenure  City_Tier  CC_Contacted_LY  Service_Score  Account_user_count  \\\n",
       "6888 -0.124840        1.0         0.261623            3.0                   1   \n",
       "467   1.095895        1.0        -1.132506            2.0                   3   \n",
       "2347 -0.235816        1.0         0.726332            2.0                   3   \n",
       "1794  0.208088        1.0        -0.435441            2.0                   3   \n",
       "3125 -1.012647        1.0         0.493977            3.0                   4   \n",
       "\n",
       "      CC_Agent_Score  rev_per_month  Complain_ly  rev_growth_yoy  \\\n",
       "6888             4.0      -1.073557          0.0        2.074920   \n",
       "467              2.0      -1.073557          1.0       -1.394129   \n",
       "2347             1.0      -0.729717          0.0       -1.394129   \n",
       "1794             3.0      -1.073557          0.0       -1.394129   \n",
       "3125             3.0       1.333319          1.0       -0.860429   \n",
       "\n",
       "      coupon_used_for_payment  ...  Payment_E wallet  Payment_UPI  \\\n",
       "6888                      1.0  ...                 0            0   \n",
       "467                       3.0  ...                 0            1   \n",
       "2347                      2.0  ...                 0            0   \n",
       "1794                      1.0  ...                 0            0   \n",
       "3125                      1.0  ...                 0            0   \n",
       "\n",
       "      Gender_Male  account_segment_Regular  account_segment_Regular +  \\\n",
       "6888            1                        0                          1   \n",
       "467             0                        0                          0   \n",
       "2347            1                        0                          0   \n",
       "1794            0                        0                          1   \n",
       "3125            1                        0                          0   \n",
       "\n",
       "      account_segment_Super  account_segment_Super +  Marital_Status_Married  \\\n",
       "6888                      0                        0                       1   \n",
       "467                       0                        1                       0   \n",
       "2347                      0                        0                       0   \n",
       "1794                      0                        0                       1   \n",
       "3125                      0                        0                       0   \n",
       "\n",
       "      Marital_Status_Single  Login_device_Mobile  \n",
       "6888                      0                    0  \n",
       "467                       0                    1  \n",
       "2347                      1                    0  \n",
       "1794                      0                    0  \n",
       "3125                      0                    1  \n",
       "\n",
       "[5 rows x 24 columns]"
      ]
     },
     "execution_count": 53,
     "metadata": {},
     "output_type": "execute_result"
    }
   ],
   "source": [
    "X_test_s = X_test.copy()\n",
    "X_test_s[num] = X_test_s[num].apply(zscore)\n",
    "X_test_s.head()"
   ]
  },
  {
   "cell_type": "code",
   "execution_count": null,
   "id": "69150c21",
   "metadata": {},
   "outputs": [],
   "source": []
  },
  {
   "cell_type": "markdown",
   "id": "0af95eb3",
   "metadata": {},
   "source": [
    "## 1) CART"
   ]
  },
  {
   "cell_type": "code",
   "execution_count": 31,
   "id": "0a8e37ff",
   "metadata": {},
   "outputs": [],
   "source": [
    "from sklearn.tree import DecisionTreeClassifier"
   ]
  },
  {
   "cell_type": "code",
   "execution_count": 32,
   "id": "eb75b6aa",
   "metadata": {},
   "outputs": [],
   "source": [
    "cart = DecisionTreeClassifier(criterion = 'gini')"
   ]
  },
  {
   "cell_type": "code",
   "execution_count": 33,
   "id": "61bf56c4",
   "metadata": {
    "scrolled": true
   },
   "outputs": [
    {
     "data": {
      "text/html": [
       "<style>#sk-container-id-1 {color: black;background-color: white;}#sk-container-id-1 pre{padding: 0;}#sk-container-id-1 div.sk-toggleable {background-color: white;}#sk-container-id-1 label.sk-toggleable__label {cursor: pointer;display: block;width: 100%;margin-bottom: 0;padding: 0.3em;box-sizing: border-box;text-align: center;}#sk-container-id-1 label.sk-toggleable__label-arrow:before {content: \"▸\";float: left;margin-right: 0.25em;color: #696969;}#sk-container-id-1 label.sk-toggleable__label-arrow:hover:before {color: black;}#sk-container-id-1 div.sk-estimator:hover label.sk-toggleable__label-arrow:before {color: black;}#sk-container-id-1 div.sk-toggleable__content {max-height: 0;max-width: 0;overflow: hidden;text-align: left;background-color: #f0f8ff;}#sk-container-id-1 div.sk-toggleable__content pre {margin: 0.2em;color: black;border-radius: 0.25em;background-color: #f0f8ff;}#sk-container-id-1 input.sk-toggleable__control:checked~div.sk-toggleable__content {max-height: 200px;max-width: 100%;overflow: auto;}#sk-container-id-1 input.sk-toggleable__control:checked~label.sk-toggleable__label-arrow:before {content: \"▾\";}#sk-container-id-1 div.sk-estimator input.sk-toggleable__control:checked~label.sk-toggleable__label {background-color: #d4ebff;}#sk-container-id-1 div.sk-label input.sk-toggleable__control:checked~label.sk-toggleable__label {background-color: #d4ebff;}#sk-container-id-1 input.sk-hidden--visually {border: 0;clip: rect(1px 1px 1px 1px);clip: rect(1px, 1px, 1px, 1px);height: 1px;margin: -1px;overflow: hidden;padding: 0;position: absolute;width: 1px;}#sk-container-id-1 div.sk-estimator {font-family: monospace;background-color: #f0f8ff;border: 1px dotted black;border-radius: 0.25em;box-sizing: border-box;margin-bottom: 0.5em;}#sk-container-id-1 div.sk-estimator:hover {background-color: #d4ebff;}#sk-container-id-1 div.sk-parallel-item::after {content: \"\";width: 100%;border-bottom: 1px solid gray;flex-grow: 1;}#sk-container-id-1 div.sk-label:hover label.sk-toggleable__label {background-color: #d4ebff;}#sk-container-id-1 div.sk-serial::before {content: \"\";position: absolute;border-left: 1px solid gray;box-sizing: border-box;top: 0;bottom: 0;left: 50%;z-index: 0;}#sk-container-id-1 div.sk-serial {display: flex;flex-direction: column;align-items: center;background-color: white;padding-right: 0.2em;padding-left: 0.2em;position: relative;}#sk-container-id-1 div.sk-item {position: relative;z-index: 1;}#sk-container-id-1 div.sk-parallel {display: flex;align-items: stretch;justify-content: center;background-color: white;position: relative;}#sk-container-id-1 div.sk-item::before, #sk-container-id-1 div.sk-parallel-item::before {content: \"\";position: absolute;border-left: 1px solid gray;box-sizing: border-box;top: 0;bottom: 0;left: 50%;z-index: -1;}#sk-container-id-1 div.sk-parallel-item {display: flex;flex-direction: column;z-index: 1;position: relative;background-color: white;}#sk-container-id-1 div.sk-parallel-item:first-child::after {align-self: flex-end;width: 50%;}#sk-container-id-1 div.sk-parallel-item:last-child::after {align-self: flex-start;width: 50%;}#sk-container-id-1 div.sk-parallel-item:only-child::after {width: 0;}#sk-container-id-1 div.sk-dashed-wrapped {border: 1px dashed gray;margin: 0 0.4em 0.5em 0.4em;box-sizing: border-box;padding-bottom: 0.4em;background-color: white;}#sk-container-id-1 div.sk-label label {font-family: monospace;font-weight: bold;display: inline-block;line-height: 1.2em;}#sk-container-id-1 div.sk-label-container {text-align: center;}#sk-container-id-1 div.sk-container {/* jupyter's `normalize.less` sets `[hidden] { display: none; }` but bootstrap.min.css set `[hidden] { display: none !important; }` so we also need the `!important` here to be able to override the default hidden behavior on the sphinx rendered scikit-learn.org. See: https://github.com/scikit-learn/scikit-learn/issues/21755 */display: inline-block !important;position: relative;}#sk-container-id-1 div.sk-text-repr-fallback {display: none;}</style><div id=\"sk-container-id-1\" class=\"sk-top-container\"><div class=\"sk-text-repr-fallback\"><pre>DecisionTreeClassifier()</pre><b>In a Jupyter environment, please rerun this cell to show the HTML representation or trust the notebook. <br />On GitHub, the HTML representation is unable to render, please try loading this page with nbviewer.org.</b></div><div class=\"sk-container\" hidden><div class=\"sk-item\"><div class=\"sk-estimator sk-toggleable\"><input class=\"sk-toggleable__control sk-hidden--visually\" id=\"sk-estimator-id-1\" type=\"checkbox\" checked><label for=\"sk-estimator-id-1\" class=\"sk-toggleable__label sk-toggleable__label-arrow\">DecisionTreeClassifier</label><div class=\"sk-toggleable__content\"><pre>DecisionTreeClassifier()</pre></div></div></div></div></div>"
      ],
      "text/plain": [
       "DecisionTreeClassifier()"
      ]
     },
     "execution_count": 33,
     "metadata": {},
     "output_type": "execute_result"
    }
   ],
   "source": [
    "cart.fit(X_train, y_train)"
   ]
  },
  {
   "cell_type": "code",
   "execution_count": null,
   "id": "d2542a5d",
   "metadata": {},
   "outputs": [],
   "source": []
  },
  {
   "cell_type": "markdown",
   "id": "23ecd32e",
   "metadata": {},
   "source": [
    "##### Model_evaluation"
   ]
  },
  {
   "cell_type": "code",
   "execution_count": 34,
   "id": "c0a8a7ce",
   "metadata": {},
   "outputs": [
    {
     "data": {
      "text/plain": [
       "1.0"
      ]
     },
     "execution_count": 34,
     "metadata": {},
     "output_type": "execute_result"
    }
   ],
   "source": [
    "cart_train_score = cart.score(X_train, y_train)\n",
    "cart_train_score"
   ]
  },
  {
   "cell_type": "code",
   "execution_count": 35,
   "id": "d65fce5c",
   "metadata": {
    "scrolled": true
   },
   "outputs": [
    {
     "data": {
      "text/plain": [
       "0.9262877442273535"
      ]
     },
     "execution_count": 35,
     "metadata": {},
     "output_type": "execute_result"
    }
   ],
   "source": [
    "cart_test_score = cart.score(X_test, y_test)\n",
    "cart_test_score"
   ]
  },
  {
   "cell_type": "code",
   "execution_count": 36,
   "id": "76177993",
   "metadata": {},
   "outputs": [],
   "source": [
    "y_pred_cart_train = cart.predict(X_train)\n",
    "y_pred_cart_test = cart.predict(X_test)"
   ]
  },
  {
   "cell_type": "code",
   "execution_count": 37,
   "id": "d5e575fe",
   "metadata": {},
   "outputs": [],
   "source": [
    "from sklearn.metrics import classification_report, confusion_matrix"
   ]
  },
  {
   "cell_type": "code",
   "execution_count": 38,
   "id": "5a641563",
   "metadata": {},
   "outputs": [
    {
     "data": {
      "text/plain": [
       "array([[6555,    0],\n",
       "       [   0, 6555]], dtype=int64)"
      ]
     },
     "execution_count": 38,
     "metadata": {},
     "output_type": "execute_result"
    }
   ],
   "source": [
    "confusion_matrix(y_train, y_pred_cart_train)"
   ]
  },
  {
   "cell_type": "code",
   "execution_count": 39,
   "id": "bd5ccdfd",
   "metadata": {},
   "outputs": [
    {
     "data": {
      "text/plain": [
       "array([[2663,  146],\n",
       "       [ 103,  466]], dtype=int64)"
      ]
     },
     "execution_count": 39,
     "metadata": {},
     "output_type": "execute_result"
    }
   ],
   "source": [
    "confusion_matrix(y_test, y_pred_cart_test)"
   ]
  },
  {
   "cell_type": "code",
   "execution_count": 40,
   "id": "949c0720",
   "metadata": {},
   "outputs": [
    {
     "data": {
      "text/html": [
       "<div>\n",
       "<style scoped>\n",
       "    .dataframe tbody tr th:only-of-type {\n",
       "        vertical-align: middle;\n",
       "    }\n",
       "\n",
       "    .dataframe tbody tr th {\n",
       "        vertical-align: top;\n",
       "    }\n",
       "\n",
       "    .dataframe thead th {\n",
       "        text-align: right;\n",
       "    }\n",
       "</style>\n",
       "<table border=\"1\" class=\"dataframe\">\n",
       "  <thead>\n",
       "    <tr style=\"text-align: right;\">\n",
       "      <th></th>\n",
       "      <th>precision</th>\n",
       "      <th>recall</th>\n",
       "      <th>f1-score</th>\n",
       "      <th>support</th>\n",
       "    </tr>\n",
       "  </thead>\n",
       "  <tbody>\n",
       "    <tr>\n",
       "      <th>0</th>\n",
       "      <td>1.0</td>\n",
       "      <td>1.0</td>\n",
       "      <td>1.0</td>\n",
       "      <td>6555.0</td>\n",
       "    </tr>\n",
       "    <tr>\n",
       "      <th>1</th>\n",
       "      <td>1.0</td>\n",
       "      <td>1.0</td>\n",
       "      <td>1.0</td>\n",
       "      <td>6555.0</td>\n",
       "    </tr>\n",
       "    <tr>\n",
       "      <th>accuracy</th>\n",
       "      <td>1.0</td>\n",
       "      <td>1.0</td>\n",
       "      <td>1.0</td>\n",
       "      <td>1.0</td>\n",
       "    </tr>\n",
       "    <tr>\n",
       "      <th>macro avg</th>\n",
       "      <td>1.0</td>\n",
       "      <td>1.0</td>\n",
       "      <td>1.0</td>\n",
       "      <td>13110.0</td>\n",
       "    </tr>\n",
       "    <tr>\n",
       "      <th>weighted avg</th>\n",
       "      <td>1.0</td>\n",
       "      <td>1.0</td>\n",
       "      <td>1.0</td>\n",
       "      <td>13110.0</td>\n",
       "    </tr>\n",
       "  </tbody>\n",
       "</table>\n",
       "</div>"
      ],
      "text/plain": [
       "              precision  recall  f1-score  support\n",
       "0                   1.0     1.0       1.0   6555.0\n",
       "1                   1.0     1.0       1.0   6555.0\n",
       "accuracy            1.0     1.0       1.0      1.0\n",
       "macro avg           1.0     1.0       1.0  13110.0\n",
       "weighted avg        1.0     1.0       1.0  13110.0"
      ]
     },
     "execution_count": 40,
     "metadata": {},
     "output_type": "execute_result"
    }
   ],
   "source": [
    "df_cart_train=pd.DataFrame(classification_report(y_train, y_pred_cart_train, output_dict=True)).T\n",
    "df_cart_train"
   ]
  },
  {
   "cell_type": "code",
   "execution_count": 41,
   "id": "7ede3a41",
   "metadata": {},
   "outputs": [
    {
     "data": {
      "text/html": [
       "<div>\n",
       "<style scoped>\n",
       "    .dataframe tbody tr th:only-of-type {\n",
       "        vertical-align: middle;\n",
       "    }\n",
       "\n",
       "    .dataframe tbody tr th {\n",
       "        vertical-align: top;\n",
       "    }\n",
       "\n",
       "    .dataframe thead th {\n",
       "        text-align: right;\n",
       "    }\n",
       "</style>\n",
       "<table border=\"1\" class=\"dataframe\">\n",
       "  <thead>\n",
       "    <tr style=\"text-align: right;\">\n",
       "      <th></th>\n",
       "      <th>precision</th>\n",
       "      <th>recall</th>\n",
       "      <th>f1-score</th>\n",
       "      <th>support</th>\n",
       "    </tr>\n",
       "  </thead>\n",
       "  <tbody>\n",
       "    <tr>\n",
       "      <th>0</th>\n",
       "      <td>0.962762</td>\n",
       "      <td>0.948024</td>\n",
       "      <td>0.955336</td>\n",
       "      <td>2809.000000</td>\n",
       "    </tr>\n",
       "    <tr>\n",
       "      <th>1</th>\n",
       "      <td>0.761438</td>\n",
       "      <td>0.818981</td>\n",
       "      <td>0.789162</td>\n",
       "      <td>569.000000</td>\n",
       "    </tr>\n",
       "    <tr>\n",
       "      <th>accuracy</th>\n",
       "      <td>0.926288</td>\n",
       "      <td>0.926288</td>\n",
       "      <td>0.926288</td>\n",
       "      <td>0.926288</td>\n",
       "    </tr>\n",
       "    <tr>\n",
       "      <th>macro avg</th>\n",
       "      <td>0.862100</td>\n",
       "      <td>0.883502</td>\n",
       "      <td>0.872249</td>\n",
       "      <td>3378.000000</td>\n",
       "    </tr>\n",
       "    <tr>\n",
       "      <th>weighted avg</th>\n",
       "      <td>0.928850</td>\n",
       "      <td>0.926288</td>\n",
       "      <td>0.927345</td>\n",
       "      <td>3378.000000</td>\n",
       "    </tr>\n",
       "  </tbody>\n",
       "</table>\n",
       "</div>"
      ],
      "text/plain": [
       "              precision    recall  f1-score      support\n",
       "0              0.962762  0.948024  0.955336  2809.000000\n",
       "1              0.761438  0.818981  0.789162   569.000000\n",
       "accuracy       0.926288  0.926288  0.926288     0.926288\n",
       "macro avg      0.862100  0.883502  0.872249  3378.000000\n",
       "weighted avg   0.928850  0.926288  0.927345  3378.000000"
      ]
     },
     "execution_count": 41,
     "metadata": {},
     "output_type": "execute_result"
    }
   ],
   "source": [
    "df_cart_test=pd.DataFrame(classification_report(y_test, y_pred_cart_test, output_dict=True)).T\n",
    "df_cart_test"
   ]
  },
  {
   "cell_type": "code",
   "execution_count": 42,
   "id": "5eb2234c",
   "metadata": {},
   "outputs": [],
   "source": [
    "from sklearn.metrics import roc_auc_score\n",
    "from sklearn.metrics import roc_curve\n",
    "import matplotlib.pyplot as plt   "
   ]
  },
  {
   "cell_type": "code",
   "execution_count": 43,
   "id": "1e190ef4",
   "metadata": {
    "scrolled": false
   },
   "outputs": [
    {
     "name": "stdout",
     "output_type": "stream",
     "text": [
      "AUC_cart_train: 1.000\n"
     ]
    },
    {
     "data": {
      "image/png": "[encoded data removed]",
      "text/plain": [
       "<Figure size 432x288 with 1 Axes>"
      ]
     },
     "metadata": {
      "needs_background": "light"
     },
     "output_type": "display_data"
    }
   ],
   "source": [
    "probs_cart_train = cart.predict_proba(X_train)\n",
    "probs_cart_train = probs_cart_train[:, 1]\n",
    "\n",
    "auc_cart_train = roc_auc_score(y_train, probs_cart_train)\n",
    "print('AUC_cart_train: %.3f' % auc_cart_train)\n",
    "\n",
    "fpr_cart_train, tpr_cart_train, thresholds_cart_train = roc_curve(y_train, probs_cart_train)\n",
    "plt.plot([0, 1], [0, 1], linestyle='--')\n",
    "plt.plot(fpr_cart_train, tpr_cart_train, marker='.')\n",
    "plt.show()"
   ]
  },
  {
   "cell_type": "code",
   "execution_count": 44,
   "id": "fe988565",
   "metadata": {},
   "outputs": [
    {
     "name": "stdout",
     "output_type": "stream",
     "text": [
      "AUC_cart_test: 0.884\n"
     ]
    },
    {
     "data": {
      "image/png": "[encoded data removed]",
      "text/plain": [
       "<Figure size 432x288 with 1 Axes>"
      ]
     },
     "metadata": {
      "needs_background": "light"
     },
     "output_type": "display_data"
    }
   ],
   "source": [
    "probs_cart_test = cart.predict_proba(X_test)\n",
    "probs_cart_test = probs_cart_test[:, 1]\n",
    "\n",
    "auc_cart_test = roc_auc_score(y_test, probs_cart_test)\n",
    "print('AUC_cart_test: %.3f' % auc_cart_test)\n",
    "\n",
    "fpr_cart_test, tpr_cart_test, thresholds_cart_test = roc_curve(y_test, probs_cart_test)\n",
    "plt.plot([0, 1], [0, 1], linestyle='--')\n",
    "plt.plot(fpr_cart_test, tpr_cart_test, marker='.')\n",
    "plt.show()"
   ]
  },
  {
   "cell_type": "code",
   "execution_count": 45,
   "id": "8762f0f9",
   "metadata": {
    "scrolled": true
   },
   "outputs": [
    {
     "data": {
      "text/html": [
       "<div>\n",
       "<style scoped>\n",
       "    .dataframe tbody tr th:only-of-type {\n",
       "        vertical-align: middle;\n",
       "    }\n",
       "\n",
       "    .dataframe tbody tr th {\n",
       "        vertical-align: top;\n",
       "    }\n",
       "\n",
       "    .dataframe thead th {\n",
       "        text-align: right;\n",
       "    }\n",
       "</style>\n",
       "<table border=\"1\" class=\"dataframe\">\n",
       "  <thead>\n",
       "    <tr style=\"text-align: right;\">\n",
       "      <th></th>\n",
       "      <th>0</th>\n",
       "    </tr>\n",
       "  </thead>\n",
       "  <tbody>\n",
       "    <tr>\n",
       "      <th>Tenure</th>\n",
       "      <td>38.654735</td>\n",
       "    </tr>\n",
       "    <tr>\n",
       "      <th>Complain_ly</th>\n",
       "      <td>14.273146</td>\n",
       "    </tr>\n",
       "    <tr>\n",
       "      <th>CC_Agent_Score</th>\n",
       "      <td>6.265917</td>\n",
       "    </tr>\n",
       "    <tr>\n",
       "      <th>CC_Contacted_LY</th>\n",
       "      <td>4.897206</td>\n",
       "    </tr>\n",
       "    <tr>\n",
       "      <th>cashback</th>\n",
       "      <td>4.252205</td>\n",
       "    </tr>\n",
       "    <tr>\n",
       "      <th>rev_per_month</th>\n",
       "      <td>3.777421</td>\n",
       "    </tr>\n",
       "    <tr>\n",
       "      <th>City_Tier</th>\n",
       "      <td>3.672103</td>\n",
       "    </tr>\n",
       "    <tr>\n",
       "      <th>Day_Since_CC_connect</th>\n",
       "      <td>3.611889</td>\n",
       "    </tr>\n",
       "    <tr>\n",
       "      <th>Marital_Status_Married</th>\n",
       "      <td>3.381555</td>\n",
       "    </tr>\n",
       "    <tr>\n",
       "      <th>rev_growth_yoy</th>\n",
       "      <td>2.813215</td>\n",
       "    </tr>\n",
       "    <tr>\n",
       "      <th>Payment_Credit Card</th>\n",
       "      <td>1.910121</td>\n",
       "    </tr>\n",
       "    <tr>\n",
       "      <th>Login_device_Mobile</th>\n",
       "      <td>1.677737</td>\n",
       "    </tr>\n",
       "    <tr>\n",
       "      <th>account_segment_Super</th>\n",
       "      <td>1.570458</td>\n",
       "    </tr>\n",
       "    <tr>\n",
       "      <th>account_segment_Regular +</th>\n",
       "      <td>1.480290</td>\n",
       "    </tr>\n",
       "    <tr>\n",
       "      <th>Gender_Male</th>\n",
       "      <td>1.280292</td>\n",
       "    </tr>\n",
       "    <tr>\n",
       "      <th>Service_Score</th>\n",
       "      <td>1.278012</td>\n",
       "    </tr>\n",
       "    <tr>\n",
       "      <th>coupon_used_for_payment</th>\n",
       "      <td>1.201612</td>\n",
       "    </tr>\n",
       "    <tr>\n",
       "      <th>account_segment_Regular</th>\n",
       "      <td>0.976483</td>\n",
       "    </tr>\n",
       "    <tr>\n",
       "      <th>Account_user_count</th>\n",
       "      <td>0.926429</td>\n",
       "    </tr>\n",
       "    <tr>\n",
       "      <th>Payment_Debit Card</th>\n",
       "      <td>0.601078</td>\n",
       "    </tr>\n",
       "    <tr>\n",
       "      <th>Marital_Status_Single</th>\n",
       "      <td>0.431638</td>\n",
       "    </tr>\n",
       "    <tr>\n",
       "      <th>Payment_UPI</th>\n",
       "      <td>0.395058</td>\n",
       "    </tr>\n",
       "    <tr>\n",
       "      <th>Payment_E wallet</th>\n",
       "      <td>0.376616</td>\n",
       "    </tr>\n",
       "    <tr>\n",
       "      <th>account_segment_Super +</th>\n",
       "      <td>0.294784</td>\n",
       "    </tr>\n",
       "  </tbody>\n",
       "</table>\n",
       "</div>"
      ],
      "text/plain": [
       "                                   0\n",
       "Tenure                     38.654735\n",
       "Complain_ly                14.273146\n",
       "CC_Agent_Score              6.265917\n",
       "CC_Contacted_LY             4.897206\n",
       "cashback                    4.252205\n",
       "rev_per_month               3.777421\n",
       "City_Tier                   3.672103\n",
       "Day_Since_CC_connect        3.611889\n",
       "Marital_Status_Married      3.381555\n",
       "rev_growth_yoy              2.813215\n",
       "Payment_Credit Card         1.910121\n",
       "Login_device_Mobile         1.677737\n",
       "account_segment_Super       1.570458\n",
       "account_segment_Regular +   1.480290\n",
       "Gender_Male                 1.280292\n",
       "Service_Score               1.278012\n",
       "coupon_used_for_payment     1.201612\n",
       "account_segment_Regular     0.976483\n",
       "Account_user_count          0.926429\n",
       "Payment_Debit Card          0.601078\n",
       "Marital_Status_Single       0.431638\n",
       "Payment_UPI                 0.395058\n",
       "Payment_E wallet            0.376616\n",
       "account_segment_Super +     0.294784"
      ]
     },
     "execution_count": 45,
     "metadata": {},
     "output_type": "execute_result"
    }
   ],
   "source": [
    "fi_cart = pd.DataFrame(cart.feature_importances_*100, index=X_train.columns).sort_values(by=0, ascending=False)\n",
    "fi_cart"
   ]
  },
  {
   "cell_type": "code",
   "execution_count": null,
   "id": "47eeefd7",
   "metadata": {},
   "outputs": [],
   "source": []
  },
  {
   "cell_type": "markdown",
   "id": "2de6875b",
   "metadata": {},
   "source": [
    "### CART tuning"
   ]
  },
  {
   "cell_type": "code",
   "execution_count": 46,
   "id": "2b06909e",
   "metadata": {},
   "outputs": [],
   "source": [
    "from sklearn.model_selection import GridSearchCV"
   ]
  },
  {
   "cell_type": "code",
   "execution_count": 47,
   "id": "3d4ea956",
   "metadata": {},
   "outputs": [],
   "source": [
    "param_grid_cart = {\n",
    "    'min_samples_leaf': [1, 2],\n",
    "    'min_samples_split': [2, 3], \n",
    "    'max_leaf_nodes': [3000, 5000],\n",
    "    'class_weight' : ['balanced', 'None']\n",
    "}\n",
    "\n",
    "cartg = DecisionTreeClassifier()\n",
    "grid_search_cart = GridSearchCV(estimator = cartg, param_grid = param_grid_cart, cv = 3) "
   ]
  },
  {
   "cell_type": "code",
   "execution_count": 48,
   "id": "1b84be9e",
   "metadata": {},
   "outputs": [
    {
     "name": "stderr",
     "output_type": "stream",
     "text": [
      "C:\\Users\\Nandha Keshore\\anaconda3\\lib\\site-packages\\sklearn\\model_selection\\_validation.py:378: FitFailedWarning: \n",
      "24 fits failed out of a total of 48.\n",
      "The score on these train-test partitions for these parameters will be set to nan.\n",
      "If these failures are not expected, you can try to debug them by setting error_score='raise'.\n",
      "\n",
      "Below are more details about the failures:\n",
      "--------------------------------------------------------------------------------\n",
      "24 fits failed with the following error:\n",
      "Traceback (most recent call last):\n",
      "  File \"C:\\Users\\Nandha Keshore\\anaconda3\\lib\\site-packages\\sklearn\\model_selection\\_validation.py\", line 686, in _fit_and_score\n",
      "    estimator.fit(X_train, y_train, **fit_params)\n",
      "  File \"C:\\Users\\Nandha Keshore\\anaconda3\\lib\\site-packages\\sklearn\\tree\\_classes.py\", line 969, in fit\n",
      "    super().fit(\n",
      "  File \"C:\\Users\\Nandha Keshore\\anaconda3\\lib\\site-packages\\sklearn\\tree\\_classes.py\", line 227, in fit\n",
      "    expanded_class_weight = compute_sample_weight(\n",
      "  File \"C:\\Users\\Nandha Keshore\\anaconda3\\lib\\site-packages\\sklearn\\utils\\class_weight.py\", line 127, in compute_sample_weight\n",
      "    raise ValueError(\n",
      "ValueError: The only valid preset for class_weight is \"balanced\". Given \"None\".\n",
      "\n",
      "  warnings.warn(some_fits_failed_message, FitFailedWarning)\n",
      "C:\\Users\\Nandha Keshore\\anaconda3\\lib\\site-packages\\sklearn\\model_selection\\_search.py:953: UserWarning: One or more of the test scores are non-finite: [0.9317315  0.92967201 0.92562929 0.92616323 0.93203661 0.93043478\n",
      " 0.92509535 0.92433257        nan        nan        nan        nan\n",
      "        nan        nan        nan        nan]\n",
      "  warnings.warn(\n"
     ]
    },
    {
     "data": {
      "text/html": [
       "<style>#sk-container-id-2 {color: black;background-color: white;}#sk-container-id-2 pre{padding: 0;}#sk-container-id-2 div.sk-toggleable {background-color: white;}#sk-container-id-2 label.sk-toggleable__label {cursor: pointer;display: block;width: 100%;margin-bottom: 0;padding: 0.3em;box-sizing: border-box;text-align: center;}#sk-container-id-2 label.sk-toggleable__label-arrow:before {content: \"▸\";float: left;margin-right: 0.25em;color: #696969;}#sk-container-id-2 label.sk-toggleable__label-arrow:hover:before {color: black;}#sk-container-id-2 div.sk-estimator:hover label.sk-toggleable__label-arrow:before {color: black;}#sk-container-id-2 div.sk-toggleable__content {max-height: 0;max-width: 0;overflow: hidden;text-align: left;background-color: #f0f8ff;}#sk-container-id-2 div.sk-toggleable__content pre {margin: 0.2em;color: black;border-radius: 0.25em;background-color: #f0f8ff;}#sk-container-id-2 input.sk-toggleable__control:checked~div.sk-toggleable__content {max-height: 200px;max-width: 100%;overflow: auto;}#sk-container-id-2 input.sk-toggleable__control:checked~label.sk-toggleable__label-arrow:before {content: \"▾\";}#sk-container-id-2 div.sk-estimator input.sk-toggleable__control:checked~label.sk-toggleable__label {background-color: #d4ebff;}#sk-container-id-2 div.sk-label input.sk-toggleable__control:checked~label.sk-toggleable__label {background-color: #d4ebff;}#sk-container-id-2 input.sk-hidden--visually {border: 0;clip: rect(1px 1px 1px 1px);clip: rect(1px, 1px, 1px, 1px);height: 1px;margin: -1px;overflow: hidden;padding: 0;position: absolute;width: 1px;}#sk-container-id-2 div.sk-estimator {font-family: monospace;background-color: #f0f8ff;border: 1px dotted black;border-radius: 0.25em;box-sizing: border-box;margin-bottom: 0.5em;}#sk-container-id-2 div.sk-estimator:hover {background-color: #d4ebff;}#sk-container-id-2 div.sk-parallel-item::after {content: \"\";width: 100%;border-bottom: 1px solid gray;flex-grow: 1;}#sk-container-id-2 div.sk-label:hover label.sk-toggleable__label {background-color: #d4ebff;}#sk-container-id-2 div.sk-serial::before {content: \"\";position: absolute;border-left: 1px solid gray;box-sizing: border-box;top: 0;bottom: 0;left: 50%;z-index: 0;}#sk-container-id-2 div.sk-serial {display: flex;flex-direction: column;align-items: center;background-color: white;padding-right: 0.2em;padding-left: 0.2em;position: relative;}#sk-container-id-2 div.sk-item {position: relative;z-index: 1;}#sk-container-id-2 div.sk-parallel {display: flex;align-items: stretch;justify-content: center;background-color: white;position: relative;}#sk-container-id-2 div.sk-item::before, #sk-container-id-2 div.sk-parallel-item::before {content: \"\";position: absolute;border-left: 1px solid gray;box-sizing: border-box;top: 0;bottom: 0;left: 50%;z-index: -1;}#sk-container-id-2 div.sk-parallel-item {display: flex;flex-direction: column;z-index: 1;position: relative;background-color: white;}#sk-container-id-2 div.sk-parallel-item:first-child::after {align-self: flex-end;width: 50%;}#sk-container-id-2 div.sk-parallel-item:last-child::after {align-self: flex-start;width: 50%;}#sk-container-id-2 div.sk-parallel-item:only-child::after {width: 0;}#sk-container-id-2 div.sk-dashed-wrapped {border: 1px dashed gray;margin: 0 0.4em 0.5em 0.4em;box-sizing: border-box;padding-bottom: 0.4em;background-color: white;}#sk-container-id-2 div.sk-label label {font-family: monospace;font-weight: bold;display: inline-block;line-height: 1.2em;}#sk-container-id-2 div.sk-label-container {text-align: center;}#sk-container-id-2 div.sk-container {/* jupyter's `normalize.less` sets `[hidden] { display: none; }` but bootstrap.min.css set `[hidden] { display: none !important; }` so we also need the `!important` here to be able to override the default hidden behavior on the sphinx rendered scikit-learn.org. See: https://github.com/scikit-learn/scikit-learn/issues/21755 */display: inline-block !important;position: relative;}#sk-container-id-2 div.sk-text-repr-fallback {display: none;}</style><div id=\"sk-container-id-2\" class=\"sk-top-container\"><div class=\"sk-text-repr-fallback\"><pre>GridSearchCV(cv=3, estimator=DecisionTreeClassifier(),\n",
       "             param_grid={&#x27;class_weight&#x27;: [&#x27;balanced&#x27;, &#x27;None&#x27;],\n",
       "                         &#x27;max_leaf_nodes&#x27;: [3000, 5000],\n",
       "                         &#x27;min_samples_leaf&#x27;: [1, 2],\n",
       "                         &#x27;min_samples_split&#x27;: [2, 3]})</pre><b>In a Jupyter environment, please rerun this cell to show the HTML representation or trust the notebook. <br />On GitHub, the HTML representation is unable to render, please try loading this page with nbviewer.org.</b></div><div class=\"sk-container\" hidden><div class=\"sk-item sk-dashed-wrapped\"><div class=\"sk-label-container\"><div class=\"sk-label sk-toggleable\"><input class=\"sk-toggleable__control sk-hidden--visually\" id=\"sk-estimator-id-2\" type=\"checkbox\" ><label for=\"sk-estimator-id-2\" class=\"sk-toggleable__label sk-toggleable__label-arrow\">GridSearchCV</label><div class=\"sk-toggleable__content\"><pre>GridSearchCV(cv=3, estimator=DecisionTreeClassifier(),\n",
       "             param_grid={&#x27;class_weight&#x27;: [&#x27;balanced&#x27;, &#x27;None&#x27;],\n",
       "                         &#x27;max_leaf_nodes&#x27;: [3000, 5000],\n",
       "                         &#x27;min_samples_leaf&#x27;: [1, 2],\n",
       "                         &#x27;min_samples_split&#x27;: [2, 3]})</pre></div></div></div><div class=\"sk-parallel\"><div class=\"sk-parallel-item\"><div class=\"sk-item\"><div class=\"sk-label-container\"><div class=\"sk-label sk-toggleable\"><input class=\"sk-toggleable__control sk-hidden--visually\" id=\"sk-estimator-id-3\" type=\"checkbox\" ><label for=\"sk-estimator-id-3\" class=\"sk-toggleable__label sk-toggleable__label-arrow\">estimator: DecisionTreeClassifier</label><div class=\"sk-toggleable__content\"><pre>DecisionTreeClassifier()</pre></div></div></div><div class=\"sk-serial\"><div class=\"sk-item\"><div class=\"sk-estimator sk-toggleable\"><input class=\"sk-toggleable__control sk-hidden--visually\" id=\"sk-estimator-id-4\" type=\"checkbox\" ><label for=\"sk-estimator-id-4\" class=\"sk-toggleable__label sk-toggleable__label-arrow\">DecisionTreeClassifier</label><div class=\"sk-toggleable__content\"><pre>DecisionTreeClassifier()</pre></div></div></div></div></div></div></div></div></div></div>"
      ],
      "text/plain": [
       "GridSearchCV(cv=3, estimator=DecisionTreeClassifier(),\n",
       "             param_grid={'class_weight': ['balanced', 'None'],\n",
       "                         'max_leaf_nodes': [3000, 5000],\n",
       "                         'min_samples_leaf': [1, 2],\n",
       "                         'min_samples_split': [2, 3]})"
      ]
     },
     "execution_count": 48,
     "metadata": {},
     "output_type": "execute_result"
    }
   ],
   "source": [
    "grid_search_cart.fit(X_train, y_train)"
   ]
  },
  {
   "cell_type": "code",
   "execution_count": 49,
   "id": "9e510ccf",
   "metadata": {},
   "outputs": [
    {
     "name": "stdout",
     "output_type": "stream",
     "text": [
      "{'class_weight': 'balanced', 'max_leaf_nodes': 5000, 'min_samples_leaf': 1, 'min_samples_split': 2}\n"
     ]
    }
   ],
   "source": [
    "print(grid_search_cart.best_params_)\n",
    "best_grid_cart = grid_search_cart.best_estimator_"
   ]
  },
  {
   "cell_type": "code",
   "execution_count": null,
   "id": "e0a7b05d",
   "metadata": {},
   "outputs": [],
   "source": []
  },
  {
   "cell_type": "markdown",
   "id": "27531f06",
   "metadata": {},
   "source": [
    "##### Model_evaluation"
   ]
  },
  {
   "cell_type": "code",
   "execution_count": 50,
   "id": "b7948c97",
   "metadata": {},
   "outputs": [
    {
     "data": {
      "text/plain": [
       "1.0"
      ]
     },
     "execution_count": 50,
     "metadata": {},
     "output_type": "execute_result"
    }
   ],
   "source": [
    "cartg_train_score = best_grid_cart.score(X_train, y_train)\n",
    "cartg_train_score"
   ]
  },
  {
   "cell_type": "code",
   "execution_count": 51,
   "id": "1af4a75b",
   "metadata": {
    "scrolled": true
   },
   "outputs": [
    {
     "data": {
      "text/plain": [
       "0.9253996447602132"
      ]
     },
     "execution_count": 51,
     "metadata": {},
     "output_type": "execute_result"
    }
   ],
   "source": [
    "cartg_test_score = best_grid_cart.score(X_test, y_test)\n",
    "cartg_test_score"
   ]
  },
  {
   "cell_type": "code",
   "execution_count": 52,
   "id": "6c6bbba0",
   "metadata": {},
   "outputs": [],
   "source": [
    "y_pred_cartg_train = best_grid_cart.predict(X_train)\n",
    "y_pred_cartg_test = best_grid_cart.predict(X_test)"
   ]
  },
  {
   "cell_type": "code",
   "execution_count": 53,
   "id": "f76c2438",
   "metadata": {},
   "outputs": [],
   "source": [
    "from sklearn.metrics import classification_report, confusion_matrix"
   ]
  },
  {
   "cell_type": "code",
   "execution_count": 54,
   "id": "a669fa66",
   "metadata": {},
   "outputs": [
    {
     "data": {
      "text/plain": [
       "array([[6555,    0],\n",
       "       [   0, 6555]], dtype=int64)"
      ]
     },
     "execution_count": 54,
     "metadata": {},
     "output_type": "execute_result"
    }
   ],
   "source": [
    "confusion_matrix(y_train, y_pred_cartg_train)"
   ]
  },
  {
   "cell_type": "code",
   "execution_count": 55,
   "id": "00859014",
   "metadata": {},
   "outputs": [
    {
     "data": {
      "text/plain": [
       "array([[2656,  153],\n",
       "       [  99,  470]], dtype=int64)"
      ]
     },
     "execution_count": 55,
     "metadata": {},
     "output_type": "execute_result"
    }
   ],
   "source": [
    "confusion_matrix(y_test, y_pred_cartg_test)"
   ]
  },
  {
   "cell_type": "code",
   "execution_count": 56,
   "id": "54910054",
   "metadata": {},
   "outputs": [
    {
     "data": {
      "text/html": [
       "<div>\n",
       "<style scoped>\n",
       "    .dataframe tbody tr th:only-of-type {\n",
       "        vertical-align: middle;\n",
       "    }\n",
       "\n",
       "    .dataframe tbody tr th {\n",
       "        vertical-align: top;\n",
       "    }\n",
       "\n",
       "    .dataframe thead th {\n",
       "        text-align: right;\n",
       "    }\n",
       "</style>\n",
       "<table border=\"1\" class=\"dataframe\">\n",
       "  <thead>\n",
       "    <tr style=\"text-align: right;\">\n",
       "      <th></th>\n",
       "      <th>precision</th>\n",
       "      <th>recall</th>\n",
       "      <th>f1-score</th>\n",
       "      <th>support</th>\n",
       "    </tr>\n",
       "  </thead>\n",
       "  <tbody>\n",
       "    <tr>\n",
       "      <th>0</th>\n",
       "      <td>1.0</td>\n",
       "      <td>1.0</td>\n",
       "      <td>1.0</td>\n",
       "      <td>6555.0</td>\n",
       "    </tr>\n",
       "    <tr>\n",
       "      <th>1</th>\n",
       "      <td>1.0</td>\n",
       "      <td>1.0</td>\n",
       "      <td>1.0</td>\n",
       "      <td>6555.0</td>\n",
       "    </tr>\n",
       "    <tr>\n",
       "      <th>accuracy</th>\n",
       "      <td>1.0</td>\n",
       "      <td>1.0</td>\n",
       "      <td>1.0</td>\n",
       "      <td>1.0</td>\n",
       "    </tr>\n",
       "    <tr>\n",
       "      <th>macro avg</th>\n",
       "      <td>1.0</td>\n",
       "      <td>1.0</td>\n",
       "      <td>1.0</td>\n",
       "      <td>13110.0</td>\n",
       "    </tr>\n",
       "    <tr>\n",
       "      <th>weighted avg</th>\n",
       "      <td>1.0</td>\n",
       "      <td>1.0</td>\n",
       "      <td>1.0</td>\n",
       "      <td>13110.0</td>\n",
       "    </tr>\n",
       "  </tbody>\n",
       "</table>\n",
       "</div>"
      ],
      "text/plain": [
       "              precision  recall  f1-score  support\n",
       "0                   1.0     1.0       1.0   6555.0\n",
       "1                   1.0     1.0       1.0   6555.0\n",
       "accuracy            1.0     1.0       1.0      1.0\n",
       "macro avg           1.0     1.0       1.0  13110.0\n",
       "weighted avg        1.0     1.0       1.0  13110.0"
      ]
     },
     "execution_count": 56,
     "metadata": {},
     "output_type": "execute_result"
    }
   ],
   "source": [
    "df_cartg_train=pd.DataFrame(classification_report(y_train, y_pred_cartg_train, output_dict=True)).T\n",
    "df_cartg_train"
   ]
  },
  {
   "cell_type": "code",
   "execution_count": 57,
   "id": "07d6271e",
   "metadata": {},
   "outputs": [
    {
     "data": {
      "text/html": [
       "<div>\n",
       "<style scoped>\n",
       "    .dataframe tbody tr th:only-of-type {\n",
       "        vertical-align: middle;\n",
       "    }\n",
       "\n",
       "    .dataframe tbody tr th {\n",
       "        vertical-align: top;\n",
       "    }\n",
       "\n",
       "    .dataframe thead th {\n",
       "        text-align: right;\n",
       "    }\n",
       "</style>\n",
       "<table border=\"1\" class=\"dataframe\">\n",
       "  <thead>\n",
       "    <tr style=\"text-align: right;\">\n",
       "      <th></th>\n",
       "      <th>precision</th>\n",
       "      <th>recall</th>\n",
       "      <th>f1-score</th>\n",
       "      <th>support</th>\n",
       "    </tr>\n",
       "  </thead>\n",
       "  <tbody>\n",
       "    <tr>\n",
       "      <th>0</th>\n",
       "      <td>0.964065</td>\n",
       "      <td>0.945532</td>\n",
       "      <td>0.954709</td>\n",
       "      <td>2809.0000</td>\n",
       "    </tr>\n",
       "    <tr>\n",
       "      <th>1</th>\n",
       "      <td>0.754414</td>\n",
       "      <td>0.826011</td>\n",
       "      <td>0.788591</td>\n",
       "      <td>569.0000</td>\n",
       "    </tr>\n",
       "    <tr>\n",
       "      <th>accuracy</th>\n",
       "      <td>0.925400</td>\n",
       "      <td>0.925400</td>\n",
       "      <td>0.925400</td>\n",
       "      <td>0.9254</td>\n",
       "    </tr>\n",
       "    <tr>\n",
       "      <th>macro avg</th>\n",
       "      <td>0.859240</td>\n",
       "      <td>0.885771</td>\n",
       "      <td>0.871650</td>\n",
       "      <td>3378.0000</td>\n",
       "    </tr>\n",
       "    <tr>\n",
       "      <th>weighted avg</th>\n",
       "      <td>0.928751</td>\n",
       "      <td>0.925400</td>\n",
       "      <td>0.926727</td>\n",
       "      <td>3378.0000</td>\n",
       "    </tr>\n",
       "  </tbody>\n",
       "</table>\n",
       "</div>"
      ],
      "text/plain": [
       "              precision    recall  f1-score    support\n",
       "0              0.964065  0.945532  0.954709  2809.0000\n",
       "1              0.754414  0.826011  0.788591   569.0000\n",
       "accuracy       0.925400  0.925400  0.925400     0.9254\n",
       "macro avg      0.859240  0.885771  0.871650  3378.0000\n",
       "weighted avg   0.928751  0.925400  0.926727  3378.0000"
      ]
     },
     "execution_count": 57,
     "metadata": {},
     "output_type": "execute_result"
    }
   ],
   "source": [
    "df_cartg_test=pd.DataFrame(classification_report(y_test, y_pred_cartg_test, output_dict=True)).T\n",
    "df_cartg_test"
   ]
  },
  {
   "cell_type": "code",
   "execution_count": 58,
   "id": "51742f4b",
   "metadata": {
    "scrolled": false
   },
   "outputs": [
    {
     "name": "stdout",
     "output_type": "stream",
     "text": [
      "AUC_cartg_train: 1.000\n"
     ]
    },
    {
     "data": {
      "image/png": "[encoded data removed]",
      "text/plain": [
       "<Figure size 432x288 with 1 Axes>"
      ]
     },
     "metadata": {
      "needs_background": "light"
     },
     "output_type": "display_data"
    }
   ],
   "source": [
    "probs_cartg_train = best_grid_cart.predict_proba(X_train)\n",
    "probs_cartg_train = probs_cartg_train[:, 1]\n",
    "\n",
    "auc_cartg_train = roc_auc_score(y_train, probs_cart_train)\n",
    "print('AUC_cartg_train: %.3f' % auc_cartg_train)\n",
    "\n",
    "fpr_cartg_train, tpr_cartg_train, thresholds_cartg_train = roc_curve(y_train, probs_cartg_train)\n",
    "plt.plot([0, 1], [0, 1], linestyle='--')\n",
    "plt.plot(fpr_cartg_train, tpr_cartg_train, marker='.')\n",
    "plt.show()"
   ]
  },
  {
   "cell_type": "code",
   "execution_count": 59,
   "id": "aed973dc",
   "metadata": {},
   "outputs": [
    {
     "name": "stdout",
     "output_type": "stream",
     "text": [
      "AUC_cartg_test: 0.886\n"
     ]
    },
    {
     "data": {
      "image/png": "[encoded data removed]",
      "text/plain": [
       "<Figure size 432x288 with 1 Axes>"
      ]
     },
     "metadata": {
      "needs_background": "light"
     },
     "output_type": "display_data"
    }
   ],
   "source": [
    "probs_cartg_test = best_grid_cart.predict_proba(X_test)\n",
    "probs_cartg_test = probs_cartg_test[:, 1]\n",
    "\n",
    "auc_cartg_test = roc_auc_score(y_test, probs_cartg_test)\n",
    "print('AUC_cartg_test: %.3f' % auc_cartg_test)\n",
    "\n",
    "fpr_cartg_test, tpr_cartg_test, thresholds_cartg_test = roc_curve(y_test, probs_cartg_test)\n",
    "plt.plot([0, 1], [0, 1], linestyle='--')\n",
    "plt.plot(fpr_cartg_test, tpr_cartg_test, marker='.')\n",
    "plt.show()"
   ]
  },
  {
   "cell_type": "code",
   "execution_count": null,
   "id": "b3005021",
   "metadata": {},
   "outputs": [],
   "source": []
  },
  {
   "cell_type": "markdown",
   "id": "c8ae723c",
   "metadata": {},
   "source": [
    "## 2) RF"
   ]
  },
  {
   "cell_type": "code",
   "execution_count": 60,
   "id": "69a3627d",
   "metadata": {},
   "outputs": [],
   "source": [
    "from sklearn.ensemble import RandomForestClassifier"
   ]
  },
  {
   "cell_type": "code",
   "execution_count": 61,
   "id": "3ecf35d0",
   "metadata": {},
   "outputs": [],
   "source": [
    "rf = RandomForestClassifier()"
   ]
  },
  {
   "cell_type": "code",
   "execution_count": 62,
   "id": "2792faca",
   "metadata": {
    "scrolled": true
   },
   "outputs": [
    {
     "name": "stderr",
     "output_type": "stream",
     "text": [
      "C:\\Users\\Nandha Keshore\\AppData\\Local\\Temp\\ipykernel_1348\\2725846524.py:1: DataConversionWarning: A column-vector y was passed when a 1d array was expected. Please change the shape of y to (n_samples,), for example using ravel().\n",
      "  rf.fit(X_train, y_train)\n"
     ]
    },
    {
     "data": {
      "text/html": [
       "<style>#sk-container-id-3 {color: black;background-color: white;}#sk-container-id-3 pre{padding: 0;}#sk-container-id-3 div.sk-toggleable {background-color: white;}#sk-container-id-3 label.sk-toggleable__label {cursor: pointer;display: block;width: 100%;margin-bottom: 0;padding: 0.3em;box-sizing: border-box;text-align: center;}#sk-container-id-3 label.sk-toggleable__label-arrow:before {content: \"▸\";float: left;margin-right: 0.25em;color: #696969;}#sk-container-id-3 label.sk-toggleable__label-arrow:hover:before {color: black;}#sk-container-id-3 div.sk-estimator:hover label.sk-toggleable__label-arrow:before {color: black;}#sk-container-id-3 div.sk-toggleable__content {max-height: 0;max-width: 0;overflow: hidden;text-align: left;background-color: #f0f8ff;}#sk-container-id-3 div.sk-toggleable__content pre {margin: 0.2em;color: black;border-radius: 0.25em;background-color: #f0f8ff;}#sk-container-id-3 input.sk-toggleable__control:checked~div.sk-toggleable__content {max-height: 200px;max-width: 100%;overflow: auto;}#sk-container-id-3 input.sk-toggleable__control:checked~label.sk-toggleable__label-arrow:before {content: \"▾\";}#sk-container-id-3 div.sk-estimator input.sk-toggleable__control:checked~label.sk-toggleable__label {background-color: #d4ebff;}#sk-container-id-3 div.sk-label input.sk-toggleable__control:checked~label.sk-toggleable__label {background-color: #d4ebff;}#sk-container-id-3 input.sk-hidden--visually {border: 0;clip: rect(1px 1px 1px 1px);clip: rect(1px, 1px, 1px, 1px);height: 1px;margin: -1px;overflow: hidden;padding: 0;position: absolute;width: 1px;}#sk-container-id-3 div.sk-estimator {font-family: monospace;background-color: #f0f8ff;border: 1px dotted black;border-radius: 0.25em;box-sizing: border-box;margin-bottom: 0.5em;}#sk-container-id-3 div.sk-estimator:hover {background-color: #d4ebff;}#sk-container-id-3 div.sk-parallel-item::after {content: \"\";width: 100%;border-bottom: 1px solid gray;flex-grow: 1;}#sk-container-id-3 div.sk-label:hover label.sk-toggleable__label {background-color: #d4ebff;}#sk-container-id-3 div.sk-serial::before {content: \"\";position: absolute;border-left: 1px solid gray;box-sizing: border-box;top: 0;bottom: 0;left: 50%;z-index: 0;}#sk-container-id-3 div.sk-serial {display: flex;flex-direction: column;align-items: center;background-color: white;padding-right: 0.2em;padding-left: 0.2em;position: relative;}#sk-container-id-3 div.sk-item {position: relative;z-index: 1;}#sk-container-id-3 div.sk-parallel {display: flex;align-items: stretch;justify-content: center;background-color: white;position: relative;}#sk-container-id-3 div.sk-item::before, #sk-container-id-3 div.sk-parallel-item::before {content: \"\";position: absolute;border-left: 1px solid gray;box-sizing: border-box;top: 0;bottom: 0;left: 50%;z-index: -1;}#sk-container-id-3 div.sk-parallel-item {display: flex;flex-direction: column;z-index: 1;position: relative;background-color: white;}#sk-container-id-3 div.sk-parallel-item:first-child::after {align-self: flex-end;width: 50%;}#sk-container-id-3 div.sk-parallel-item:last-child::after {align-self: flex-start;width: 50%;}#sk-container-id-3 div.sk-parallel-item:only-child::after {width: 0;}#sk-container-id-3 div.sk-dashed-wrapped {border: 1px dashed gray;margin: 0 0.4em 0.5em 0.4em;box-sizing: border-box;padding-bottom: 0.4em;background-color: white;}#sk-container-id-3 div.sk-label label {font-family: monospace;font-weight: bold;display: inline-block;line-height: 1.2em;}#sk-container-id-3 div.sk-label-container {text-align: center;}#sk-container-id-3 div.sk-container {/* jupyter's `normalize.less` sets `[hidden] { display: none; }` but bootstrap.min.css set `[hidden] { display: none !important; }` so we also need the `!important` here to be able to override the default hidden behavior on the sphinx rendered scikit-learn.org. See: https://github.com/scikit-learn/scikit-learn/issues/21755 */display: inline-block !important;position: relative;}#sk-container-id-3 div.sk-text-repr-fallback {display: none;}</style><div id=\"sk-container-id-3\" class=\"sk-top-container\"><div class=\"sk-text-repr-fallback\"><pre>RandomForestClassifier()</pre><b>In a Jupyter environment, please rerun this cell to show the HTML representation or trust the notebook. <br />On GitHub, the HTML representation is unable to render, please try loading this page with nbviewer.org.</b></div><div class=\"sk-container\" hidden><div class=\"sk-item\"><div class=\"sk-estimator sk-toggleable\"><input class=\"sk-toggleable__control sk-hidden--visually\" id=\"sk-estimator-id-5\" type=\"checkbox\" checked><label for=\"sk-estimator-id-5\" class=\"sk-toggleable__label sk-toggleable__label-arrow\">RandomForestClassifier</label><div class=\"sk-toggleable__content\"><pre>RandomForestClassifier()</pre></div></div></div></div></div>"
      ],
      "text/plain": [
       "RandomForestClassifier()"
      ]
     },
     "execution_count": 62,
     "metadata": {},
     "output_type": "execute_result"
    }
   ],
   "source": [
    "rf.fit(X_train, y_train)"
   ]
  },
  {
   "cell_type": "code",
   "execution_count": null,
   "id": "c3cae2e7",
   "metadata": {},
   "outputs": [],
   "source": []
  },
  {
   "cell_type": "markdown",
   "id": "aa84ca8e",
   "metadata": {},
   "source": [
    "##### Model_evaluation"
   ]
  },
  {
   "cell_type": "code",
   "execution_count": 63,
   "id": "e3151e51",
   "metadata": {},
   "outputs": [
    {
     "data": {
      "text/plain": [
       "1.0"
      ]
     },
     "execution_count": 63,
     "metadata": {},
     "output_type": "execute_result"
    }
   ],
   "source": [
    "rf_train_score = rf.score(X_train, y_train)\n",
    "rf_train_score"
   ]
  },
  {
   "cell_type": "code",
   "execution_count": 64,
   "id": "0e66d606",
   "metadata": {
    "scrolled": true
   },
   "outputs": [
    {
     "data": {
      "text/plain": [
       "0.9721728833629366"
      ]
     },
     "execution_count": 64,
     "metadata": {},
     "output_type": "execute_result"
    }
   ],
   "source": [
    "rf_test_score = rf.score(X_test, y_test)\n",
    "rf_test_score"
   ]
  },
  {
   "cell_type": "code",
   "execution_count": 65,
   "id": "b1b906cb",
   "metadata": {},
   "outputs": [],
   "source": [
    "y_pred_rf_train = rf.predict(X_train)\n",
    "y_pred_rf_test = rf.predict(X_test)"
   ]
  },
  {
   "cell_type": "code",
   "execution_count": 66,
   "id": "4f5c1594",
   "metadata": {},
   "outputs": [
    {
     "data": {
      "text/plain": [
       "array([[6555,    0],\n",
       "       [   0, 6555]], dtype=int64)"
      ]
     },
     "execution_count": 66,
     "metadata": {},
     "output_type": "execute_result"
    }
   ],
   "source": [
    "confusion_matrix(y_train, y_pred_rf_train)"
   ]
  },
  {
   "cell_type": "code",
   "execution_count": 67,
   "id": "db9c8bc4",
   "metadata": {},
   "outputs": [
    {
     "data": {
      "text/plain": [
       "array([[2781,   28],\n",
       "       [  66,  503]], dtype=int64)"
      ]
     },
     "execution_count": 67,
     "metadata": {},
     "output_type": "execute_result"
    }
   ],
   "source": [
    "confusion_matrix(y_test, y_pred_rf_test)"
   ]
  },
  {
   "cell_type": "code",
   "execution_count": 68,
   "id": "30bed231",
   "metadata": {},
   "outputs": [
    {
     "data": {
      "text/html": [
       "<div>\n",
       "<style scoped>\n",
       "    .dataframe tbody tr th:only-of-type {\n",
       "        vertical-align: middle;\n",
       "    }\n",
       "\n",
       "    .dataframe tbody tr th {\n",
       "        vertical-align: top;\n",
       "    }\n",
       "\n",
       "    .dataframe thead th {\n",
       "        text-align: right;\n",
       "    }\n",
       "</style>\n",
       "<table border=\"1\" class=\"dataframe\">\n",
       "  <thead>\n",
       "    <tr style=\"text-align: right;\">\n",
       "      <th></th>\n",
       "      <th>precision</th>\n",
       "      <th>recall</th>\n",
       "      <th>f1-score</th>\n",
       "      <th>support</th>\n",
       "    </tr>\n",
       "  </thead>\n",
       "  <tbody>\n",
       "    <tr>\n",
       "      <th>0</th>\n",
       "      <td>1.0</td>\n",
       "      <td>1.0</td>\n",
       "      <td>1.0</td>\n",
       "      <td>6555.0</td>\n",
       "    </tr>\n",
       "    <tr>\n",
       "      <th>1</th>\n",
       "      <td>1.0</td>\n",
       "      <td>1.0</td>\n",
       "      <td>1.0</td>\n",
       "      <td>6555.0</td>\n",
       "    </tr>\n",
       "    <tr>\n",
       "      <th>accuracy</th>\n",
       "      <td>1.0</td>\n",
       "      <td>1.0</td>\n",
       "      <td>1.0</td>\n",
       "      <td>1.0</td>\n",
       "    </tr>\n",
       "    <tr>\n",
       "      <th>macro avg</th>\n",
       "      <td>1.0</td>\n",
       "      <td>1.0</td>\n",
       "      <td>1.0</td>\n",
       "      <td>13110.0</td>\n",
       "    </tr>\n",
       "    <tr>\n",
       "      <th>weighted avg</th>\n",
       "      <td>1.0</td>\n",
       "      <td>1.0</td>\n",
       "      <td>1.0</td>\n",
       "      <td>13110.0</td>\n",
       "    </tr>\n",
       "  </tbody>\n",
       "</table>\n",
       "</div>"
      ],
      "text/plain": [
       "              precision  recall  f1-score  support\n",
       "0                   1.0     1.0       1.0   6555.0\n",
       "1                   1.0     1.0       1.0   6555.0\n",
       "accuracy            1.0     1.0       1.0      1.0\n",
       "macro avg           1.0     1.0       1.0  13110.0\n",
       "weighted avg        1.0     1.0       1.0  13110.0"
      ]
     },
     "execution_count": 68,
     "metadata": {},
     "output_type": "execute_result"
    }
   ],
   "source": [
    "df_rf_train=pd.DataFrame(classification_report(y_train, y_pred_rf_train, output_dict=True)).T\n",
    "df_rf_train"
   ]
  },
  {
   "cell_type": "code",
   "execution_count": 69,
   "id": "58e02434",
   "metadata": {},
   "outputs": [
    {
     "data": {
      "text/html": [
       "<div>\n",
       "<style scoped>\n",
       "    .dataframe tbody tr th:only-of-type {\n",
       "        vertical-align: middle;\n",
       "    }\n",
       "\n",
       "    .dataframe tbody tr th {\n",
       "        vertical-align: top;\n",
       "    }\n",
       "\n",
       "    .dataframe thead th {\n",
       "        text-align: right;\n",
       "    }\n",
       "</style>\n",
       "<table border=\"1\" class=\"dataframe\">\n",
       "  <thead>\n",
       "    <tr style=\"text-align: right;\">\n",
       "      <th></th>\n",
       "      <th>precision</th>\n",
       "      <th>recall</th>\n",
       "      <th>f1-score</th>\n",
       "      <th>support</th>\n",
       "    </tr>\n",
       "  </thead>\n",
       "  <tbody>\n",
       "    <tr>\n",
       "      <th>0</th>\n",
       "      <td>0.976818</td>\n",
       "      <td>0.990032</td>\n",
       "      <td>0.983380</td>\n",
       "      <td>2809.000000</td>\n",
       "    </tr>\n",
       "    <tr>\n",
       "      <th>1</th>\n",
       "      <td>0.947269</td>\n",
       "      <td>0.884007</td>\n",
       "      <td>0.914545</td>\n",
       "      <td>569.000000</td>\n",
       "    </tr>\n",
       "    <tr>\n",
       "      <th>accuracy</th>\n",
       "      <td>0.972173</td>\n",
       "      <td>0.972173</td>\n",
       "      <td>0.972173</td>\n",
       "      <td>0.972173</td>\n",
       "    </tr>\n",
       "    <tr>\n",
       "      <th>macro avg</th>\n",
       "      <td>0.962044</td>\n",
       "      <td>0.937020</td>\n",
       "      <td>0.948963</td>\n",
       "      <td>3378.000000</td>\n",
       "    </tr>\n",
       "    <tr>\n",
       "      <th>weighted avg</th>\n",
       "      <td>0.971840</td>\n",
       "      <td>0.972173</td>\n",
       "      <td>0.971786</td>\n",
       "      <td>3378.000000</td>\n",
       "    </tr>\n",
       "  </tbody>\n",
       "</table>\n",
       "</div>"
      ],
      "text/plain": [
       "              precision    recall  f1-score      support\n",
       "0              0.976818  0.990032  0.983380  2809.000000\n",
       "1              0.947269  0.884007  0.914545   569.000000\n",
       "accuracy       0.972173  0.972173  0.972173     0.972173\n",
       "macro avg      0.962044  0.937020  0.948963  3378.000000\n",
       "weighted avg   0.971840  0.972173  0.971786  3378.000000"
      ]
     },
     "execution_count": 69,
     "metadata": {},
     "output_type": "execute_result"
    }
   ],
   "source": [
    "df_rf_test=pd.DataFrame(classification_report(y_test, y_pred_rf_test, output_dict=True)).T\n",
    "df_rf_test"
   ]
  },
  {
   "cell_type": "code",
   "execution_count": 70,
   "id": "0ced3e78",
   "metadata": {
    "scrolled": false
   },
   "outputs": [
    {
     "name": "stdout",
     "output_type": "stream",
     "text": [
      "AUC_rf_train: 1.000\n"
     ]
    },
    {
     "data": {
      "image/png": "[encoded data removed]",
      "text/plain": [
       "<Figure size 432x288 with 1 Axes>"
      ]
     },
     "metadata": {
      "needs_background": "light"
     },
     "output_type": "display_data"
    }
   ],
   "source": [
    "probs_rf_train = rf.predict_proba(X_train)\n",
    "probs_rf_train = probs_rf_train[:, 1]\n",
    "\n",
    "auc_rf_train = roc_auc_score(y_train, probs_rf_train)\n",
    "print('AUC_rf_train: %.3f' % auc_rf_train)\n",
    "\n",
    "fpr_rf_train, tpr_rf_train, thresholds_rf_train = roc_curve(y_train, probs_rf_train)\n",
    "plt.plot([0, 1], [0, 1], linestyle='--')\n",
    "plt.plot(fpr_rf_train, tpr_rf_train, marker='.')\n",
    "plt.show()"
   ]
  },
  {
   "cell_type": "code",
   "execution_count": 71,
   "id": "9708352a",
   "metadata": {},
   "outputs": [
    {
     "name": "stdout",
     "output_type": "stream",
     "text": [
      "AUC_rf_test: 0.992\n"
     ]
    },
    {
     "data": {
      "image/png": "[encoded data removed]",
      "text/plain": [
       "<Figure size 432x288 with 1 Axes>"
      ]
     },
     "metadata": {
      "needs_background": "light"
     },
     "output_type": "display_data"
    }
   ],
   "source": [
    "probs_rf_test = rf.predict_proba(X_test)\n",
    "probs_rf_test = probs_rf_test[:, 1]\n",
    "\n",
    "auc_rf_test = roc_auc_score(y_test, probs_rf_test)\n",
    "print('AUC_rf_test: %.3f' % auc_rf_test)\n",
    "\n",
    "fpr_rf_test, tpr_rf_test, thresholds_rf_test = roc_curve(y_test, probs_rf_test)\n",
    "plt.plot([0, 1], [0, 1], linestyle='--')\n",
    "plt.plot(fpr_rf_test, tpr_rf_test, marker='.')\n",
    "plt.show()"
   ]
  },
  {
   "cell_type": "code",
   "execution_count": null,
   "id": "5aeb27e9",
   "metadata": {},
   "outputs": [],
   "source": []
  },
  {
   "cell_type": "code",
   "execution_count": 72,
   "id": "92ee9e60",
   "metadata": {
    "scrolled": true
   },
   "outputs": [
    {
     "data": {
      "text/html": [
       "<div>\n",
       "<style scoped>\n",
       "    .dataframe tbody tr th:only-of-type {\n",
       "        vertical-align: middle;\n",
       "    }\n",
       "\n",
       "    .dataframe tbody tr th {\n",
       "        vertical-align: top;\n",
       "    }\n",
       "\n",
       "    .dataframe thead th {\n",
       "        text-align: right;\n",
       "    }\n",
       "</style>\n",
       "<table border=\"1\" class=\"dataframe\">\n",
       "  <thead>\n",
       "    <tr style=\"text-align: right;\">\n",
       "      <th></th>\n",
       "      <th>0</th>\n",
       "    </tr>\n",
       "  </thead>\n",
       "  <tbody>\n",
       "    <tr>\n",
       "      <th>Tenure</th>\n",
       "      <td>23.310731</td>\n",
       "    </tr>\n",
       "    <tr>\n",
       "      <th>Complain_ly</th>\n",
       "      <td>13.734121</td>\n",
       "    </tr>\n",
       "    <tr>\n",
       "      <th>cashback</th>\n",
       "      <td>6.104147</td>\n",
       "    </tr>\n",
       "    <tr>\n",
       "      <th>CC_Agent_Score</th>\n",
       "      <td>6.083613</td>\n",
       "    </tr>\n",
       "    <tr>\n",
       "      <th>Day_Since_CC_connect</th>\n",
       "      <td>5.595076</td>\n",
       "    </tr>\n",
       "    <tr>\n",
       "      <th>Marital_Status_Married</th>\n",
       "      <td>5.382031</td>\n",
       "    </tr>\n",
       "    <tr>\n",
       "      <th>CC_Contacted_LY</th>\n",
       "      <td>4.752811</td>\n",
       "    </tr>\n",
       "    <tr>\n",
       "      <th>rev_growth_yoy</th>\n",
       "      <td>4.360608</td>\n",
       "    </tr>\n",
       "    <tr>\n",
       "      <th>rev_per_month</th>\n",
       "      <td>4.206233</td>\n",
       "    </tr>\n",
       "    <tr>\n",
       "      <th>City_Tier</th>\n",
       "      <td>3.519288</td>\n",
       "    </tr>\n",
       "    <tr>\n",
       "      <th>account_segment_Super</th>\n",
       "      <td>3.231164</td>\n",
       "    </tr>\n",
       "    <tr>\n",
       "      <th>coupon_used_for_payment</th>\n",
       "      <td>2.669865</td>\n",
       "    </tr>\n",
       "    <tr>\n",
       "      <th>Payment_Credit Card</th>\n",
       "      <td>2.565527</td>\n",
       "    </tr>\n",
       "    <tr>\n",
       "      <th>Service_Score</th>\n",
       "      <td>2.243850</td>\n",
       "    </tr>\n",
       "    <tr>\n",
       "      <th>Payment_Debit Card</th>\n",
       "      <td>2.109858</td>\n",
       "    </tr>\n",
       "    <tr>\n",
       "      <th>Account_user_count</th>\n",
       "      <td>2.065264</td>\n",
       "    </tr>\n",
       "    <tr>\n",
       "      <th>account_segment_Regular +</th>\n",
       "      <td>1.808702</td>\n",
       "    </tr>\n",
       "    <tr>\n",
       "      <th>Login_device_Mobile</th>\n",
       "      <td>1.711405</td>\n",
       "    </tr>\n",
       "    <tr>\n",
       "      <th>Gender_Male</th>\n",
       "      <td>1.349961</td>\n",
       "    </tr>\n",
       "    <tr>\n",
       "      <th>Marital_Status_Single</th>\n",
       "      <td>1.120311</td>\n",
       "    </tr>\n",
       "    <tr>\n",
       "      <th>Payment_UPI</th>\n",
       "      <td>0.699314</td>\n",
       "    </tr>\n",
       "    <tr>\n",
       "      <th>account_segment_Super +</th>\n",
       "      <td>0.574427</td>\n",
       "    </tr>\n",
       "    <tr>\n",
       "      <th>Payment_E wallet</th>\n",
       "      <td>0.529565</td>\n",
       "    </tr>\n",
       "    <tr>\n",
       "      <th>account_segment_Regular</th>\n",
       "      <td>0.272127</td>\n",
       "    </tr>\n",
       "  </tbody>\n",
       "</table>\n",
       "</div>"
      ],
      "text/plain": [
       "                                   0\n",
       "Tenure                     23.310731\n",
       "Complain_ly                13.734121\n",
       "cashback                    6.104147\n",
       "CC_Agent_Score              6.083613\n",
       "Day_Since_CC_connect        5.595076\n",
       "Marital_Status_Married      5.382031\n",
       "CC_Contacted_LY             4.752811\n",
       "rev_growth_yoy              4.360608\n",
       "rev_per_month               4.206233\n",
       "City_Tier                   3.519288\n",
       "account_segment_Super       3.231164\n",
       "coupon_used_for_payment     2.669865\n",
       "Payment_Credit Card         2.565527\n",
       "Service_Score               2.243850\n",
       "Payment_Debit Card          2.109858\n",
       "Account_user_count          2.065264\n",
       "account_segment_Regular +   1.808702\n",
       "Login_device_Mobile         1.711405\n",
       "Gender_Male                 1.349961\n",
       "Marital_Status_Single       1.120311\n",
       "Payment_UPI                 0.699314\n",
       "account_segment_Super +     0.574427\n",
       "Payment_E wallet            0.529565\n",
       "account_segment_Regular     0.272127"
      ]
     },
     "execution_count": 72,
     "metadata": {},
     "output_type": "execute_result"
    }
   ],
   "source": [
    "fi_rf = pd.DataFrame(rf.feature_importances_*100, index=X_train.columns).sort_values(by=0, ascending=False)\n",
    "fi_rf"
   ]
  },
  {
   "cell_type": "code",
   "execution_count": null,
   "id": "e4092eec",
   "metadata": {},
   "outputs": [],
   "source": []
  },
  {
   "cell_type": "markdown",
   "id": "f587de68",
   "metadata": {},
   "source": [
    "### RF tuning"
   ]
  },
  {
   "cell_type": "code",
   "execution_count": 73,
   "id": "68313ba7",
   "metadata": {},
   "outputs": [],
   "source": [
    "param_grid_rf = {\n",
    "    'n_estimators': [100, 300],\n",
    "    'criterion': ['gini', 'entropy', 'log_loss'],\n",
    "    'max_features': ['sqrt', 'log2'],\n",
    "    'min_samples_leaf': [1, 2],\n",
    "    'min_samples_split': [2, 3], \n",
    "    'class_weight' : ['balanced', 'None']\n",
    "}\n",
    "\n",
    "rfg = RandomForestClassifier()\n",
    "grid_search_rf = GridSearchCV(estimator = rfg, param_grid = param_grid_rf, cv = 3) "
   ]
  },
  {
   "cell_type": "code",
   "execution_count": 74,
   "id": "12fb1893",
   "metadata": {
    "scrolled": true
   },
   "outputs": [
    {
     "name": "stderr",
     "output_type": "stream",
     "text": [
      "C:\\Users\\Nandha Keshore\\anaconda3\\lib\\site-packages\\sklearn\\model_selection\\_validation.py:686: DataConversionWarning: A column-vector y was passed when a 1d array was expected. Please change the shape of y to (n_samples,), for example using ravel().\n",
      "  estimator.fit(X_train, y_train, **fit_params)\n",
      "C:\\Users\\Nandha Keshore\\anaconda3\\lib\\site-packages\\sklearn\\model_selection\\_validation.py:686: DataConversionWarning: A column-vector y was passed when a 1d array was expected. Please change the shape of y to (n_samples,), for example using ravel().\n",
      "  estimator.fit(X_train, y_train, **fit_params)\n",
      "C:\\Users\\Nandha Keshore\\anaconda3\\lib\\site-packages\\sklearn\\model_selection\\_validation.py:686: DataConversionWarning: A column-vector y was passed when a 1d array was expected. Please change the shape of y to (n_samples,), for example using ravel().\n",
      "  estimator.fit(X_train, y_train, **fit_params)\n",
      "C:\\Users\\Nandha Keshore\\anaconda3\\lib\\site-packages\\sklearn\\model_selection\\_validation.py:686: DataConversionWarning: A column-vector y was passed when a 1d array was expected. Please change the shape of y to (n_samples,), for example using ravel().\n",
      "  estimator.fit(X_train, y_train, **fit_params)\n",
      "C:\\Users\\Nandha Keshore\\anaconda3\\lib\\site-packages\\sklearn\\model_selection\\_validation.py:686: DataConversionWarning: A column-vector y was passed when a 1d array was expected. Please change the shape of y to (n_samples,), for example using ravel().\n",
      "  estimator.fit(X_train, y_train, **fit_params)\n",
      "C:\\Users\\Nandha Keshore\\anaconda3\\lib\\site-packages\\sklearn\\model_selection\\_validation.py:686: DataConversionWarning: A column-vector y was passed when a 1d array was expected. Please change the shape of y to (n_samples,), for example using ravel().\n",
      "  estimator.fit(X_train, y_train, **fit_params)\n",
      "C:\\Users\\Nandha Keshore\\anaconda3\\lib\\site-packages\\sklearn\\model_selection\\_validation.py:686: DataConversionWarning: A column-vector y was passed when a 1d array was expected. Please change the shape of y to (n_samples,), for example using ravel().\n",
      "  estimator.fit(X_train, y_train, **fit_params)\n",
      "C:\\Users\\Nandha Keshore\\anaconda3\\lib\\site-packages\\sklearn\\model_selection\\_validation.py:686: DataConversionWarning: A column-vector y was passed when a 1d array was expected. Please change the shape of y to (n_samples,), for example using ravel().\n",
      "  estimator.fit(X_train, y_train, **fit_params)\n",
      "C:\\Users\\Nandha Keshore\\anaconda3\\lib\\site-packages\\sklearn\\model_selection\\_validation.py:686: DataConversionWarning: A column-vector y was passed when a 1d array was expected. Please change the shape of y to (n_samples,), for example using ravel().\n",
      "  estimator.fit(X_train, y_train, **fit_params)\n",
      "C:\\Users\\Nandha Keshore\\anaconda3\\lib\\site-packages\\sklearn\\model_selection\\_validation.py:686: DataConversionWarning: A column-vector y was passed when a 1d array was expected. Please change the shape of y to (n_samples,), for example using ravel().\n",
      "  estimator.fit(X_train, y_train, **fit_params)\n",
      "C:\\Users\\Nandha Keshore\\anaconda3\\lib\\site-packages\\sklearn\\model_selection\\_validation.py:686: DataConversionWarning: A column-vector y was passed when a 1d array was expected. Please change the shape of y to (n_samples,), for example using ravel().\n",
      "  estimator.fit(X_train, y_train, **fit_params)\n",
      "C:\\Users\\Nandha Keshore\\anaconda3\\lib\\site-packages\\sklearn\\model_selection\\_validation.py:686: DataConversionWarning: A column-vector y was passed when a 1d array was expected. Please change the shape of y to (n_samples,), for example using ravel().\n",
      "  estimator.fit(X_train, y_train, **fit_params)\n",
      "C:\\Users\\Nandha Keshore\\anaconda3\\lib\\site-packages\\sklearn\\model_selection\\_validation.py:686: DataConversionWarning: A column-vector y was passed when a 1d array was expected. Please change the shape of y to (n_samples,), for example using ravel().\n",
      "  estimator.fit(X_train, y_train, **fit_params)\n",
      "C:\\Users\\Nandha Keshore\\anaconda3\\lib\\site-packages\\sklearn\\model_selection\\_validation.py:686: DataConversionWarning: A column-vector y was passed when a 1d array was expected. Please change the shape of y to (n_samples,), for example using ravel().\n",
      "  estimator.fit(X_train, y_train, **fit_params)\n",
      "C:\\Users\\Nandha Keshore\\anaconda3\\lib\\site-packages\\sklearn\\model_selection\\_validation.py:686: DataConversionWarning: A column-vector y was passed when a 1d array was expected. Please change the shape of y to (n_samples,), for example using ravel().\n",
      "  estimator.fit(X_train, y_train, **fit_params)\n",
      "C:\\Users\\Nandha Keshore\\anaconda3\\lib\\site-packages\\sklearn\\model_selection\\_validation.py:686: DataConversionWarning: A column-vector y was passed when a 1d array was expected. Please change the shape of y to (n_samples,), for example using ravel().\n",
      "  estimator.fit(X_train, y_train, **fit_params)\n",
      "C:\\Users\\Nandha Keshore\\anaconda3\\lib\\site-packages\\sklearn\\model_selection\\_validation.py:686: DataConversionWarning: A column-vector y was passed when a 1d array was expected. Please change the shape of y to (n_samples,), for example using ravel().\n",
      "  estimator.fit(X_train, y_train, **fit_params)\n",
      "C:\\Users\\Nandha Keshore\\anaconda3\\lib\\site-packages\\sklearn\\model_selection\\_validation.py:686: DataConversionWarning: A column-vector y was passed when a 1d array was expected. Please change the shape of y to (n_samples,), for example using ravel().\n",
      "  estimator.fit(X_train, y_train, **fit_params)\n",
      "C:\\Users\\Nandha Keshore\\anaconda3\\lib\\site-packages\\sklearn\\model_selection\\_validation.py:686: DataConversionWarning: A column-vector y was passed when a 1d array was expected. Please change the shape of y to (n_samples,), for example using ravel().\n",
      "  estimator.fit(X_train, y_train, **fit_params)\n",
      "C:\\Users\\Nandha Keshore\\anaconda3\\lib\\site-packages\\sklearn\\model_selection\\_validation.py:686: DataConversionWarning: A column-vector y was passed when a 1d array was expected. Please change the shape of y to (n_samples,), for example using ravel().\n",
      "  estimator.fit(X_train, y_train, **fit_params)\n",
      "C:\\Users\\Nandha Keshore\\anaconda3\\lib\\site-packages\\sklearn\\model_selection\\_validation.py:686: DataConversionWarning: A column-vector y was passed when a 1d array was expected. Please change the shape of y to (n_samples,), for example using ravel().\n",
      "  estimator.fit(X_train, y_train, **fit_params)\n",
      "C:\\Users\\Nandha Keshore\\anaconda3\\lib\\site-packages\\sklearn\\model_selection\\_validation.py:686: DataConversionWarning: A column-vector y was passed when a 1d array was expected. Please change the shape of y to (n_samples,), for example using ravel().\n",
      "  estimator.fit(X_train, y_train, **fit_params)\n",
      "C:\\Users\\Nandha Keshore\\anaconda3\\lib\\site-packages\\sklearn\\model_selection\\_validation.py:686: DataConversionWarning: A column-vector y was passed when a 1d array was expected. Please change the shape of y to (n_samples,), for example using ravel().\n",
      "  estimator.fit(X_train, y_train, **fit_params)\n",
      "C:\\Users\\Nandha Keshore\\anaconda3\\lib\\site-packages\\sklearn\\model_selection\\_validation.py:686: DataConversionWarning: A column-vector y was passed when a 1d array was expected. Please change the shape of y to (n_samples,), for example using ravel().\n",
      "  estimator.fit(X_train, y_train, **fit_params)\n",
      "C:\\Users\\Nandha Keshore\\anaconda3\\lib\\site-packages\\sklearn\\model_selection\\_validation.py:686: DataConversionWarning: A column-vector y was passed when a 1d array was expected. Please change the shape of y to (n_samples,), for example using ravel().\n",
      "  estimator.fit(X_train, y_train, **fit_params)\n",
      "C:\\Users\\Nandha Keshore\\anaconda3\\lib\\site-packages\\sklearn\\model_selection\\_validation.py:686: DataConversionWarning: A column-vector y was passed when a 1d array was expected. Please change the shape of y to (n_samples,), for example using ravel().\n",
      "  estimator.fit(X_train, y_train, **fit_params)\n",
      "C:\\Users\\Nandha Keshore\\anaconda3\\lib\\site-packages\\sklearn\\model_selection\\_validation.py:686: DataConversionWarning: A column-vector y was passed when a 1d array was expected. Please change the shape of y to (n_samples,), for example using ravel().\n",
      "  estimator.fit(X_train, y_train, **fit_params)\n",
      "C:\\Users\\Nandha Keshore\\anaconda3\\lib\\site-packages\\sklearn\\model_selection\\_validation.py:686: DataConversionWarning: A column-vector y was passed when a 1d array was expected. Please change the shape of y to (n_samples,), for example using ravel().\n",
      "  estimator.fit(X_train, y_train, **fit_params)\n"
     ]
    },
    {
     "name": "stderr",
     "output_type": "stream",
     "text": [
      "C:\\Users\\Nandha Keshore\\anaconda3\\lib\\site-packages\\sklearn\\model_selection\\_validation.py:686: DataConversionWarning: A column-vector y was passed when a 1d array was expected. Please change the shape of y to (n_samples,), for example using ravel().\n",
      "  estimator.fit(X_train, y_train, **fit_params)\n",
      "C:\\Users\\Nandha Keshore\\anaconda3\\lib\\site-packages\\sklearn\\model_selection\\_validation.py:686: DataConversionWarning: A column-vector y was passed when a 1d array was expected. Please change the shape of y to (n_samples,), for example using ravel().\n",
      "  estimator.fit(X_train, y_train, **fit_params)\n",
      "C:\\Users\\Nandha Keshore\\anaconda3\\lib\\site-packages\\sklearn\\model_selection\\_validation.py:686: DataConversionWarning: A column-vector y was passed when a 1d array was expected. Please change the shape of y to (n_samples,), for example using ravel().\n",
      "  estimator.fit(X_train, y_train, **fit_params)\n",
      "C:\\Users\\Nandha Keshore\\anaconda3\\lib\\site-packages\\sklearn\\model_selection\\_validation.py:686: DataConversionWarning: A column-vector y was passed when a 1d array was expected. Please change the shape of y to (n_samples,), for example using ravel().\n",
      "  estimator.fit(X_train, y_train, **fit_params)\n",
      "C:\\Users\\Nandha Keshore\\anaconda3\\lib\\site-packages\\sklearn\\model_selection\\_validation.py:686: DataConversionWarning: A column-vector y was passed when a 1d array was expected. Please change the shape of y to (n_samples,), for example using ravel().\n",
      "  estimator.fit(X_train, y_train, **fit_params)\n",
      "C:\\Users\\Nandha Keshore\\anaconda3\\lib\\site-packages\\sklearn\\model_selection\\_validation.py:686: DataConversionWarning: A column-vector y was passed when a 1d array was expected. Please change the shape of y to (n_samples,), for example using ravel().\n",
      "  estimator.fit(X_train, y_train, **fit_params)\n",
      "C:\\Users\\Nandha Keshore\\anaconda3\\lib\\site-packages\\sklearn\\model_selection\\_validation.py:686: DataConversionWarning: A column-vector y was passed when a 1d array was expected. Please change the shape of y to (n_samples,), for example using ravel().\n",
      "  estimator.fit(X_train, y_train, **fit_params)\n",
      "C:\\Users\\Nandha Keshore\\anaconda3\\lib\\site-packages\\sklearn\\model_selection\\_validation.py:686: DataConversionWarning: A column-vector y was passed when a 1d array was expected. Please change the shape of y to (n_samples,), for example using ravel().\n",
      "  estimator.fit(X_train, y_train, **fit_params)\n",
      "C:\\Users\\Nandha Keshore\\anaconda3\\lib\\site-packages\\sklearn\\model_selection\\_validation.py:686: DataConversionWarning: A column-vector y was passed when a 1d array was expected. Please change the shape of y to (n_samples,), for example using ravel().\n",
      "  estimator.fit(X_train, y_train, **fit_params)\n",
      "C:\\Users\\Nandha Keshore\\anaconda3\\lib\\site-packages\\sklearn\\model_selection\\_validation.py:686: DataConversionWarning: A column-vector y was passed when a 1d array was expected. Please change the shape of y to (n_samples,), for example using ravel().\n",
      "  estimator.fit(X_train, y_train, **fit_params)\n",
      "C:\\Users\\Nandha Keshore\\anaconda3\\lib\\site-packages\\sklearn\\model_selection\\_validation.py:686: DataConversionWarning: A column-vector y was passed when a 1d array was expected. Please change the shape of y to (n_samples,), for example using ravel().\n",
      "  estimator.fit(X_train, y_train, **fit_params)\n",
      "C:\\Users\\Nandha Keshore\\anaconda3\\lib\\site-packages\\sklearn\\model_selection\\_validation.py:686: DataConversionWarning: A column-vector y was passed when a 1d array was expected. Please change the shape of y to (n_samples,), for example using ravel().\n",
      "  estimator.fit(X_train, y_train, **fit_params)\n",
      "C:\\Users\\Nandha Keshore\\anaconda3\\lib\\site-packages\\sklearn\\model_selection\\_validation.py:686: DataConversionWarning: A column-vector y was passed when a 1d array was expected. Please change the shape of y to (n_samples,), for example using ravel().\n",
      "  estimator.fit(X_train, y_train, **fit_params)\n",
      "C:\\Users\\Nandha Keshore\\anaconda3\\lib\\site-packages\\sklearn\\model_selection\\_validation.py:686: DataConversionWarning: A column-vector y was passed when a 1d array was expected. Please change the shape of y to (n_samples,), for example using ravel().\n",
      "  estimator.fit(X_train, y_train, **fit_params)\n",
      "C:\\Users\\Nandha Keshore\\anaconda3\\lib\\site-packages\\sklearn\\model_selection\\_validation.py:686: DataConversionWarning: A column-vector y was passed when a 1d array was expected. Please change the shape of y to (n_samples,), for example using ravel().\n",
      "  estimator.fit(X_train, y_train, **fit_params)\n",
      "C:\\Users\\Nandha Keshore\\anaconda3\\lib\\site-packages\\sklearn\\model_selection\\_validation.py:686: DataConversionWarning: A column-vector y was passed when a 1d array was expected. Please change the shape of y to (n_samples,), for example using ravel().\n",
      "  estimator.fit(X_train, y_train, **fit_params)\n",
      "C:\\Users\\Nandha Keshore\\anaconda3\\lib\\site-packages\\sklearn\\model_selection\\_validation.py:686: DataConversionWarning: A column-vector y was passed when a 1d array was expected. Please change the shape of y to (n_samples,), for example using ravel().\n",
      "  estimator.fit(X_train, y_train, **fit_params)\n",
      "C:\\Users\\Nandha Keshore\\anaconda3\\lib\\site-packages\\sklearn\\model_selection\\_validation.py:686: DataConversionWarning: A column-vector y was passed when a 1d array was expected. Please change the shape of y to (n_samples,), for example using ravel().\n",
      "  estimator.fit(X_train, y_train, **fit_params)\n",
      "C:\\Users\\Nandha Keshore\\anaconda3\\lib\\site-packages\\sklearn\\model_selection\\_validation.py:686: DataConversionWarning: A column-vector y was passed when a 1d array was expected. Please change the shape of y to (n_samples,), for example using ravel().\n",
      "  estimator.fit(X_train, y_train, **fit_params)\n",
      "C:\\Users\\Nandha Keshore\\anaconda3\\lib\\site-packages\\sklearn\\model_selection\\_validation.py:686: DataConversionWarning: A column-vector y was passed when a 1d array was expected. Please change the shape of y to (n_samples,), for example using ravel().\n",
      "  estimator.fit(X_train, y_train, **fit_params)\n",
      "C:\\Users\\Nandha Keshore\\anaconda3\\lib\\site-packages\\sklearn\\model_selection\\_validation.py:686: DataConversionWarning: A column-vector y was passed when a 1d array was expected. Please change the shape of y to (n_samples,), for example using ravel().\n",
      "  estimator.fit(X_train, y_train, **fit_params)\n",
      "C:\\Users\\Nandha Keshore\\anaconda3\\lib\\site-packages\\sklearn\\model_selection\\_validation.py:686: DataConversionWarning: A column-vector y was passed when a 1d array was expected. Please change the shape of y to (n_samples,), for example using ravel().\n",
      "  estimator.fit(X_train, y_train, **fit_params)\n",
      "C:\\Users\\Nandha Keshore\\anaconda3\\lib\\site-packages\\sklearn\\model_selection\\_validation.py:686: DataConversionWarning: A column-vector y was passed when a 1d array was expected. Please change the shape of y to (n_samples,), for example using ravel().\n",
      "  estimator.fit(X_train, y_train, **fit_params)\n",
      "C:\\Users\\Nandha Keshore\\anaconda3\\lib\\site-packages\\sklearn\\model_selection\\_validation.py:686: DataConversionWarning: A column-vector y was passed when a 1d array was expected. Please change the shape of y to (n_samples,), for example using ravel().\n",
      "  estimator.fit(X_train, y_train, **fit_params)\n",
      "C:\\Users\\Nandha Keshore\\anaconda3\\lib\\site-packages\\sklearn\\model_selection\\_validation.py:686: DataConversionWarning: A column-vector y was passed when a 1d array was expected. Please change the shape of y to (n_samples,), for example using ravel().\n",
      "  estimator.fit(X_train, y_train, **fit_params)\n",
      "C:\\Users\\Nandha Keshore\\anaconda3\\lib\\site-packages\\sklearn\\model_selection\\_validation.py:686: DataConversionWarning: A column-vector y was passed when a 1d array was expected. Please change the shape of y to (n_samples,), for example using ravel().\n",
      "  estimator.fit(X_train, y_train, **fit_params)\n",
      "C:\\Users\\Nandha Keshore\\anaconda3\\lib\\site-packages\\sklearn\\model_selection\\_validation.py:686: DataConversionWarning: A column-vector y was passed when a 1d array was expected. Please change the shape of y to (n_samples,), for example using ravel().\n",
      "  estimator.fit(X_train, y_train, **fit_params)\n",
      "C:\\Users\\Nandha Keshore\\anaconda3\\lib\\site-packages\\sklearn\\model_selection\\_validation.py:686: DataConversionWarning: A column-vector y was passed when a 1d array was expected. Please change the shape of y to (n_samples,), for example using ravel().\n",
      "  estimator.fit(X_train, y_train, **fit_params)\n"
     ]
    },
    {
     "name": "stderr",
     "output_type": "stream",
     "text": [
      "C:\\Users\\Nandha Keshore\\anaconda3\\lib\\site-packages\\sklearn\\model_selection\\_validation.py:686: DataConversionWarning: A column-vector y was passed when a 1d array was expected. Please change the shape of y to (n_samples,), for example using ravel().\n",
      "  estimator.fit(X_train, y_train, **fit_params)\n",
      "C:\\Users\\Nandha Keshore\\anaconda3\\lib\\site-packages\\sklearn\\model_selection\\_validation.py:686: DataConversionWarning: A column-vector y was passed when a 1d array was expected. Please change the shape of y to (n_samples,), for example using ravel().\n",
      "  estimator.fit(X_train, y_train, **fit_params)\n",
      "C:\\Users\\Nandha Keshore\\anaconda3\\lib\\site-packages\\sklearn\\model_selection\\_validation.py:686: DataConversionWarning: A column-vector y was passed when a 1d array was expected. Please change the shape of y to (n_samples,), for example using ravel().\n",
      "  estimator.fit(X_train, y_train, **fit_params)\n",
      "C:\\Users\\Nandha Keshore\\anaconda3\\lib\\site-packages\\sklearn\\model_selection\\_validation.py:686: DataConversionWarning: A column-vector y was passed when a 1d array was expected. Please change the shape of y to (n_samples,), for example using ravel().\n",
      "  estimator.fit(X_train, y_train, **fit_params)\n",
      "C:\\Users\\Nandha Keshore\\anaconda3\\lib\\site-packages\\sklearn\\model_selection\\_validation.py:686: DataConversionWarning: A column-vector y was passed when a 1d array was expected. Please change the shape of y to (n_samples,), for example using ravel().\n",
      "  estimator.fit(X_train, y_train, **fit_params)\n",
      "C:\\Users\\Nandha Keshore\\anaconda3\\lib\\site-packages\\sklearn\\model_selection\\_validation.py:686: DataConversionWarning: A column-vector y was passed when a 1d array was expected. Please change the shape of y to (n_samples,), for example using ravel().\n",
      "  estimator.fit(X_train, y_train, **fit_params)\n",
      "C:\\Users\\Nandha Keshore\\anaconda3\\lib\\site-packages\\sklearn\\model_selection\\_validation.py:686: DataConversionWarning: A column-vector y was passed when a 1d array was expected. Please change the shape of y to (n_samples,), for example using ravel().\n",
      "  estimator.fit(X_train, y_train, **fit_params)\n",
      "C:\\Users\\Nandha Keshore\\anaconda3\\lib\\site-packages\\sklearn\\model_selection\\_validation.py:686: DataConversionWarning: A column-vector y was passed when a 1d array was expected. Please change the shape of y to (n_samples,), for example using ravel().\n",
      "  estimator.fit(X_train, y_train, **fit_params)\n",
      "C:\\Users\\Nandha Keshore\\anaconda3\\lib\\site-packages\\sklearn\\model_selection\\_validation.py:686: DataConversionWarning: A column-vector y was passed when a 1d array was expected. Please change the shape of y to (n_samples,), for example using ravel().\n",
      "  estimator.fit(X_train, y_train, **fit_params)\n",
      "C:\\Users\\Nandha Keshore\\anaconda3\\lib\\site-packages\\sklearn\\model_selection\\_validation.py:686: DataConversionWarning: A column-vector y was passed when a 1d array was expected. Please change the shape of y to (n_samples,), for example using ravel().\n",
      "  estimator.fit(X_train, y_train, **fit_params)\n",
      "C:\\Users\\Nandha Keshore\\anaconda3\\lib\\site-packages\\sklearn\\model_selection\\_validation.py:686: DataConversionWarning: A column-vector y was passed when a 1d array was expected. Please change the shape of y to (n_samples,), for example using ravel().\n",
      "  estimator.fit(X_train, y_train, **fit_params)\n",
      "C:\\Users\\Nandha Keshore\\anaconda3\\lib\\site-packages\\sklearn\\model_selection\\_validation.py:686: DataConversionWarning: A column-vector y was passed when a 1d array was expected. Please change the shape of y to (n_samples,), for example using ravel().\n",
      "  estimator.fit(X_train, y_train, **fit_params)\n",
      "C:\\Users\\Nandha Keshore\\anaconda3\\lib\\site-packages\\sklearn\\model_selection\\_validation.py:686: DataConversionWarning: A column-vector y was passed when a 1d array was expected. Please change the shape of y to (n_samples,), for example using ravel().\n",
      "  estimator.fit(X_train, y_train, **fit_params)\n",
      "C:\\Users\\Nandha Keshore\\anaconda3\\lib\\site-packages\\sklearn\\model_selection\\_validation.py:686: DataConversionWarning: A column-vector y was passed when a 1d array was expected. Please change the shape of y to (n_samples,), for example using ravel().\n",
      "  estimator.fit(X_train, y_train, **fit_params)\n",
      "C:\\Users\\Nandha Keshore\\anaconda3\\lib\\site-packages\\sklearn\\model_selection\\_validation.py:686: DataConversionWarning: A column-vector y was passed when a 1d array was expected. Please change the shape of y to (n_samples,), for example using ravel().\n",
      "  estimator.fit(X_train, y_train, **fit_params)\n",
      "C:\\Users\\Nandha Keshore\\anaconda3\\lib\\site-packages\\sklearn\\model_selection\\_validation.py:686: DataConversionWarning: A column-vector y was passed when a 1d array was expected. Please change the shape of y to (n_samples,), for example using ravel().\n",
      "  estimator.fit(X_train, y_train, **fit_params)\n",
      "C:\\Users\\Nandha Keshore\\anaconda3\\lib\\site-packages\\sklearn\\model_selection\\_validation.py:686: DataConversionWarning: A column-vector y was passed when a 1d array was expected. Please change the shape of y to (n_samples,), for example using ravel().\n",
      "  estimator.fit(X_train, y_train, **fit_params)\n",
      "C:\\Users\\Nandha Keshore\\anaconda3\\lib\\site-packages\\sklearn\\model_selection\\_validation.py:686: DataConversionWarning: A column-vector y was passed when a 1d array was expected. Please change the shape of y to (n_samples,), for example using ravel().\n",
      "  estimator.fit(X_train, y_train, **fit_params)\n",
      "C:\\Users\\Nandha Keshore\\anaconda3\\lib\\site-packages\\sklearn\\model_selection\\_validation.py:686: DataConversionWarning: A column-vector y was passed when a 1d array was expected. Please change the shape of y to (n_samples,), for example using ravel().\n",
      "  estimator.fit(X_train, y_train, **fit_params)\n",
      "C:\\Users\\Nandha Keshore\\anaconda3\\lib\\site-packages\\sklearn\\model_selection\\_validation.py:686: DataConversionWarning: A column-vector y was passed when a 1d array was expected. Please change the shape of y to (n_samples,), for example using ravel().\n",
      "  estimator.fit(X_train, y_train, **fit_params)\n",
      "C:\\Users\\Nandha Keshore\\anaconda3\\lib\\site-packages\\sklearn\\model_selection\\_validation.py:686: DataConversionWarning: A column-vector y was passed when a 1d array was expected. Please change the shape of y to (n_samples,), for example using ravel().\n",
      "  estimator.fit(X_train, y_train, **fit_params)\n",
      "C:\\Users\\Nandha Keshore\\anaconda3\\lib\\site-packages\\sklearn\\model_selection\\_validation.py:686: DataConversionWarning: A column-vector y was passed when a 1d array was expected. Please change the shape of y to (n_samples,), for example using ravel().\n",
      "  estimator.fit(X_train, y_train, **fit_params)\n",
      "C:\\Users\\Nandha Keshore\\anaconda3\\lib\\site-packages\\sklearn\\model_selection\\_validation.py:686: DataConversionWarning: A column-vector y was passed when a 1d array was expected. Please change the shape of y to (n_samples,), for example using ravel().\n",
      "  estimator.fit(X_train, y_train, **fit_params)\n",
      "C:\\Users\\Nandha Keshore\\anaconda3\\lib\\site-packages\\sklearn\\model_selection\\_validation.py:686: DataConversionWarning: A column-vector y was passed when a 1d array was expected. Please change the shape of y to (n_samples,), for example using ravel().\n",
      "  estimator.fit(X_train, y_train, **fit_params)\n",
      "C:\\Users\\Nandha Keshore\\anaconda3\\lib\\site-packages\\sklearn\\model_selection\\_validation.py:686: DataConversionWarning: A column-vector y was passed when a 1d array was expected. Please change the shape of y to (n_samples,), for example using ravel().\n",
      "  estimator.fit(X_train, y_train, **fit_params)\n",
      "C:\\Users\\Nandha Keshore\\anaconda3\\lib\\site-packages\\sklearn\\model_selection\\_validation.py:686: DataConversionWarning: A column-vector y was passed when a 1d array was expected. Please change the shape of y to (n_samples,), for example using ravel().\n",
      "  estimator.fit(X_train, y_train, **fit_params)\n",
      "C:\\Users\\Nandha Keshore\\anaconda3\\lib\\site-packages\\sklearn\\model_selection\\_validation.py:686: DataConversionWarning: A column-vector y was passed when a 1d array was expected. Please change the shape of y to (n_samples,), for example using ravel().\n",
      "  estimator.fit(X_train, y_train, **fit_params)\n",
      "C:\\Users\\Nandha Keshore\\anaconda3\\lib\\site-packages\\sklearn\\model_selection\\_validation.py:686: DataConversionWarning: A column-vector y was passed when a 1d array was expected. Please change the shape of y to (n_samples,), for example using ravel().\n",
      "  estimator.fit(X_train, y_train, **fit_params)\n"
     ]
    },
    {
     "name": "stderr",
     "output_type": "stream",
     "text": [
      "C:\\Users\\Nandha Keshore\\anaconda3\\lib\\site-packages\\sklearn\\model_selection\\_validation.py:686: DataConversionWarning: A column-vector y was passed when a 1d array was expected. Please change the shape of y to (n_samples,), for example using ravel().\n",
      "  estimator.fit(X_train, y_train, **fit_params)\n",
      "C:\\Users\\Nandha Keshore\\anaconda3\\lib\\site-packages\\sklearn\\model_selection\\_validation.py:686: DataConversionWarning: A column-vector y was passed when a 1d array was expected. Please change the shape of y to (n_samples,), for example using ravel().\n",
      "  estimator.fit(X_train, y_train, **fit_params)\n",
      "C:\\Users\\Nandha Keshore\\anaconda3\\lib\\site-packages\\sklearn\\model_selection\\_validation.py:686: DataConversionWarning: A column-vector y was passed when a 1d array was expected. Please change the shape of y to (n_samples,), for example using ravel().\n",
      "  estimator.fit(X_train, y_train, **fit_params)\n",
      "C:\\Users\\Nandha Keshore\\anaconda3\\lib\\site-packages\\sklearn\\model_selection\\_validation.py:686: DataConversionWarning: A column-vector y was passed when a 1d array was expected. Please change the shape of y to (n_samples,), for example using ravel().\n",
      "  estimator.fit(X_train, y_train, **fit_params)\n",
      "C:\\Users\\Nandha Keshore\\anaconda3\\lib\\site-packages\\sklearn\\model_selection\\_validation.py:686: DataConversionWarning: A column-vector y was passed when a 1d array was expected. Please change the shape of y to (n_samples,), for example using ravel().\n",
      "  estimator.fit(X_train, y_train, **fit_params)\n",
      "C:\\Users\\Nandha Keshore\\anaconda3\\lib\\site-packages\\sklearn\\model_selection\\_validation.py:686: DataConversionWarning: A column-vector y was passed when a 1d array was expected. Please change the shape of y to (n_samples,), for example using ravel().\n",
      "  estimator.fit(X_train, y_train, **fit_params)\n",
      "C:\\Users\\Nandha Keshore\\anaconda3\\lib\\site-packages\\sklearn\\model_selection\\_validation.py:686: DataConversionWarning: A column-vector y was passed when a 1d array was expected. Please change the shape of y to (n_samples,), for example using ravel().\n",
      "  estimator.fit(X_train, y_train, **fit_params)\n",
      "C:\\Users\\Nandha Keshore\\anaconda3\\lib\\site-packages\\sklearn\\model_selection\\_validation.py:686: DataConversionWarning: A column-vector y was passed when a 1d array was expected. Please change the shape of y to (n_samples,), for example using ravel().\n",
      "  estimator.fit(X_train, y_train, **fit_params)\n",
      "C:\\Users\\Nandha Keshore\\anaconda3\\lib\\site-packages\\sklearn\\model_selection\\_validation.py:686: DataConversionWarning: A column-vector y was passed when a 1d array was expected. Please change the shape of y to (n_samples,), for example using ravel().\n",
      "  estimator.fit(X_train, y_train, **fit_params)\n",
      "C:\\Users\\Nandha Keshore\\anaconda3\\lib\\site-packages\\sklearn\\model_selection\\_validation.py:686: DataConversionWarning: A column-vector y was passed when a 1d array was expected. Please change the shape of y to (n_samples,), for example using ravel().\n",
      "  estimator.fit(X_train, y_train, **fit_params)\n",
      "C:\\Users\\Nandha Keshore\\anaconda3\\lib\\site-packages\\sklearn\\model_selection\\_validation.py:686: DataConversionWarning: A column-vector y was passed when a 1d array was expected. Please change the shape of y to (n_samples,), for example using ravel().\n",
      "  estimator.fit(X_train, y_train, **fit_params)\n",
      "C:\\Users\\Nandha Keshore\\anaconda3\\lib\\site-packages\\sklearn\\model_selection\\_validation.py:686: DataConversionWarning: A column-vector y was passed when a 1d array was expected. Please change the shape of y to (n_samples,), for example using ravel().\n",
      "  estimator.fit(X_train, y_train, **fit_params)\n",
      "C:\\Users\\Nandha Keshore\\anaconda3\\lib\\site-packages\\sklearn\\model_selection\\_validation.py:686: DataConversionWarning: A column-vector y was passed when a 1d array was expected. Please change the shape of y to (n_samples,), for example using ravel().\n",
      "  estimator.fit(X_train, y_train, **fit_params)\n",
      "C:\\Users\\Nandha Keshore\\anaconda3\\lib\\site-packages\\sklearn\\model_selection\\_validation.py:686: DataConversionWarning: A column-vector y was passed when a 1d array was expected. Please change the shape of y to (n_samples,), for example using ravel().\n",
      "  estimator.fit(X_train, y_train, **fit_params)\n",
      "C:\\Users\\Nandha Keshore\\anaconda3\\lib\\site-packages\\sklearn\\model_selection\\_validation.py:686: DataConversionWarning: A column-vector y was passed when a 1d array was expected. Please change the shape of y to (n_samples,), for example using ravel().\n",
      "  estimator.fit(X_train, y_train, **fit_params)\n",
      "C:\\Users\\Nandha Keshore\\anaconda3\\lib\\site-packages\\sklearn\\model_selection\\_validation.py:686: DataConversionWarning: A column-vector y was passed when a 1d array was expected. Please change the shape of y to (n_samples,), for example using ravel().\n",
      "  estimator.fit(X_train, y_train, **fit_params)\n",
      "C:\\Users\\Nandha Keshore\\anaconda3\\lib\\site-packages\\sklearn\\model_selection\\_validation.py:686: DataConversionWarning: A column-vector y was passed when a 1d array was expected. Please change the shape of y to (n_samples,), for example using ravel().\n",
      "  estimator.fit(X_train, y_train, **fit_params)\n",
      "C:\\Users\\Nandha Keshore\\anaconda3\\lib\\site-packages\\sklearn\\model_selection\\_validation.py:686: DataConversionWarning: A column-vector y was passed when a 1d array was expected. Please change the shape of y to (n_samples,), for example using ravel().\n",
      "  estimator.fit(X_train, y_train, **fit_params)\n",
      "C:\\Users\\Nandha Keshore\\anaconda3\\lib\\site-packages\\sklearn\\model_selection\\_validation.py:686: DataConversionWarning: A column-vector y was passed when a 1d array was expected. Please change the shape of y to (n_samples,), for example using ravel().\n",
      "  estimator.fit(X_train, y_train, **fit_params)\n",
      "C:\\Users\\Nandha Keshore\\anaconda3\\lib\\site-packages\\sklearn\\model_selection\\_validation.py:686: DataConversionWarning: A column-vector y was passed when a 1d array was expected. Please change the shape of y to (n_samples,), for example using ravel().\n",
      "  estimator.fit(X_train, y_train, **fit_params)\n",
      "C:\\Users\\Nandha Keshore\\anaconda3\\lib\\site-packages\\sklearn\\model_selection\\_validation.py:686: DataConversionWarning: A column-vector y was passed when a 1d array was expected. Please change the shape of y to (n_samples,), for example using ravel().\n",
      "  estimator.fit(X_train, y_train, **fit_params)\n",
      "C:\\Users\\Nandha Keshore\\anaconda3\\lib\\site-packages\\sklearn\\model_selection\\_validation.py:686: DataConversionWarning: A column-vector y was passed when a 1d array was expected. Please change the shape of y to (n_samples,), for example using ravel().\n",
      "  estimator.fit(X_train, y_train, **fit_params)\n",
      "C:\\Users\\Nandha Keshore\\anaconda3\\lib\\site-packages\\sklearn\\model_selection\\_validation.py:686: DataConversionWarning: A column-vector y was passed when a 1d array was expected. Please change the shape of y to (n_samples,), for example using ravel().\n",
      "  estimator.fit(X_train, y_train, **fit_params)\n",
      "C:\\Users\\Nandha Keshore\\anaconda3\\lib\\site-packages\\sklearn\\model_selection\\_validation.py:686: DataConversionWarning: A column-vector y was passed when a 1d array was expected. Please change the shape of y to (n_samples,), for example using ravel().\n",
      "  estimator.fit(X_train, y_train, **fit_params)\n",
      "C:\\Users\\Nandha Keshore\\anaconda3\\lib\\site-packages\\sklearn\\model_selection\\_validation.py:686: DataConversionWarning: A column-vector y was passed when a 1d array was expected. Please change the shape of y to (n_samples,), for example using ravel().\n",
      "  estimator.fit(X_train, y_train, **fit_params)\n",
      "C:\\Users\\Nandha Keshore\\anaconda3\\lib\\site-packages\\sklearn\\model_selection\\_validation.py:686: DataConversionWarning: A column-vector y was passed when a 1d array was expected. Please change the shape of y to (n_samples,), for example using ravel().\n",
      "  estimator.fit(X_train, y_train, **fit_params)\n",
      "C:\\Users\\Nandha Keshore\\anaconda3\\lib\\site-packages\\sklearn\\model_selection\\_validation.py:686: DataConversionWarning: A column-vector y was passed when a 1d array was expected. Please change the shape of y to (n_samples,), for example using ravel().\n",
      "  estimator.fit(X_train, y_train, **fit_params)\n",
      "C:\\Users\\Nandha Keshore\\anaconda3\\lib\\site-packages\\sklearn\\model_selection\\_validation.py:686: DataConversionWarning: A column-vector y was passed when a 1d array was expected. Please change the shape of y to (n_samples,), for example using ravel().\n",
      "  estimator.fit(X_train, y_train, **fit_params)\n"
     ]
    },
    {
     "name": "stderr",
     "output_type": "stream",
     "text": [
      "C:\\Users\\Nandha Keshore\\anaconda3\\lib\\site-packages\\sklearn\\model_selection\\_validation.py:686: DataConversionWarning: A column-vector y was passed when a 1d array was expected. Please change the shape of y to (n_samples,), for example using ravel().\n",
      "  estimator.fit(X_train, y_train, **fit_params)\n",
      "C:\\Users\\Nandha Keshore\\anaconda3\\lib\\site-packages\\sklearn\\model_selection\\_validation.py:686: DataConversionWarning: A column-vector y was passed when a 1d array was expected. Please change the shape of y to (n_samples,), for example using ravel().\n",
      "  estimator.fit(X_train, y_train, **fit_params)\n",
      "C:\\Users\\Nandha Keshore\\anaconda3\\lib\\site-packages\\sklearn\\model_selection\\_validation.py:686: DataConversionWarning: A column-vector y was passed when a 1d array was expected. Please change the shape of y to (n_samples,), for example using ravel().\n",
      "  estimator.fit(X_train, y_train, **fit_params)\n",
      "C:\\Users\\Nandha Keshore\\anaconda3\\lib\\site-packages\\sklearn\\model_selection\\_validation.py:686: DataConversionWarning: A column-vector y was passed when a 1d array was expected. Please change the shape of y to (n_samples,), for example using ravel().\n",
      "  estimator.fit(X_train, y_train, **fit_params)\n",
      "C:\\Users\\Nandha Keshore\\anaconda3\\lib\\site-packages\\sklearn\\model_selection\\_validation.py:686: DataConversionWarning: A column-vector y was passed when a 1d array was expected. Please change the shape of y to (n_samples,), for example using ravel().\n",
      "  estimator.fit(X_train, y_train, **fit_params)\n",
      "C:\\Users\\Nandha Keshore\\anaconda3\\lib\\site-packages\\sklearn\\model_selection\\_validation.py:686: DataConversionWarning: A column-vector y was passed when a 1d array was expected. Please change the shape of y to (n_samples,), for example using ravel().\n",
      "  estimator.fit(X_train, y_train, **fit_params)\n",
      "C:\\Users\\Nandha Keshore\\anaconda3\\lib\\site-packages\\sklearn\\model_selection\\_validation.py:686: DataConversionWarning: A column-vector y was passed when a 1d array was expected. Please change the shape of y to (n_samples,), for example using ravel().\n",
      "  estimator.fit(X_train, y_train, **fit_params)\n",
      "C:\\Users\\Nandha Keshore\\anaconda3\\lib\\site-packages\\sklearn\\model_selection\\_validation.py:686: DataConversionWarning: A column-vector y was passed when a 1d array was expected. Please change the shape of y to (n_samples,), for example using ravel().\n",
      "  estimator.fit(X_train, y_train, **fit_params)\n",
      "C:\\Users\\Nandha Keshore\\anaconda3\\lib\\site-packages\\sklearn\\model_selection\\_validation.py:686: DataConversionWarning: A column-vector y was passed when a 1d array was expected. Please change the shape of y to (n_samples,), for example using ravel().\n",
      "  estimator.fit(X_train, y_train, **fit_params)\n",
      "C:\\Users\\Nandha Keshore\\anaconda3\\lib\\site-packages\\sklearn\\model_selection\\_validation.py:686: DataConversionWarning: A column-vector y was passed when a 1d array was expected. Please change the shape of y to (n_samples,), for example using ravel().\n",
      "  estimator.fit(X_train, y_train, **fit_params)\n",
      "C:\\Users\\Nandha Keshore\\anaconda3\\lib\\site-packages\\sklearn\\model_selection\\_validation.py:686: DataConversionWarning: A column-vector y was passed when a 1d array was expected. Please change the shape of y to (n_samples,), for example using ravel().\n",
      "  estimator.fit(X_train, y_train, **fit_params)\n",
      "C:\\Users\\Nandha Keshore\\anaconda3\\lib\\site-packages\\sklearn\\model_selection\\_validation.py:686: DataConversionWarning: A column-vector y was passed when a 1d array was expected. Please change the shape of y to (n_samples,), for example using ravel().\n",
      "  estimator.fit(X_train, y_train, **fit_params)\n",
      "C:\\Users\\Nandha Keshore\\anaconda3\\lib\\site-packages\\sklearn\\model_selection\\_validation.py:686: DataConversionWarning: A column-vector y was passed when a 1d array was expected. Please change the shape of y to (n_samples,), for example using ravel().\n",
      "  estimator.fit(X_train, y_train, **fit_params)\n",
      "C:\\Users\\Nandha Keshore\\anaconda3\\lib\\site-packages\\sklearn\\model_selection\\_validation.py:686: DataConversionWarning: A column-vector y was passed when a 1d array was expected. Please change the shape of y to (n_samples,), for example using ravel().\n",
      "  estimator.fit(X_train, y_train, **fit_params)\n",
      "C:\\Users\\Nandha Keshore\\anaconda3\\lib\\site-packages\\sklearn\\model_selection\\_validation.py:686: DataConversionWarning: A column-vector y was passed when a 1d array was expected. Please change the shape of y to (n_samples,), for example using ravel().\n",
      "  estimator.fit(X_train, y_train, **fit_params)\n",
      "C:\\Users\\Nandha Keshore\\anaconda3\\lib\\site-packages\\sklearn\\model_selection\\_validation.py:686: DataConversionWarning: A column-vector y was passed when a 1d array was expected. Please change the shape of y to (n_samples,), for example using ravel().\n",
      "  estimator.fit(X_train, y_train, **fit_params)\n",
      "C:\\Users\\Nandha Keshore\\anaconda3\\lib\\site-packages\\sklearn\\model_selection\\_validation.py:686: DataConversionWarning: A column-vector y was passed when a 1d array was expected. Please change the shape of y to (n_samples,), for example using ravel().\n",
      "  estimator.fit(X_train, y_train, **fit_params)\n",
      "C:\\Users\\Nandha Keshore\\anaconda3\\lib\\site-packages\\sklearn\\model_selection\\_validation.py:686: DataConversionWarning: A column-vector y was passed when a 1d array was expected. Please change the shape of y to (n_samples,), for example using ravel().\n",
      "  estimator.fit(X_train, y_train, **fit_params)\n",
      "C:\\Users\\Nandha Keshore\\anaconda3\\lib\\site-packages\\sklearn\\model_selection\\_validation.py:686: DataConversionWarning: A column-vector y was passed when a 1d array was expected. Please change the shape of y to (n_samples,), for example using ravel().\n",
      "  estimator.fit(X_train, y_train, **fit_params)\n",
      "C:\\Users\\Nandha Keshore\\anaconda3\\lib\\site-packages\\sklearn\\model_selection\\_validation.py:686: DataConversionWarning: A column-vector y was passed when a 1d array was expected. Please change the shape of y to (n_samples,), for example using ravel().\n",
      "  estimator.fit(X_train, y_train, **fit_params)\n",
      "C:\\Users\\Nandha Keshore\\anaconda3\\lib\\site-packages\\sklearn\\model_selection\\_validation.py:686: DataConversionWarning: A column-vector y was passed when a 1d array was expected. Please change the shape of y to (n_samples,), for example using ravel().\n",
      "  estimator.fit(X_train, y_train, **fit_params)\n",
      "C:\\Users\\Nandha Keshore\\anaconda3\\lib\\site-packages\\sklearn\\model_selection\\_validation.py:686: DataConversionWarning: A column-vector y was passed when a 1d array was expected. Please change the shape of y to (n_samples,), for example using ravel().\n",
      "  estimator.fit(X_train, y_train, **fit_params)\n",
      "C:\\Users\\Nandha Keshore\\anaconda3\\lib\\site-packages\\sklearn\\model_selection\\_validation.py:686: DataConversionWarning: A column-vector y was passed when a 1d array was expected. Please change the shape of y to (n_samples,), for example using ravel().\n",
      "  estimator.fit(X_train, y_train, **fit_params)\n",
      "C:\\Users\\Nandha Keshore\\anaconda3\\lib\\site-packages\\sklearn\\model_selection\\_validation.py:686: DataConversionWarning: A column-vector y was passed when a 1d array was expected. Please change the shape of y to (n_samples,), for example using ravel().\n",
      "  estimator.fit(X_train, y_train, **fit_params)\n",
      "C:\\Users\\Nandha Keshore\\anaconda3\\lib\\site-packages\\sklearn\\model_selection\\_validation.py:686: DataConversionWarning: A column-vector y was passed when a 1d array was expected. Please change the shape of y to (n_samples,), for example using ravel().\n",
      "  estimator.fit(X_train, y_train, **fit_params)\n",
      "C:\\Users\\Nandha Keshore\\anaconda3\\lib\\site-packages\\sklearn\\model_selection\\_validation.py:686: DataConversionWarning: A column-vector y was passed when a 1d array was expected. Please change the shape of y to (n_samples,), for example using ravel().\n",
      "  estimator.fit(X_train, y_train, **fit_params)\n",
      "C:\\Users\\Nandha Keshore\\anaconda3\\lib\\site-packages\\sklearn\\model_selection\\_validation.py:686: DataConversionWarning: A column-vector y was passed when a 1d array was expected. Please change the shape of y to (n_samples,), for example using ravel().\n",
      "  estimator.fit(X_train, y_train, **fit_params)\n",
      "C:\\Users\\Nandha Keshore\\anaconda3\\lib\\site-packages\\sklearn\\model_selection\\_validation.py:686: DataConversionWarning: A column-vector y was passed when a 1d array was expected. Please change the shape of y to (n_samples,), for example using ravel().\n",
      "  estimator.fit(X_train, y_train, **fit_params)\n"
     ]
    },
    {
     "name": "stderr",
     "output_type": "stream",
     "text": [
      "C:\\Users\\Nandha Keshore\\anaconda3\\lib\\site-packages\\sklearn\\model_selection\\_validation.py:686: DataConversionWarning: A column-vector y was passed when a 1d array was expected. Please change the shape of y to (n_samples,), for example using ravel().\n",
      "  estimator.fit(X_train, y_train, **fit_params)\n",
      "C:\\Users\\Nandha Keshore\\anaconda3\\lib\\site-packages\\sklearn\\model_selection\\_validation.py:686: DataConversionWarning: A column-vector y was passed when a 1d array was expected. Please change the shape of y to (n_samples,), for example using ravel().\n",
      "  estimator.fit(X_train, y_train, **fit_params)\n",
      "C:\\Users\\Nandha Keshore\\anaconda3\\lib\\site-packages\\sklearn\\model_selection\\_validation.py:686: DataConversionWarning: A column-vector y was passed when a 1d array was expected. Please change the shape of y to (n_samples,), for example using ravel().\n",
      "  estimator.fit(X_train, y_train, **fit_params)\n",
      "C:\\Users\\Nandha Keshore\\anaconda3\\lib\\site-packages\\sklearn\\model_selection\\_validation.py:686: DataConversionWarning: A column-vector y was passed when a 1d array was expected. Please change the shape of y to (n_samples,), for example using ravel().\n",
      "  estimator.fit(X_train, y_train, **fit_params)\n",
      "C:\\Users\\Nandha Keshore\\anaconda3\\lib\\site-packages\\sklearn\\model_selection\\_validation.py:686: DataConversionWarning: A column-vector y was passed when a 1d array was expected. Please change the shape of y to (n_samples,), for example using ravel().\n",
      "  estimator.fit(X_train, y_train, **fit_params)\n",
      "C:\\Users\\Nandha Keshore\\anaconda3\\lib\\site-packages\\sklearn\\model_selection\\_validation.py:686: DataConversionWarning: A column-vector y was passed when a 1d array was expected. Please change the shape of y to (n_samples,), for example using ravel().\n",
      "  estimator.fit(X_train, y_train, **fit_params)\n",
      "C:\\Users\\Nandha Keshore\\anaconda3\\lib\\site-packages\\sklearn\\model_selection\\_validation.py:686: DataConversionWarning: A column-vector y was passed when a 1d array was expected. Please change the shape of y to (n_samples,), for example using ravel().\n",
      "  estimator.fit(X_train, y_train, **fit_params)\n",
      "C:\\Users\\Nandha Keshore\\anaconda3\\lib\\site-packages\\sklearn\\model_selection\\_validation.py:686: DataConversionWarning: A column-vector y was passed when a 1d array was expected. Please change the shape of y to (n_samples,), for example using ravel().\n",
      "  estimator.fit(X_train, y_train, **fit_params)\n",
      "C:\\Users\\Nandha Keshore\\anaconda3\\lib\\site-packages\\sklearn\\model_selection\\_validation.py:686: DataConversionWarning: A column-vector y was passed when a 1d array was expected. Please change the shape of y to (n_samples,), for example using ravel().\n",
      "  estimator.fit(X_train, y_train, **fit_params)\n",
      "C:\\Users\\Nandha Keshore\\anaconda3\\lib\\site-packages\\sklearn\\model_selection\\_validation.py:686: DataConversionWarning: A column-vector y was passed when a 1d array was expected. Please change the shape of y to (n_samples,), for example using ravel().\n",
      "  estimator.fit(X_train, y_train, **fit_params)\n",
      "C:\\Users\\Nandha Keshore\\anaconda3\\lib\\site-packages\\sklearn\\model_selection\\_validation.py:686: DataConversionWarning: A column-vector y was passed when a 1d array was expected. Please change the shape of y to (n_samples,), for example using ravel().\n",
      "  estimator.fit(X_train, y_train, **fit_params)\n",
      "C:\\Users\\Nandha Keshore\\anaconda3\\lib\\site-packages\\sklearn\\model_selection\\_validation.py:686: DataConversionWarning: A column-vector y was passed when a 1d array was expected. Please change the shape of y to (n_samples,), for example using ravel().\n",
      "  estimator.fit(X_train, y_train, **fit_params)\n",
      "C:\\Users\\Nandha Keshore\\anaconda3\\lib\\site-packages\\sklearn\\model_selection\\_validation.py:686: DataConversionWarning: A column-vector y was passed when a 1d array was expected. Please change the shape of y to (n_samples,), for example using ravel().\n",
      "  estimator.fit(X_train, y_train, **fit_params)\n",
      "C:\\Users\\Nandha Keshore\\anaconda3\\lib\\site-packages\\sklearn\\model_selection\\_validation.py:686: DataConversionWarning: A column-vector y was passed when a 1d array was expected. Please change the shape of y to (n_samples,), for example using ravel().\n",
      "  estimator.fit(X_train, y_train, **fit_params)\n",
      "C:\\Users\\Nandha Keshore\\anaconda3\\lib\\site-packages\\sklearn\\model_selection\\_validation.py:686: DataConversionWarning: A column-vector y was passed when a 1d array was expected. Please change the shape of y to (n_samples,), for example using ravel().\n",
      "  estimator.fit(X_train, y_train, **fit_params)\n",
      "C:\\Users\\Nandha Keshore\\anaconda3\\lib\\site-packages\\sklearn\\model_selection\\_validation.py:686: DataConversionWarning: A column-vector y was passed when a 1d array was expected. Please change the shape of y to (n_samples,), for example using ravel().\n",
      "  estimator.fit(X_train, y_train, **fit_params)\n",
      "C:\\Users\\Nandha Keshore\\anaconda3\\lib\\site-packages\\sklearn\\model_selection\\_validation.py:686: DataConversionWarning: A column-vector y was passed when a 1d array was expected. Please change the shape of y to (n_samples,), for example using ravel().\n",
      "  estimator.fit(X_train, y_train, **fit_params)\n",
      "C:\\Users\\Nandha Keshore\\anaconda3\\lib\\site-packages\\sklearn\\model_selection\\_validation.py:686: DataConversionWarning: A column-vector y was passed when a 1d array was expected. Please change the shape of y to (n_samples,), for example using ravel().\n",
      "  estimator.fit(X_train, y_train, **fit_params)\n",
      "C:\\Users\\Nandha Keshore\\anaconda3\\lib\\site-packages\\sklearn\\model_selection\\_validation.py:686: DataConversionWarning: A column-vector y was passed when a 1d array was expected. Please change the shape of y to (n_samples,), for example using ravel().\n",
      "  estimator.fit(X_train, y_train, **fit_params)\n",
      "C:\\Users\\Nandha Keshore\\anaconda3\\lib\\site-packages\\sklearn\\model_selection\\_validation.py:686: DataConversionWarning: A column-vector y was passed when a 1d array was expected. Please change the shape of y to (n_samples,), for example using ravel().\n",
      "  estimator.fit(X_train, y_train, **fit_params)\n",
      "C:\\Users\\Nandha Keshore\\anaconda3\\lib\\site-packages\\sklearn\\model_selection\\_validation.py:686: DataConversionWarning: A column-vector y was passed when a 1d array was expected. Please change the shape of y to (n_samples,), for example using ravel().\n",
      "  estimator.fit(X_train, y_train, **fit_params)\n",
      "C:\\Users\\Nandha Keshore\\anaconda3\\lib\\site-packages\\sklearn\\model_selection\\_validation.py:686: DataConversionWarning: A column-vector y was passed when a 1d array was expected. Please change the shape of y to (n_samples,), for example using ravel().\n",
      "  estimator.fit(X_train, y_train, **fit_params)\n",
      "C:\\Users\\Nandha Keshore\\anaconda3\\lib\\site-packages\\sklearn\\model_selection\\_validation.py:686: DataConversionWarning: A column-vector y was passed when a 1d array was expected. Please change the shape of y to (n_samples,), for example using ravel().\n",
      "  estimator.fit(X_train, y_train, **fit_params)\n",
      "C:\\Users\\Nandha Keshore\\anaconda3\\lib\\site-packages\\sklearn\\model_selection\\_validation.py:686: DataConversionWarning: A column-vector y was passed when a 1d array was expected. Please change the shape of y to (n_samples,), for example using ravel().\n",
      "  estimator.fit(X_train, y_train, **fit_params)\n",
      "C:\\Users\\Nandha Keshore\\anaconda3\\lib\\site-packages\\sklearn\\model_selection\\_validation.py:686: DataConversionWarning: A column-vector y was passed when a 1d array was expected. Please change the shape of y to (n_samples,), for example using ravel().\n",
      "  estimator.fit(X_train, y_train, **fit_params)\n",
      "C:\\Users\\Nandha Keshore\\anaconda3\\lib\\site-packages\\sklearn\\model_selection\\_validation.py:686: DataConversionWarning: A column-vector y was passed when a 1d array was expected. Please change the shape of y to (n_samples,), for example using ravel().\n",
      "  estimator.fit(X_train, y_train, **fit_params)\n",
      "C:\\Users\\Nandha Keshore\\anaconda3\\lib\\site-packages\\sklearn\\model_selection\\_validation.py:686: DataConversionWarning: A column-vector y was passed when a 1d array was expected. Please change the shape of y to (n_samples,), for example using ravel().\n",
      "  estimator.fit(X_train, y_train, **fit_params)\n",
      "C:\\Users\\Nandha Keshore\\anaconda3\\lib\\site-packages\\sklearn\\model_selection\\_validation.py:686: DataConversionWarning: A column-vector y was passed when a 1d array was expected. Please change the shape of y to (n_samples,), for example using ravel().\n",
      "  estimator.fit(X_train, y_train, **fit_params)\n"
     ]
    },
    {
     "name": "stderr",
     "output_type": "stream",
     "text": [
      "C:\\Users\\Nandha Keshore\\anaconda3\\lib\\site-packages\\sklearn\\model_selection\\_validation.py:686: DataConversionWarning: A column-vector y was passed when a 1d array was expected. Please change the shape of y to (n_samples,), for example using ravel().\n",
      "  estimator.fit(X_train, y_train, **fit_params)\n",
      "C:\\Users\\Nandha Keshore\\anaconda3\\lib\\site-packages\\sklearn\\model_selection\\_validation.py:686: DataConversionWarning: A column-vector y was passed when a 1d array was expected. Please change the shape of y to (n_samples,), for example using ravel().\n",
      "  estimator.fit(X_train, y_train, **fit_params)\n",
      "C:\\Users\\Nandha Keshore\\anaconda3\\lib\\site-packages\\sklearn\\model_selection\\_validation.py:686: DataConversionWarning: A column-vector y was passed when a 1d array was expected. Please change the shape of y to (n_samples,), for example using ravel().\n",
      "  estimator.fit(X_train, y_train, **fit_params)\n",
      "C:\\Users\\Nandha Keshore\\anaconda3\\lib\\site-packages\\sklearn\\model_selection\\_validation.py:686: DataConversionWarning: A column-vector y was passed when a 1d array was expected. Please change the shape of y to (n_samples,), for example using ravel().\n",
      "  estimator.fit(X_train, y_train, **fit_params)\n",
      "C:\\Users\\Nandha Keshore\\anaconda3\\lib\\site-packages\\sklearn\\model_selection\\_validation.py:686: DataConversionWarning: A column-vector y was passed when a 1d array was expected. Please change the shape of y to (n_samples,), for example using ravel().\n",
      "  estimator.fit(X_train, y_train, **fit_params)\n",
      "C:\\Users\\Nandha Keshore\\anaconda3\\lib\\site-packages\\sklearn\\model_selection\\_validation.py:686: DataConversionWarning: A column-vector y was passed when a 1d array was expected. Please change the shape of y to (n_samples,), for example using ravel().\n",
      "  estimator.fit(X_train, y_train, **fit_params)\n",
      "C:\\Users\\Nandha Keshore\\anaconda3\\lib\\site-packages\\sklearn\\model_selection\\_validation.py:686: DataConversionWarning: A column-vector y was passed when a 1d array was expected. Please change the shape of y to (n_samples,), for example using ravel().\n",
      "  estimator.fit(X_train, y_train, **fit_params)\n",
      "C:\\Users\\Nandha Keshore\\anaconda3\\lib\\site-packages\\sklearn\\model_selection\\_validation.py:686: DataConversionWarning: A column-vector y was passed when a 1d array was expected. Please change the shape of y to (n_samples,), for example using ravel().\n",
      "  estimator.fit(X_train, y_train, **fit_params)\n",
      "C:\\Users\\Nandha Keshore\\anaconda3\\lib\\site-packages\\sklearn\\model_selection\\_validation.py:686: DataConversionWarning: A column-vector y was passed when a 1d array was expected. Please change the shape of y to (n_samples,), for example using ravel().\n",
      "  estimator.fit(X_train, y_train, **fit_params)\n",
      "C:\\Users\\Nandha Keshore\\anaconda3\\lib\\site-packages\\sklearn\\model_selection\\_validation.py:686: DataConversionWarning: A column-vector y was passed when a 1d array was expected. Please change the shape of y to (n_samples,), for example using ravel().\n",
      "  estimator.fit(X_train, y_train, **fit_params)\n",
      "C:\\Users\\Nandha Keshore\\anaconda3\\lib\\site-packages\\sklearn\\model_selection\\_validation.py:686: DataConversionWarning: A column-vector y was passed when a 1d array was expected. Please change the shape of y to (n_samples,), for example using ravel().\n",
      "  estimator.fit(X_train, y_train, **fit_params)\n",
      "C:\\Users\\Nandha Keshore\\anaconda3\\lib\\site-packages\\sklearn\\model_selection\\_validation.py:686: DataConversionWarning: A column-vector y was passed when a 1d array was expected. Please change the shape of y to (n_samples,), for example using ravel().\n",
      "  estimator.fit(X_train, y_train, **fit_params)\n",
      "C:\\Users\\Nandha Keshore\\anaconda3\\lib\\site-packages\\sklearn\\model_selection\\_validation.py:686: DataConversionWarning: A column-vector y was passed when a 1d array was expected. Please change the shape of y to (n_samples,), for example using ravel().\n",
      "  estimator.fit(X_train, y_train, **fit_params)\n",
      "C:\\Users\\Nandha Keshore\\anaconda3\\lib\\site-packages\\sklearn\\model_selection\\_validation.py:686: DataConversionWarning: A column-vector y was passed when a 1d array was expected. Please change the shape of y to (n_samples,), for example using ravel().\n",
      "  estimator.fit(X_train, y_train, **fit_params)\n",
      "C:\\Users\\Nandha Keshore\\anaconda3\\lib\\site-packages\\sklearn\\model_selection\\_validation.py:686: DataConversionWarning: A column-vector y was passed when a 1d array was expected. Please change the shape of y to (n_samples,), for example using ravel().\n",
      "  estimator.fit(X_train, y_train, **fit_params)\n",
      "C:\\Users\\Nandha Keshore\\anaconda3\\lib\\site-packages\\sklearn\\model_selection\\_validation.py:686: DataConversionWarning: A column-vector y was passed when a 1d array was expected. Please change the shape of y to (n_samples,), for example using ravel().\n",
      "  estimator.fit(X_train, y_train, **fit_params)\n",
      "C:\\Users\\Nandha Keshore\\anaconda3\\lib\\site-packages\\sklearn\\model_selection\\_validation.py:686: DataConversionWarning: A column-vector y was passed when a 1d array was expected. Please change the shape of y to (n_samples,), for example using ravel().\n",
      "  estimator.fit(X_train, y_train, **fit_params)\n",
      "C:\\Users\\Nandha Keshore\\anaconda3\\lib\\site-packages\\sklearn\\model_selection\\_validation.py:686: DataConversionWarning: A column-vector y was passed when a 1d array was expected. Please change the shape of y to (n_samples,), for example using ravel().\n",
      "  estimator.fit(X_train, y_train, **fit_params)\n",
      "C:\\Users\\Nandha Keshore\\anaconda3\\lib\\site-packages\\sklearn\\model_selection\\_validation.py:686: DataConversionWarning: A column-vector y was passed when a 1d array was expected. Please change the shape of y to (n_samples,), for example using ravel().\n",
      "  estimator.fit(X_train, y_train, **fit_params)\n",
      "C:\\Users\\Nandha Keshore\\anaconda3\\lib\\site-packages\\sklearn\\model_selection\\_validation.py:686: DataConversionWarning: A column-vector y was passed when a 1d array was expected. Please change the shape of y to (n_samples,), for example using ravel().\n",
      "  estimator.fit(X_train, y_train, **fit_params)\n",
      "C:\\Users\\Nandha Keshore\\anaconda3\\lib\\site-packages\\sklearn\\model_selection\\_validation.py:686: DataConversionWarning: A column-vector y was passed when a 1d array was expected. Please change the shape of y to (n_samples,), for example using ravel().\n",
      "  estimator.fit(X_train, y_train, **fit_params)\n",
      "C:\\Users\\Nandha Keshore\\anaconda3\\lib\\site-packages\\sklearn\\model_selection\\_validation.py:686: DataConversionWarning: A column-vector y was passed when a 1d array was expected. Please change the shape of y to (n_samples,), for example using ravel().\n",
      "  estimator.fit(X_train, y_train, **fit_params)\n",
      "C:\\Users\\Nandha Keshore\\anaconda3\\lib\\site-packages\\sklearn\\model_selection\\_validation.py:686: DataConversionWarning: A column-vector y was passed when a 1d array was expected. Please change the shape of y to (n_samples,), for example using ravel().\n",
      "  estimator.fit(X_train, y_train, **fit_params)\n",
      "C:\\Users\\Nandha Keshore\\anaconda3\\lib\\site-packages\\sklearn\\model_selection\\_validation.py:686: DataConversionWarning: A column-vector y was passed when a 1d array was expected. Please change the shape of y to (n_samples,), for example using ravel().\n",
      "  estimator.fit(X_train, y_train, **fit_params)\n",
      "C:\\Users\\Nandha Keshore\\anaconda3\\lib\\site-packages\\sklearn\\model_selection\\_validation.py:686: DataConversionWarning: A column-vector y was passed when a 1d array was expected. Please change the shape of y to (n_samples,), for example using ravel().\n",
      "  estimator.fit(X_train, y_train, **fit_params)\n",
      "C:\\Users\\Nandha Keshore\\anaconda3\\lib\\site-packages\\sklearn\\model_selection\\_validation.py:686: DataConversionWarning: A column-vector y was passed when a 1d array was expected. Please change the shape of y to (n_samples,), for example using ravel().\n",
      "  estimator.fit(X_train, y_train, **fit_params)\n",
      "C:\\Users\\Nandha Keshore\\anaconda3\\lib\\site-packages\\sklearn\\model_selection\\_validation.py:686: DataConversionWarning: A column-vector y was passed when a 1d array was expected. Please change the shape of y to (n_samples,), for example using ravel().\n",
      "  estimator.fit(X_train, y_train, **fit_params)\n",
      "C:\\Users\\Nandha Keshore\\anaconda3\\lib\\site-packages\\sklearn\\model_selection\\_validation.py:686: DataConversionWarning: A column-vector y was passed when a 1d array was expected. Please change the shape of y to (n_samples,), for example using ravel().\n",
      "  estimator.fit(X_train, y_train, **fit_params)\n",
      "C:\\Users\\Nandha Keshore\\anaconda3\\lib\\site-packages\\sklearn\\model_selection\\_validation.py:686: DataConversionWarning: A column-vector y was passed when a 1d array was expected. Please change the shape of y to (n_samples,), for example using ravel().\n",
      "  estimator.fit(X_train, y_train, **fit_params)\n",
      "C:\\Users\\Nandha Keshore\\anaconda3\\lib\\site-packages\\sklearn\\model_selection\\_validation.py:686: DataConversionWarning: A column-vector y was passed when a 1d array was expected. Please change the shape of y to (n_samples,), for example using ravel().\n",
      "  estimator.fit(X_train, y_train, **fit_params)\n",
      "C:\\Users\\Nandha Keshore\\anaconda3\\lib\\site-packages\\sklearn\\model_selection\\_validation.py:686: DataConversionWarning: A column-vector y was passed when a 1d array was expected. Please change the shape of y to (n_samples,), for example using ravel().\n",
      "  estimator.fit(X_train, y_train, **fit_params)\n",
      "C:\\Users\\Nandha Keshore\\anaconda3\\lib\\site-packages\\sklearn\\model_selection\\_validation.py:686: DataConversionWarning: A column-vector y was passed when a 1d array was expected. Please change the shape of y to (n_samples,), for example using ravel().\n",
      "  estimator.fit(X_train, y_train, **fit_params)\n",
      "C:\\Users\\Nandha Keshore\\anaconda3\\lib\\site-packages\\sklearn\\model_selection\\_validation.py:686: DataConversionWarning: A column-vector y was passed when a 1d array was expected. Please change the shape of y to (n_samples,), for example using ravel().\n",
      "  estimator.fit(X_train, y_train, **fit_params)\n",
      "C:\\Users\\Nandha Keshore\\anaconda3\\lib\\site-packages\\sklearn\\model_selection\\_validation.py:686: DataConversionWarning: A column-vector y was passed when a 1d array was expected. Please change the shape of y to (n_samples,), for example using ravel().\n",
      "  estimator.fit(X_train, y_train, **fit_params)\n",
      "C:\\Users\\Nandha Keshore\\anaconda3\\lib\\site-packages\\sklearn\\model_selection\\_validation.py:686: DataConversionWarning: A column-vector y was passed when a 1d array was expected. Please change the shape of y to (n_samples,), for example using ravel().\n",
      "  estimator.fit(X_train, y_train, **fit_params)\n",
      "C:\\Users\\Nandha Keshore\\anaconda3\\lib\\site-packages\\sklearn\\model_selection\\_validation.py:686: DataConversionWarning: A column-vector y was passed when a 1d array was expected. Please change the shape of y to (n_samples,), for example using ravel().\n",
      "  estimator.fit(X_train, y_train, **fit_params)\n",
      "C:\\Users\\Nandha Keshore\\anaconda3\\lib\\site-packages\\sklearn\\model_selection\\_validation.py:686: DataConversionWarning: A column-vector y was passed when a 1d array was expected. Please change the shape of y to (n_samples,), for example using ravel().\n",
      "  estimator.fit(X_train, y_train, **fit_params)\n",
      "C:\\Users\\Nandha Keshore\\anaconda3\\lib\\site-packages\\sklearn\\model_selection\\_validation.py:686: DataConversionWarning: A column-vector y was passed when a 1d array was expected. Please change the shape of y to (n_samples,), for example using ravel().\n",
      "  estimator.fit(X_train, y_train, **fit_params)\n",
      "C:\\Users\\Nandha Keshore\\anaconda3\\lib\\site-packages\\sklearn\\model_selection\\_validation.py:686: DataConversionWarning: A column-vector y was passed when a 1d array was expected. Please change the shape of y to (n_samples,), for example using ravel().\n",
      "  estimator.fit(X_train, y_train, **fit_params)\n",
      "C:\\Users\\Nandha Keshore\\anaconda3\\lib\\site-packages\\sklearn\\model_selection\\_validation.py:686: DataConversionWarning: A column-vector y was passed when a 1d array was expected. Please change the shape of y to (n_samples,), for example using ravel().\n",
      "  estimator.fit(X_train, y_train, **fit_params)\n",
      "C:\\Users\\Nandha Keshore\\anaconda3\\lib\\site-packages\\sklearn\\model_selection\\_validation.py:686: DataConversionWarning: A column-vector y was passed when a 1d array was expected. Please change the shape of y to (n_samples,), for example using ravel().\n",
      "  estimator.fit(X_train, y_train, **fit_params)\n",
      "C:\\Users\\Nandha Keshore\\anaconda3\\lib\\site-packages\\sklearn\\model_selection\\_validation.py:686: DataConversionWarning: A column-vector y was passed when a 1d array was expected. Please change the shape of y to (n_samples,), for example using ravel().\n",
      "  estimator.fit(X_train, y_train, **fit_params)\n"
     ]
    },
    {
     "name": "stderr",
     "output_type": "stream",
     "text": [
      "C:\\Users\\Nandha Keshore\\anaconda3\\lib\\site-packages\\sklearn\\model_selection\\_validation.py:686: DataConversionWarning: A column-vector y was passed when a 1d array was expected. Please change the shape of y to (n_samples,), for example using ravel().\n",
      "  estimator.fit(X_train, y_train, **fit_params)\n",
      "C:\\Users\\Nandha Keshore\\anaconda3\\lib\\site-packages\\sklearn\\model_selection\\_validation.py:686: DataConversionWarning: A column-vector y was passed when a 1d array was expected. Please change the shape of y to (n_samples,), for example using ravel().\n",
      "  estimator.fit(X_train, y_train, **fit_params)\n",
      "C:\\Users\\Nandha Keshore\\anaconda3\\lib\\site-packages\\sklearn\\model_selection\\_validation.py:686: DataConversionWarning: A column-vector y was passed when a 1d array was expected. Please change the shape of y to (n_samples,), for example using ravel().\n",
      "  estimator.fit(X_train, y_train, **fit_params)\n",
      "C:\\Users\\Nandha Keshore\\anaconda3\\lib\\site-packages\\sklearn\\model_selection\\_validation.py:686: DataConversionWarning: A column-vector y was passed when a 1d array was expected. Please change the shape of y to (n_samples,), for example using ravel().\n",
      "  estimator.fit(X_train, y_train, **fit_params)\n",
      "C:\\Users\\Nandha Keshore\\anaconda3\\lib\\site-packages\\sklearn\\model_selection\\_validation.py:686: DataConversionWarning: A column-vector y was passed when a 1d array was expected. Please change the shape of y to (n_samples,), for example using ravel().\n",
      "  estimator.fit(X_train, y_train, **fit_params)\n",
      "C:\\Users\\Nandha Keshore\\anaconda3\\lib\\site-packages\\sklearn\\model_selection\\_validation.py:686: DataConversionWarning: A column-vector y was passed when a 1d array was expected. Please change the shape of y to (n_samples,), for example using ravel().\n",
      "  estimator.fit(X_train, y_train, **fit_params)\n",
      "C:\\Users\\Nandha Keshore\\anaconda3\\lib\\site-packages\\sklearn\\model_selection\\_validation.py:686: DataConversionWarning: A column-vector y was passed when a 1d array was expected. Please change the shape of y to (n_samples,), for example using ravel().\n",
      "  estimator.fit(X_train, y_train, **fit_params)\n",
      "C:\\Users\\Nandha Keshore\\anaconda3\\lib\\site-packages\\sklearn\\model_selection\\_validation.py:686: DataConversionWarning: A column-vector y was passed when a 1d array was expected. Please change the shape of y to (n_samples,), for example using ravel().\n",
      "  estimator.fit(X_train, y_train, **fit_params)\n",
      "C:\\Users\\Nandha Keshore\\anaconda3\\lib\\site-packages\\sklearn\\model_selection\\_validation.py:686: DataConversionWarning: A column-vector y was passed when a 1d array was expected. Please change the shape of y to (n_samples,), for example using ravel().\n",
      "  estimator.fit(X_train, y_train, **fit_params)\n",
      "C:\\Users\\Nandha Keshore\\anaconda3\\lib\\site-packages\\sklearn\\model_selection\\_validation.py:686: DataConversionWarning: A column-vector y was passed when a 1d array was expected. Please change the shape of y to (n_samples,), for example using ravel().\n",
      "  estimator.fit(X_train, y_train, **fit_params)\n",
      "C:\\Users\\Nandha Keshore\\anaconda3\\lib\\site-packages\\sklearn\\model_selection\\_validation.py:686: DataConversionWarning: A column-vector y was passed when a 1d array was expected. Please change the shape of y to (n_samples,), for example using ravel().\n",
      "  estimator.fit(X_train, y_train, **fit_params)\n",
      "C:\\Users\\Nandha Keshore\\anaconda3\\lib\\site-packages\\sklearn\\model_selection\\_validation.py:686: DataConversionWarning: A column-vector y was passed when a 1d array was expected. Please change the shape of y to (n_samples,), for example using ravel().\n",
      "  estimator.fit(X_train, y_train, **fit_params)\n",
      "C:\\Users\\Nandha Keshore\\anaconda3\\lib\\site-packages\\sklearn\\model_selection\\_validation.py:686: DataConversionWarning: A column-vector y was passed when a 1d array was expected. Please change the shape of y to (n_samples,), for example using ravel().\n",
      "  estimator.fit(X_train, y_train, **fit_params)\n",
      "C:\\Users\\Nandha Keshore\\anaconda3\\lib\\site-packages\\sklearn\\model_selection\\_validation.py:686: DataConversionWarning: A column-vector y was passed when a 1d array was expected. Please change the shape of y to (n_samples,), for example using ravel().\n",
      "  estimator.fit(X_train, y_train, **fit_params)\n",
      "C:\\Users\\Nandha Keshore\\anaconda3\\lib\\site-packages\\sklearn\\model_selection\\_validation.py:686: DataConversionWarning: A column-vector y was passed when a 1d array was expected. Please change the shape of y to (n_samples,), for example using ravel().\n",
      "  estimator.fit(X_train, y_train, **fit_params)\n",
      "C:\\Users\\Nandha Keshore\\anaconda3\\lib\\site-packages\\sklearn\\model_selection\\_validation.py:686: DataConversionWarning: A column-vector y was passed when a 1d array was expected. Please change the shape of y to (n_samples,), for example using ravel().\n",
      "  estimator.fit(X_train, y_train, **fit_params)\n",
      "C:\\Users\\Nandha Keshore\\anaconda3\\lib\\site-packages\\sklearn\\model_selection\\_validation.py:686: DataConversionWarning: A column-vector y was passed when a 1d array was expected. Please change the shape of y to (n_samples,), for example using ravel().\n",
      "  estimator.fit(X_train, y_train, **fit_params)\n",
      "C:\\Users\\Nandha Keshore\\anaconda3\\lib\\site-packages\\sklearn\\model_selection\\_validation.py:686: DataConversionWarning: A column-vector y was passed when a 1d array was expected. Please change the shape of y to (n_samples,), for example using ravel().\n",
      "  estimator.fit(X_train, y_train, **fit_params)\n",
      "C:\\Users\\Nandha Keshore\\anaconda3\\lib\\site-packages\\sklearn\\model_selection\\_validation.py:686: DataConversionWarning: A column-vector y was passed when a 1d array was expected. Please change the shape of y to (n_samples,), for example using ravel().\n",
      "  estimator.fit(X_train, y_train, **fit_params)\n",
      "C:\\Users\\Nandha Keshore\\anaconda3\\lib\\site-packages\\sklearn\\model_selection\\_validation.py:686: DataConversionWarning: A column-vector y was passed when a 1d array was expected. Please change the shape of y to (n_samples,), for example using ravel().\n",
      "  estimator.fit(X_train, y_train, **fit_params)\n",
      "C:\\Users\\Nandha Keshore\\anaconda3\\lib\\site-packages\\sklearn\\model_selection\\_validation.py:686: DataConversionWarning: A column-vector y was passed when a 1d array was expected. Please change the shape of y to (n_samples,), for example using ravel().\n",
      "  estimator.fit(X_train, y_train, **fit_params)\n",
      "C:\\Users\\Nandha Keshore\\anaconda3\\lib\\site-packages\\sklearn\\model_selection\\_validation.py:686: DataConversionWarning: A column-vector y was passed when a 1d array was expected. Please change the shape of y to (n_samples,), for example using ravel().\n",
      "  estimator.fit(X_train, y_train, **fit_params)\n",
      "C:\\Users\\Nandha Keshore\\anaconda3\\lib\\site-packages\\sklearn\\model_selection\\_validation.py:686: DataConversionWarning: A column-vector y was passed when a 1d array was expected. Please change the shape of y to (n_samples,), for example using ravel().\n",
      "  estimator.fit(X_train, y_train, **fit_params)\n",
      "C:\\Users\\Nandha Keshore\\anaconda3\\lib\\site-packages\\sklearn\\model_selection\\_validation.py:686: DataConversionWarning: A column-vector y was passed when a 1d array was expected. Please change the shape of y to (n_samples,), for example using ravel().\n",
      "  estimator.fit(X_train, y_train, **fit_params)\n",
      "C:\\Users\\Nandha Keshore\\anaconda3\\lib\\site-packages\\sklearn\\model_selection\\_validation.py:686: DataConversionWarning: A column-vector y was passed when a 1d array was expected. Please change the shape of y to (n_samples,), for example using ravel().\n",
      "  estimator.fit(X_train, y_train, **fit_params)\n",
      "C:\\Users\\Nandha Keshore\\anaconda3\\lib\\site-packages\\sklearn\\model_selection\\_validation.py:686: DataConversionWarning: A column-vector y was passed when a 1d array was expected. Please change the shape of y to (n_samples,), for example using ravel().\n",
      "  estimator.fit(X_train, y_train, **fit_params)\n",
      "C:\\Users\\Nandha Keshore\\anaconda3\\lib\\site-packages\\sklearn\\model_selection\\_validation.py:686: DataConversionWarning: A column-vector y was passed when a 1d array was expected. Please change the shape of y to (n_samples,), for example using ravel().\n",
      "  estimator.fit(X_train, y_train, **fit_params)\n",
      "C:\\Users\\Nandha Keshore\\anaconda3\\lib\\site-packages\\sklearn\\model_selection\\_validation.py:686: DataConversionWarning: A column-vector y was passed when a 1d array was expected. Please change the shape of y to (n_samples,), for example using ravel().\n",
      "  estimator.fit(X_train, y_train, **fit_params)\n",
      "C:\\Users\\Nandha Keshore\\anaconda3\\lib\\site-packages\\sklearn\\model_selection\\_validation.py:686: DataConversionWarning: A column-vector y was passed when a 1d array was expected. Please change the shape of y to (n_samples,), for example using ravel().\n",
      "  estimator.fit(X_train, y_train, **fit_params)\n",
      "C:\\Users\\Nandha Keshore\\anaconda3\\lib\\site-packages\\sklearn\\model_selection\\_validation.py:686: DataConversionWarning: A column-vector y was passed when a 1d array was expected. Please change the shape of y to (n_samples,), for example using ravel().\n",
      "  estimator.fit(X_train, y_train, **fit_params)\n",
      "C:\\Users\\Nandha Keshore\\anaconda3\\lib\\site-packages\\sklearn\\model_selection\\_validation.py:686: DataConversionWarning: A column-vector y was passed when a 1d array was expected. Please change the shape of y to (n_samples,), for example using ravel().\n",
      "  estimator.fit(X_train, y_train, **fit_params)\n",
      "C:\\Users\\Nandha Keshore\\anaconda3\\lib\\site-packages\\sklearn\\model_selection\\_validation.py:686: DataConversionWarning: A column-vector y was passed when a 1d array was expected. Please change the shape of y to (n_samples,), for example using ravel().\n",
      "  estimator.fit(X_train, y_train, **fit_params)\n",
      "C:\\Users\\Nandha Keshore\\anaconda3\\lib\\site-packages\\sklearn\\model_selection\\_validation.py:686: DataConversionWarning: A column-vector y was passed when a 1d array was expected. Please change the shape of y to (n_samples,), for example using ravel().\n",
      "  estimator.fit(X_train, y_train, **fit_params)\n",
      "C:\\Users\\Nandha Keshore\\anaconda3\\lib\\site-packages\\sklearn\\model_selection\\_validation.py:686: DataConversionWarning: A column-vector y was passed when a 1d array was expected. Please change the shape of y to (n_samples,), for example using ravel().\n",
      "  estimator.fit(X_train, y_train, **fit_params)\n",
      "C:\\Users\\Nandha Keshore\\anaconda3\\lib\\site-packages\\sklearn\\model_selection\\_validation.py:686: DataConversionWarning: A column-vector y was passed when a 1d array was expected. Please change the shape of y to (n_samples,), for example using ravel().\n",
      "  estimator.fit(X_train, y_train, **fit_params)\n",
      "C:\\Users\\Nandha Keshore\\anaconda3\\lib\\site-packages\\sklearn\\model_selection\\_validation.py:686: DataConversionWarning: A column-vector y was passed when a 1d array was expected. Please change the shape of y to (n_samples,), for example using ravel().\n",
      "  estimator.fit(X_train, y_train, **fit_params)\n"
     ]
    },
    {
     "name": "stderr",
     "output_type": "stream",
     "text": [
      "C:\\Users\\Nandha Keshore\\anaconda3\\lib\\site-packages\\sklearn\\model_selection\\_validation.py:686: DataConversionWarning: A column-vector y was passed when a 1d array was expected. Please change the shape of y to (n_samples,), for example using ravel().\n",
      "  estimator.fit(X_train, y_train, **fit_params)\n",
      "C:\\Users\\Nandha Keshore\\anaconda3\\lib\\site-packages\\sklearn\\model_selection\\_validation.py:686: DataConversionWarning: A column-vector y was passed when a 1d array was expected. Please change the shape of y to (n_samples,), for example using ravel().\n",
      "  estimator.fit(X_train, y_train, **fit_params)\n",
      "C:\\Users\\Nandha Keshore\\anaconda3\\lib\\site-packages\\sklearn\\model_selection\\_validation.py:686: DataConversionWarning: A column-vector y was passed when a 1d array was expected. Please change the shape of y to (n_samples,), for example using ravel().\n",
      "  estimator.fit(X_train, y_train, **fit_params)\n",
      "C:\\Users\\Nandha Keshore\\anaconda3\\lib\\site-packages\\sklearn\\model_selection\\_validation.py:686: DataConversionWarning: A column-vector y was passed when a 1d array was expected. Please change the shape of y to (n_samples,), for example using ravel().\n",
      "  estimator.fit(X_train, y_train, **fit_params)\n",
      "C:\\Users\\Nandha Keshore\\anaconda3\\lib\\site-packages\\sklearn\\model_selection\\_validation.py:686: DataConversionWarning: A column-vector y was passed when a 1d array was expected. Please change the shape of y to (n_samples,), for example using ravel().\n",
      "  estimator.fit(X_train, y_train, **fit_params)\n",
      "C:\\Users\\Nandha Keshore\\anaconda3\\lib\\site-packages\\sklearn\\model_selection\\_validation.py:686: DataConversionWarning: A column-vector y was passed when a 1d array was expected. Please change the shape of y to (n_samples,), for example using ravel().\n",
      "  estimator.fit(X_train, y_train, **fit_params)\n",
      "C:\\Users\\Nandha Keshore\\anaconda3\\lib\\site-packages\\sklearn\\model_selection\\_validation.py:686: DataConversionWarning: A column-vector y was passed when a 1d array was expected. Please change the shape of y to (n_samples,), for example using ravel().\n",
      "  estimator.fit(X_train, y_train, **fit_params)\n",
      "C:\\Users\\Nandha Keshore\\anaconda3\\lib\\site-packages\\sklearn\\model_selection\\_validation.py:686: DataConversionWarning: A column-vector y was passed when a 1d array was expected. Please change the shape of y to (n_samples,), for example using ravel().\n",
      "  estimator.fit(X_train, y_train, **fit_params)\n",
      "C:\\Users\\Nandha Keshore\\anaconda3\\lib\\site-packages\\sklearn\\model_selection\\_validation.py:686: DataConversionWarning: A column-vector y was passed when a 1d array was expected. Please change the shape of y to (n_samples,), for example using ravel().\n",
      "  estimator.fit(X_train, y_train, **fit_params)\n",
      "C:\\Users\\Nandha Keshore\\anaconda3\\lib\\site-packages\\sklearn\\model_selection\\_validation.py:686: DataConversionWarning: A column-vector y was passed when a 1d array was expected. Please change the shape of y to (n_samples,), for example using ravel().\n",
      "  estimator.fit(X_train, y_train, **fit_params)\n",
      "C:\\Users\\Nandha Keshore\\anaconda3\\lib\\site-packages\\sklearn\\model_selection\\_validation.py:686: DataConversionWarning: A column-vector y was passed when a 1d array was expected. Please change the shape of y to (n_samples,), for example using ravel().\n",
      "  estimator.fit(X_train, y_train, **fit_params)\n",
      "C:\\Users\\Nandha Keshore\\anaconda3\\lib\\site-packages\\sklearn\\model_selection\\_validation.py:686: DataConversionWarning: A column-vector y was passed when a 1d array was expected. Please change the shape of y to (n_samples,), for example using ravel().\n",
      "  estimator.fit(X_train, y_train, **fit_params)\n",
      "C:\\Users\\Nandha Keshore\\anaconda3\\lib\\site-packages\\sklearn\\model_selection\\_validation.py:686: DataConversionWarning: A column-vector y was passed when a 1d array was expected. Please change the shape of y to (n_samples,), for example using ravel().\n",
      "  estimator.fit(X_train, y_train, **fit_params)\n",
      "C:\\Users\\Nandha Keshore\\anaconda3\\lib\\site-packages\\sklearn\\model_selection\\_validation.py:686: DataConversionWarning: A column-vector y was passed when a 1d array was expected. Please change the shape of y to (n_samples,), for example using ravel().\n",
      "  estimator.fit(X_train, y_train, **fit_params)\n",
      "C:\\Users\\Nandha Keshore\\anaconda3\\lib\\site-packages\\sklearn\\model_selection\\_validation.py:686: DataConversionWarning: A column-vector y was passed when a 1d array was expected. Please change the shape of y to (n_samples,), for example using ravel().\n",
      "  estimator.fit(X_train, y_train, **fit_params)\n",
      "C:\\Users\\Nandha Keshore\\anaconda3\\lib\\site-packages\\sklearn\\model_selection\\_validation.py:686: DataConversionWarning: A column-vector y was passed when a 1d array was expected. Please change the shape of y to (n_samples,), for example using ravel().\n",
      "  estimator.fit(X_train, y_train, **fit_params)\n",
      "C:\\Users\\Nandha Keshore\\anaconda3\\lib\\site-packages\\sklearn\\model_selection\\_validation.py:686: DataConversionWarning: A column-vector y was passed when a 1d array was expected. Please change the shape of y to (n_samples,), for example using ravel().\n",
      "  estimator.fit(X_train, y_train, **fit_params)\n",
      "C:\\Users\\Nandha Keshore\\anaconda3\\lib\\site-packages\\sklearn\\model_selection\\_validation.py:686: DataConversionWarning: A column-vector y was passed when a 1d array was expected. Please change the shape of y to (n_samples,), for example using ravel().\n",
      "  estimator.fit(X_train, y_train, **fit_params)\n",
      "C:\\Users\\Nandha Keshore\\anaconda3\\lib\\site-packages\\sklearn\\model_selection\\_validation.py:686: DataConversionWarning: A column-vector y was passed when a 1d array was expected. Please change the shape of y to (n_samples,), for example using ravel().\n",
      "  estimator.fit(X_train, y_train, **fit_params)\n",
      "C:\\Users\\Nandha Keshore\\anaconda3\\lib\\site-packages\\sklearn\\model_selection\\_validation.py:686: DataConversionWarning: A column-vector y was passed when a 1d array was expected. Please change the shape of y to (n_samples,), for example using ravel().\n",
      "  estimator.fit(X_train, y_train, **fit_params)\n",
      "C:\\Users\\Nandha Keshore\\anaconda3\\lib\\site-packages\\sklearn\\model_selection\\_validation.py:686: DataConversionWarning: A column-vector y was passed when a 1d array was expected. Please change the shape of y to (n_samples,), for example using ravel().\n",
      "  estimator.fit(X_train, y_train, **fit_params)\n",
      "C:\\Users\\Nandha Keshore\\anaconda3\\lib\\site-packages\\sklearn\\model_selection\\_validation.py:686: DataConversionWarning: A column-vector y was passed when a 1d array was expected. Please change the shape of y to (n_samples,), for example using ravel().\n",
      "  estimator.fit(X_train, y_train, **fit_params)\n",
      "C:\\Users\\Nandha Keshore\\anaconda3\\lib\\site-packages\\sklearn\\model_selection\\_validation.py:686: DataConversionWarning: A column-vector y was passed when a 1d array was expected. Please change the shape of y to (n_samples,), for example using ravel().\n",
      "  estimator.fit(X_train, y_train, **fit_params)\n",
      "C:\\Users\\Nandha Keshore\\anaconda3\\lib\\site-packages\\sklearn\\model_selection\\_validation.py:686: DataConversionWarning: A column-vector y was passed when a 1d array was expected. Please change the shape of y to (n_samples,), for example using ravel().\n",
      "  estimator.fit(X_train, y_train, **fit_params)\n",
      "C:\\Users\\Nandha Keshore\\anaconda3\\lib\\site-packages\\sklearn\\model_selection\\_validation.py:686: DataConversionWarning: A column-vector y was passed when a 1d array was expected. Please change the shape of y to (n_samples,), for example using ravel().\n",
      "  estimator.fit(X_train, y_train, **fit_params)\n",
      "C:\\Users\\Nandha Keshore\\anaconda3\\lib\\site-packages\\sklearn\\model_selection\\_validation.py:686: DataConversionWarning: A column-vector y was passed when a 1d array was expected. Please change the shape of y to (n_samples,), for example using ravel().\n",
      "  estimator.fit(X_train, y_train, **fit_params)\n",
      "C:\\Users\\Nandha Keshore\\anaconda3\\lib\\site-packages\\sklearn\\model_selection\\_validation.py:686: DataConversionWarning: A column-vector y was passed when a 1d array was expected. Please change the shape of y to (n_samples,), for example using ravel().\n",
      "  estimator.fit(X_train, y_train, **fit_params)\n",
      "C:\\Users\\Nandha Keshore\\anaconda3\\lib\\site-packages\\sklearn\\model_selection\\_validation.py:686: DataConversionWarning: A column-vector y was passed when a 1d array was expected. Please change the shape of y to (n_samples,), for example using ravel().\n",
      "  estimator.fit(X_train, y_train, **fit_params)\n",
      "C:\\Users\\Nandha Keshore\\anaconda3\\lib\\site-packages\\sklearn\\model_selection\\_validation.py:686: DataConversionWarning: A column-vector y was passed when a 1d array was expected. Please change the shape of y to (n_samples,), for example using ravel().\n",
      "  estimator.fit(X_train, y_train, **fit_params)\n",
      "C:\\Users\\Nandha Keshore\\anaconda3\\lib\\site-packages\\sklearn\\model_selection\\_validation.py:686: DataConversionWarning: A column-vector y was passed when a 1d array was expected. Please change the shape of y to (n_samples,), for example using ravel().\n",
      "  estimator.fit(X_train, y_train, **fit_params)\n",
      "C:\\Users\\Nandha Keshore\\anaconda3\\lib\\site-packages\\sklearn\\model_selection\\_validation.py:686: DataConversionWarning: A column-vector y was passed when a 1d array was expected. Please change the shape of y to (n_samples,), for example using ravel().\n",
      "  estimator.fit(X_train, y_train, **fit_params)\n",
      "C:\\Users\\Nandha Keshore\\anaconda3\\lib\\site-packages\\sklearn\\model_selection\\_validation.py:686: DataConversionWarning: A column-vector y was passed when a 1d array was expected. Please change the shape of y to (n_samples,), for example using ravel().\n",
      "  estimator.fit(X_train, y_train, **fit_params)\n",
      "C:\\Users\\Nandha Keshore\\anaconda3\\lib\\site-packages\\sklearn\\model_selection\\_validation.py:686: DataConversionWarning: A column-vector y was passed when a 1d array was expected. Please change the shape of y to (n_samples,), for example using ravel().\n",
      "  estimator.fit(X_train, y_train, **fit_params)\n",
      "C:\\Users\\Nandha Keshore\\anaconda3\\lib\\site-packages\\sklearn\\model_selection\\_validation.py:686: DataConversionWarning: A column-vector y was passed when a 1d array was expected. Please change the shape of y to (n_samples,), for example using ravel().\n",
      "  estimator.fit(X_train, y_train, **fit_params)\n",
      "C:\\Users\\Nandha Keshore\\anaconda3\\lib\\site-packages\\sklearn\\model_selection\\_validation.py:686: DataConversionWarning: A column-vector y was passed when a 1d array was expected. Please change the shape of y to (n_samples,), for example using ravel().\n",
      "  estimator.fit(X_train, y_train, **fit_params)\n"
     ]
    },
    {
     "name": "stderr",
     "output_type": "stream",
     "text": [
      "C:\\Users\\Nandha Keshore\\anaconda3\\lib\\site-packages\\sklearn\\model_selection\\_validation.py:686: DataConversionWarning: A column-vector y was passed when a 1d array was expected. Please change the shape of y to (n_samples,), for example using ravel().\n",
      "  estimator.fit(X_train, y_train, **fit_params)\n",
      "C:\\Users\\Nandha Keshore\\anaconda3\\lib\\site-packages\\sklearn\\model_selection\\_validation.py:686: DataConversionWarning: A column-vector y was passed when a 1d array was expected. Please change the shape of y to (n_samples,), for example using ravel().\n",
      "  estimator.fit(X_train, y_train, **fit_params)\n",
      "C:\\Users\\Nandha Keshore\\anaconda3\\lib\\site-packages\\sklearn\\model_selection\\_validation.py:686: DataConversionWarning: A column-vector y was passed when a 1d array was expected. Please change the shape of y to (n_samples,), for example using ravel().\n",
      "  estimator.fit(X_train, y_train, **fit_params)\n",
      "C:\\Users\\Nandha Keshore\\anaconda3\\lib\\site-packages\\sklearn\\model_selection\\_validation.py:686: DataConversionWarning: A column-vector y was passed when a 1d array was expected. Please change the shape of y to (n_samples,), for example using ravel().\n",
      "  estimator.fit(X_train, y_train, **fit_params)\n",
      "C:\\Users\\Nandha Keshore\\anaconda3\\lib\\site-packages\\sklearn\\model_selection\\_validation.py:686: DataConversionWarning: A column-vector y was passed when a 1d array was expected. Please change the shape of y to (n_samples,), for example using ravel().\n",
      "  estimator.fit(X_train, y_train, **fit_params)\n",
      "C:\\Users\\Nandha Keshore\\anaconda3\\lib\\site-packages\\sklearn\\model_selection\\_validation.py:686: DataConversionWarning: A column-vector y was passed when a 1d array was expected. Please change the shape of y to (n_samples,), for example using ravel().\n",
      "  estimator.fit(X_train, y_train, **fit_params)\n",
      "C:\\Users\\Nandha Keshore\\anaconda3\\lib\\site-packages\\sklearn\\model_selection\\_validation.py:686: DataConversionWarning: A column-vector y was passed when a 1d array was expected. Please change the shape of y to (n_samples,), for example using ravel().\n",
      "  estimator.fit(X_train, y_train, **fit_params)\n",
      "C:\\Users\\Nandha Keshore\\anaconda3\\lib\\site-packages\\sklearn\\model_selection\\_validation.py:378: FitFailedWarning: \n",
      "144 fits failed out of a total of 288.\n",
      "The score on these train-test partitions for these parameters will be set to nan.\n",
      "If these failures are not expected, you can try to debug them by setting error_score='raise'.\n",
      "\n",
      "Below are more details about the failures:\n",
      "--------------------------------------------------------------------------------\n",
      "144 fits failed with the following error:\n",
      "Traceback (most recent call last):\n",
      "  File \"C:\\Users\\Nandha Keshore\\anaconda3\\lib\\site-packages\\sklearn\\model_selection\\_validation.py\", line 686, in _fit_and_score\n",
      "    estimator.fit(X_train, y_train, **fit_params)\n",
      "  File \"C:\\Users\\Nandha Keshore\\anaconda3\\lib\\site-packages\\sklearn\\ensemble\\_forest.py\", line 371, in fit\n",
      "    y, expanded_class_weight = self._validate_y_class_weight(y)\n",
      "  File \"C:\\Users\\Nandha Keshore\\anaconda3\\lib\\site-packages\\sklearn\\ensemble\\_forest.py\", line 782, in _validate_y_class_weight\n",
      "    raise ValueError(\n",
      "ValueError: Valid presets for class_weight include \"balanced\" and \"balanced_subsample\".Given \"None\".\n",
      "\n",
      "  warnings.warn(some_fits_failed_message, FitFailedWarning)\n",
      "C:\\Users\\Nandha Keshore\\anaconda3\\lib\\site-packages\\sklearn\\model_selection\\_search.py:953: UserWarning: One or more of the test scores are non-finite: [0.96971777 0.96926011 0.96796339 0.96803966 0.96315789 0.96300534\n",
      " 0.96285278 0.96399695 0.96872616 0.96979405 0.96773455 0.96811594\n",
      " 0.96300534 0.96346301 0.96262395 0.96315789 0.96948894 0.9706331\n",
      " 0.96880244 0.96811594 0.96453089 0.964836   0.96392067 0.96346301\n",
      " 0.96987033 0.97078566 0.968955   0.96956522 0.96559878 0.96437834\n",
      " 0.96437834 0.96407323 0.9696415  0.96987033 0.96849733 0.96918383\n",
      " 0.96392067 0.96514111 0.96460717 0.96437834 0.96971777 0.96994661\n",
      " 0.96803966 0.96834477 0.96346301 0.96514111 0.96437834 0.96445461\n",
      "        nan        nan        nan        nan        nan        nan\n",
      "        nan        nan        nan        nan        nan        nan\n",
      "        nan        nan        nan        nan        nan        nan\n",
      "        nan        nan        nan        nan        nan        nan\n",
      "        nan        nan        nan        nan        nan        nan\n",
      "        nan        nan        nan        nan        nan        nan\n",
      "        nan        nan        nan        nan        nan        nan\n",
      "        nan        nan        nan        nan        nan        nan]\n",
      "  warnings.warn(\n",
      "C:\\Users\\Nandha Keshore\\anaconda3\\lib\\site-packages\\sklearn\\model_selection\\_search.py:910: DataConversionWarning: A column-vector y was passed when a 1d array was expected. Please change the shape of y to (n_samples,), for example using ravel().\n",
      "  self.best_estimator_.fit(X, y, **fit_params)\n"
     ]
    },
    {
     "data": {
      "text/html": [
       "<style>#sk-container-id-4 {color: black;background-color: white;}#sk-container-id-4 pre{padding: 0;}#sk-container-id-4 div.sk-toggleable {background-color: white;}#sk-container-id-4 label.sk-toggleable__label {cursor: pointer;display: block;width: 100%;margin-bottom: 0;padding: 0.3em;box-sizing: border-box;text-align: center;}#sk-container-id-4 label.sk-toggleable__label-arrow:before {content: \"▸\";float: left;margin-right: 0.25em;color: #696969;}#sk-container-id-4 label.sk-toggleable__label-arrow:hover:before {color: black;}#sk-container-id-4 div.sk-estimator:hover label.sk-toggleable__label-arrow:before {color: black;}#sk-container-id-4 div.sk-toggleable__content {max-height: 0;max-width: 0;overflow: hidden;text-align: left;background-color: #f0f8ff;}#sk-container-id-4 div.sk-toggleable__content pre {margin: 0.2em;color: black;border-radius: 0.25em;background-color: #f0f8ff;}#sk-container-id-4 input.sk-toggleable__control:checked~div.sk-toggleable__content {max-height: 200px;max-width: 100%;overflow: auto;}#sk-container-id-4 input.sk-toggleable__control:checked~label.sk-toggleable__label-arrow:before {content: \"▾\";}#sk-container-id-4 div.sk-estimator input.sk-toggleable__control:checked~label.sk-toggleable__label {background-color: #d4ebff;}#sk-container-id-4 div.sk-label input.sk-toggleable__control:checked~label.sk-toggleable__label {background-color: #d4ebff;}#sk-container-id-4 input.sk-hidden--visually {border: 0;clip: rect(1px 1px 1px 1px);clip: rect(1px, 1px, 1px, 1px);height: 1px;margin: -1px;overflow: hidden;padding: 0;position: absolute;width: 1px;}#sk-container-id-4 div.sk-estimator {font-family: monospace;background-color: #f0f8ff;border: 1px dotted black;border-radius: 0.25em;box-sizing: border-box;margin-bottom: 0.5em;}#sk-container-id-4 div.sk-estimator:hover {background-color: #d4ebff;}#sk-container-id-4 div.sk-parallel-item::after {content: \"\";width: 100%;border-bottom: 1px solid gray;flex-grow: 1;}#sk-container-id-4 div.sk-label:hover label.sk-toggleable__label {background-color: #d4ebff;}#sk-container-id-4 div.sk-serial::before {content: \"\";position: absolute;border-left: 1px solid gray;box-sizing: border-box;top: 0;bottom: 0;left: 50%;z-index: 0;}#sk-container-id-4 div.sk-serial {display: flex;flex-direction: column;align-items: center;background-color: white;padding-right: 0.2em;padding-left: 0.2em;position: relative;}#sk-container-id-4 div.sk-item {position: relative;z-index: 1;}#sk-container-id-4 div.sk-parallel {display: flex;align-items: stretch;justify-content: center;background-color: white;position: relative;}#sk-container-id-4 div.sk-item::before, #sk-container-id-4 div.sk-parallel-item::before {content: \"\";position: absolute;border-left: 1px solid gray;box-sizing: border-box;top: 0;bottom: 0;left: 50%;z-index: -1;}#sk-container-id-4 div.sk-parallel-item {display: flex;flex-direction: column;z-index: 1;position: relative;background-color: white;}#sk-container-id-4 div.sk-parallel-item:first-child::after {align-self: flex-end;width: 50%;}#sk-container-id-4 div.sk-parallel-item:last-child::after {align-self: flex-start;width: 50%;}#sk-container-id-4 div.sk-parallel-item:only-child::after {width: 0;}#sk-container-id-4 div.sk-dashed-wrapped {border: 1px dashed gray;margin: 0 0.4em 0.5em 0.4em;box-sizing: border-box;padding-bottom: 0.4em;background-color: white;}#sk-container-id-4 div.sk-label label {font-family: monospace;font-weight: bold;display: inline-block;line-height: 1.2em;}#sk-container-id-4 div.sk-label-container {text-align: center;}#sk-container-id-4 div.sk-container {/* jupyter's `normalize.less` sets `[hidden] { display: none; }` but bootstrap.min.css set `[hidden] { display: none !important; }` so we also need the `!important` here to be able to override the default hidden behavior on the sphinx rendered scikit-learn.org. See: https://github.com/scikit-learn/scikit-learn/issues/21755 */display: inline-block !important;position: relative;}#sk-container-id-4 div.sk-text-repr-fallback {display: none;}</style><div id=\"sk-container-id-4\" class=\"sk-top-container\"><div class=\"sk-text-repr-fallback\"><pre>GridSearchCV(cv=3, estimator=RandomForestClassifier(),\n",
       "             param_grid={&#x27;class_weight&#x27;: [&#x27;balanced&#x27;, &#x27;None&#x27;],\n",
       "                         &#x27;criterion&#x27;: [&#x27;gini&#x27;, &#x27;entropy&#x27;, &#x27;log_loss&#x27;],\n",
       "                         &#x27;max_features&#x27;: [&#x27;sqrt&#x27;, &#x27;log2&#x27;],\n",
       "                         &#x27;min_samples_leaf&#x27;: [1, 2],\n",
       "                         &#x27;min_samples_split&#x27;: [2, 3],\n",
       "                         &#x27;n_estimators&#x27;: [100, 300]})</pre><b>In a Jupyter environment, please rerun this cell to show the HTML representation or trust the notebook. <br />On GitHub, the HTML representation is unable to render, please try loading this page with nbviewer.org.</b></div><div class=\"sk-container\" hidden><div class=\"sk-item sk-dashed-wrapped\"><div class=\"sk-label-container\"><div class=\"sk-label sk-toggleable\"><input class=\"sk-toggleable__control sk-hidden--visually\" id=\"sk-estimator-id-6\" type=\"checkbox\" ><label for=\"sk-estimator-id-6\" class=\"sk-toggleable__label sk-toggleable__label-arrow\">GridSearchCV</label><div class=\"sk-toggleable__content\"><pre>GridSearchCV(cv=3, estimator=RandomForestClassifier(),\n",
       "             param_grid={&#x27;class_weight&#x27;: [&#x27;balanced&#x27;, &#x27;None&#x27;],\n",
       "                         &#x27;criterion&#x27;: [&#x27;gini&#x27;, &#x27;entropy&#x27;, &#x27;log_loss&#x27;],\n",
       "                         &#x27;max_features&#x27;: [&#x27;sqrt&#x27;, &#x27;log2&#x27;],\n",
       "                         &#x27;min_samples_leaf&#x27;: [1, 2],\n",
       "                         &#x27;min_samples_split&#x27;: [2, 3],\n",
       "                         &#x27;n_estimators&#x27;: [100, 300]})</pre></div></div></div><div class=\"sk-parallel\"><div class=\"sk-parallel-item\"><div class=\"sk-item\"><div class=\"sk-label-container\"><div class=\"sk-label sk-toggleable\"><input class=\"sk-toggleable__control sk-hidden--visually\" id=\"sk-estimator-id-7\" type=\"checkbox\" ><label for=\"sk-estimator-id-7\" class=\"sk-toggleable__label sk-toggleable__label-arrow\">estimator: RandomForestClassifier</label><div class=\"sk-toggleable__content\"><pre>RandomForestClassifier()</pre></div></div></div><div class=\"sk-serial\"><div class=\"sk-item\"><div class=\"sk-estimator sk-toggleable\"><input class=\"sk-toggleable__control sk-hidden--visually\" id=\"sk-estimator-id-8\" type=\"checkbox\" ><label for=\"sk-estimator-id-8\" class=\"sk-toggleable__label sk-toggleable__label-arrow\">RandomForestClassifier</label><div class=\"sk-toggleable__content\"><pre>RandomForestClassifier()</pre></div></div></div></div></div></div></div></div></div></div>"
      ],
      "text/plain": [
       "GridSearchCV(cv=3, estimator=RandomForestClassifier(),\n",
       "             param_grid={'class_weight': ['balanced', 'None'],\n",
       "                         'criterion': ['gini', 'entropy', 'log_loss'],\n",
       "                         'max_features': ['sqrt', 'log2'],\n",
       "                         'min_samples_leaf': [1, 2],\n",
       "                         'min_samples_split': [2, 3],\n",
       "                         'n_estimators': [100, 300]})"
      ]
     },
     "execution_count": 74,
     "metadata": {},
     "output_type": "execute_result"
    }
   ],
   "source": [
    "grid_search_rf.fit(X_train, y_train)"
   ]
  },
  {
   "cell_type": "code",
   "execution_count": 75,
   "id": "4f2c2cd6",
   "metadata": {},
   "outputs": [
    {
     "name": "stdout",
     "output_type": "stream",
     "text": [
      "{'class_weight': 'balanced', 'criterion': 'entropy', 'max_features': 'log2', 'min_samples_leaf': 1, 'min_samples_split': 2, 'n_estimators': 300}\n"
     ]
    }
   ],
   "source": [
    "print(grid_search_rf.best_params_)"
   ]
  },
  {
   "cell_type": "code",
   "execution_count": 76,
   "id": "19212899",
   "metadata": {},
   "outputs": [],
   "source": [
    "best_grid_rf = grid_search_rf.best_estimator_"
   ]
  },
  {
   "cell_type": "code",
   "execution_count": null,
   "id": "240502d5",
   "metadata": {},
   "outputs": [],
   "source": []
  },
  {
   "cell_type": "markdown",
   "id": "b6304f68",
   "metadata": {},
   "source": [
    "##### Model_evaluation"
   ]
  },
  {
   "cell_type": "code",
   "execution_count": 77,
   "id": "c11d92de",
   "metadata": {},
   "outputs": [
    {
     "data": {
      "text/plain": [
       "1.0"
      ]
     },
     "execution_count": 77,
     "metadata": {},
     "output_type": "execute_result"
    }
   ],
   "source": [
    "rfg_train_score = best_grid_rf.score(X_train, y_train)\n",
    "rfg_train_score"
   ]
  },
  {
   "cell_type": "code",
   "execution_count": 78,
   "id": "4b1d926b",
   "metadata": {
    "scrolled": true
   },
   "outputs": [
    {
     "data": {
      "text/plain": [
       "0.9736530491415039"
      ]
     },
     "execution_count": 78,
     "metadata": {},
     "output_type": "execute_result"
    }
   ],
   "source": [
    "rfg_test_score = best_grid_rf.score(X_test, y_test)\n",
    "rfg_test_score"
   ]
  },
  {
   "cell_type": "code",
   "execution_count": 79,
   "id": "851f1a45",
   "metadata": {},
   "outputs": [],
   "source": [
    "y_pred_rfg_train = best_grid_rf.predict(X_train)\n",
    "y_pred_rfg_test = best_grid_rf.predict(X_test)"
   ]
  },
  {
   "cell_type": "code",
   "execution_count": 80,
   "id": "49c8bae0",
   "metadata": {
    "scrolled": true
   },
   "outputs": [
    {
     "data": {
      "text/plain": [
       "array([[6555,    0],\n",
       "       [   0, 6555]], dtype=int64)"
      ]
     },
     "execution_count": 80,
     "metadata": {},
     "output_type": "execute_result"
    }
   ],
   "source": [
    "confusion_matrix(y_train, y_pred_rfg_train)"
   ]
  },
  {
   "cell_type": "code",
   "execution_count": 81,
   "id": "3a836197",
   "metadata": {},
   "outputs": [
    {
     "data": {
      "text/plain": [
       "array([[2784,   25],\n",
       "       [  64,  505]], dtype=int64)"
      ]
     },
     "execution_count": 81,
     "metadata": {},
     "output_type": "execute_result"
    }
   ],
   "source": [
    "confusion_matrix(y_test, y_pred_rfg_test)"
   ]
  },
  {
   "cell_type": "code",
   "execution_count": 82,
   "id": "bc8c5f95",
   "metadata": {},
   "outputs": [
    {
     "data": {
      "text/html": [
       "<div>\n",
       "<style scoped>\n",
       "    .dataframe tbody tr th:only-of-type {\n",
       "        vertical-align: middle;\n",
       "    }\n",
       "\n",
       "    .dataframe tbody tr th {\n",
       "        vertical-align: top;\n",
       "    }\n",
       "\n",
       "    .dataframe thead th {\n",
       "        text-align: right;\n",
       "    }\n",
       "</style>\n",
       "<table border=\"1\" class=\"dataframe\">\n",
       "  <thead>\n",
       "    <tr style=\"text-align: right;\">\n",
       "      <th></th>\n",
       "      <th>precision</th>\n",
       "      <th>recall</th>\n",
       "      <th>f1-score</th>\n",
       "      <th>support</th>\n",
       "    </tr>\n",
       "  </thead>\n",
       "  <tbody>\n",
       "    <tr>\n",
       "      <th>0</th>\n",
       "      <td>1.0</td>\n",
       "      <td>1.0</td>\n",
       "      <td>1.0</td>\n",
       "      <td>6555.0</td>\n",
       "    </tr>\n",
       "    <tr>\n",
       "      <th>1</th>\n",
       "      <td>1.0</td>\n",
       "      <td>1.0</td>\n",
       "      <td>1.0</td>\n",
       "      <td>6555.0</td>\n",
       "    </tr>\n",
       "    <tr>\n",
       "      <th>accuracy</th>\n",
       "      <td>1.0</td>\n",
       "      <td>1.0</td>\n",
       "      <td>1.0</td>\n",
       "      <td>1.0</td>\n",
       "    </tr>\n",
       "    <tr>\n",
       "      <th>macro avg</th>\n",
       "      <td>1.0</td>\n",
       "      <td>1.0</td>\n",
       "      <td>1.0</td>\n",
       "      <td>13110.0</td>\n",
       "    </tr>\n",
       "    <tr>\n",
       "      <th>weighted avg</th>\n",
       "      <td>1.0</td>\n",
       "      <td>1.0</td>\n",
       "      <td>1.0</td>\n",
       "      <td>13110.0</td>\n",
       "    </tr>\n",
       "  </tbody>\n",
       "</table>\n",
       "</div>"
      ],
      "text/plain": [
       "              precision  recall  f1-score  support\n",
       "0                   1.0     1.0       1.0   6555.0\n",
       "1                   1.0     1.0       1.0   6555.0\n",
       "accuracy            1.0     1.0       1.0      1.0\n",
       "macro avg           1.0     1.0       1.0  13110.0\n",
       "weighted avg        1.0     1.0       1.0  13110.0"
      ]
     },
     "execution_count": 82,
     "metadata": {},
     "output_type": "execute_result"
    }
   ],
   "source": [
    "df_rfg_train=pd.DataFrame(classification_report(y_train, y_pred_rfg_train, output_dict=True)).T\n",
    "df_rfg_train"
   ]
  },
  {
   "cell_type": "code",
   "execution_count": 83,
   "id": "59fd87fe",
   "metadata": {},
   "outputs": [
    {
     "data": {
      "text/html": [
       "<div>\n",
       "<style scoped>\n",
       "    .dataframe tbody tr th:only-of-type {\n",
       "        vertical-align: middle;\n",
       "    }\n",
       "\n",
       "    .dataframe tbody tr th {\n",
       "        vertical-align: top;\n",
       "    }\n",
       "\n",
       "    .dataframe thead th {\n",
       "        text-align: right;\n",
       "    }\n",
       "</style>\n",
       "<table border=\"1\" class=\"dataframe\">\n",
       "  <thead>\n",
       "    <tr style=\"text-align: right;\">\n",
       "      <th></th>\n",
       "      <th>precision</th>\n",
       "      <th>recall</th>\n",
       "      <th>f1-score</th>\n",
       "      <th>support</th>\n",
       "    </tr>\n",
       "  </thead>\n",
       "  <tbody>\n",
       "    <tr>\n",
       "      <th>0</th>\n",
       "      <td>0.977528</td>\n",
       "      <td>0.991100</td>\n",
       "      <td>0.984267</td>\n",
       "      <td>2809.000000</td>\n",
       "    </tr>\n",
       "    <tr>\n",
       "      <th>1</th>\n",
       "      <td>0.952830</td>\n",
       "      <td>0.887522</td>\n",
       "      <td>0.919017</td>\n",
       "      <td>569.000000</td>\n",
       "    </tr>\n",
       "    <tr>\n",
       "      <th>accuracy</th>\n",
       "      <td>0.973653</td>\n",
       "      <td>0.973653</td>\n",
       "      <td>0.973653</td>\n",
       "      <td>0.973653</td>\n",
       "    </tr>\n",
       "    <tr>\n",
       "      <th>macro avg</th>\n",
       "      <td>0.965179</td>\n",
       "      <td>0.939311</td>\n",
       "      <td>0.951642</td>\n",
       "      <td>3378.000000</td>\n",
       "    </tr>\n",
       "    <tr>\n",
       "      <th>weighted avg</th>\n",
       "      <td>0.973368</td>\n",
       "      <td>0.973653</td>\n",
       "      <td>0.973276</td>\n",
       "      <td>3378.000000</td>\n",
       "    </tr>\n",
       "  </tbody>\n",
       "</table>\n",
       "</div>"
      ],
      "text/plain": [
       "              precision    recall  f1-score      support\n",
       "0              0.977528  0.991100  0.984267  2809.000000\n",
       "1              0.952830  0.887522  0.919017   569.000000\n",
       "accuracy       0.973653  0.973653  0.973653     0.973653\n",
       "macro avg      0.965179  0.939311  0.951642  3378.000000\n",
       "weighted avg   0.973368  0.973653  0.973276  3378.000000"
      ]
     },
     "execution_count": 83,
     "metadata": {},
     "output_type": "execute_result"
    }
   ],
   "source": [
    "df_rfg_test=pd.DataFrame(classification_report(y_test, y_pred_rfg_test, output_dict=True)).T\n",
    "df_rfg_test"
   ]
  },
  {
   "cell_type": "code",
   "execution_count": 84,
   "id": "d4d0ac35",
   "metadata": {
    "scrolled": false
   },
   "outputs": [
    {
     "name": "stdout",
     "output_type": "stream",
     "text": [
      "AUC_rfg_train: 1.000\n"
     ]
    },
    {
     "data": {
      "image/png": "[encoded data removed]",
      "text/plain": [
       "<Figure size 432x288 with 1 Axes>"
      ]
     },
     "metadata": {
      "needs_background": "light"
     },
     "output_type": "display_data"
    }
   ],
   "source": [
    "probs_rfg_train = best_grid_rf.predict_proba(X_train)\n",
    "probs_rfg_train = probs_rfg_train[:, 1]\n",
    "\n",
    "auc_rfg_train = roc_auc_score(y_train, probs_rfg_train)\n",
    "print('AUC_rfg_train: %.3f' % auc_rfg_train)\n",
    "\n",
    "fpr_rfg_train, tpr_rfg_train, thresholds_rfg_train = roc_curve(y_train, probs_rfg_train)\n",
    "plt.plot([0, 1], [0, 1], linestyle='--')\n",
    "plt.plot(fpr_rfg_train, tpr_rfg_train, marker='.')\n",
    "plt.show()"
   ]
  },
  {
   "cell_type": "code",
   "execution_count": 85,
   "id": "7790e3fa",
   "metadata": {},
   "outputs": [
    {
     "name": "stdout",
     "output_type": "stream",
     "text": [
      "AUC_rfg_test: 0.992\n"
     ]
    },
    {
     "data": {
      "image/png": "[encoded data removed]",
      "text/plain": [
       "<Figure size 432x288 with 1 Axes>"
      ]
     },
     "metadata": {
      "needs_background": "light"
     },
     "output_type": "display_data"
    }
   ],
   "source": [
    "probs_rfg_test = best_grid_rf.predict_proba(X_test)\n",
    "probs_rfg_test = probs_rfg_test[:, 1]\n",
    "\n",
    "auc_rfg_test = roc_auc_score(y_test, probs_rfg_test)\n",
    "print('AUC_rfg_test: %.3f' % auc_rfg_test)\n",
    "\n",
    "fpr_rfg_test, tpr_rfg_test, thresholds_rfg_test = roc_curve(y_test, probs_rfg_test)\n",
    "plt.plot([0, 1], [0, 1], linestyle='--')\n",
    "plt.plot(fpr_rfg_test, tpr_rfg_test, marker='.')\n",
    "plt.show()"
   ]
  },
  {
   "cell_type": "code",
   "execution_count": null,
   "id": "e94c1141",
   "metadata": {},
   "outputs": [],
   "source": []
  },
  {
   "cell_type": "markdown",
   "id": "eb2847ce",
   "metadata": {},
   "source": [
    "## 3) Logistic"
   ]
  },
  {
   "cell_type": "code",
   "execution_count": 86,
   "id": "c3613e6a",
   "metadata": {},
   "outputs": [],
   "source": [
    "from sklearn.linear_model import LogisticRegression"
   ]
  },
  {
   "cell_type": "code",
   "execution_count": 87,
   "id": "b56e2d3c",
   "metadata": {},
   "outputs": [],
   "source": [
    "lor = LogisticRegression()"
   ]
  },
  {
   "cell_type": "code",
   "execution_count": 88,
   "id": "b5e4c637",
   "metadata": {},
   "outputs": [
    {
     "name": "stderr",
     "output_type": "stream",
     "text": [
      "C:\\Users\\Nandha Keshore\\anaconda3\\lib\\site-packages\\sklearn\\utils\\validation.py:1111: DataConversionWarning: A column-vector y was passed when a 1d array was expected. Please change the shape of y to (n_samples, ), for example using ravel().\n",
      "  y = column_or_1d(y, warn=True)\n",
      "C:\\Users\\Nandha Keshore\\anaconda3\\lib\\site-packages\\sklearn\\linear_model\\_logistic.py:444: ConvergenceWarning: lbfgs failed to converge (status=1):\n",
      "STOP: TOTAL NO. of ITERATIONS REACHED LIMIT.\n",
      "\n",
      "Increase the number of iterations (max_iter) or scale the data as shown in:\n",
      "    https://scikit-learn.org/stable/modules/preprocessing.html\n",
      "Please also refer to the documentation for alternative solver options:\n",
      "    https://scikit-learn.org/stable/modules/linear_model.html#logistic-regression\n",
      "  n_iter_i = _check_optimize_result(\n"
     ]
    },
    {
     "data": {
      "text/html": [
       "<style>#sk-container-id-5 {color: black;background-color: white;}#sk-container-id-5 pre{padding: 0;}#sk-container-id-5 div.sk-toggleable {background-color: white;}#sk-container-id-5 label.sk-toggleable__label {cursor: pointer;display: block;width: 100%;margin-bottom: 0;padding: 0.3em;box-sizing: border-box;text-align: center;}#sk-container-id-5 label.sk-toggleable__label-arrow:before {content: \"▸\";float: left;margin-right: 0.25em;color: #696969;}#sk-container-id-5 label.sk-toggleable__label-arrow:hover:before {color: black;}#sk-container-id-5 div.sk-estimator:hover label.sk-toggleable__label-arrow:before {color: black;}#sk-container-id-5 div.sk-toggleable__content {max-height: 0;max-width: 0;overflow: hidden;text-align: left;background-color: #f0f8ff;}#sk-container-id-5 div.sk-toggleable__content pre {margin: 0.2em;color: black;border-radius: 0.25em;background-color: #f0f8ff;}#sk-container-id-5 input.sk-toggleable__control:checked~div.sk-toggleable__content {max-height: 200px;max-width: 100%;overflow: auto;}#sk-container-id-5 input.sk-toggleable__control:checked~label.sk-toggleable__label-arrow:before {content: \"▾\";}#sk-container-id-5 div.sk-estimator input.sk-toggleable__control:checked~label.sk-toggleable__label {background-color: #d4ebff;}#sk-container-id-5 div.sk-label input.sk-toggleable__control:checked~label.sk-toggleable__label {background-color: #d4ebff;}#sk-container-id-5 input.sk-hidden--visually {border: 0;clip: rect(1px 1px 1px 1px);clip: rect(1px, 1px, 1px, 1px);height: 1px;margin: -1px;overflow: hidden;padding: 0;position: absolute;width: 1px;}#sk-container-id-5 div.sk-estimator {font-family: monospace;background-color: #f0f8ff;border: 1px dotted black;border-radius: 0.25em;box-sizing: border-box;margin-bottom: 0.5em;}#sk-container-id-5 div.sk-estimator:hover {background-color: #d4ebff;}#sk-container-id-5 div.sk-parallel-item::after {content: \"\";width: 100%;border-bottom: 1px solid gray;flex-grow: 1;}#sk-container-id-5 div.sk-label:hover label.sk-toggleable__label {background-color: #d4ebff;}#sk-container-id-5 div.sk-serial::before {content: \"\";position: absolute;border-left: 1px solid gray;box-sizing: border-box;top: 0;bottom: 0;left: 50%;z-index: 0;}#sk-container-id-5 div.sk-serial {display: flex;flex-direction: column;align-items: center;background-color: white;padding-right: 0.2em;padding-left: 0.2em;position: relative;}#sk-container-id-5 div.sk-item {position: relative;z-index: 1;}#sk-container-id-5 div.sk-parallel {display: flex;align-items: stretch;justify-content: center;background-color: white;position: relative;}#sk-container-id-5 div.sk-item::before, #sk-container-id-5 div.sk-parallel-item::before {content: \"\";position: absolute;border-left: 1px solid gray;box-sizing: border-box;top: 0;bottom: 0;left: 50%;z-index: -1;}#sk-container-id-5 div.sk-parallel-item {display: flex;flex-direction: column;z-index: 1;position: relative;background-color: white;}#sk-container-id-5 div.sk-parallel-item:first-child::after {align-self: flex-end;width: 50%;}#sk-container-id-5 div.sk-parallel-item:last-child::after {align-self: flex-start;width: 50%;}#sk-container-id-5 div.sk-parallel-item:only-child::after {width: 0;}#sk-container-id-5 div.sk-dashed-wrapped {border: 1px dashed gray;margin: 0 0.4em 0.5em 0.4em;box-sizing: border-box;padding-bottom: 0.4em;background-color: white;}#sk-container-id-5 div.sk-label label {font-family: monospace;font-weight: bold;display: inline-block;line-height: 1.2em;}#sk-container-id-5 div.sk-label-container {text-align: center;}#sk-container-id-5 div.sk-container {/* jupyter's `normalize.less` sets `[hidden] { display: none; }` but bootstrap.min.css set `[hidden] { display: none !important; }` so we also need the `!important` here to be able to override the default hidden behavior on the sphinx rendered scikit-learn.org. See: https://github.com/scikit-learn/scikit-learn/issues/21755 */display: inline-block !important;position: relative;}#sk-container-id-5 div.sk-text-repr-fallback {display: none;}</style><div id=\"sk-container-id-5\" class=\"sk-top-container\"><div class=\"sk-text-repr-fallback\"><pre>LogisticRegression()</pre><b>In a Jupyter environment, please rerun this cell to show the HTML representation or trust the notebook. <br />On GitHub, the HTML representation is unable to render, please try loading this page with nbviewer.org.</b></div><div class=\"sk-container\" hidden><div class=\"sk-item\"><div class=\"sk-estimator sk-toggleable\"><input class=\"sk-toggleable__control sk-hidden--visually\" id=\"sk-estimator-id-9\" type=\"checkbox\" checked><label for=\"sk-estimator-id-9\" class=\"sk-toggleable__label sk-toggleable__label-arrow\">LogisticRegression</label><div class=\"sk-toggleable__content\"><pre>LogisticRegression()</pre></div></div></div></div></div>"
      ],
      "text/plain": [
       "LogisticRegression()"
      ]
     },
     "execution_count": 88,
     "metadata": {},
     "output_type": "execute_result"
    }
   ],
   "source": [
    "lor.fit(X_train, y_train)"
   ]
  },
  {
   "cell_type": "code",
   "execution_count": null,
   "id": "069f68b0",
   "metadata": {},
   "outputs": [],
   "source": []
  },
  {
   "cell_type": "markdown",
   "id": "94a41cc1",
   "metadata": {},
   "source": [
    "##### Model_evaluation"
   ]
  },
  {
   "cell_type": "code",
   "execution_count": 89,
   "id": "8d2a0e16",
   "metadata": {},
   "outputs": [
    {
     "data": {
      "text/plain": [
       "0.8479023646071701"
      ]
     },
     "execution_count": 89,
     "metadata": {},
     "output_type": "execute_result"
    }
   ],
   "source": [
    "lor_train_score = lor.score(X_train, y_train)\n",
    "lor_train_score"
   ]
  },
  {
   "cell_type": "code",
   "execution_count": 90,
   "id": "6f7dbb10",
   "metadata": {
    "scrolled": true
   },
   "outputs": [
    {
     "data": {
      "text/plain": [
       "0.8140911782119598"
      ]
     },
     "execution_count": 90,
     "metadata": {},
     "output_type": "execute_result"
    }
   ],
   "source": [
    "lor_test_score = lor.score(X_test, y_test)\n",
    "lor_test_score"
   ]
  },
  {
   "cell_type": "code",
   "execution_count": 91,
   "id": "1f3b0343",
   "metadata": {},
   "outputs": [],
   "source": [
    "y_pred_lor_train = lor.predict(X_train)\n",
    "y_pred_lor_test = lor.predict(X_test)"
   ]
  },
  {
   "cell_type": "code",
   "execution_count": 92,
   "id": "30373114",
   "metadata": {},
   "outputs": [],
   "source": [
    "from sklearn.metrics import classification_report, confusion_matrix"
   ]
  },
  {
   "cell_type": "code",
   "execution_count": 93,
   "id": "be4d92df",
   "metadata": {},
   "outputs": [
    {
     "data": {
      "text/plain": [
       "array([[5533, 1022],\n",
       "       [ 972, 5583]], dtype=int64)"
      ]
     },
     "execution_count": 93,
     "metadata": {},
     "output_type": "execute_result"
    }
   ],
   "source": [
    "confusion_matrix(y_train, y_pred_lor_train)"
   ]
  },
  {
   "cell_type": "code",
   "execution_count": 94,
   "id": "d99158b8",
   "metadata": {},
   "outputs": [
    {
     "data": {
      "text/plain": [
       "array([[2335,  474],\n",
       "       [ 154,  415]], dtype=int64)"
      ]
     },
     "execution_count": 94,
     "metadata": {},
     "output_type": "execute_result"
    }
   ],
   "source": [
    "confusion_matrix(y_test, y_pred_lor_test)"
   ]
  },
  {
   "cell_type": "code",
   "execution_count": 95,
   "id": "0b4b3c60",
   "metadata": {},
   "outputs": [
    {
     "data": {
      "text/html": [
       "<div>\n",
       "<style scoped>\n",
       "    .dataframe tbody tr th:only-of-type {\n",
       "        vertical-align: middle;\n",
       "    }\n",
       "\n",
       "    .dataframe tbody tr th {\n",
       "        vertical-align: top;\n",
       "    }\n",
       "\n",
       "    .dataframe thead th {\n",
       "        text-align: right;\n",
       "    }\n",
       "</style>\n",
       "<table border=\"1\" class=\"dataframe\">\n",
       "  <thead>\n",
       "    <tr style=\"text-align: right;\">\n",
       "      <th></th>\n",
       "      <th>precision</th>\n",
       "      <th>recall</th>\n",
       "      <th>f1-score</th>\n",
       "      <th>support</th>\n",
       "    </tr>\n",
       "  </thead>\n",
       "  <tbody>\n",
       "    <tr>\n",
       "      <th>0</th>\n",
       "      <td>0.850576</td>\n",
       "      <td>0.844088</td>\n",
       "      <td>0.847320</td>\n",
       "      <td>6555.000000</td>\n",
       "    </tr>\n",
       "    <tr>\n",
       "      <th>1</th>\n",
       "      <td>0.845269</td>\n",
       "      <td>0.851716</td>\n",
       "      <td>0.848480</td>\n",
       "      <td>6555.000000</td>\n",
       "    </tr>\n",
       "    <tr>\n",
       "      <th>accuracy</th>\n",
       "      <td>0.847902</td>\n",
       "      <td>0.847902</td>\n",
       "      <td>0.847902</td>\n",
       "      <td>0.847902</td>\n",
       "    </tr>\n",
       "    <tr>\n",
       "      <th>macro avg</th>\n",
       "      <td>0.847923</td>\n",
       "      <td>0.847902</td>\n",
       "      <td>0.847900</td>\n",
       "      <td>13110.000000</td>\n",
       "    </tr>\n",
       "    <tr>\n",
       "      <th>weighted avg</th>\n",
       "      <td>0.847923</td>\n",
       "      <td>0.847902</td>\n",
       "      <td>0.847900</td>\n",
       "      <td>13110.000000</td>\n",
       "    </tr>\n",
       "  </tbody>\n",
       "</table>\n",
       "</div>"
      ],
      "text/plain": [
       "              precision    recall  f1-score       support\n",
       "0              0.850576  0.844088  0.847320   6555.000000\n",
       "1              0.845269  0.851716  0.848480   6555.000000\n",
       "accuracy       0.847902  0.847902  0.847902      0.847902\n",
       "macro avg      0.847923  0.847902  0.847900  13110.000000\n",
       "weighted avg   0.847923  0.847902  0.847900  13110.000000"
      ]
     },
     "execution_count": 95,
     "metadata": {},
     "output_type": "execute_result"
    }
   ],
   "source": [
    "df_lor_train=pd.DataFrame(classification_report(y_train, y_pred_lor_train, output_dict=True)).T\n",
    "df_lor_train"
   ]
  },
  {
   "cell_type": "code",
   "execution_count": 96,
   "id": "cd95f2b5",
   "metadata": {},
   "outputs": [
    {
     "data": {
      "text/html": [
       "<div>\n",
       "<style scoped>\n",
       "    .dataframe tbody tr th:only-of-type {\n",
       "        vertical-align: middle;\n",
       "    }\n",
       "\n",
       "    .dataframe tbody tr th {\n",
       "        vertical-align: top;\n",
       "    }\n",
       "\n",
       "    .dataframe thead th {\n",
       "        text-align: right;\n",
       "    }\n",
       "</style>\n",
       "<table border=\"1\" class=\"dataframe\">\n",
       "  <thead>\n",
       "    <tr style=\"text-align: right;\">\n",
       "      <th></th>\n",
       "      <th>precision</th>\n",
       "      <th>recall</th>\n",
       "      <th>f1-score</th>\n",
       "      <th>support</th>\n",
       "    </tr>\n",
       "  </thead>\n",
       "  <tbody>\n",
       "    <tr>\n",
       "      <th>0</th>\n",
       "      <td>0.938128</td>\n",
       "      <td>0.831257</td>\n",
       "      <td>0.881465</td>\n",
       "      <td>2809.000000</td>\n",
       "    </tr>\n",
       "    <tr>\n",
       "      <th>1</th>\n",
       "      <td>0.466817</td>\n",
       "      <td>0.729350</td>\n",
       "      <td>0.569273</td>\n",
       "      <td>569.000000</td>\n",
       "    </tr>\n",
       "    <tr>\n",
       "      <th>accuracy</th>\n",
       "      <td>0.814091</td>\n",
       "      <td>0.814091</td>\n",
       "      <td>0.814091</td>\n",
       "      <td>0.814091</td>\n",
       "    </tr>\n",
       "    <tr>\n",
       "      <th>macro avg</th>\n",
       "      <td>0.702472</td>\n",
       "      <td>0.780303</td>\n",
       "      <td>0.725369</td>\n",
       "      <td>3378.000000</td>\n",
       "    </tr>\n",
       "    <tr>\n",
       "      <th>weighted avg</th>\n",
       "      <td>0.858739</td>\n",
       "      <td>0.814091</td>\n",
       "      <td>0.828878</td>\n",
       "      <td>3378.000000</td>\n",
       "    </tr>\n",
       "  </tbody>\n",
       "</table>\n",
       "</div>"
      ],
      "text/plain": [
       "              precision    recall  f1-score      support\n",
       "0              0.938128  0.831257  0.881465  2809.000000\n",
       "1              0.466817  0.729350  0.569273   569.000000\n",
       "accuracy       0.814091  0.814091  0.814091     0.814091\n",
       "macro avg      0.702472  0.780303  0.725369  3378.000000\n",
       "weighted avg   0.858739  0.814091  0.828878  3378.000000"
      ]
     },
     "execution_count": 96,
     "metadata": {},
     "output_type": "execute_result"
    }
   ],
   "source": [
    "df_lor_test=pd.DataFrame(classification_report(y_test, y_pred_lor_test, output_dict=True)).T\n",
    "df_lor_test"
   ]
  },
  {
   "cell_type": "code",
   "execution_count": 116,
   "id": "25343373",
   "metadata": {
    "scrolled": false
   },
   "outputs": [
    {
     "name": "stdout",
     "output_type": "stream",
     "text": [
      "AUC_lor_train: 0.918\n"
     ]
    },
    {
     "data": {
      "image/png": "[encoded data removed]",
      "text/plain": [
       "<Figure size 432x288 with 1 Axes>"
      ]
     },
     "metadata": {
      "needs_background": "light"
     },
     "output_type": "display_data"
    }
   ],
   "source": [
    "probs_lor_train = lor.predict_proba(X_train)\n",
    "probs_lor_train = probs_lor_train[:, 1]\n",
    "\n",
    "auc_lor_train = roc_auc_score(y_train, probs_lor_train)\n",
    "print('AUC_lor_train: %.3f' % auc_lor_train)\n",
    "\n",
    "fpr_lor_train, tpr_lor_train, thresholds_lor_train = roc_curve(y_train, probs_lor_train)\n",
    "plt.plot([0, 1], [0, 1], linestyle='--')\n",
    "plt.plot(fpr_lor_train, tpr_lor_train, marker='.')\n",
    "plt.show()"
   ]
  },
  {
   "cell_type": "code",
   "execution_count": 98,
   "id": "17ad6523",
   "metadata": {
    "scrolled": true
   },
   "outputs": [
    {
     "name": "stdout",
     "output_type": "stream",
     "text": [
      "AUC_lor_test: 0.852\n"
     ]
    },
    {
     "data": {
      "image/png": "[encoded data removed]",
      "text/plain": [
       "<Figure size 432x288 with 1 Axes>"
      ]
     },
     "metadata": {
      "needs_background": "light"
     },
     "output_type": "display_data"
    }
   ],
   "source": [
    "probs_lor_test = lor.predict_proba(X_test)\n",
    "probs_lor_test = probs_lor_test[:, 1]\n",
    "\n",
    "auc_lor_test = roc_auc_score(y_test, probs_lor_test)\n",
    "print('AUC_lor_test: %.3f' % auc_lor_test)\n",
    "\n",
    "fpr_lor_test, tpr_lor_test, thresholds_lor_test = roc_curve(y_test, probs_lor_test)\n",
    "plt.plot([0, 1], [0, 1], linestyle='--')\n",
    "plt.plot(fpr_lor_test, tpr_lor_test, marker='.')\n",
    "plt.show()"
   ]
  },
  {
   "cell_type": "code",
   "execution_count": 117,
   "id": "1d137477",
   "metadata": {},
   "outputs": [
    {
     "data": {
      "text/plain": [
       "array([0.43256587, 0.64737974, 0.67025823, ..., 0.67675113, 0.04069901,\n",
       "       0.95878676])"
      ]
     },
     "execution_count": 117,
     "metadata": {},
     "output_type": "execute_result"
    }
   ],
   "source": [
    "probs_lor_train"
   ]
  },
  {
   "cell_type": "markdown",
   "id": "f6681e53",
   "metadata": {},
   "source": [
    "### Model tuning by cut-off method"
   ]
  },
  {
   "cell_type": "code",
   "execution_count": 121,
   "id": "1f24a583",
   "metadata": {},
   "outputs": [],
   "source": [
    "from sklearn import metrics,model_selection\n",
    "import seaborn as sns\n"
   ]
  },
  {
   "cell_type": "code",
   "execution_count": 126,
   "id": "cb44d399",
   "metadata": {
    "scrolled": false
   },
   "outputs": [
    {
     "name": "stdout",
     "output_type": "stream",
     "text": [
      "0.1 \n",
      "\n",
      "Accuracy Score 0.7117\n",
      "Recall 0.964 \n",
      "\n",
      "Confusion Matrix\n"
     ]
    },
    {
     "data": {
      "image/png": "[encoded data removed]",
      "text/plain": [
       "<Figure size 432x288 with 2 Axes>"
      ]
     },
     "metadata": {
      "needs_background": "light"
     },
     "output_type": "display_data"
    },
    {
     "name": "stdout",
     "output_type": "stream",
     "text": [
      "0.2 \n",
      "\n",
      "Accuracy Score 0.7789\n",
      "Recall 0.9396 \n",
      "\n",
      "Confusion Matrix\n"
     ]
    },
    {
     "data": {
      "image/png": "[encoded data removed]",
      "text/plain": [
       "<Figure size 432x288 with 2 Axes>"
      ]
     },
     "metadata": {
      "needs_background": "light"
     },
     "output_type": "display_data"
    },
    {
     "name": "stdout",
     "output_type": "stream",
     "text": [
      "0.3 \n",
      "\n",
      "Accuracy Score 0.8128\n",
      "Recall 0.9175 \n",
      "\n",
      "Confusion Matrix\n"
     ]
    },
    {
     "data": {
      "image/png": "[encoded data removed]",
      "text/plain": [
       "<Figure size 432x288 with 2 Axes>"
      ]
     },
     "metadata": {
      "needs_background": "light"
     },
     "output_type": "display_data"
    },
    {
     "name": "stdout",
     "output_type": "stream",
     "text": [
      "0.4 \n",
      "\n",
      "Accuracy Score 0.8355\n",
      "Recall 0.89 \n",
      "\n",
      "Confusion Matrix\n"
     ]
    },
    {
     "data": {
      "image/png": "[encoded data removed]",
      "text/plain": [
       "<Figure size 432x288 with 2 Axes>"
      ]
     },
     "metadata": {
      "needs_background": "light"
     },
     "output_type": "display_data"
    },
    {
     "name": "stdout",
     "output_type": "stream",
     "text": [
      "0.5 \n",
      "\n",
      "Accuracy Score 0.8479\n",
      "Recall 0.8517 \n",
      "\n",
      "Confusion Matrix\n"
     ]
    },
    {
     "data": {
      "image/png": "[encoded data removed]",
      "text/plain": [
       "<Figure size 432x288 with 2 Axes>"
      ]
     },
     "metadata": {
      "needs_background": "light"
     },
     "output_type": "display_data"
    },
    {
     "name": "stdout",
     "output_type": "stream",
     "text": [
      "0.6 \n",
      "\n",
      "Accuracy Score 0.8439\n",
      "Recall 0.798 \n",
      "\n",
      "Confusion Matrix\n"
     ]
    },
    {
     "data": {
      "image/png": "[encoded data removed]",
      "text/plain": [
       "<Figure size 432x288 with 2 Axes>"
      ]
     },
     "metadata": {
      "needs_background": "light"
     },
     "output_type": "display_data"
    },
    {
     "name": "stdout",
     "output_type": "stream",
     "text": [
      "0.7 \n",
      "\n",
      "Accuracy Score 0.8284\n",
      "Recall 0.7256 \n",
      "\n",
      "Confusion Matrix\n"
     ]
    },
    {
     "data": {
      "image/png": "[encoded data removed]",
      "text/plain": [
       "<Figure size 432x288 with 2 Axes>"
      ]
     },
     "metadata": {
      "needs_background": "light"
     },
     "output_type": "display_data"
    },
    {
     "name": "stdout",
     "output_type": "stream",
     "text": [
      "0.8 \n",
      "\n",
      "Accuracy Score 0.7936\n",
      "Recall 0.622 \n",
      "\n",
      "Confusion Matrix\n"
     ]
    },
    {
     "data": {
      "image/png": "[encoded data removed]",
      "text/plain": [
       "<Figure size 432x288 with 2 Axes>"
      ]
     },
     "metadata": {
      "needs_background": "light"
     },
     "output_type": "display_data"
    },
    {
     "name": "stdout",
     "output_type": "stream",
     "text": [
      "0.9 \n",
      "\n",
      "Accuracy Score 0.7098\n",
      "Recall 0.4323 \n",
      "\n",
      "Confusion Matrix\n"
     ]
    },
    {
     "data": {
      "image/png": "[encoded data removed]",
      "text/plain": [
       "<Figure size 432x288 with 2 Axes>"
      ]
     },
     "metadata": {
      "needs_background": "light"
     },
     "output_type": "display_data"
    }
   ],
   "source": [
    "for j in np.arange(0.1,1,0.1):\n",
    "    custom_prob_lor = j\n",
    "    custom_cutoff_data_lor=[]\n",
    "    for i in range(0,len(y_train)):\n",
    "        if np.array(probs_lor_train)[i] > custom_prob_lor:\n",
    "            a=1\n",
    "        else:\n",
    "            a=0\n",
    "        custom_cutoff_data_lor.append(a)\n",
    "    print(round(j,3),'\\n')\n",
    "    print('Accuracy Score',round(metrics.accuracy_score(y_train,custom_cutoff_data_lor),4))\n",
    "    print('Recall',round(metrics.recall_score(y_train,custom_cutoff_data_lor),4),'\\n')\n",
    "    plt.figure(figsize=(6,4))\n",
    "    print('Confusion Matrix')\n",
    "    sns.heatmap(metrics.confusion_matrix(y_train,custom_cutoff_data_lor),annot=True,fmt='.4g'),'\\n\\n'\n",
    "    plt.show();"
   ]
  },
  {
   "cell_type": "code",
   "execution_count": null,
   "id": "59c8ff85",
   "metadata": {},
   "outputs": [],
   "source": []
  },
  {
   "cell_type": "markdown",
   "id": "f82f1357",
   "metadata": {},
   "source": [
    "### Statsmodel"
   ]
  },
  {
   "cell_type": "code",
   "execution_count": 54,
   "id": "69bed9de",
   "metadata": {},
   "outputs": [
    {
     "data": {
      "text/html": [
       "<div>\n",
       "<style scoped>\n",
       "    .dataframe tbody tr th:only-of-type {\n",
       "        vertical-align: middle;\n",
       "    }\n",
       "\n",
       "    .dataframe tbody tr th {\n",
       "        vertical-align: top;\n",
       "    }\n",
       "\n",
       "    .dataframe thead th {\n",
       "        text-align: right;\n",
       "    }\n",
       "</style>\n",
       "<table border=\"1\" class=\"dataframe\">\n",
       "  <thead>\n",
       "    <tr style=\"text-align: right;\">\n",
       "      <th></th>\n",
       "      <th>Tenure</th>\n",
       "      <th>City_Tier</th>\n",
       "      <th>CC_Contacted_LY</th>\n",
       "      <th>Service_Score</th>\n",
       "      <th>Account_user_count</th>\n",
       "      <th>CC_Agent_Score</th>\n",
       "      <th>rev_per_month</th>\n",
       "      <th>Complain_ly</th>\n",
       "      <th>rev_growth_yoy</th>\n",
       "      <th>coupon_used_for_payment</th>\n",
       "      <th>...</th>\n",
       "      <th>Payment_UPI</th>\n",
       "      <th>Gender_Male</th>\n",
       "      <th>account_segment_Regular</th>\n",
       "      <th>account_segment_Regular +</th>\n",
       "      <th>account_segment_Super</th>\n",
       "      <th>account_segment_Super +</th>\n",
       "      <th>Marital_Status_Married</th>\n",
       "      <th>Marital_Status_Single</th>\n",
       "      <th>Login_device_Mobile</th>\n",
       "      <th>Churn</th>\n",
       "    </tr>\n",
       "  </thead>\n",
       "  <tbody>\n",
       "    <tr>\n",
       "      <th>0</th>\n",
       "      <td>8.0</td>\n",
       "      <td>1.0</td>\n",
       "      <td>12.0</td>\n",
       "      <td>3.0</td>\n",
       "      <td>3</td>\n",
       "      <td>3.0</td>\n",
       "      <td>1.0</td>\n",
       "      <td>1.0</td>\n",
       "      <td>14.0</td>\n",
       "      <td>1.0</td>\n",
       "      <td>...</td>\n",
       "      <td>0</td>\n",
       "      <td>1</td>\n",
       "      <td>0</td>\n",
       "      <td>1</td>\n",
       "      <td>0</td>\n",
       "      <td>0</td>\n",
       "      <td>0</td>\n",
       "      <td>0</td>\n",
       "      <td>1</td>\n",
       "      <td>0</td>\n",
       "    </tr>\n",
       "    <tr>\n",
       "      <th>1</th>\n",
       "      <td>2.0</td>\n",
       "      <td>3.0</td>\n",
       "      <td>19.0</td>\n",
       "      <td>2.0</td>\n",
       "      <td>3</td>\n",
       "      <td>4.0</td>\n",
       "      <td>3.0</td>\n",
       "      <td>0.0</td>\n",
       "      <td>15.0</td>\n",
       "      <td>2.0</td>\n",
       "      <td>...</td>\n",
       "      <td>0</td>\n",
       "      <td>1</td>\n",
       "      <td>0</td>\n",
       "      <td>1</td>\n",
       "      <td>0</td>\n",
       "      <td>0</td>\n",
       "      <td>1</td>\n",
       "      <td>0</td>\n",
       "      <td>1</td>\n",
       "      <td>0</td>\n",
       "    </tr>\n",
       "    <tr>\n",
       "      <th>2</th>\n",
       "      <td>12.0</td>\n",
       "      <td>3.0</td>\n",
       "      <td>26.0</td>\n",
       "      <td>3.0</td>\n",
       "      <td>3</td>\n",
       "      <td>5.0</td>\n",
       "      <td>5.0</td>\n",
       "      <td>0.0</td>\n",
       "      <td>13.0</td>\n",
       "      <td>3.0</td>\n",
       "      <td>...</td>\n",
       "      <td>0</td>\n",
       "      <td>1</td>\n",
       "      <td>0</td>\n",
       "      <td>0</td>\n",
       "      <td>0</td>\n",
       "      <td>1</td>\n",
       "      <td>0</td>\n",
       "      <td>1</td>\n",
       "      <td>1</td>\n",
       "      <td>0</td>\n",
       "    </tr>\n",
       "    <tr>\n",
       "      <th>3</th>\n",
       "      <td>26.0</td>\n",
       "      <td>3.0</td>\n",
       "      <td>10.0</td>\n",
       "      <td>3.0</td>\n",
       "      <td>4</td>\n",
       "      <td>5.0</td>\n",
       "      <td>3.0</td>\n",
       "      <td>0.0</td>\n",
       "      <td>12.0</td>\n",
       "      <td>2.0</td>\n",
       "      <td>...</td>\n",
       "      <td>0</td>\n",
       "      <td>1</td>\n",
       "      <td>0</td>\n",
       "      <td>0</td>\n",
       "      <td>0</td>\n",
       "      <td>1</td>\n",
       "      <td>0</td>\n",
       "      <td>0</td>\n",
       "      <td>1</td>\n",
       "      <td>0</td>\n",
       "    </tr>\n",
       "    <tr>\n",
       "      <th>4</th>\n",
       "      <td>1.0</td>\n",
       "      <td>3.0</td>\n",
       "      <td>16.0</td>\n",
       "      <td>3.0</td>\n",
       "      <td>4</td>\n",
       "      <td>1.0</td>\n",
       "      <td>3.0</td>\n",
       "      <td>0.0</td>\n",
       "      <td>15.0</td>\n",
       "      <td>2.0</td>\n",
       "      <td>...</td>\n",
       "      <td>0</td>\n",
       "      <td>1</td>\n",
       "      <td>0</td>\n",
       "      <td>0</td>\n",
       "      <td>1</td>\n",
       "      <td>0</td>\n",
       "      <td>0</td>\n",
       "      <td>1</td>\n",
       "      <td>1</td>\n",
       "      <td>0</td>\n",
       "    </tr>\n",
       "  </tbody>\n",
       "</table>\n",
       "<p>5 rows × 25 columns</p>\n",
       "</div>"
      ],
      "text/plain": [
       "   Tenure  City_Tier  CC_Contacted_LY  Service_Score  Account_user_count  \\\n",
       "0     8.0        1.0             12.0            3.0                   3   \n",
       "1     2.0        3.0             19.0            2.0                   3   \n",
       "2    12.0        3.0             26.0            3.0                   3   \n",
       "3    26.0        3.0             10.0            3.0                   4   \n",
       "4     1.0        3.0             16.0            3.0                   4   \n",
       "\n",
       "   CC_Agent_Score  rev_per_month  Complain_ly  rev_growth_yoy  \\\n",
       "0             3.0            1.0          1.0            14.0   \n",
       "1             4.0            3.0          0.0            15.0   \n",
       "2             5.0            5.0          0.0            13.0   \n",
       "3             5.0            3.0          0.0            12.0   \n",
       "4             1.0            3.0          0.0            15.0   \n",
       "\n",
       "   coupon_used_for_payment  ...  Payment_UPI  Gender_Male  \\\n",
       "0                      1.0  ...            0            1   \n",
       "1                      2.0  ...            0            1   \n",
       "2                      3.0  ...            0            1   \n",
       "3                      2.0  ...            0            1   \n",
       "4                      2.0  ...            0            1   \n",
       "\n",
       "   account_segment_Regular  account_segment_Regular +  account_segment_Super  \\\n",
       "0                        0                          1                      0   \n",
       "1                        0                          1                      0   \n",
       "2                        0                          0                      0   \n",
       "3                        0                          0                      0   \n",
       "4                        0                          0                      1   \n",
       "\n",
       "   account_segment_Super +  Marital_Status_Married  Marital_Status_Single  \\\n",
       "0                        0                       0                      0   \n",
       "1                        0                       1                      0   \n",
       "2                        1                       0                      1   \n",
       "3                        1                       0                      0   \n",
       "4                        0                       0                      1   \n",
       "\n",
       "   Login_device_Mobile  Churn  \n",
       "0                    1      0  \n",
       "1                    1      0  \n",
       "2                    1      0  \n",
       "3                    1      0  \n",
       "4                    1      0  \n",
       "\n",
       "[5 rows x 25 columns]"
      ]
     },
     "execution_count": 54,
     "metadata": {},
     "output_type": "execute_result"
    }
   ],
   "source": [
    "data_train = pd.concat([X_train, y_train], axis=1)\n",
    "data_test=pd.concat([X_test,y_test],axis=1)\n",
    "data_train.head()"
   ]
  },
  {
   "cell_type": "code",
   "execution_count": 55,
   "id": "2e869310",
   "metadata": {
    "scrolled": true
   },
   "outputs": [
    {
     "data": {
      "text/plain": [
       "Index(['Tenure', 'City_Tier', 'CC_Contacted_LY', 'Service_Score',\n",
       "       'Account_user_count', 'CC_Agent_Score', 'rev_per_month', 'Complain_ly',\n",
       "       'rev_growth_yoy', 'coupon_used_for_payment', 'Day_Since_CC_connect',\n",
       "       'cashback', 'Payment_Credit Card', 'Payment_Debit Card',\n",
       "       'Payment_E wallet', 'Payment_UPI', 'Gender_Male',\n",
       "       'account_segment_Regular', 'account_segment_Regular +',\n",
       "       'account_segment_Super', 'account_segment_Super +',\n",
       "       'Marital_Status_Married', 'Marital_Status_Single',\n",
       "       'Login_device_Mobile', 'Churn'],\n",
       "      dtype='object')"
      ]
     },
     "execution_count": 55,
     "metadata": {},
     "output_type": "execute_result"
    }
   ],
   "source": [
    "data_train.columns"
   ]
  },
  {
   "cell_type": "code",
   "execution_count": 58,
   "id": "e3808cb7",
   "metadata": {},
   "outputs": [],
   "source": [
    "data_train.rename(columns = {\"account_segment_Regular +\": \"account_segment_Regular_plus\", \"account_segment_Super +\": \"account_segment_Super_plus\"}, \n",
    "                      inplace = True) \n",
    "\n",
    "data_test.rename(columns = {\"account_segment_Regular +\": \"account_segment_Regular_plus\", \"account_segment_Super +\": \"account_segment_Super_plus\"}, \n",
    "                      inplace = True) "
   ]
  },
  {
   "cell_type": "code",
   "execution_count": 61,
   "id": "f417e6d8",
   "metadata": {},
   "outputs": [],
   "source": [
    "data_train.rename(columns = {\"Payment_Credit Card\": \"Payment_Credit_Card\", \"Payment_Debit Card\": \"Payment_Debit_Card\", \"Payment_E wallet\": \"Payment_E_wallet\"}, \n",
    "                      inplace = True) \n",
    "\n",
    "data_test.rename(columns = {\"Payment_Credit Card\": \"Payment_Credit_Card\", \"Payment_Debit Card\": \"Payment_Debit_Card\", \"Payment_E wallet\": \"Payment_E_wallet\"}, \n",
    "                      inplace = True) "
   ]
  },
  {
   "cell_type": "code",
   "execution_count": 62,
   "id": "69544df6",
   "metadata": {},
   "outputs": [],
   "source": [
    "expr = 'Churn ~ Tenure + City_Tier + CC_Contacted_LY + Service_Score + Account_user_count + CC_Agent_Score + rev_per_month + Complain_ly + rev_growth_yoy + coupon_used_for_payment + Day_Since_CC_connect + cashback + Payment_Credit_Card + Payment_Debit_Card + Payment_E_wallet + Payment_UPI + Gender_Male + account_segment_Regular + account_segment_Regular_plus + account_segment_Super + account_segment_Super_plus + Marital_Status_Married + Marital_Status_Single + Login_device_Mobile'"
   ]
  },
  {
   "cell_type": "code",
   "execution_count": 63,
   "id": "f0e986d2",
   "metadata": {},
   "outputs": [
    {
     "data": {
      "text/plain": [
       "Intercept                       0.786024\n",
       "Tenure                         -0.019031\n",
       "City_Tier                       0.051699\n",
       "CC_Contacted_LY                 0.004386\n",
       "Service_Score                   0.002501\n",
       "Account_user_count              0.033832\n",
       "CC_Agent_Score                  0.029427\n",
       "rev_per_month                   0.017629\n",
       "Complain_ly                     0.215888\n",
       "rev_growth_yoy                 -0.003671\n",
       "coupon_used_for_payment         0.016666\n",
       "Day_Since_CC_connect           -0.009912\n",
       "cashback                       -0.001177\n",
       "Payment_Credit_Card            -0.294027\n",
       "Payment_Debit_Card             -0.260163\n",
       "Payment_E_wallet               -0.205826\n",
       "Payment_UPI                    -0.275297\n",
       "Gender_Male                    -0.004039\n",
       "account_segment_Regular         0.103544\n",
       "account_segment_Regular_plus   -0.078688\n",
       "account_segment_Super          -0.255078\n",
       "account_segment_Super_plus     -0.024911\n",
       "Marital_Status_Married         -0.197377\n",
       "Marital_Status_Single          -0.045726\n",
       "Login_device_Mobile            -0.079083\n",
       "dtype: float64"
      ]
     },
     "execution_count": 63,
     "metadata": {},
     "output_type": "execute_result"
    }
   ],
   "source": [
    "import statsmodels.formula.api as smf\n",
    "lm1 = smf.ols(formula= expr, data = data_train).fit()\n",
    "lm1.params"
   ]
  },
  {
   "cell_type": "code",
   "execution_count": 64,
   "id": "482109c1",
   "metadata": {},
   "outputs": [
    {
     "name": "stdout",
     "output_type": "stream",
     "text": [
      "                            OLS Regression Results                            \n",
      "==============================================================================\n",
      "Dep. Variable:                  Churn   R-squared:                       0.529\n",
      "Model:                            OLS   Adj. R-squared:                  0.528\n",
      "Method:                 Least Squares   F-statistic:                     613.2\n",
      "Date:                Fri, 17 Mar 2023   Prob (F-statistic):               0.00\n",
      "Time:                        06:49:56   Log-Likelihood:                -4575.0\n",
      "No. Observations:               13110   AIC:                             9200.\n",
      "Df Residuals:                   13085   BIC:                             9387.\n",
      "Df Model:                          24                                         \n",
      "Covariance Type:            nonrobust                                         \n",
      "================================================================================================\n",
      "                                   coef    std err          t      P>|t|      [0.025      0.975]\n",
      "------------------------------------------------------------------------------------------------\n",
      "Intercept                        0.7860      0.033     24.133      0.000       0.722       0.850\n",
      "Tenure                          -0.0190      0.000    -45.010      0.000      -0.020      -0.018\n",
      "City_Tier                        0.0517      0.004     12.941      0.000       0.044       0.060\n",
      "CC_Contacted_LY                  0.0044      0.000     12.302      0.000       0.004       0.005\n",
      "Service_Score                    0.0025      0.005      0.500      0.617      -0.007       0.012\n",
      "Account_user_count               0.0338      0.003     10.021      0.000       0.027       0.040\n",
      "CC_Agent_Score                   0.0294      0.002     12.566      0.000       0.025       0.034\n",
      "rev_per_month                    0.0176      0.001     16.439      0.000       0.016       0.020\n",
      "Complain_ly                      0.2159      0.007     32.161      0.000       0.203       0.229\n",
      "rev_growth_yoy                  -0.0037      0.001     -4.437      0.000      -0.005      -0.002\n",
      "coupon_used_for_payment          0.0167      0.004      4.521      0.000       0.009       0.024\n",
      "Day_Since_CC_connect            -0.0099      0.001     -9.377      0.000      -0.012      -0.008\n",
      "cashback                        -0.0012      0.000     -8.278      0.000      -0.001      -0.001\n",
      "Payment_Credit_Card             -0.2940      0.009    -32.342      0.000      -0.312      -0.276\n",
      "Payment_Debit_Card              -0.2602      0.008    -31.673      0.000      -0.276      -0.244\n",
      "Payment_E_wallet                -0.2058      0.013    -16.145      0.000      -0.231      -0.181\n",
      "Payment_UPI                     -0.2753      0.014    -19.158      0.000      -0.303      -0.247\n",
      "Gender_Male                     -0.0040      0.006     -0.657      0.511      -0.016       0.008\n",
      "account_segment_Regular          0.1035      0.020      5.058      0.000       0.063       0.144\n",
      "account_segment_Regular_plus    -0.0787      0.011     -6.845      0.000      -0.101      -0.056\n",
      "account_segment_Super           -0.2551      0.010    -25.677      0.000      -0.275      -0.236\n",
      "account_segment_Super_plus      -0.0249      0.018     -1.410      0.158      -0.060       0.010\n",
      "Marital_Status_Married          -0.1974      0.008    -25.072      0.000      -0.213      -0.182\n",
      "Marital_Status_Single           -0.0457      0.008     -5.694      0.000      -0.061      -0.030\n",
      "Login_device_Mobile             -0.0791      0.006    -12.225      0.000      -0.092      -0.066\n",
      "==============================================================================\n",
      "Omnibus:                       75.774   Durbin-Watson:                   1.545\n",
      "Prob(Omnibus):                  0.000   Jarque-Bera (JB):               68.532\n",
      "Skew:                           0.136   Prob(JB):                     1.31e-15\n",
      "Kurtosis:                       2.773   Cond. No.                     2.05e+03\n",
      "==============================================================================\n",
      "\n",
      "Notes:\n",
      "[1] Standard Errors assume that the covariance matrix of the errors is correctly specified.\n",
      "[2] The condition number is large, 2.05e+03. This might indicate that there are\n",
      "strong multicollinearity or other numerical problems.\n"
     ]
    }
   ],
   "source": [
    "print(lm1.summary())"
   ]
  },
  {
   "cell_type": "code",
   "execution_count": 65,
   "id": "beb182be",
   "metadata": {},
   "outputs": [],
   "source": [
    "data_train.drop(['Service_Score', 'Gender_Male', 'account_segment_Super_plus'], axis=1, inplace=True)\n",
    "data_test.drop(['Service_Score', 'Gender_Male', 'account_segment_Super_plus'], axis=1, inplace=True)"
   ]
  },
  {
   "cell_type": "code",
   "execution_count": 66,
   "id": "c842990d",
   "metadata": {},
   "outputs": [],
   "source": [
    "expr1 = 'Churn ~ Tenure + City_Tier + CC_Contacted_LY + Account_user_count + CC_Agent_Score + rev_per_month + Complain_ly + rev_growth_yoy + coupon_used_for_payment + Day_Since_CC_connect + cashback + Payment_Credit_Card + Payment_Debit_Card + Payment_E_wallet + Payment_UPI + account_segment_Regular + account_segment_Regular_plus + account_segment_Super + Marital_Status_Married + Marital_Status_Single + Login_device_Mobile'"
   ]
  },
  {
   "cell_type": "code",
   "execution_count": 67,
   "id": "5d5a3fc6",
   "metadata": {},
   "outputs": [
    {
     "data": {
      "text/plain": [
       "Intercept                       0.798361\n",
       "Tenure                         -0.019153\n",
       "City_Tier                       0.051604\n",
       "CC_Contacted_LY                 0.004402\n",
       "Account_user_count              0.034878\n",
       "CC_Agent_Score                  0.029438\n",
       "rev_per_month                   0.017696\n",
       "Complain_ly                     0.215800\n",
       "rev_growth_yoy                 -0.003635\n",
       "coupon_used_for_payment         0.017391\n",
       "Day_Since_CC_connect           -0.009907\n",
       "cashback                       -0.001253\n",
       "Payment_Credit_Card            -0.295287\n",
       "Payment_Debit_Card             -0.261415\n",
       "Payment_E_wallet               -0.206592\n",
       "Payment_UPI                    -0.277229\n",
       "account_segment_Regular         0.113704\n",
       "account_segment_Regular_plus   -0.079194\n",
       "account_segment_Super          -0.252898\n",
       "Marital_Status_Married         -0.198002\n",
       "Marital_Status_Single          -0.046439\n",
       "Login_device_Mobile            -0.078814\n",
       "dtype: float64"
      ]
     },
     "execution_count": 67,
     "metadata": {},
     "output_type": "execute_result"
    }
   ],
   "source": [
    "import statsmodels.formula.api as smf\n",
    "lm2 = smf.ols(formula= expr1, data = data_train).fit()\n",
    "lm2.params"
   ]
  },
  {
   "cell_type": "code",
   "execution_count": 68,
   "id": "53c49f78",
   "metadata": {
    "scrolled": false
   },
   "outputs": [
    {
     "name": "stdout",
     "output_type": "stream",
     "text": [
      "                            OLS Regression Results                            \n",
      "==============================================================================\n",
      "Dep. Variable:                  Churn   R-squared:                       0.529\n",
      "Model:                            OLS   Adj. R-squared:                  0.528\n",
      "Method:                 Least Squares   F-statistic:                     700.7\n",
      "Date:                Fri, 17 Mar 2023   Prob (F-statistic):               0.00\n",
      "Time:                        06:56:43   Log-Likelihood:                -4576.5\n",
      "No. Observations:               13110   AIC:                             9197.\n",
      "Df Residuals:                   13088   BIC:                             9361.\n",
      "Df Model:                          21                                         \n",
      "Covariance Type:            nonrobust                                         \n",
      "================================================================================================\n",
      "                                   coef    std err          t      P>|t|      [0.025      0.975]\n",
      "------------------------------------------------------------------------------------------------\n",
      "Intercept                        0.7984      0.031     25.445      0.000       0.737       0.860\n",
      "Tenure                          -0.0192      0.000    -46.167      0.000      -0.020      -0.018\n",
      "City_Tier                        0.0516      0.004     12.927      0.000       0.044       0.059\n",
      "CC_Contacted_LY                  0.0044      0.000     12.364      0.000       0.004       0.005\n",
      "Account_user_count               0.0349      0.003     10.739      0.000       0.029       0.041\n",
      "CC_Agent_Score                   0.0294      0.002     12.610      0.000       0.025       0.034\n",
      "rev_per_month                    0.0177      0.001     16.562      0.000       0.016       0.020\n",
      "Complain_ly                      0.2158      0.007     32.163      0.000       0.203       0.229\n",
      "rev_growth_yoy                  -0.0036      0.001     -4.409      0.000      -0.005      -0.002\n",
      "coupon_used_for_payment          0.0174      0.004      4.830      0.000       0.010       0.024\n",
      "Day_Since_CC_connect            -0.0099      0.001     -9.373      0.000      -0.012      -0.008\n",
      "cashback                        -0.0013      0.000     -9.965      0.000      -0.002      -0.001\n",
      "Payment_Credit_Card             -0.2953      0.009    -32.612      0.000      -0.313      -0.278\n",
      "Payment_Debit_Card              -0.2614      0.008    -31.982      0.000      -0.277      -0.245\n",
      "Payment_E_wallet                -0.2066      0.013    -16.215      0.000      -0.232      -0.182\n",
      "Payment_UPI                     -0.2772      0.014    -19.381      0.000      -0.305      -0.249\n",
      "account_segment_Regular          0.1137      0.019      6.035      0.000       0.077       0.151\n",
      "account_segment_Regular_plus    -0.0792      0.011     -7.019      0.000      -0.101      -0.057\n",
      "account_segment_Super           -0.2529      0.010    -25.875      0.000      -0.272      -0.234\n",
      "Marital_Status_Married          -0.1980      0.008    -25.221      0.000      -0.213      -0.183\n",
      "Marital_Status_Single           -0.0464      0.008     -5.794      0.000      -0.062      -0.031\n",
      "Login_device_Mobile             -0.0788      0.006    -12.202      0.000      -0.091      -0.066\n",
      "==============================================================================\n",
      "Omnibus:                       74.834   Durbin-Watson:                   1.544\n",
      "Prob(Omnibus):                  0.000   Jarque-Bera (JB):               68.378\n",
      "Skew:                           0.138   Prob(JB):                     1.42e-15\n",
      "Kurtosis:                       2.780   Cond. No.                     1.95e+03\n",
      "==============================================================================\n",
      "\n",
      "Notes:\n",
      "[1] Standard Errors assume that the covariance matrix of the errors is correctly specified.\n",
      "[2] The condition number is large, 1.95e+03. This might indicate that there are\n",
      "strong multicollinearity or other numerical problems.\n"
     ]
    }
   ],
   "source": [
    "print(lm2.summary())"
   ]
  },
  {
   "cell_type": "code",
   "execution_count": null,
   "id": "eb087f9c",
   "metadata": {},
   "outputs": [],
   "source": []
  },
  {
   "cell_type": "code",
   "execution_count": null,
   "id": "b343e550",
   "metadata": {},
   "outputs": [],
   "source": [
    "y_pred = lm2.predict(data_test)"
   ]
  },
  {
   "cell_type": "code",
   "execution_count": null,
   "id": "bfe23673",
   "metadata": {},
   "outputs": [],
   "source": []
  },
  {
   "cell_type": "code",
   "execution_count": null,
   "id": "3053a8e7",
   "metadata": {},
   "outputs": [],
   "source": []
  },
  {
   "cell_type": "code",
   "execution_count": null,
   "id": "b0c862ad",
   "metadata": {},
   "outputs": [],
   "source": []
  },
  {
   "cell_type": "code",
   "execution_count": 69,
   "id": "cc6c1d0a",
   "metadata": {},
   "outputs": [],
   "source": [
    "## let's check the vif value\n",
    "\n",
    "def vif_cal(input_data):\n",
    "    x_vars=input_data\n",
    "    xvar_names=input_data.columns\n",
    "    for i in range(0,xvar_names.shape[0]):\n",
    "        y=x_vars[xvar_names[i]] \n",
    "        x=x_vars[xvar_names.drop(xvar_names[i])]\n",
    "        rsq=smf.ols(formula=\"y~x\", data=x_vars).fit().rsquared  \n",
    "        vif=round(1/(1-rsq),2)\n",
    "        print (xvar_names[i], \" VIF = \" , vif)"
   ]
  },
  {
   "cell_type": "code",
   "execution_count": 70,
   "id": "c5663d96",
   "metadata": {},
   "outputs": [
    {
     "name": "stdout",
     "output_type": "stream",
     "text": [
      "Tenure  VIF =  1.39\n",
      "City_Tier  VIF =  1.43\n",
      "CC_Contacted_LY  VIF =  1.05\n",
      "Account_user_count  VIF =  1.1\n",
      "CC_Agent_Score  VIF =  1.03\n",
      "rev_per_month  VIF =  1.08\n",
      "Complain_ly  VIF =  1.05\n",
      "rev_growth_yoy  VIF =  1.03\n",
      "coupon_used_for_payment  VIF =  1.29\n",
      "Day_Since_CC_connect  VIF =  1.38\n",
      "cashback  VIF =  3.06\n",
      "Payment_Credit_Card  VIF =  1.6\n",
      "Payment_Debit_Card  VIF =  1.65\n",
      "Payment_E_wallet  VIF =  1.54\n",
      "Payment_UPI  VIF =  1.18\n",
      "account_segment_Regular  VIF =  1.32\n",
      "account_segment_Regular_plus  VIF =  3.49\n",
      "account_segment_Super  VIF =  2.11\n",
      "Marital_Status_Married  VIF =  1.65\n",
      "Marital_Status_Single  VIF =  1.54\n",
      "Login_device_Mobile  VIF =  1.05\n"
     ]
    }
   ],
   "source": [
    "vif_cal(input_data= data_train.drop('Churn',axis=1))"
   ]
  },
  {
   "cell_type": "code",
   "execution_count": null,
   "id": "356e7a47",
   "metadata": {},
   "outputs": [],
   "source": []
  },
  {
   "cell_type": "code",
   "execution_count": null,
   "id": "c80f7e13",
   "metadata": {},
   "outputs": [],
   "source": []
  },
  {
   "cell_type": "code",
   "execution_count": null,
   "id": "d9272300",
   "metadata": {},
   "outputs": [],
   "source": []
  },
  {
   "cell_type": "markdown",
   "id": "f04d07fb",
   "metadata": {},
   "source": [
    "## 4) LDA"
   ]
  },
  {
   "cell_type": "code",
   "execution_count": 99,
   "id": "a6b40041",
   "metadata": {},
   "outputs": [],
   "source": [
    "from sklearn.discriminant_analysis import LinearDiscriminantAnalysis"
   ]
  },
  {
   "cell_type": "code",
   "execution_count": 100,
   "id": "2f97cdee",
   "metadata": {},
   "outputs": [],
   "source": [
    "lda = LinearDiscriminantAnalysis()"
   ]
  },
  {
   "cell_type": "code",
   "execution_count": 101,
   "id": "67b5230a",
   "metadata": {},
   "outputs": [
    {
     "name": "stderr",
     "output_type": "stream",
     "text": [
      "C:\\Users\\Nandha Keshore\\anaconda3\\lib\\site-packages\\sklearn\\utils\\validation.py:1111: DataConversionWarning: A column-vector y was passed when a 1d array was expected. Please change the shape of y to (n_samples, ), for example using ravel().\n",
      "  y = column_or_1d(y, warn=True)\n"
     ]
    },
    {
     "data": {
      "text/html": [
       "<style>#sk-container-id-6 {color: black;background-color: white;}#sk-container-id-6 pre{padding: 0;}#sk-container-id-6 div.sk-toggleable {background-color: white;}#sk-container-id-6 label.sk-toggleable__label {cursor: pointer;display: block;width: 100%;margin-bottom: 0;padding: 0.3em;box-sizing: border-box;text-align: center;}#sk-container-id-6 label.sk-toggleable__label-arrow:before {content: \"▸\";float: left;margin-right: 0.25em;color: #696969;}#sk-container-id-6 label.sk-toggleable__label-arrow:hover:before {color: black;}#sk-container-id-6 div.sk-estimator:hover label.sk-toggleable__label-arrow:before {color: black;}#sk-container-id-6 div.sk-toggleable__content {max-height: 0;max-width: 0;overflow: hidden;text-align: left;background-color: #f0f8ff;}#sk-container-id-6 div.sk-toggleable__content pre {margin: 0.2em;color: black;border-radius: 0.25em;background-color: #f0f8ff;}#sk-container-id-6 input.sk-toggleable__control:checked~div.sk-toggleable__content {max-height: 200px;max-width: 100%;overflow: auto;}#sk-container-id-6 input.sk-toggleable__control:checked~label.sk-toggleable__label-arrow:before {content: \"▾\";}#sk-container-id-6 div.sk-estimator input.sk-toggleable__control:checked~label.sk-toggleable__label {background-color: #d4ebff;}#sk-container-id-6 div.sk-label input.sk-toggleable__control:checked~label.sk-toggleable__label {background-color: #d4ebff;}#sk-container-id-6 input.sk-hidden--visually {border: 0;clip: rect(1px 1px 1px 1px);clip: rect(1px, 1px, 1px, 1px);height: 1px;margin: -1px;overflow: hidden;padding: 0;position: absolute;width: 1px;}#sk-container-id-6 div.sk-estimator {font-family: monospace;background-color: #f0f8ff;border: 1px dotted black;border-radius: 0.25em;box-sizing: border-box;margin-bottom: 0.5em;}#sk-container-id-6 div.sk-estimator:hover {background-color: #d4ebff;}#sk-container-id-6 div.sk-parallel-item::after {content: \"\";width: 100%;border-bottom: 1px solid gray;flex-grow: 1;}#sk-container-id-6 div.sk-label:hover label.sk-toggleable__label {background-color: #d4ebff;}#sk-container-id-6 div.sk-serial::before {content: \"\";position: absolute;border-left: 1px solid gray;box-sizing: border-box;top: 0;bottom: 0;left: 50%;z-index: 0;}#sk-container-id-6 div.sk-serial {display: flex;flex-direction: column;align-items: center;background-color: white;padding-right: 0.2em;padding-left: 0.2em;position: relative;}#sk-container-id-6 div.sk-item {position: relative;z-index: 1;}#sk-container-id-6 div.sk-parallel {display: flex;align-items: stretch;justify-content: center;background-color: white;position: relative;}#sk-container-id-6 div.sk-item::before, #sk-container-id-6 div.sk-parallel-item::before {content: \"\";position: absolute;border-left: 1px solid gray;box-sizing: border-box;top: 0;bottom: 0;left: 50%;z-index: -1;}#sk-container-id-6 div.sk-parallel-item {display: flex;flex-direction: column;z-index: 1;position: relative;background-color: white;}#sk-container-id-6 div.sk-parallel-item:first-child::after {align-self: flex-end;width: 50%;}#sk-container-id-6 div.sk-parallel-item:last-child::after {align-self: flex-start;width: 50%;}#sk-container-id-6 div.sk-parallel-item:only-child::after {width: 0;}#sk-container-id-6 div.sk-dashed-wrapped {border: 1px dashed gray;margin: 0 0.4em 0.5em 0.4em;box-sizing: border-box;padding-bottom: 0.4em;background-color: white;}#sk-container-id-6 div.sk-label label {font-family: monospace;font-weight: bold;display: inline-block;line-height: 1.2em;}#sk-container-id-6 div.sk-label-container {text-align: center;}#sk-container-id-6 div.sk-container {/* jupyter's `normalize.less` sets `[hidden] { display: none; }` but bootstrap.min.css set `[hidden] { display: none !important; }` so we also need the `!important` here to be able to override the default hidden behavior on the sphinx rendered scikit-learn.org. See: https://github.com/scikit-learn/scikit-learn/issues/21755 */display: inline-block !important;position: relative;}#sk-container-id-6 div.sk-text-repr-fallback {display: none;}</style><div id=\"sk-container-id-6\" class=\"sk-top-container\"><div class=\"sk-text-repr-fallback\"><pre>LinearDiscriminantAnalysis()</pre><b>In a Jupyter environment, please rerun this cell to show the HTML representation or trust the notebook. <br />On GitHub, the HTML representation is unable to render, please try loading this page with nbviewer.org.</b></div><div class=\"sk-container\" hidden><div class=\"sk-item\"><div class=\"sk-estimator sk-toggleable\"><input class=\"sk-toggleable__control sk-hidden--visually\" id=\"sk-estimator-id-10\" type=\"checkbox\" checked><label for=\"sk-estimator-id-10\" class=\"sk-toggleable__label sk-toggleable__label-arrow\">LinearDiscriminantAnalysis</label><div class=\"sk-toggleable__content\"><pre>LinearDiscriminantAnalysis()</pre></div></div></div></div></div>"
      ],
      "text/plain": [
       "LinearDiscriminantAnalysis()"
      ]
     },
     "execution_count": 101,
     "metadata": {},
     "output_type": "execute_result"
    }
   ],
   "source": [
    "lda.fit(X_train, y_train)"
   ]
  },
  {
   "cell_type": "code",
   "execution_count": null,
   "id": "01788a14",
   "metadata": {},
   "outputs": [],
   "source": []
  },
  {
   "cell_type": "markdown",
   "id": "84ec22a8",
   "metadata": {},
   "source": [
    "##### Model_evaluation"
   ]
  },
  {
   "cell_type": "code",
   "execution_count": 102,
   "id": "6bda600a",
   "metadata": {},
   "outputs": [
    {
     "data": {
      "text/plain": [
       "0.8574370709382151"
      ]
     },
     "execution_count": 102,
     "metadata": {},
     "output_type": "execute_result"
    }
   ],
   "source": [
    "lda_train_score = lda.score(X_train, y_train)\n",
    "lda_train_score"
   ]
  },
  {
   "cell_type": "code",
   "execution_count": 103,
   "id": "fb1cbaa0",
   "metadata": {
    "scrolled": true
   },
   "outputs": [
    {
     "data": {
      "text/plain": [
       "0.8342214328004737"
      ]
     },
     "execution_count": 103,
     "metadata": {},
     "output_type": "execute_result"
    }
   ],
   "source": [
    "lda_test_score = lda.score(X_test, y_test)\n",
    "lda_test_score"
   ]
  },
  {
   "cell_type": "code",
   "execution_count": 104,
   "id": "773fbe50",
   "metadata": {},
   "outputs": [],
   "source": [
    "y_pred_lda_train = lda.predict(X_train)\n",
    "y_pred_lda_test = lda.predict(X_test)"
   ]
  },
  {
   "cell_type": "code",
   "execution_count": 105,
   "id": "7940eb6c",
   "metadata": {},
   "outputs": [],
   "source": [
    "from sklearn.metrics import classification_report, confusion_matrix"
   ]
  },
  {
   "cell_type": "code",
   "execution_count": 106,
   "id": "642f072f",
   "metadata": {},
   "outputs": [
    {
     "data": {
      "text/plain": [
       "array([[5626,  929],\n",
       "       [ 940, 5615]], dtype=int64)"
      ]
     },
     "execution_count": 106,
     "metadata": {},
     "output_type": "execute_result"
    }
   ],
   "source": [
    "confusion_matrix(y_train, y_pred_lda_train)"
   ]
  },
  {
   "cell_type": "code",
   "execution_count": 107,
   "id": "97376ebc",
   "metadata": {},
   "outputs": [
    {
     "data": {
      "text/plain": [
       "array([[2426,  383],\n",
       "       [ 177,  392]], dtype=int64)"
      ]
     },
     "execution_count": 107,
     "metadata": {},
     "output_type": "execute_result"
    }
   ],
   "source": [
    "confusion_matrix(y_test, y_pred_lda_test)"
   ]
  },
  {
   "cell_type": "code",
   "execution_count": 108,
   "id": "3203ae5f",
   "metadata": {},
   "outputs": [
    {
     "data": {
      "text/html": [
       "<div>\n",
       "<style scoped>\n",
       "    .dataframe tbody tr th:only-of-type {\n",
       "        vertical-align: middle;\n",
       "    }\n",
       "\n",
       "    .dataframe tbody tr th {\n",
       "        vertical-align: top;\n",
       "    }\n",
       "\n",
       "    .dataframe thead th {\n",
       "        text-align: right;\n",
       "    }\n",
       "</style>\n",
       "<table border=\"1\" class=\"dataframe\">\n",
       "  <thead>\n",
       "    <tr style=\"text-align: right;\">\n",
       "      <th></th>\n",
       "      <th>precision</th>\n",
       "      <th>recall</th>\n",
       "      <th>f1-score</th>\n",
       "      <th>support</th>\n",
       "    </tr>\n",
       "  </thead>\n",
       "  <tbody>\n",
       "    <tr>\n",
       "      <th>0</th>\n",
       "      <td>0.856838</td>\n",
       "      <td>0.858276</td>\n",
       "      <td>0.857557</td>\n",
       "      <td>6555.000000</td>\n",
       "    </tr>\n",
       "    <tr>\n",
       "      <th>1</th>\n",
       "      <td>0.858038</td>\n",
       "      <td>0.856598</td>\n",
       "      <td>0.857317</td>\n",
       "      <td>6555.000000</td>\n",
       "    </tr>\n",
       "    <tr>\n",
       "      <th>accuracy</th>\n",
       "      <td>0.857437</td>\n",
       "      <td>0.857437</td>\n",
       "      <td>0.857437</td>\n",
       "      <td>0.857437</td>\n",
       "    </tr>\n",
       "    <tr>\n",
       "      <th>macro avg</th>\n",
       "      <td>0.857438</td>\n",
       "      <td>0.857437</td>\n",
       "      <td>0.857437</td>\n",
       "      <td>13110.000000</td>\n",
       "    </tr>\n",
       "    <tr>\n",
       "      <th>weighted avg</th>\n",
       "      <td>0.857438</td>\n",
       "      <td>0.857437</td>\n",
       "      <td>0.857437</td>\n",
       "      <td>13110.000000</td>\n",
       "    </tr>\n",
       "  </tbody>\n",
       "</table>\n",
       "</div>"
      ],
      "text/plain": [
       "              precision    recall  f1-score       support\n",
       "0              0.856838  0.858276  0.857557   6555.000000\n",
       "1              0.858038  0.856598  0.857317   6555.000000\n",
       "accuracy       0.857437  0.857437  0.857437      0.857437\n",
       "macro avg      0.857438  0.857437  0.857437  13110.000000\n",
       "weighted avg   0.857438  0.857437  0.857437  13110.000000"
      ]
     },
     "execution_count": 108,
     "metadata": {},
     "output_type": "execute_result"
    }
   ],
   "source": [
    "df_lda_train=pd.DataFrame(classification_report(y_train, y_pred_lda_train, output_dict=True)).T\n",
    "df_lda_train"
   ]
  },
  {
   "cell_type": "code",
   "execution_count": 109,
   "id": "b3f4ed12",
   "metadata": {},
   "outputs": [
    {
     "data": {
      "text/html": [
       "<div>\n",
       "<style scoped>\n",
       "    .dataframe tbody tr th:only-of-type {\n",
       "        vertical-align: middle;\n",
       "    }\n",
       "\n",
       "    .dataframe tbody tr th {\n",
       "        vertical-align: top;\n",
       "    }\n",
       "\n",
       "    .dataframe thead th {\n",
       "        text-align: right;\n",
       "    }\n",
       "</style>\n",
       "<table border=\"1\" class=\"dataframe\">\n",
       "  <thead>\n",
       "    <tr style=\"text-align: right;\">\n",
       "      <th></th>\n",
       "      <th>precision</th>\n",
       "      <th>recall</th>\n",
       "      <th>f1-score</th>\n",
       "      <th>support</th>\n",
       "    </tr>\n",
       "  </thead>\n",
       "  <tbody>\n",
       "    <tr>\n",
       "      <th>0</th>\n",
       "      <td>0.932002</td>\n",
       "      <td>0.863653</td>\n",
       "      <td>0.896526</td>\n",
       "      <td>2809.000000</td>\n",
       "    </tr>\n",
       "    <tr>\n",
       "      <th>1</th>\n",
       "      <td>0.505806</td>\n",
       "      <td>0.688928</td>\n",
       "      <td>0.583333</td>\n",
       "      <td>569.000000</td>\n",
       "    </tr>\n",
       "    <tr>\n",
       "      <th>accuracy</th>\n",
       "      <td>0.834221</td>\n",
       "      <td>0.834221</td>\n",
       "      <td>0.834221</td>\n",
       "      <td>0.834221</td>\n",
       "    </tr>\n",
       "    <tr>\n",
       "      <th>macro avg</th>\n",
       "      <td>0.718904</td>\n",
       "      <td>0.776290</td>\n",
       "      <td>0.739930</td>\n",
       "      <td>3378.000000</td>\n",
       "    </tr>\n",
       "    <tr>\n",
       "      <th>weighted avg</th>\n",
       "      <td>0.860212</td>\n",
       "      <td>0.834221</td>\n",
       "      <td>0.843771</td>\n",
       "      <td>3378.000000</td>\n",
       "    </tr>\n",
       "  </tbody>\n",
       "</table>\n",
       "</div>"
      ],
      "text/plain": [
       "              precision    recall  f1-score      support\n",
       "0              0.932002  0.863653  0.896526  2809.000000\n",
       "1              0.505806  0.688928  0.583333   569.000000\n",
       "accuracy       0.834221  0.834221  0.834221     0.834221\n",
       "macro avg      0.718904  0.776290  0.739930  3378.000000\n",
       "weighted avg   0.860212  0.834221  0.843771  3378.000000"
      ]
     },
     "execution_count": 109,
     "metadata": {},
     "output_type": "execute_result"
    }
   ],
   "source": [
    "df_lda_test=pd.DataFrame(classification_report(y_test, y_pred_lda_test, output_dict=True)).T\n",
    "df_lda_test"
   ]
  },
  {
   "cell_type": "code",
   "execution_count": 110,
   "id": "8b505b2f",
   "metadata": {
    "scrolled": false
   },
   "outputs": [
    {
     "name": "stdout",
     "output_type": "stream",
     "text": [
      "AUC_lda_train: 0.930\n"
     ]
    },
    {
     "data": {
      "image/png": "[encoded data removed]",
      "text/plain": [
       "<Figure size 432x288 with 1 Axes>"
      ]
     },
     "metadata": {
      "needs_background": "light"
     },
     "output_type": "display_data"
    }
   ],
   "source": [
    "probs_lda_train = lda.predict_proba(X_train)\n",
    "probs_lda_train = probs_lda_train[:, 1]\n",
    "\n",
    "auc_lda_train = roc_auc_score(y_train, probs_lda_train)\n",
    "print('AUC_lda_train: %.3f' % auc_lda_train)\n",
    "\n",
    "fpr_lda_train, tpr_lda_train, thresholds_lda_train = roc_curve(y_train, probs_lda_train)\n",
    "plt.plot([0, 1], [0, 1], linestyle='--')\n",
    "plt.plot(fpr_lda_train, tpr_lda_train, marker='.')\n",
    "plt.show()"
   ]
  },
  {
   "cell_type": "code",
   "execution_count": 111,
   "id": "1ada60be",
   "metadata": {},
   "outputs": [
    {
     "name": "stdout",
     "output_type": "stream",
     "text": [
      "AUC_lda_test: 0.854\n"
     ]
    },
    {
     "data": {
      "image/png": "[encoded data removed]",
      "text/plain": [
       "<Figure size 432x288 with 1 Axes>"
      ]
     },
     "metadata": {
      "needs_background": "light"
     },
     "output_type": "display_data"
    }
   ],
   "source": [
    "probs_lda_test = lda.predict_proba(X_test)\n",
    "probs_lda_test = probs_lda_test[:, 1]\n",
    "\n",
    "auc_lda_test = roc_auc_score(y_test, probs_lda_test)\n",
    "print('AUC_lda_test: %.3f' % auc_lda_test)\n",
    "\n",
    "fpr_lda_test, tpr_lda_test, thresholds_lda_test = roc_curve(y_test, probs_lda_test)\n",
    "plt.plot([0, 1], [0, 1], linestyle='--')\n",
    "plt.plot(fpr_lda_test, tpr_lda_test, marker='.')\n",
    "plt.show()"
   ]
  },
  {
   "cell_type": "code",
   "execution_count": null,
   "id": "b20eaf92",
   "metadata": {},
   "outputs": [],
   "source": []
  },
  {
   "cell_type": "code",
   "execution_count": null,
   "id": "d12e03a2",
   "metadata": {},
   "outputs": [],
   "source": []
  },
  {
   "cell_type": "markdown",
   "id": "7638b3d0",
   "metadata": {},
   "source": [
    "### Model tuning by cut-off method"
   ]
  },
  {
   "cell_type": "code",
   "execution_count": 121,
   "id": "cbefbf48",
   "metadata": {},
   "outputs": [],
   "source": [
    "from sklearn import metrics,model_selection\n",
    "import seaborn as sns\n"
   ]
  },
  {
   "cell_type": "code",
   "execution_count": 127,
   "id": "53d67751",
   "metadata": {
    "scrolled": false
   },
   "outputs": [
    {
     "name": "stdout",
     "output_type": "stream",
     "text": [
      "0.1 \n",
      "\n",
      "Accuracy Score 0.7413\n",
      "Recall 0.9719 \n",
      "\n",
      "Confusion Matrix\n"
     ]
    },
    {
     "data": {
      "image/png": "[encoded data removed]",
      "text/plain": [
       "<Figure size 432x288 with 2 Axes>"
      ]
     },
     "metadata": {
      "needs_background": "light"
     },
     "output_type": "display_data"
    },
    {
     "name": "stdout",
     "output_type": "stream",
     "text": [
      "0.2 \n",
      "\n",
      "Accuracy Score 0.804\n",
      "Recall 0.9474 \n",
      "\n",
      "Confusion Matrix\n"
     ]
    },
    {
     "data": {
      "image/png": "[encoded data removed]",
      "text/plain": [
       "<Figure size 432x288 with 2 Axes>"
      ]
     },
     "metadata": {
      "needs_background": "light"
     },
     "output_type": "display_data"
    },
    {
     "name": "stdout",
     "output_type": "stream",
     "text": [
      "0.3 \n",
      "\n",
      "Accuracy Score 0.8295\n",
      "Recall 0.9117 \n",
      "\n",
      "Confusion Matrix\n"
     ]
    },
    {
     "data": {
      "image/png": "[encoded data removed]",
      "text/plain": [
       "<Figure size 432x288 with 2 Axes>"
      ]
     },
     "metadata": {
      "needs_background": "light"
     },
     "output_type": "display_data"
    },
    {
     "name": "stdout",
     "output_type": "stream",
     "text": [
      "0.4 \n",
      "\n",
      "Accuracy Score 0.849\n",
      "Recall 0.8877 \n",
      "\n",
      "Confusion Matrix\n"
     ]
    },
    {
     "data": {
      "image/png": "[encoded data removed]",
      "text/plain": [
       "<Figure size 432x288 with 2 Axes>"
      ]
     },
     "metadata": {
      "needs_background": "light"
     },
     "output_type": "display_data"
    },
    {
     "name": "stdout",
     "output_type": "stream",
     "text": [
      "0.5 \n",
      "\n",
      "Accuracy Score 0.8574\n",
      "Recall 0.8566 \n",
      "\n",
      "Confusion Matrix\n"
     ]
    },
    {
     "data": {
      "image/png": "[encoded data removed]",
      "text/plain": [
       "<Figure size 432x288 with 2 Axes>"
      ]
     },
     "metadata": {
      "needs_background": "light"
     },
     "output_type": "display_data"
    },
    {
     "name": "stdout",
     "output_type": "stream",
     "text": [
      "0.6 \n",
      "\n",
      "Accuracy Score 0.8548\n",
      "Recall 0.8029 \n",
      "\n",
      "Confusion Matrix\n"
     ]
    },
    {
     "data": {
      "image/png": "[encoded data removed]",
      "text/plain": [
       "<Figure size 432x288 with 2 Axes>"
      ]
     },
     "metadata": {
      "needs_background": "light"
     },
     "output_type": "display_data"
    },
    {
     "name": "stdout",
     "output_type": "stream",
     "text": [
      "0.7 \n",
      "\n",
      "Accuracy Score 0.8376\n",
      "Recall 0.7381 \n",
      "\n",
      "Confusion Matrix\n"
     ]
    },
    {
     "data": {
      "image/png": "[encoded data removed]",
      "text/plain": [
       "<Figure size 432x288 with 2 Axes>"
      ]
     },
     "metadata": {
      "needs_background": "light"
     },
     "output_type": "display_data"
    },
    {
     "name": "stdout",
     "output_type": "stream",
     "text": [
      "0.8 \n",
      "\n",
      "Accuracy Score 0.8118\n",
      "Recall 0.6595 \n",
      "\n",
      "Confusion Matrix\n"
     ]
    },
    {
     "data": {
      "image/png": "[encoded data removed]",
      "text/plain": [
       "<Figure size 432x288 with 2 Axes>"
      ]
     },
     "metadata": {
      "needs_background": "light"
     },
     "output_type": "display_data"
    },
    {
     "name": "stdout",
     "output_type": "stream",
     "text": [
      "0.9 \n",
      "\n",
      "Accuracy Score 0.7574\n",
      "Recall 0.5292 \n",
      "\n",
      "Confusion Matrix\n"
     ]
    },
    {
     "data": {
      "image/png": "[encoded data removed]",
      "text/plain": [
       "<Figure size 432x288 with 2 Axes>"
      ]
     },
     "metadata": {
      "needs_background": "light"
     },
     "output_type": "display_data"
    }
   ],
   "source": [
    "for k in np.arange(0.1,1,0.1):\n",
    "    custom_prob_lda = k\n",
    "    custom_cutoff_data_lda=[]\n",
    "    for i in range(0,len(y_train)):\n",
    "        if np.array(probs_lda_train)[i] > custom_prob_lda:\n",
    "            a=1\n",
    "        else:\n",
    "            a=0\n",
    "        custom_cutoff_data_lda.append(a)\n",
    "    print(round(k,3),'\\n')\n",
    "    print('Accuracy Score',round(metrics.accuracy_score(y_train,custom_cutoff_data_lda),4))\n",
    "    print('Recall',round(metrics.recall_score(y_train,custom_cutoff_data_lda),4),'\\n')\n",
    "    plt.figure(figsize=(6,4))\n",
    "    print('Confusion Matrix')\n",
    "    sns.heatmap(metrics.confusion_matrix(y_train,custom_cutoff_data_lda),annot=True,fmt='.4g'),'\\n\\n'\n",
    "    plt.show();"
   ]
  },
  {
   "cell_type": "code",
   "execution_count": null,
   "id": "521dbbd2",
   "metadata": {},
   "outputs": [],
   "source": []
  },
  {
   "cell_type": "code",
   "execution_count": null,
   "id": "45db234b",
   "metadata": {},
   "outputs": [],
   "source": []
  },
  {
   "cell_type": "code",
   "execution_count": null,
   "id": "95b3909e",
   "metadata": {},
   "outputs": [],
   "source": []
  },
  {
   "cell_type": "markdown",
   "id": "da45c1b6",
   "metadata": {},
   "source": [
    "## 5) KNN"
   ]
  },
  {
   "cell_type": "code",
   "execution_count": null,
   "id": "6174d33f",
   "metadata": {},
   "outputs": [],
   "source": [
    "from sklearn.neighbors import KNeighborsClassifier"
   ]
  },
  {
   "cell_type": "code",
   "execution_count": null,
   "id": "b5ca982c",
   "metadata": {},
   "outputs": [],
   "source": [
    "knn = KNeighborsClassifier(n_neighbors=2)"
   ]
  },
  {
   "cell_type": "code",
   "execution_count": null,
   "id": "e3db671e",
   "metadata": {},
   "outputs": [],
   "source": [
    "knn.fit(X_train_s, y_train)"
   ]
  },
  {
   "cell_type": "code",
   "execution_count": null,
   "id": "6d05f97e",
   "metadata": {},
   "outputs": [],
   "source": []
  },
  {
   "cell_type": "markdown",
   "id": "ec52125e",
   "metadata": {},
   "source": [
    "##### Model_evaluation"
   ]
  },
  {
   "cell_type": "code",
   "execution_count": null,
   "id": "b533204b",
   "metadata": {},
   "outputs": [],
   "source": [
    "knn_train_score= knn.score(X_train_s, y_train)\n",
    "knn_train_score"
   ]
  },
  {
   "cell_type": "code",
   "execution_count": null,
   "id": "953ef74f",
   "metadata": {
    "scrolled": true
   },
   "outputs": [],
   "source": [
    "knn_test_score = knn.score(X_test_s, y_test)\n",
    "knn_test_score"
   ]
  },
  {
   "cell_type": "code",
   "execution_count": null,
   "id": "274a4476",
   "metadata": {},
   "outputs": [],
   "source": [
    "y_pred_knn_train = knn.predict(X_train_s)\n",
    "y_pred_knn_test = knn.predict(X_test_s)"
   ]
  },
  {
   "cell_type": "code",
   "execution_count": null,
   "id": "ce208460",
   "metadata": {},
   "outputs": [],
   "source": [
    "confusion_matrix(y_train, y_pred_knn_train)"
   ]
  },
  {
   "cell_type": "code",
   "execution_count": null,
   "id": "842187b4",
   "metadata": {},
   "outputs": [],
   "source": [
    "confusion_matrix(y_test, y_pred_knn_test)"
   ]
  },
  {
   "cell_type": "code",
   "execution_count": null,
   "id": "87be77f0",
   "metadata": {
    "scrolled": true
   },
   "outputs": [],
   "source": [
    "df_knn_train=pd.DataFrame(classification_report(y_train, y_pred_knn_train, output_dict=True)).T\n",
    "df_knn_train"
   ]
  },
  {
   "cell_type": "code",
   "execution_count": null,
   "id": "c1dce307",
   "metadata": {},
   "outputs": [],
   "source": [
    "df_knn_test=pd.DataFrame(classification_report(y_test, y_pred_knn_test, output_dict=True)).T\n",
    "df_knn_test"
   ]
  },
  {
   "cell_type": "code",
   "execution_count": null,
   "id": "d08d3752",
   "metadata": {
    "scrolled": true
   },
   "outputs": [],
   "source": [
    "probs_knn_train = knn.predict_proba(X_train_s)\n",
    "probs_knn_train = probs_knn_train[:, 1]\n",
    "\n",
    "auc_knn_train = roc_auc_score(y_train, probs_knn_train)\n",
    "print('AUC_knn_train: %.3f' % auc_knn_train)\n",
    "\n",
    "fpr_knn_train, tpr_knn_train, thresholds_knn_train = roc_curve(y_train, probs_knn_train)\n",
    "plt.plot([0, 1], [0, 1], linestyle='--')\n",
    "plt.plot(fpr_knn_train, tpr_knn_train, marker='.')\n",
    "plt.show()"
   ]
  },
  {
   "cell_type": "code",
   "execution_count": null,
   "id": "67bbe8ec",
   "metadata": {
    "scrolled": true
   },
   "outputs": [],
   "source": [
    "probs_knn_test = knn.predict_proba(X_test_s)\n",
    "probs_knn_test = probs_knn_test[:, 1]\n",
    "\n",
    "auc_knn_test = roc_auc_score(y_test, probs_knn_test)\n",
    "print('AUC_knn_test: %.3f' % auc_knn_test)\n",
    "\n",
    "fpr_knn_test, tpr_knn_test, thresholds_knn_test = roc_curve(y_test, probs_knn_test)\n",
    "plt.plot([0, 1], [0, 1], linestyle='--')\n",
    "plt.plot(fpr_knn_test, tpr_knn_test, marker='.')\n",
    "plt.show()"
   ]
  },
  {
   "cell_type": "code",
   "execution_count": null,
   "id": "c872183c",
   "metadata": {},
   "outputs": [],
   "source": []
  },
  {
   "cell_type": "markdown",
   "id": "241b905c",
   "metadata": {},
   "source": [
    "### KNN Tuning"
   ]
  },
  {
   "cell_type": "code",
   "execution_count": null,
   "id": "1ff48b7a",
   "metadata": {},
   "outputs": [],
   "source": [
    "param_grid_knn = {\n",
    "    'n_neighbors': [2,3],\n",
    "    'weights': ['uniform', 'distance'],\n",
    "    'algorithm': ['auto', 'ball_tree'],\n",
    "    'leaf_size': [10, 20],\n",
    "    'p': [1, 2], \n",
    "}\n",
    "\n",
    "knng = KNeighborsClassifier()\n",
    "grid_search_knn = GridSearchCV(estimator = knng, param_grid = param_grid_knn, cv = 3) "
   ]
  },
  {
   "cell_type": "code",
   "execution_count": null,
   "id": "3a929a17",
   "metadata": {
    "scrolled": true
   },
   "outputs": [],
   "source": [
    "grid_search_knn.fit(X_train_s, y_train)"
   ]
  },
  {
   "cell_type": "code",
   "execution_count": null,
   "id": "9203952d",
   "metadata": {},
   "outputs": [],
   "source": [
    "print(grid_search_knn.best_params_)\n",
    "best_grid_knn = grid_search_knn.best_estimator_"
   ]
  },
  {
   "cell_type": "code",
   "execution_count": null,
   "id": "3ecc4de6",
   "metadata": {},
   "outputs": [],
   "source": []
  },
  {
   "cell_type": "markdown",
   "id": "48552465",
   "metadata": {},
   "source": [
    "##### Model_evaluation"
   ]
  },
  {
   "cell_type": "code",
   "execution_count": null,
   "id": "0b5fad53",
   "metadata": {},
   "outputs": [],
   "source": [
    "knng_train_score = best_grid_knn.score(X_train_s, y_train)\n",
    "knng_train_score"
   ]
  },
  {
   "cell_type": "code",
   "execution_count": null,
   "id": "c2e97806",
   "metadata": {
    "scrolled": true
   },
   "outputs": [],
   "source": [
    "knng_test_score = best_grid_knn.score(X_test_s, y_test)\n",
    "knng_test_score"
   ]
  },
  {
   "cell_type": "code",
   "execution_count": null,
   "id": "4f158128",
   "metadata": {},
   "outputs": [],
   "source": [
    "y_pred_knng_train = best_grid_knn.predict(X_train_s)\n",
    "y_pred_knng_test = best_grid_knn.predict(X_test_s)"
   ]
  },
  {
   "cell_type": "code",
   "execution_count": null,
   "id": "e54f20cf",
   "metadata": {
    "scrolled": true
   },
   "outputs": [],
   "source": [
    "confusion_matrix(y_train, y_pred_knng_train)"
   ]
  },
  {
   "cell_type": "code",
   "execution_count": null,
   "id": "8af7dfb7",
   "metadata": {},
   "outputs": [],
   "source": [
    "confusion_matrix(y_test, y_pred_knng_test)"
   ]
  },
  {
   "cell_type": "code",
   "execution_count": null,
   "id": "eccb8a0a",
   "metadata": {},
   "outputs": [],
   "source": [
    "df_knng_train=pd.DataFrame(classification_report(y_train, y_pred_knng_train, output_dict=True)).T\n",
    "df_knng_train"
   ]
  },
  {
   "cell_type": "code",
   "execution_count": null,
   "id": "4691bdcf",
   "metadata": {},
   "outputs": [],
   "source": [
    "df_knng_test=pd.DataFrame(classification_report(y_test, y_pred_knng_test, output_dict=True)).T\n",
    "df_knng_test"
   ]
  },
  {
   "cell_type": "code",
   "execution_count": null,
   "id": "d2790f50",
   "metadata": {
    "scrolled": false
   },
   "outputs": [],
   "source": [
    "probs_knng_train = best_grid_knn.predict_proba(X_train_s)\n",
    "probs_knng_train = probs_knng_train[:, 1]\n",
    "\n",
    "auc_knng_train = roc_auc_score(y_train, probs_knng_train)\n",
    "print('AUC_knng_train: %.3f' % auc_knng_train)\n",
    "\n",
    "fpr_knng_train, tpr_knng_train, thresholds_knng_train = roc_curve(y_train, probs_knng_train)\n",
    "plt.plot([0, 1], [0, 1], linestyle='--')\n",
    "plt.plot(fpr_knng_train, tpr_knng_train, marker='.')\n",
    "plt.show()"
   ]
  },
  {
   "cell_type": "code",
   "execution_count": null,
   "id": "9dc5c37f",
   "metadata": {
    "scrolled": true
   },
   "outputs": [],
   "source": [
    "probs_knng_test = best_grid_knn.predict_proba(X_test_s)\n",
    "probs_knng_test = probs_knng_test[:, 1]\n",
    "\n",
    "auc_knng_test = roc_auc_score(y_test, probs_knng_test)\n",
    "print('AUC_knng_test: %.3f' % auc_knng_test)\n",
    "\n",
    "fpr_knng_test, tpr_knng_test, thresholds_knng_test = roc_curve(y_test, probs_knng_test)\n",
    "plt.plot([0, 1], [0, 1], linestyle='--')\n",
    "plt.plot(fpr_knng_test, tpr_knng_test, marker='.')\n",
    "plt.show()"
   ]
  },
  {
   "cell_type": "code",
   "execution_count": null,
   "id": "bbdb5134",
   "metadata": {},
   "outputs": [],
   "source": []
  },
  {
   "cell_type": "markdown",
   "id": "aa7766c6",
   "metadata": {},
   "source": [
    "### Interpretation"
   ]
  },
  {
   "cell_type": "code",
   "execution_count": null,
   "id": "179ba5d0",
   "metadata": {},
   "outputs": [],
   "source": [
    "index=['Accuracy', 'AUC', 'Precision','Recall','F1 Score']\n",
    "data_models = pd.DataFrame(\n",
    "{'CART_Train':[cart_train_score, auc_cart_train, df_cart_train.iloc[1,0], df_cart_train.iloc[1,1], df_cart_train.iloc[1,2]],\n",
    "'CART_Test':[cart_test_score, auc_cart_test, df_cart_test.iloc[1,0], df_cart_test.iloc[1,1], df_cart_test.iloc[1,2]],\n",
    " 'RF_Train':[rf_train_score, auc_rf_train, df_rf_train.iloc[1,0], df_rf_train.iloc[1,1], df_rf_train.iloc[1,2]],\n",
    "'RF_Test':[rf_test_score, auc_rf_test, df_rf_test.iloc[1,0], df_rf_test.iloc[1,1], df_rf_test.iloc[1,2]],\n",
    " 'LOR_Train':[lor_train_score, auc_lor_train, df_lor_train.iloc[1,0], df_lor_train.iloc[1,1], df_lor_train.iloc[1,2]],\n",
    "'LOR_Test':[lor_test_score, auc_lor_test, df_lor_test.iloc[1,0], df_lor_test.iloc[1,1], df_lor_test.iloc[1,2]],\n",
    " 'LDA_Train':[lda_train_score, auc_lda_train, df_lda_train.iloc[1,0], df_lda_train.iloc[1,1], df_lda_train.iloc[1,2]],\n",
    "'LDA_Test':[lda_test_score, auc_lda_test, df_lda_test.iloc[1,0], df_lda_test.iloc[1,1], df_lda_test.iloc[1,2]],\n",
    "'KNN_Train':[knn_train_score, auc_knn_train, df_knn_train.iloc[1,0], df_knn_train.iloc[1,1], df_knn_train.iloc[1,2]],\n",
    "'KNN_Test':[knn_test_score, auc_knn_test, df_knn_test.iloc[1,0], df_knn_test.iloc[1,1], df_knn_test.iloc[1,2]]\n",
    "},\n",
    "index=index).T\n",
    "round(data_models,2)"
   ]
  },
  {
   "cell_type": "code",
   "execution_count": null,
   "id": "b7727aba",
   "metadata": {},
   "outputs": [],
   "source": [
    "index=['Accuracy', 'AUC', 'Precision','Recall','F1 Score']\n",
    "data_models_tuned = pd.DataFrame(\n",
    "{'CARTg_Train':[cartg_train_score, auc_cartg_train, df_cartg_train.iloc[1,0], df_cartg_train.iloc[1,1], df_cartg_train.iloc[1,2]],\n",
    "'CARTg_Test':[cartg_test_score, auc_cartg_test, df_cartg_test.iloc[1,0], df_cartg_test.iloc[1,1], df_cartg_test.iloc[1,2]],\n",
    " 'RFg_Train':[rfg_train_score, auc_rfg_train, df_rfg_train.iloc[1,0], df_rfg_train.iloc[1,1], df_rfg_train.iloc[1,2]],\n",
    "'RFg_Test':[rfg_test_score, auc_rfg_test, df_rfg_test.iloc[1,0], df_rfg_test.iloc[1,1], df_rfg_test.iloc[1,2]],\n",
    " 'KNNg_Train':[knng_train_score, auc_knng_train, df_knng_train.iloc[1,0], df_knng_train.iloc[1,1], df_knng_train.iloc[1,2]],\n",
    "'KNNg_Test':[knng_test_score, auc_knng_test, df_knng_test.iloc[1,0], df_knng_test.iloc[1,1], df_knng_test.iloc[1,2]]\n",
    "},\n",
    "index=index).T\n",
    "round(data_models_tuned,2)"
   ]
  },
  {
   "cell_type": "code",
   "execution_count": null,
   "id": "d743b644",
   "metadata": {},
   "outputs": [],
   "source": []
  },
  {
   "cell_type": "markdown",
   "id": "6c09313b",
   "metadata": {},
   "source": [
    "## Ensemble modelling"
   ]
  },
  {
   "cell_type": "code",
   "execution_count": null,
   "id": "026c70b3",
   "metadata": {},
   "outputs": [],
   "source": []
  },
  {
   "cell_type": "markdown",
   "id": "e422f282",
   "metadata": {},
   "source": [
    "## 1) Bagging"
   ]
  },
  {
   "cell_type": "code",
   "execution_count": null,
   "id": "85e63b99",
   "metadata": {},
   "outputs": [],
   "source": [
    "from sklearn.ensemble import BaggingClassifier"
   ]
  },
  {
   "cell_type": "code",
   "execution_count": null,
   "id": "6e04786a",
   "metadata": {},
   "outputs": [],
   "source": [
    "bag = BaggingClassifier(base_estimator = rf, random_state= 1)"
   ]
  },
  {
   "cell_type": "code",
   "execution_count": null,
   "id": "d5964f9f",
   "metadata": {},
   "outputs": [],
   "source": [
    "bag.fit(X_train, y_train)"
   ]
  },
  {
   "cell_type": "code",
   "execution_count": null,
   "id": "2fa334cf",
   "metadata": {},
   "outputs": [],
   "source": []
  },
  {
   "cell_type": "markdown",
   "id": "da86d403",
   "metadata": {},
   "source": [
    "##### Model_evaluation"
   ]
  },
  {
   "cell_type": "code",
   "execution_count": null,
   "id": "8f1374ef",
   "metadata": {},
   "outputs": [],
   "source": [
    "bag_train_score = bag.score(X_train, y_train)\n",
    "bag_train_score"
   ]
  },
  {
   "cell_type": "code",
   "execution_count": null,
   "id": "4257a3d8",
   "metadata": {
    "scrolled": true
   },
   "outputs": [],
   "source": [
    "bag_test_score = bag.score(X_test, y_test)\n",
    "bag_test_score"
   ]
  },
  {
   "cell_type": "code",
   "execution_count": null,
   "id": "436616a7",
   "metadata": {},
   "outputs": [],
   "source": [
    "y_pred_bag_train = bag.predict(X_train)\n",
    "y_pred_bag_test = bag.predict(X_test)"
   ]
  },
  {
   "cell_type": "code",
   "execution_count": null,
   "id": "c805dcb8",
   "metadata": {},
   "outputs": [],
   "source": [
    "from sklearn.metrics import classification_report, confusion_matrix"
   ]
  },
  {
   "cell_type": "code",
   "execution_count": null,
   "id": "cdf34945",
   "metadata": {},
   "outputs": [],
   "source": [
    "confusion_matrix(y_train, y_pred_bag_train)"
   ]
  },
  {
   "cell_type": "code",
   "execution_count": null,
   "id": "3f21f6cc",
   "metadata": {},
   "outputs": [],
   "source": [
    "confusion_matrix(y_test, y_pred_bag_test)"
   ]
  },
  {
   "cell_type": "code",
   "execution_count": null,
   "id": "fae320d0",
   "metadata": {
    "scrolled": true
   },
   "outputs": [],
   "source": [
    "df_bag_train=pd.DataFrame(classification_report(y_train, y_pred_bag_train, output_dict=True)).T\n",
    "df_bag_train"
   ]
  },
  {
   "cell_type": "code",
   "execution_count": null,
   "id": "9361ebd6",
   "metadata": {},
   "outputs": [],
   "source": [
    "df_bag_test=pd.DataFrame(classification_report(y_test, y_pred_bag_test, output_dict=True)).T\n",
    "df_bag_test"
   ]
  },
  {
   "cell_type": "code",
   "execution_count": null,
   "id": "5e037966",
   "metadata": {
    "scrolled": false
   },
   "outputs": [],
   "source": [
    "probs_bag_train = bag.predict_proba(X_train)\n",
    "probs_bag_train = probs_bag_train[:, 1]\n",
    "\n",
    "auc_bag_train = roc_auc_score(y_train, probs_bag_train)\n",
    "print('AUC_bag_train: %.3f' % auc_bag_train)\n",
    "\n",
    "fpr_bag_train, tpr_bag_train, thresholds_bag_train = roc_curve(y_train, probs_bag_train)\n",
    "plt.plot([0, 1], [0, 1], linestyle='--')\n",
    "plt.plot(fpr_bag_train, tpr_bag_train, marker='.')\n",
    "plt.show()"
   ]
  },
  {
   "cell_type": "code",
   "execution_count": null,
   "id": "9ade208d",
   "metadata": {},
   "outputs": [],
   "source": [
    "probs_bag_test = bag.predict_proba(X_test)\n",
    "probs_bag_test = probs_bag_test[:, 1]\n",
    "\n",
    "auc_bag_test = roc_auc_score(y_test, probs_bag_test)\n",
    "print('AUC_bag_test: %.3f' % auc_bag_test)\n",
    "\n",
    "fpr_bag_test, tpr_bag_test, thresholds_bag_test = roc_curve(y_test, probs_bag_test)\n",
    "plt.plot([0, 1], [0, 1], linestyle='--')\n",
    "plt.plot(fpr_bag_test, tpr_bag_test, marker='.')\n",
    "plt.show()"
   ]
  },
  {
   "cell_type": "code",
   "execution_count": null,
   "id": "dbbdeb4b",
   "metadata": {},
   "outputs": [],
   "source": []
  },
  {
   "cell_type": "markdown",
   "id": "47074b64",
   "metadata": {},
   "source": [
    "## 2) Adaboost"
   ]
  },
  {
   "cell_type": "code",
   "execution_count": null,
   "id": "b12f84d7",
   "metadata": {},
   "outputs": [],
   "source": [
    "from sklearn.ensemble import AdaBoostClassifier"
   ]
  },
  {
   "cell_type": "code",
   "execution_count": null,
   "id": "850dcea8",
   "metadata": {},
   "outputs": [],
   "source": [
    "aboost = AdaBoostClassifier(base_estimator = rf, random_state= 1)"
   ]
  },
  {
   "cell_type": "code",
   "execution_count": null,
   "id": "c43b2480",
   "metadata": {},
   "outputs": [],
   "source": [
    "aboost.fit(X_train, y_train)"
   ]
  },
  {
   "cell_type": "code",
   "execution_count": null,
   "id": "6f57aeda",
   "metadata": {},
   "outputs": [],
   "source": []
  },
  {
   "cell_type": "markdown",
   "id": "e635e40d",
   "metadata": {},
   "source": [
    "##### Model_evaluation"
   ]
  },
  {
   "cell_type": "code",
   "execution_count": null,
   "id": "3297e686",
   "metadata": {},
   "outputs": [],
   "source": [
    "aboost_train_score = aboost.score(X_train, y_train)\n",
    "aboost_train_score"
   ]
  },
  {
   "cell_type": "code",
   "execution_count": null,
   "id": "e2eec4a2",
   "metadata": {
    "scrolled": true
   },
   "outputs": [],
   "source": [
    "aboost_test_score = aboost.score(X_test, y_test)\n",
    "aboost_test_score"
   ]
  },
  {
   "cell_type": "code",
   "execution_count": null,
   "id": "f1eb2a61",
   "metadata": {},
   "outputs": [],
   "source": [
    "y_pred_aboost_train = aboost.predict(X_train)\n",
    "y_pred_aboost_test = aboost.predict(X_test)"
   ]
  },
  {
   "cell_type": "code",
   "execution_count": null,
   "id": "c3f294c7",
   "metadata": {},
   "outputs": [],
   "source": [
    "from sklearn.metrics import classification_report, confusion_matrix"
   ]
  },
  {
   "cell_type": "code",
   "execution_count": null,
   "id": "ce9de101",
   "metadata": {},
   "outputs": [],
   "source": [
    "confusion_matrix(y_train, y_pred_aboost_train)"
   ]
  },
  {
   "cell_type": "code",
   "execution_count": null,
   "id": "7614e8ac",
   "metadata": {},
   "outputs": [],
   "source": [
    "confusion_matrix(y_test, y_pred_aboost_test)"
   ]
  },
  {
   "cell_type": "code",
   "execution_count": null,
   "id": "e997bba3",
   "metadata": {
    "scrolled": true
   },
   "outputs": [],
   "source": [
    "df_aboost_train=pd.DataFrame(classification_report(y_train, y_pred_aboost_train, output_dict=True)).T\n",
    "df_aboost_train"
   ]
  },
  {
   "cell_type": "code",
   "execution_count": null,
   "id": "aa1fa542",
   "metadata": {},
   "outputs": [],
   "source": [
    "df_aboost_test=pd.DataFrame(classification_report(y_test, y_pred_aboost_test, output_dict=True)).T\n",
    "df_aboost_test"
   ]
  },
  {
   "cell_type": "code",
   "execution_count": null,
   "id": "03b1bfb8",
   "metadata": {
    "scrolled": false
   },
   "outputs": [],
   "source": [
    "probs_aboost_train = aboost.predict_proba(X_train)\n",
    "probs_aboost_train = probs_aboost_train[:, 1]\n",
    "\n",
    "auc_aboost_train = roc_auc_score(y_train, probs_aboost_train)\n",
    "print('AUC_bag_train: %.3f' % auc_aboost_train)\n",
    "\n",
    "fpr_aboost_train, tpr_aboost_train, thresholds_aboost_train = roc_curve(y_train, probs_aboost_train)\n",
    "plt.plot([0, 1], [0, 1], linestyle='--')\n",
    "plt.plot(fpr_aboost_train, tpr_aboost_train, marker='.')\n",
    "plt.show()"
   ]
  },
  {
   "cell_type": "code",
   "execution_count": null,
   "id": "e389f053",
   "metadata": {},
   "outputs": [],
   "source": [
    "probs_aboost_test = aboost.predict_proba(X_test)\n",
    "probs_aboost_test = probs_aboost_test[:, 1]\n",
    "\n",
    "auc_aboost_test = roc_auc_score(y_test, probs_aboost_test)\n",
    "print('AUC_bag_test: %.3f' % auc_aboost_test)\n",
    "\n",
    "fpr_aboost_test, tpr_aboost_test, thresholds_aboost_test = roc_curve(y_test, probs_aboost_test)\n",
    "plt.plot([0, 1], [0, 1], linestyle='--')\n",
    "plt.plot(fpr_aboost_test, tpr_aboost_test, marker='.')\n",
    "plt.show()"
   ]
  },
  {
   "cell_type": "code",
   "execution_count": null,
   "id": "394111e9",
   "metadata": {},
   "outputs": [],
   "source": []
  },
  {
   "cell_type": "markdown",
   "id": "892fd220",
   "metadata": {},
   "source": [
    "## 3) Gradientboost"
   ]
  },
  {
   "cell_type": "code",
   "execution_count": null,
   "id": "2eb485ce",
   "metadata": {},
   "outputs": [],
   "source": [
    "from sklearn.ensemble import GradientBoostingClassifier"
   ]
  },
  {
   "cell_type": "code",
   "execution_count": null,
   "id": "96ecaf17",
   "metadata": {},
   "outputs": [],
   "source": [
    "gboost = GradientBoostingClassifier(random_state= 1)"
   ]
  },
  {
   "cell_type": "code",
   "execution_count": null,
   "id": "f6427f58",
   "metadata": {},
   "outputs": [],
   "source": [
    "gboost.fit(X_train, y_train)"
   ]
  },
  {
   "cell_type": "code",
   "execution_count": null,
   "id": "39c8cfd7",
   "metadata": {},
   "outputs": [],
   "source": []
  },
  {
   "cell_type": "markdown",
   "id": "34c797c8",
   "metadata": {},
   "source": [
    "##### Model_evaluation"
   ]
  },
  {
   "cell_type": "code",
   "execution_count": null,
   "id": "0e0725be",
   "metadata": {},
   "outputs": [],
   "source": [
    "gboost_train_score = gboost.score(X_train, y_train)\n",
    "gboost_train_score"
   ]
  },
  {
   "cell_type": "code",
   "execution_count": null,
   "id": "359b60cd",
   "metadata": {
    "scrolled": true
   },
   "outputs": [],
   "source": [
    "gboost_test_score = gboost.score(X_test, y_test)\n",
    "gboost_test_score"
   ]
  },
  {
   "cell_type": "code",
   "execution_count": null,
   "id": "09234096",
   "metadata": {},
   "outputs": [],
   "source": []
  },
  {
   "cell_type": "code",
   "execution_count": null,
   "id": "308dab6f",
   "metadata": {},
   "outputs": [],
   "source": [
    "y_pred_gboost_train = gboost.predict(X_train)\n",
    "y_pred_gboost_test = gboost.predict(X_test)"
   ]
  },
  {
   "cell_type": "code",
   "execution_count": null,
   "id": "a6b896fb",
   "metadata": {},
   "outputs": [],
   "source": []
  },
  {
   "cell_type": "code",
   "execution_count": null,
   "id": "e3c300ff",
   "metadata": {},
   "outputs": [],
   "source": [
    "from sklearn.metrics import classification_report, confusion_matrix"
   ]
  },
  {
   "cell_type": "code",
   "execution_count": null,
   "id": "dc0d995f",
   "metadata": {},
   "outputs": [],
   "source": [
    "confusion_matrix(y_train, y_pred_gboost_train)"
   ]
  },
  {
   "cell_type": "code",
   "execution_count": null,
   "id": "815fa18a",
   "metadata": {},
   "outputs": [],
   "source": [
    "confusion_matrix(y_test, y_pred_gboost_test)"
   ]
  },
  {
   "cell_type": "code",
   "execution_count": null,
   "id": "63e86e0e",
   "metadata": {
    "scrolled": true
   },
   "outputs": [],
   "source": [
    "df_gboost_train=pd.DataFrame(classification_report(y_train, y_pred_gboost_train, output_dict=True)).T\n",
    "df_gboost_train"
   ]
  },
  {
   "cell_type": "code",
   "execution_count": null,
   "id": "d774f121",
   "metadata": {},
   "outputs": [],
   "source": [
    "df_gboost_test=pd.DataFrame(classification_report(y_test, y_pred_gboost_test, output_dict=True)).T\n",
    "df_gboost_test"
   ]
  },
  {
   "cell_type": "code",
   "execution_count": null,
   "id": "3fd735aa",
   "metadata": {
    "scrolled": false
   },
   "outputs": [],
   "source": [
    "probs_gboost_train = gboost.predict_proba(X_train)\n",
    "probs_gboost_train = probs_gboost_train[:, 1]\n",
    "\n",
    "auc_gboost_train = roc_auc_score(y_train, probs_gboost_train)\n",
    "print('AUC_gboost_train: %.3f' % auc_gboost_train)\n",
    "\n",
    "fpr_gboost_train, tpr_gboost_train, thresholds_gboost_train = roc_curve(y_train, probs_gboost_train)\n",
    "plt.plot([0, 1], [0, 1], linestyle='--')\n",
    "plt.plot(fpr_gboost_train, tpr_gboost_train, marker='.')\n",
    "plt.show()"
   ]
  },
  {
   "cell_type": "code",
   "execution_count": null,
   "id": "45ea2b16",
   "metadata": {},
   "outputs": [],
   "source": [
    "probs_gboost_test = gboost.predict_proba(X_test)\n",
    "probs_gboost_test = probs_gboost_test[:, 1]\n",
    "\n",
    "auc_gboost_test = roc_auc_score(y_test, probs_gboost_test)\n",
    "print('AUC_gboost_test: %.3f' % auc_gboost_test)\n",
    "\n",
    "fpr_gboost_test, tpr_gboost_test, thresholds_gboost_test = roc_curve(y_test, probs_gboost_test)\n",
    "plt.plot([0, 1], [0, 1], linestyle='--')\n",
    "plt.plot(fpr_gboost_test, tpr_gboost_test, marker='.')\n",
    "plt.show()"
   ]
  },
  {
   "cell_type": "code",
   "execution_count": null,
   "id": "f62f9828",
   "metadata": {},
   "outputs": [],
   "source": []
  },
  {
   "cell_type": "code",
   "execution_count": null,
   "id": "5cd45505",
   "metadata": {},
   "outputs": [],
   "source": [
    "index=['Accuracy', 'AUC', 'Precision','Recall','F1 Score']\n",
    "data_models_tuned = pd.DataFrame(\n",
    "{'Bagging_Train':[bag_train_score, auc_bag_train, df_bag_train.iloc[1,0], df_bag_train.iloc[1,1], df_bag_train.iloc[1,2]],\n",
    "'Bagging_Test':[bag_test_score, auc_bag_test, df_bag_test.iloc[1,0], df_bag_test.iloc[1,1], df_bag_test.iloc[1,2]],\n",
    " 'Adaboost_Train':[aboost_train_score, auc_aboost_train, df_aboost_train.iloc[1,0], df_aboost_train.iloc[1,1], df_aboost_train.iloc[1,2]],\n",
    "'Adaboost_Test':[aboost_test_score, auc_aboost_test, df_aboost_test.iloc[1,0], df_aboost_test.iloc[1,1], df_aboost_test.iloc[1,2]],\n",
    " 'Gboost_Train':[gboost_train_score, auc_gboost_train, df_gboost_train.iloc[1,0], df_gboost_train.iloc[1,1], df_gboost_train.iloc[1,2]],\n",
    "'Gboost_Test':[gboost_test_score, auc_gboost_test, df_gboost_test.iloc[1,0], df_gboost_test.iloc[1,1], df_gboost_test.iloc[1,2]]\n",
    "},\n",
    "index=index).T\n",
    "round(data_models_tuned,2)"
   ]
  },
  {
   "cell_type": "code",
   "execution_count": null,
   "id": "92a5fcb9",
   "metadata": {},
   "outputs": [],
   "source": []
  },
  {
   "cell_type": "code",
   "execution_count": null,
   "id": "e96ef8a8",
   "metadata": {},
   "outputs": [],
   "source": []
  },
  {
   "cell_type": "code",
   "execution_count": null,
   "id": "748ca5d9",
   "metadata": {},
   "outputs": [],
   "source": []
  }
 ],
 "metadata": {
  "kernelspec": {
   "display_name": "Python 3 (ipykernel)",
   "language": "python",
   "name": "python3"
  },
  "language_info": {
   "codemirror_mode": {
    "name": "ipython",
    "version": 3
   },
   "file_extension": ".py",
   "mimetype": "text/x-python",
   "name": "python",
   "nbconvert_exporter": "python",
   "pygments_lexer": "ipython3",
   "version": "3.9.12"
  }
 },
 "nbformat": 4,
 "nbformat_minor": 5
}
